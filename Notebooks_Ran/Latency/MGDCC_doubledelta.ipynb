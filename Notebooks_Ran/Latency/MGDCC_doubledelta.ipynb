{
 "cells": [
  {
   "cell_type": "code",
   "execution_count": 1,
   "id": "3d321755",
   "metadata": {
    "execution": {
     "iopub.execute_input": "2023-12-13T20:32:40.796807Z",
     "iopub.status.busy": "2023-12-13T20:32:40.796458Z",
     "iopub.status.idle": "2023-12-13T20:32:54.001049Z",
     "shell.execute_reply": "2023-12-13T20:32:54.000074Z"
    },
    "papermill": {
     "duration": 13.21903,
     "end_time": "2023-12-13T20:32:54.003453",
     "exception": false,
     "start_time": "2023-12-13T20:32:40.784423",
     "status": "completed"
    },
    "tags": []
   },
   "outputs": [
    {
     "name": "stdout",
     "output_type": "stream",
     "text": [
      "Requirement already satisfied: scipy in /opt/conda/lib/python3.10/site-packages (1.11.4)\r\n",
      "Requirement already satisfied: numpy<1.28.0,>=1.21.6 in /opt/conda/lib/python3.10/site-packages (from scipy) (1.24.3)\r\n"
     ]
    }
   ],
   "source": [
    "!pip install --upgrade scipy"
   ]
  },
  {
   "cell_type": "code",
   "execution_count": 2,
   "id": "5e280cc1",
   "metadata": {
    "execution": {
     "iopub.execute_input": "2023-12-13T20:32:54.026752Z",
     "iopub.status.busy": "2023-12-13T20:32:54.025968Z",
     "iopub.status.idle": "2023-12-13T20:32:58.396024Z",
     "shell.execute_reply": "2023-12-13T20:32:58.395235Z"
    },
    "papermill": {
     "duration": 4.384175,
     "end_time": "2023-12-13T20:32:58.398436",
     "exception": false,
     "start_time": "2023-12-13T20:32:54.014261",
     "status": "completed"
    },
    "tags": []
   },
   "outputs": [
    {
     "name": "stderr",
     "output_type": "stream",
     "text": [
      "/opt/conda/lib/python3.10/site-packages/scipy/__init__.py:146: UserWarning: A NumPy version >=1.16.5 and <1.23.0 is required for this version of SciPy (detected version 1.24.3\n",
      "  warnings.warn(f\"A NumPy version >={np_minversion} and <{np_maxversion}\"\n"
     ]
    }
   ],
   "source": [
    "import torch \n",
    "import torch.nn as nn\n",
    "import torch.nn.functional as F\n",
    "from torch.autograd import Variable\n",
    "from torch.utils.data import Dataset, DataLoader\n",
    "\n",
    "import os, pathlib, glob, random\n",
    "import numpy as np\n",
    "import matplotlib.pyplot as plt \n",
    "\n",
    "from sklearn.metrics import confusion_matrix\n",
    "import scipy\n",
    "from scipy import io"
   ]
  },
  {
   "cell_type": "code",
   "execution_count": 3,
   "id": "ec743eee",
   "metadata": {
    "execution": {
     "iopub.execute_input": "2023-12-13T20:32:58.421761Z",
     "iopub.status.busy": "2023-12-13T20:32:58.420868Z",
     "iopub.status.idle": "2023-12-13T20:32:58.484030Z",
     "shell.execute_reply": "2023-12-13T20:32:58.483101Z"
    },
    "papermill": {
     "duration": 0.076727,
     "end_time": "2023-12-13T20:32:58.486167",
     "exception": false,
     "start_time": "2023-12-13T20:32:58.409440",
     "status": "completed"
    },
    "tags": []
   },
   "outputs": [
    {
     "name": "stdout",
     "output_type": "stream",
     "text": [
      "cuda:0\n"
     ]
    }
   ],
   "source": [
    "device = torch.device('cuda:0' if torch.cuda.is_available() else 'cpu')\n",
    "print(device)"
   ]
  },
  {
   "cell_type": "code",
   "execution_count": 4,
   "id": "f29d7c22",
   "metadata": {
    "execution": {
     "iopub.execute_input": "2023-12-13T20:32:58.508530Z",
     "iopub.status.busy": "2023-12-13T20:32:58.508222Z",
     "iopub.status.idle": "2023-12-13T20:32:58.512167Z",
     "shell.execute_reply": "2023-12-13T20:32:58.511338Z"
    },
    "papermill": {
     "duration": 0.017331,
     "end_time": "2023-12-13T20:32:58.514017",
     "exception": false,
     "start_time": "2023-12-13T20:32:58.496686",
     "status": "completed"
    },
    "tags": []
   },
   "outputs": [],
   "source": [
    "batch_size = 64\n",
    "output_nodes = 2\n",
    "learning_rate = 0.001"
   ]
  },
  {
   "cell_type": "code",
   "execution_count": 5,
   "id": "89c6d404",
   "metadata": {
    "execution": {
     "iopub.execute_input": "2023-12-13T20:32:58.537137Z",
     "iopub.status.busy": "2023-12-13T20:32:58.536765Z",
     "iopub.status.idle": "2023-12-13T20:32:58.541002Z",
     "shell.execute_reply": "2023-12-13T20:32:58.540168Z"
    },
    "papermill": {
     "duration": 0.018005,
     "end_time": "2023-12-13T20:32:58.542903",
     "exception": false,
     "start_time": "2023-12-13T20:32:58.524898",
     "status": "completed"
    },
    "tags": []
   },
   "outputs": [],
   "source": [
    "train_data_path = r\"/kaggle/input/deltadoubledelta-all-feat-add/delta,DoubleDelta/MGDCC/doubleDelta/train\"\n",
    "validation_data_path =r\"/kaggle/input/deltadoubledelta-all-feat-add/delta,DoubleDelta/MGDCC/doubleDelta/dev\"\n",
    "test_data_path = r\"/kaggle/input/deltadoubledelta-all-feat-add/delta,DoubleDelta/MGDCC/doubleDelta/test\""
   ]
  },
  {
   "cell_type": "code",
   "execution_count": 6,
   "id": "7a7e2030",
   "metadata": {
    "execution": {
     "iopub.execute_input": "2023-12-13T20:32:58.565268Z",
     "iopub.status.busy": "2023-12-13T20:32:58.564893Z",
     "iopub.status.idle": "2023-12-13T20:32:58.570114Z",
     "shell.execute_reply": "2023-12-13T20:32:58.569273Z"
    },
    "papermill": {
     "duration": 0.018468,
     "end_time": "2023-12-13T20:32:58.572000",
     "exception": false,
     "start_time": "2023-12-13T20:32:58.553532",
     "status": "completed"
    },
    "tags": []
   },
   "outputs": [],
   "source": [
    "# # ResNet50\n",
    "# class PtDataset(Dataset):\n",
    "#     def __init__(self, directory):\n",
    "#         self.directory = directory\n",
    "#         self.classes = sorted(entry.name for entry in os.scandir(directory) if entry.is_dir())\n",
    "#         self.class_to_idx = {c: i for i, c in enumerate(self.classes)}\n",
    "#         self.files = []\n",
    "#         for c in self.classes:\n",
    "#             c_dir = os.path.join(directory, c)\n",
    "#             c_files = [(os.path.join(c_dir, f), self.class_to_idx[c]) for f in os.listdir(c_dir)]\n",
    "#             self.files.extend(c_files)\n",
    "#         random.shuffle(self.files)\n",
    "        \n",
    "#     def __len__(self):\n",
    "#         return len(self.files)\n",
    "    \n",
    "#     # Assuming mono audio data\n",
    "#     def __getitem__(self, idx):\n",
    "#         filepath, label = self.files[idx]\n",
    "#         try:\n",
    "#             mat_vals = scipy.io.loadmat(filepath)\n",
    "#             data = mat_vals['final']\n",
    "#             data = data.T\n",
    "#             max_len = 750\n",
    "\n",
    "#             if (max_len > data.shape[0]):\n",
    "#                 pad_width = max_len - data.shape[0]\n",
    "#                 data = np.pad(data, pad_width=((0, pad_width), (0, 0)), mode='constant')\n",
    "#             else:\n",
    "#                 data = data[:max_len, :]\n",
    "\n",
    "#             # Reshape data to (1, 750, 20) for mono audio\n",
    "#             data = data[np.newaxis, :, :]\n",
    "\n",
    "#         except Exception as e:\n",
    "#             print(f\"Error loading file {filepath}: {str(e)}\")\n",
    "#             return None\n",
    "\n",
    "#         return data, label\n"
   ]
  },
  {
   "cell_type": "code",
   "execution_count": 7,
   "id": "3a32013e",
   "metadata": {
    "execution": {
     "iopub.execute_input": "2023-12-13T20:32:58.594187Z",
     "iopub.status.busy": "2023-12-13T20:32:58.593840Z",
     "iopub.status.idle": "2023-12-13T20:32:58.605083Z",
     "shell.execute_reply": "2023-12-13T20:32:58.604125Z"
    },
    "papermill": {
     "duration": 0.024772,
     "end_time": "2023-12-13T20:32:58.607059",
     "exception": false,
     "start_time": "2023-12-13T20:32:58.582287",
     "status": "completed"
    },
    "tags": []
   },
   "outputs": [],
   "source": [
    "class PtDataset(Dataset):\n",
    "    def __init__(self, directory):\n",
    "        self.directory = directory\n",
    "        self.classes = sorted(entry.name for entry in os.scandir(directory) if entry.is_dir())\n",
    "        self.class_to_idx = {c: i for i, c in enumerate(self.classes)}\n",
    "        self.files = []\n",
    "        for c in self.classes:\n",
    "            c_dir = os.path.join(directory, c)\n",
    "            c_files = [(os.path.join(c_dir, f), self.class_to_idx[c]) for f in os.listdir(c_dir)]\n",
    "            self.files.extend(c_files)\n",
    "        random.shuffle(self.files)\n",
    "        \n",
    "    def __len__(self):\n",
    "        return len(self.files)\n",
    "    \n",
    "    def __getitem__(self, idx):\n",
    "        filepath, label = self.files[idx]\n",
    "        try:\n",
    "            mat_vals = scipy.io.loadmat(filepath)\n",
    "            data = mat_vals['final']\n",
    "            data = data.T\n",
    "            max_len=750\n",
    "            if (max_len > data.shape[0]):\n",
    "                pad_width = max_len - data.shape[0]\n",
    "                data = np.pad(data, pad_width=((0, pad_width),(0,0)), mode='constant')\n",
    "            else:\n",
    "                data = data[:max_len, :]\n",
    "        except Exception as e:\n",
    "            print(f\"Error loading file {filepath}: {str(e)}\")\n",
    "            return None\n",
    "        return data, label"
   ]
  },
  {
   "cell_type": "code",
   "execution_count": 8,
   "id": "898a8766",
   "metadata": {
    "execution": {
     "iopub.execute_input": "2023-12-13T20:32:58.629220Z",
     "iopub.status.busy": "2023-12-13T20:32:58.628870Z",
     "iopub.status.idle": "2023-12-13T20:33:00.064528Z",
     "shell.execute_reply": "2023-12-13T20:33:00.063546Z"
    },
    "papermill": {
     "duration": 1.449621,
     "end_time": "2023-12-13T20:33:00.067064",
     "exception": false,
     "start_time": "2023-12-13T20:32:58.617443",
     "status": "completed"
    },
    "tags": []
   },
   "outputs": [],
   "source": [
    "train_dataset = PtDataset(train_data_path)\n",
    "test_dataset = PtDataset(test_data_path)\n",
    "val_dataset = PtDataset(validation_data_path)"
   ]
  },
  {
   "cell_type": "code",
   "execution_count": 9,
   "id": "54513e5c",
   "metadata": {
    "execution": {
     "iopub.execute_input": "2023-12-13T20:33:00.091027Z",
     "iopub.status.busy": "2023-12-13T20:33:00.090357Z",
     "iopub.status.idle": "2023-12-13T20:33:00.095355Z",
     "shell.execute_reply": "2023-12-13T20:33:00.094531Z"
    },
    "papermill": {
     "duration": 0.018779,
     "end_time": "2023-12-13T20:33:00.097186",
     "exception": false,
     "start_time": "2023-12-13T20:33:00.078407",
     "status": "completed"
    },
    "tags": []
   },
   "outputs": [],
   "source": [
    "class PtDataLoader(DataLoader):\n",
    "    def __init__(self, directory, batch_size, shuffle=True):\n",
    "        dataset = PtDataset(directory)\n",
    "        super().__init__(dataset, batch_size=batch_size, shuffle=shuffle)"
   ]
  },
  {
   "cell_type": "code",
   "execution_count": 10,
   "id": "44c4294e",
   "metadata": {
    "execution": {
     "iopub.execute_input": "2023-12-13T20:33:00.120364Z",
     "iopub.status.busy": "2023-12-13T20:33:00.119588Z",
     "iopub.status.idle": "2023-12-13T20:33:00.359867Z",
     "shell.execute_reply": "2023-12-13T20:33:00.358843Z"
    },
    "papermill": {
     "duration": 0.254292,
     "end_time": "2023-12-13T20:33:00.362338",
     "exception": false,
     "start_time": "2023-12-13T20:33:00.108046",
     "status": "completed"
    },
    "tags": []
   },
   "outputs": [],
   "source": [
    "train_dataloader = PtDataLoader(directory=train_data_path, batch_size=batch_size)\n",
    "test_dataloader = PtDataLoader(directory=test_data_path, batch_size=batch_size)\n",
    "val_dataloader = PtDataLoader(directory=validation_data_path, batch_size=batch_size)"
   ]
  },
  {
   "cell_type": "code",
   "execution_count": 11,
   "id": "416d2c32",
   "metadata": {
    "execution": {
     "iopub.execute_input": "2023-12-13T20:33:00.385402Z",
     "iopub.status.busy": "2023-12-13T20:33:00.385003Z",
     "iopub.status.idle": "2023-12-13T20:33:00.389602Z",
     "shell.execute_reply": "2023-12-13T20:33:00.388731Z"
    },
    "papermill": {
     "duration": 0.018025,
     "end_time": "2023-12-13T20:33:00.391409",
     "exception": false,
     "start_time": "2023-12-13T20:33:00.373384",
     "status": "completed"
    },
    "tags": []
   },
   "outputs": [],
   "source": [
    "train_count = len(train_dataset) \n",
    "test_count = len(test_dataset)\n",
    "val_count = len(val_dataset)"
   ]
  },
  {
   "cell_type": "code",
   "execution_count": 12,
   "id": "b1c91ef8",
   "metadata": {
    "execution": {
     "iopub.execute_input": "2023-12-13T20:33:00.413936Z",
     "iopub.status.busy": "2023-12-13T20:33:00.413617Z",
     "iopub.status.idle": "2023-12-13T20:33:00.418039Z",
     "shell.execute_reply": "2023-12-13T20:33:00.417177Z"
    },
    "papermill": {
     "duration": 0.018487,
     "end_time": "2023-12-13T20:33:00.420463",
     "exception": false,
     "start_time": "2023-12-13T20:33:00.401976",
     "status": "completed"
    },
    "tags": []
   },
   "outputs": [
    {
     "name": "stdout",
     "output_type": "stream",
     "text": [
      "53866\n",
      "4634\n",
      "10798\n"
     ]
    }
   ],
   "source": [
    "print(train_count)\n",
    "print(test_count)\n",
    "print(val_count)"
   ]
  },
  {
   "cell_type": "code",
   "execution_count": 13,
   "id": "7f55dd63",
   "metadata": {
    "execution": {
     "iopub.execute_input": "2023-12-13T20:33:00.443468Z",
     "iopub.status.busy": "2023-12-13T20:33:00.442804Z",
     "iopub.status.idle": "2023-12-13T20:33:00.451350Z",
     "shell.execute_reply": "2023-12-13T20:33:00.450452Z"
    },
    "papermill": {
     "duration": 0.021945,
     "end_time": "2023-12-13T20:33:00.453222",
     "exception": false,
     "start_time": "2023-12-13T20:33:00.431277",
     "status": "completed"
    },
    "tags": []
   },
   "outputs": [],
   "source": [
    "class LSTMClassifier(nn.Module):\n",
    "    def __init__(self, input_size, hidden_size, num_layers, num_classes):\n",
    "        super(LSTMClassifier, self).__init__()\n",
    "        self.hidden_size = hidden_size\n",
    "        self.num_layers = num_layers\n",
    "        self.lstm = nn.LSTM(input_size, hidden_size, num_layers, batch_first=True, bidirectional=False)\n",
    "        self.dropout = nn.Dropout(p=drop_amount)\n",
    "        self.fc = nn.Linear(hidden_size, num_classes)\n",
    "\n",
    "    def forward(self, x):\n",
    "        # Explicitly specify the data type for initial hidden state tensors\n",
    "        h0 = torch.zeros(self.num_layers, x.size(0), self.hidden_size, dtype=x.dtype).to(device=x.device)\n",
    "        c0 = torch.zeros(self.num_layers, x.size(0), self.hidden_size, dtype=x.dtype).to(device=x.device)\n",
    "        out, _ = self.lstm(x, (h0, c0))\n",
    "        out = self.dropout(out)\n",
    "        out = self.fc(out[:, -1, :])\n",
    "        return out"
   ]
  },
  {
   "cell_type": "code",
   "execution_count": 14,
   "id": "c7b6684d",
   "metadata": {
    "execution": {
     "iopub.execute_input": "2023-12-13T20:33:00.476266Z",
     "iopub.status.busy": "2023-12-13T20:33:00.475649Z",
     "iopub.status.idle": "2023-12-13T20:33:00.483563Z",
     "shell.execute_reply": "2023-12-13T20:33:00.482700Z"
    },
    "papermill": {
     "duration": 0.021967,
     "end_time": "2023-12-13T20:33:00.485772",
     "exception": false,
     "start_time": "2023-12-13T20:33:00.463805",
     "status": "completed"
    },
    "tags": []
   },
   "outputs": [],
   "source": [
    "drop_amount = 0.255\n",
    "\n",
    "class BiGRUAudioClassifier(nn.Module):\n",
    "    def __init__(self,input_size, num_classes, hidden_units, num_layers):\n",
    "        super(BiGRUAudioClassifier, self).__init__()\n",
    "        self.input_size = input_size \n",
    "        self.num_classes = num_classes\n",
    "        self.hidden_units = hidden_units\n",
    "        self.num_layers = num_layers\n",
    "\n",
    "        self.bigru = nn.GRU(input_size=input_size, hidden_size=hidden_units, num_layers=num_layers, batch_first=True, bidirectional=True)\n",
    "        self.dropout = nn.Dropout(p=drop_amount)\n",
    "        # self.fc = nn.Linear(hidden_units, num_classes)\n",
    "        self.fc = nn.Linear(hidden_units * 2, num_classes)\n",
    "\n",
    "    def forward(self, x):\n",
    "        # x: (batch_size, sequence_length, num_features)\n",
    "\n",
    "        # Pass the input through the bi-GRU layers\n",
    "        output, _ = self.bigru(x)\n",
    "        output = self.dropout(output)\n",
    "        # Extract the last hidden state (concatenate forward and backward hidden states)\n",
    "        last_hidden_state = torch.cat((output[:, -1, :self.hidden_units], output[:, 0, self.hidden_units:]), dim=1)\n",
    "        # Apply the fully connected layer for classification\n",
    "        output = self.fc(last_hidden_state)\n",
    "\n",
    "        return output"
   ]
  },
  {
   "cell_type": "code",
   "execution_count": 15,
   "id": "bd592924",
   "metadata": {
    "execution": {
     "iopub.execute_input": "2023-12-13T20:33:00.508813Z",
     "iopub.status.busy": "2023-12-13T20:33:00.508166Z",
     "iopub.status.idle": "2023-12-13T20:33:00.512484Z",
     "shell.execute_reply": "2023-12-13T20:33:00.511652Z"
    },
    "papermill": {
     "duration": 0.017991,
     "end_time": "2023-12-13T20:33:00.514398",
     "exception": false,
     "start_time": "2023-12-13T20:33:00.496407",
     "status": "completed"
    },
    "tags": []
   },
   "outputs": [],
   "source": [
    "import torch\n",
    "from torch import nn\n",
    "from torch.nn import Parameter\n",
    "import torch.nn.functional as F"
   ]
  },
  {
   "cell_type": "code",
   "execution_count": 16,
   "id": "7fc5a116",
   "metadata": {
    "execution": {
     "iopub.execute_input": "2023-12-13T20:33:00.537638Z",
     "iopub.status.busy": "2023-12-13T20:33:00.536971Z",
     "iopub.status.idle": "2023-12-13T20:33:05.488329Z",
     "shell.execute_reply": "2023-12-13T20:33:05.487377Z"
    },
    "papermill": {
     "duration": 4.965301,
     "end_time": "2023-12-13T20:33:05.490578",
     "exception": false,
     "start_time": "2023-12-13T20:33:00.525277",
     "status": "completed"
    },
    "tags": []
   },
   "outputs": [
    {
     "data": {
      "text/plain": [
       "LSTMClassifier(\n",
       "  (lstm): LSTM(20, 256, num_layers=2, batch_first=True)\n",
       "  (dropout): Dropout(p=0.255, inplace=False)\n",
       "  (fc): Linear(in_features=256, out_features=2, bias=True)\n",
       ")"
      ]
     },
     "execution_count": 16,
     "metadata": {},
     "output_type": "execute_result"
    }
   ],
   "source": [
    "# Define the parameters\n",
    "input_size = 20\n",
    "hidden_size = 256\n",
    "num_layers = 2\n",
    "num_classes = 2\n",
    "# drop_amount = 0.25  # You can choose an appropriate dropout rate\n",
    "\n",
    "model = LSTMClassifier(input_size, hidden_size, num_layers, num_classes)\n",
    "model.to(device, dtype=torch.double)\n"
   ]
  },
  {
   "cell_type": "code",
   "execution_count": 17,
   "id": "752227e8",
   "metadata": {
    "execution": {
     "iopub.execute_input": "2023-12-13T20:33:05.513460Z",
     "iopub.status.busy": "2023-12-13T20:33:05.513145Z",
     "iopub.status.idle": "2023-12-13T20:33:05.517285Z",
     "shell.execute_reply": "2023-12-13T20:33:05.516510Z"
    },
    "papermill": {
     "duration": 0.017799,
     "end_time": "2023-12-13T20:33:05.519137",
     "exception": false,
     "start_time": "2023-12-13T20:33:05.501338",
     "status": "completed"
    },
    "tags": []
   },
   "outputs": [],
   "source": [
    "import torch\n",
    "import torch.nn as nn\n",
    "import torch.optim as optim"
   ]
  },
  {
   "cell_type": "code",
   "execution_count": 18,
   "id": "d4b52cc7",
   "metadata": {
    "execution": {
     "iopub.execute_input": "2023-12-13T20:33:05.542107Z",
     "iopub.status.busy": "2023-12-13T20:33:05.541349Z",
     "iopub.status.idle": "2023-12-13T20:33:05.546094Z",
     "shell.execute_reply": "2023-12-13T20:33:05.545134Z"
    },
    "papermill": {
     "duration": 0.018102,
     "end_time": "2023-12-13T20:33:05.547940",
     "exception": false,
     "start_time": "2023-12-13T20:33:05.529838",
     "status": "completed"
    },
    "tags": []
   },
   "outputs": [],
   "source": [
    "loss_function = nn.CrossEntropyLoss()\n",
    "optimizer = optim.Adam(model.parameters(), lr=learning_rate)"
   ]
  },
  {
   "cell_type": "code",
   "execution_count": 19,
   "id": "4ed1c31c",
   "metadata": {
    "execution": {
     "iopub.execute_input": "2023-12-13T20:33:05.571116Z",
     "iopub.status.busy": "2023-12-13T20:33:05.570767Z",
     "iopub.status.idle": "2023-12-13T20:33:05.575332Z",
     "shell.execute_reply": "2023-12-13T20:33:05.574467Z"
    },
    "papermill": {
     "duration": 0.018861,
     "end_time": "2023-12-13T20:33:05.577521",
     "exception": false,
     "start_time": "2023-12-13T20:33:05.558660",
     "status": "completed"
    },
    "tags": []
   },
   "outputs": [
    {
     "name": "stdout",
     "output_type": "stream",
     "text": [
      "LSTMClassifier(\n",
      "  (lstm): LSTM(20, 256, num_layers=2, batch_first=True)\n",
      "  (dropout): Dropout(p=0.255, inplace=False)\n",
      "  (fc): Linear(in_features=256, out_features=2, bias=True)\n",
      ")\n"
     ]
    }
   ],
   "source": [
    "print(model)"
   ]
  },
  {
   "cell_type": "code",
   "execution_count": 20,
   "id": "99dca200",
   "metadata": {
    "execution": {
     "iopub.execute_input": "2023-12-13T20:33:05.600461Z",
     "iopub.status.busy": "2023-12-13T20:33:05.600120Z",
     "iopub.status.idle": "2023-12-13T20:33:09.241533Z",
     "shell.execute_reply": "2023-12-13T20:33:09.240552Z"
    },
    "papermill": {
     "duration": 3.655477,
     "end_time": "2023-12-13T20:33:09.243883",
     "exception": false,
     "start_time": "2023-12-13T20:33:05.588406",
     "status": "completed"
    },
    "tags": []
   },
   "outputs": [],
   "source": [
    "import torch \n",
    "import torch.nn as nn\n",
    "import torch.nn.functional as F\n",
    "from torch.autograd import Variable\n",
    "from torch.utils.data import Dataset, DataLoader\n",
    "import os, pathlib, glob, random\n",
    "import numpy as np\n",
    "import matplotlib.pyplot as plt \n",
    "import seaborn as sns\n",
    "from sklearn.metrics import confusion_matrix\n",
    "from transformers import WhisperProcessor, WhisperForConditionalGeneration\n",
    "from datasets import load_dataset\n",
    "from transformers.models.whisper.modeling_whisper import WhisperModel, WhisperEncoder\n",
    "from transformers.models.whisper.configuration_whisper import WhisperConfig\n",
    "from typing import Optional, Tuple, Union\n",
    "import torch\n",
    "import librosa \n",
    "import matplotlib.pyplot as plt\n",
    "import numpy as np\n",
    "import os, glob, pickle\n",
    "import scipy.io as sio\n",
    "from tqdm import tqdm\n",
    "import multiprocessing as mp \n",
    "import torch.optim as optim"
   ]
  },
  {
   "cell_type": "code",
   "execution_count": 21,
   "id": "7e3647ad",
   "metadata": {
    "execution": {
     "iopub.execute_input": "2023-12-13T20:33:09.268022Z",
     "iopub.status.busy": "2023-12-13T20:33:09.267125Z",
     "iopub.status.idle": "2023-12-13T21:34:46.557695Z",
     "shell.execute_reply": "2023-12-13T21:34:46.556730Z"
    },
    "papermill": {
     "duration": 3697.316051,
     "end_time": "2023-12-13T21:34:46.571124",
     "exception": false,
     "start_time": "2023-12-13T20:33:09.255073",
     "status": "completed"
    },
    "tags": []
   },
   "outputs": [
    {
     "name": "stdout",
     "output_type": "stream",
     "text": [
      "Epoch : 1/15   Train Loss : tensor(0.6949, dtype=torch.float64)   Train Accuracy : 0.505365165410463   Test Accuracy : 0.5000926097425449\n",
      "Epoch : 2/15   Train Loss : tensor(0.6934, dtype=torch.float64)   Train Accuracy : 0.5062005717892548   Test Accuracy : 0.503241340989072\n",
      "Epoch : 3/15   Train Loss : tensor(0.6761, dtype=torch.float64)   Train Accuracy : 0.5784168120892585   Test Accuracy : 0.6678088534913873\n",
      "Epoch : 4/15   Train Loss : tensor(0.5668, dtype=torch.float64)   Train Accuracy : 0.7079419299743809   Test Accuracy : 0.7473606223374699\n",
      "Epoch : 5/15   Train Loss : tensor(0.4540, dtype=torch.float64)   Train Accuracy : 0.7827572123417369   Test Accuracy : 0.8605297277273569\n",
      "Epoch : 6/15   Train Loss : tensor(0.3181, dtype=torch.float64)   Train Accuracy : 0.8631233059815097   Test Accuracy : 0.8621040933506204\n",
      "Epoch : 7/15   Train Loss : tensor(0.2869, dtype=torch.float64)   Train Accuracy : 0.8795529647644154   Test Accuracy : 0.8938692350435266\n",
      "Epoch : 8/15   Train Loss : tensor(0.2589, dtype=torch.float64)   Train Accuracy : 0.8934764044109457   Test Accuracy : 0.9031302092980181\n",
      "Epoch : 9/15   Train Loss : tensor(0.2359, dtype=torch.float64)   Train Accuracy : 0.9042067352318717   Test Accuracy : 0.9059085015743656\n",
      "Epoch : 10/15   Train Loss : tensor(0.1973, dtype=torch.float64)   Train Accuracy : 0.9213975420487878   Test Accuracy : 0.9214669383219115\n",
      "Epoch : 11/15   Train Loss : tensor(0.1787, dtype=torch.float64)   Train Accuracy : 0.9303085434225671   Test Accuracy : 0.9333209853676607\n",
      "Epoch : 12/15   Train Loss : tensor(0.1620, dtype=torch.float64)   Train Accuracy : 0.9365833735566034   Test Accuracy : 0.9289683274680497\n",
      "Epoch : 13/15   Train Loss : tensor(0.1363, dtype=torch.float64)   Train Accuracy : 0.9484647087216426   Test Accuracy : 0.9490646416002964\n",
      "Epoch : 14/15   Train Loss : tensor(0.1266, dtype=torch.float64)   Train Accuracy : 0.9522518843054988   Test Accuracy : 0.9550842748657159\n",
      "Epoch : 15/15   Train Loss : tensor(0.1042, dtype=torch.float64)   Train Accuracy : 0.9610700627483013   Test Accuracy : 0.9568438599740693\n",
      "0.9568438599740693\n",
      "Finished Training and Testing\n"
     ]
    }
   ],
   "source": [
    "#Model training and testing \n",
    "n_total_steps = len(train_dataloader) # n_total_steps * batch size will give total number of training files (consider that last batch may not be fully filled)\n",
    "train_accuracy_list = []\n",
    "train_loss_list = []\n",
    "val_accuracy_list = []\n",
    "max_acc=0\n",
    "num_epochs = 15\n",
    "pred_labels =[]\n",
    "act_labels = []\n",
    "\n",
    "for epoch in range(num_epochs):\n",
    "    \n",
    "    #Evaluation and training on training dataset\n",
    "    model.train()\n",
    "    train_accuracy=0.0\n",
    "    train_loss=0.0\n",
    "    \n",
    "    for batch_idx, (images,labels) in enumerate(train_dataloader):\n",
    "        if torch.cuda.is_available():\n",
    "            images=Variable(images.cuda())\n",
    "            labels=Variable(labels.cuda())\n",
    "        ##images = images.unsqueeze(1)\n",
    "        optimizer.zero_grad()\n",
    "        outputs=model(images)\n",
    "        loss=loss_function(outputs,labels)\n",
    "        loss.backward()\n",
    "        optimizer.step()\n",
    "        \n",
    "        \n",
    "        train_loss+= loss.cpu().data*images.size(0)\n",
    "        _,prediction=torch.max(outputs.data,1)\n",
    "        \n",
    "        train_accuracy+=int(torch.sum(prediction==labels.data))\n",
    "        \n",
    "    train_accuracy=train_accuracy/train_count\n",
    "    train_loss=train_loss/train_count\n",
    "    \n",
    "    train_accuracy_list.append(train_accuracy)\n",
    "    train_loss_list.append(train_loss)\n",
    "\n",
    "    \n",
    "    # Validation on Validation dataset\n",
    "    model.eval()\n",
    "    val_accuracy=0.0\n",
    "    pred = []\n",
    "    lab = []\n",
    "    \n",
    "    for i, (images,labels) in enumerate(val_dataloader):\n",
    "        if torch.cuda.is_available():\n",
    "            images=Variable(images.cuda())\n",
    "            labels=Variable(labels.cuda())\n",
    "        ##images = images.unsqueeze(1) \n",
    "#         print(i,images.shape)\n",
    "        outputs=model(images)\n",
    "        _,prediction=torch.max(outputs.data,1)\n",
    "        val_accuracy+=int(torch.sum(prediction==labels.data))\n",
    "        \n",
    "        pred.extend(prediction.tolist())\n",
    "        lab.extend(labels.tolist())\n",
    "    \n",
    "    val_accuracy=val_accuracy/val_count\n",
    "    val_accuracy_list.append(val_accuracy)\n",
    "    if max_acc < val_accuracy:\n",
    "        max_acc = val_accuracy\n",
    "        pred_labels = pred\n",
    "        actual_labels = lab\n",
    "        max_acc = val_accuracy\n",
    "        torch.save(model,\"best_accuracy_model_LSTM.pth\")\n",
    "    print('Epoch : '+str(epoch+1)+'/'+str(num_epochs)+'   Train Loss : '+str(train_loss)+'   Train Accuracy : '+str(train_accuracy)+'   Test Accuracy : '+str(val_accuracy))\n",
    "print(max_acc)   \n",
    "print('Finished Training and Testing')"
   ]
  },
  {
   "cell_type": "code",
   "execution_count": 22,
   "id": "63839f58",
   "metadata": {
    "execution": {
     "iopub.execute_input": "2023-12-13T21:34:46.595936Z",
     "iopub.status.busy": "2023-12-13T21:34:46.595626Z",
     "iopub.status.idle": "2023-12-13T21:35:20.213685Z",
     "shell.execute_reply": "2023-12-13T21:35:20.212767Z"
    },
    "papermill": {
     "duration": 33.644252,
     "end_time": "2023-12-13T21:35:20.226943",
     "exception": false,
     "start_time": "2023-12-13T21:34:46.582691",
     "status": "completed"
    },
    "tags": []
   },
   "outputs": [
    {
     "name": "stdout",
     "output_type": "stream",
     "text": [
      "testing Accuracy: 0.8631851532153647\n"
     ]
    }
   ],
   "source": [
    "# Load the best model\n",
    "best_model = torch.load(\"best_accuracy_model_LSTM.pth\")\n",
    "\n",
    "# Put the best_model in evaluation mode\n",
    "best_model.eval()\n",
    "\n",
    "# Initialize variables to store results\n",
    "testing_accuracy = 0.0\n",
    "pred_labels = []\n",
    "act_labels = []\n",
    "\n",
    "# Pass validation data through the best model\n",
    "for i, (images, labels) in enumerate(test_dataloader):\n",
    "    if torch.cuda.is_available():\n",
    "        images = Variable(images.cuda())\n",
    "        labels = Variable(labels.cuda())\n",
    "    \n",
    "    outputs = best_model(images)\n",
    "    _, prediction = torch.max(outputs.data, 1)\n",
    "    \n",
    "    testing_accuracy += int(torch.sum(prediction == labels.data))\n",
    "    \n",
    "    pred_labels.extend(prediction.tolist())\n",
    "    act_labels.extend(labels.tolist())\n",
    "\n",
    "# Calculate validation accuracy\n",
    "testing_accuracy = testing_accuracy / len(test_dataloader.dataset)\n",
    "\n",
    "# Print the validation accuracy\n",
    "print(\"testing Accuracy:\", testing_accuracy)\n",
    "# train Accuracy: 0.9726729291204099\n",
    "# Validation Accuracy: 0.9680496388220041\n",
    "# test Accuracy: 0.9512300388433319"
   ]
  },
  {
   "cell_type": "code",
   "execution_count": 23,
   "id": "26ec5a28",
   "metadata": {
    "execution": {
     "iopub.execute_input": "2023-12-13T21:35:20.251853Z",
     "iopub.status.busy": "2023-12-13T21:35:20.251532Z",
     "iopub.status.idle": "2023-12-13T21:35:20.256122Z",
     "shell.execute_reply": "2023-12-13T21:35:20.255324Z"
    },
    "papermill": {
     "duration": 0.019178,
     "end_time": "2023-12-13T21:35:20.257981",
     "exception": false,
     "start_time": "2023-12-13T21:35:20.238803",
     "status": "completed"
    },
    "tags": []
   },
   "outputs": [
    {
     "name": "stdout",
     "output_type": "stream",
     "text": [
      "LSTMClassifier(\n",
      "  (lstm): LSTM(20, 256, num_layers=2, batch_first=True)\n",
      "  (dropout): Dropout(p=0.255, inplace=False)\n",
      "  (fc): Linear(in_features=256, out_features=2, bias=True)\n",
      ")\n"
     ]
    }
   ],
   "source": [
    "print(model)"
   ]
  },
  {
   "cell_type": "code",
   "execution_count": 24,
   "id": "7fd78fca",
   "metadata": {
    "execution": {
     "iopub.execute_input": "2023-12-13T21:35:20.282464Z",
     "iopub.status.busy": "2023-12-13T21:35:20.282196Z",
     "iopub.status.idle": "2023-12-13T21:35:20.678052Z",
     "shell.execute_reply": "2023-12-13T21:35:20.677155Z"
    },
    "papermill": {
     "duration": 0.410186,
     "end_time": "2023-12-13T21:35:20.679863",
     "exception": false,
     "start_time": "2023-12-13T21:35:20.269677",
     "status": "completed"
    },
    "tags": []
   },
   "outputs": [
    {
     "data": {
      "image/png": "[encoded data removed]",
      "text/plain": [
       "<Figure size 640x480 with 2 Axes>"
      ]
     },
     "metadata": {},
     "output_type": "display_data"
    },
    {
     "name": "stdout",
     "output_type": "stream",
     "text": [
      "F1 Score :  0.8627396602358597\n"
     ]
    }
   ],
   "source": [
    "# Calculate the confusion matrix\n",
    "import seaborn as sns\n",
    "conf_mat = confusion_matrix(act_labels, pred_labels)\n",
    "# Plot confusion matrix heat map\n",
    "sns.heatmap(conf_mat, cmap=\"flare\",annot=True, fmt = \"g\", \n",
    "            cbar_kws={\"label\":\"color bar\"},\n",
    "            xticklabels=train_dataset.classes,\n",
    "            yticklabels=train_dataset.classes)\n",
    "plt.xlabel(\"Predicted\")\n",
    "plt.ylabel(\"Actual\")\n",
    "plt.title(\"Confusion Matrix\")\n",
    "plt.savefig(\"ConfusionMatrix_LSTM.png\")\n",
    "plt.show()\n",
    "from sklearn.metrics import f1_score\n",
    "f1_score = f1_score(pred_labels, act_labels, average='macro')\n",
    "print('F1 Score : ', f1_score)\n"
   ]
  },
  {
   "cell_type": "code",
   "execution_count": 25,
   "id": "2ccabfba",
   "metadata": {
    "execution": {
     "iopub.execute_input": "2023-12-13T21:35:20.706077Z",
     "iopub.status.busy": "2023-12-13T21:35:20.705750Z",
     "iopub.status.idle": "2023-12-13T21:35:20.709507Z",
     "shell.execute_reply": "2023-12-13T21:35:20.708682Z"
    },
    "papermill": {
     "duration": 0.018967,
     "end_time": "2023-12-13T21:35:20.711393",
     "exception": false,
     "start_time": "2023-12-13T21:35:20.692426",
     "status": "completed"
    },
    "tags": []
   },
   "outputs": [],
   "source": [
    "# torch.save(model,'MGDCC_LSTMClassifier_01_01.pth')"
   ]
  },
  {
   "cell_type": "code",
   "execution_count": 26,
   "id": "ea008ab5",
   "metadata": {
    "execution": {
     "iopub.execute_input": "2023-12-13T21:35:20.736860Z",
     "iopub.status.busy": "2023-12-13T21:35:20.736586Z",
     "iopub.status.idle": "2023-12-13T21:35:20.740204Z",
     "shell.execute_reply": "2023-12-13T21:35:20.739397Z"
    },
    "papermill": {
     "duration": 0.018566,
     "end_time": "2023-12-13T21:35:20.742164",
     "exception": false,
     "start_time": "2023-12-13T21:35:20.723598",
     "status": "completed"
    },
    "tags": []
   },
   "outputs": [],
   "source": [
    "# BiLSTM"
   ]
  },
  {
   "cell_type": "code",
   "execution_count": 27,
   "id": "bd4eaedd",
   "metadata": {
    "execution": {
     "iopub.execute_input": "2023-12-13T21:35:20.767618Z",
     "iopub.status.busy": "2023-12-13T21:35:20.767355Z",
     "iopub.status.idle": "2023-12-13T21:35:20.775631Z",
     "shell.execute_reply": "2023-12-13T21:35:20.774797Z"
    },
    "papermill": {
     "duration": 0.023082,
     "end_time": "2023-12-13T21:35:20.777482",
     "exception": false,
     "start_time": "2023-12-13T21:35:20.754400",
     "status": "completed"
    },
    "tags": []
   },
   "outputs": [],
   "source": [
    "drop_amount = 0.255\n",
    "\n",
    "class BiLSTMClassifier(nn.Module):\n",
    "    def __init__(self, input_size, hidden_size, num_layers, num_classes):\n",
    "        super(BiLSTMClassifier, self).__init__()\n",
    "        self.hidden_size = hidden_size\n",
    "        self.num_layers = num_layers\n",
    "        self.lstm = nn.LSTM(input_size, hidden_size, num_layers, batch_first=True, bidirectional=True)\n",
    "        self.dropout = nn.Dropout(p=drop_amount)\n",
    "        self.fc = nn.Linear(hidden_size*2, num_classes)\n",
    "\n",
    "    def forward(self, x):\n",
    "        h0 = torch.zeros(self.num_layers*2, x.size(0), self.hidden_size).to(device=x.device, dtype=torch.double)\n",
    "        c0 = torch.zeros(self.num_layers*2, x.size(0), self.hidden_size).to(device=x.device, dtype=torch.double)\n",
    "        out, _ = self.lstm(x, (h0, c0))\n",
    "        out = self.dropout(out)\n",
    "        # Extract the output of the last time step from both directions\n",
    "        last_hidden_state = torch.cat((out[:, -1, :self.hidden_size], out[:, 0, self.hidden_size:]), dim=1)\n",
    "        output = self.fc(last_hidden_state)\n",
    "        return output"
   ]
  },
  {
   "cell_type": "code",
   "execution_count": 28,
   "id": "aaea4fc5",
   "metadata": {
    "execution": {
     "iopub.execute_input": "2023-12-13T21:35:20.803619Z",
     "iopub.status.busy": "2023-12-13T21:35:20.802846Z",
     "iopub.status.idle": "2023-12-13T21:35:20.806741Z",
     "shell.execute_reply": "2023-12-13T21:35:20.806054Z"
    },
    "papermill": {
     "duration": 0.018824,
     "end_time": "2023-12-13T21:35:20.808604",
     "exception": false,
     "start_time": "2023-12-13T21:35:20.789780",
     "status": "completed"
    },
    "tags": []
   },
   "outputs": [],
   "source": [
    "batch_size = 64\n",
    "output_nodes = 2\n",
    "learning_rate = 0.0001"
   ]
  },
  {
   "cell_type": "code",
   "execution_count": 29,
   "id": "5e18720a",
   "metadata": {
    "execution": {
     "iopub.execute_input": "2023-12-13T21:35:20.834023Z",
     "iopub.status.busy": "2023-12-13T21:35:20.833730Z",
     "iopub.status.idle": "2023-12-13T21:35:20.865437Z",
     "shell.execute_reply": "2023-12-13T21:35:20.864501Z"
    },
    "papermill": {
     "duration": 0.046568,
     "end_time": "2023-12-13T21:35:20.867303",
     "exception": false,
     "start_time": "2023-12-13T21:35:20.820735",
     "status": "completed"
    },
    "tags": []
   },
   "outputs": [
    {
     "name": "stdout",
     "output_type": "stream",
     "text": [
      "BiLSTMClassifier(\n",
      "  (lstm): LSTM(20, 256, num_layers=2, batch_first=True, bidirectional=True)\n",
      "  (dropout): Dropout(p=0.255, inplace=False)\n",
      "  (fc): Linear(in_features=512, out_features=2, bias=True)\n",
      ")\n"
     ]
    }
   ],
   "source": [
    "model = BiLSTMClassifier(input_size, hidden_size, num_layers, num_classes)\n",
    "model.to(device, dtype=torch.double)\n",
    "loss_function = nn.CrossEntropyLoss()\n",
    "optimizer = optim.Adam(model.parameters(), lr=learning_rate)\n",
    "print(model)"
   ]
  },
  {
   "cell_type": "code",
   "execution_count": 30,
   "id": "70336c9d",
   "metadata": {
    "execution": {
     "iopub.execute_input": "2023-12-13T21:35:20.893768Z",
     "iopub.status.busy": "2023-12-13T21:35:20.893498Z",
     "iopub.status.idle": "2023-12-13T21:35:20.897326Z",
     "shell.execute_reply": "2023-12-13T21:35:20.896538Z"
    },
    "papermill": {
     "duration": 0.018919,
     "end_time": "2023-12-13T21:35:20.899531",
     "exception": false,
     "start_time": "2023-12-13T21:35:20.880612",
     "status": "completed"
    },
    "tags": []
   },
   "outputs": [
    {
     "name": "stdout",
     "output_type": "stream",
     "text": [
      "BiLSTMClassifier(\n",
      "  (lstm): LSTM(20, 256, num_layers=2, batch_first=True, bidirectional=True)\n",
      "  (dropout): Dropout(p=0.255, inplace=False)\n",
      "  (fc): Linear(in_features=512, out_features=2, bias=True)\n",
      ")\n"
     ]
    }
   ],
   "source": [
    "print(model)"
   ]
  },
  {
   "cell_type": "code",
   "execution_count": 31,
   "id": "4fd0305c",
   "metadata": {
    "execution": {
     "iopub.execute_input": "2023-12-13T21:35:20.925623Z",
     "iopub.status.busy": "2023-12-13T21:35:20.925370Z",
     "iopub.status.idle": "2023-12-13T23:12:07.836284Z",
     "shell.execute_reply": "2023-12-13T23:12:07.835190Z"
    },
    "papermill": {
     "duration": 5806.940318,
     "end_time": "2023-12-13T23:12:07.852171",
     "exception": false,
     "start_time": "2023-12-13T21:35:20.911853",
     "status": "completed"
    },
    "tags": []
   },
   "outputs": [
    {
     "name": "stdout",
     "output_type": "stream",
     "text": [
      "Epoch : 1/15   Train Loss : tensor(0.5610, dtype=torch.float64)   Train Accuracy : 0.7149222143838414   Test Accuracy : 0.7795888127431005\n",
      "Epoch : 2/15   Train Loss : tensor(0.4218, dtype=torch.float64)   Train Accuracy : 0.811625143875543   Test Accuracy : 0.8308946101129839\n",
      "Epoch : 3/15   Train Loss : tensor(0.3664, dtype=torch.float64)   Train Accuracy : 0.840140348271637   Test Accuracy : 0.8790516762363401\n",
      "Epoch : 4/15   Train Loss : tensor(0.2910, dtype=torch.float64)   Train Accuracy : 0.8759885642149037   Test Accuracy : 0.8217262456010372\n",
      "Epoch : 5/15   Train Loss : tensor(0.1822, dtype=torch.float64)   Train Accuracy : 0.931440983180485   Test Accuracy : 0.9506390072235599\n",
      "Epoch : 6/15   Train Loss : tensor(0.1691, dtype=torch.float64)   Train Accuracy : 0.9369175361081201   Test Accuracy : 0.9586960548249676\n",
      "Epoch : 7/15   Train Loss : tensor(0.2307, dtype=torch.float64)   Train Accuracy : 0.8972821445809973   Test Accuracy : 0.8042230042600481\n",
      "Epoch : 8/15   Train Loss : tensor(0.1605, dtype=torch.float64)   Train Accuracy : 0.9380314112798426   Test Accuracy : 0.9580477866271532\n",
      "Epoch : 9/15   Train Loss : tensor(0.2235, dtype=torch.float64)   Train Accuracy : 0.9136189804329261   Test Accuracy : 0.9359140581589184\n",
      "Epoch : 10/15   Train Loss : tensor(0.1189, dtype=torch.float64)   Train Accuracy : 0.9573942746816173   Test Accuracy : 0.96703093165401\n",
      "Epoch : 11/15   Train Loss : tensor(0.0991, dtype=torch.float64)   Train Accuracy : 0.9656183863661679   Test Accuracy : 0.9663826634561956\n",
      "Epoch : 12/15   Train Loss : tensor(0.0946, dtype=torch.float64)   Train Accuracy : 0.9666208740207181   Test Accuracy : 0.969160955732543\n",
      "Epoch : 13/15   Train Loss : tensor(0.0837, dtype=torch.float64)   Train Accuracy : 0.9714105372591245   Test Accuracy : 0.9763845156510464\n",
      "Epoch : 14/15   Train Loss : tensor(0.1172, dtype=torch.float64)   Train Accuracy : 0.9575613559573757   Test Accuracy : 0.9730505649194295\n",
      "Epoch : 15/15   Train Loss : tensor(0.0833, dtype=torch.float64)   Train Accuracy : 0.9709278580180448   Test Accuracy : 0.9655491757732914\n",
      "0.9763845156510464\n",
      "Finished Training and Testing\n"
     ]
    }
   ],
   "source": [
    "#Model training and testing \n",
    "n_total_steps = len(train_dataloader) # n_total_steps * batch size will give total number of training files (consider that last batch may not be fully filled)\n",
    "train_accuracy_list = []\n",
    "train_loss_list = []\n",
    "val_accuracy_list = []\n",
    "max_acc=0\n",
    "num_epochs = 15\n",
    "pred_labels =[]\n",
    "act_labels = []\n",
    "\n",
    "for epoch in range(num_epochs):\n",
    "    \n",
    "    #Evaluation and training on training dataset\n",
    "    model.train()\n",
    "    train_accuracy=0.0\n",
    "    train_loss=0.0\n",
    "    \n",
    "    for batch_idx, (images,labels) in enumerate(train_dataloader):\n",
    "        if torch.cuda.is_available():\n",
    "            images=Variable(images.cuda())\n",
    "            labels=Variable(labels.cuda())\n",
    "        ##images = images.unsqueeze(1)\n",
    "        optimizer.zero_grad()\n",
    "        outputs=model(images)\n",
    "        loss=loss_function(outputs,labels)\n",
    "        loss.backward()\n",
    "        optimizer.step()\n",
    "        \n",
    "        \n",
    "        train_loss+= loss.cpu().data*images.size(0)\n",
    "        _,prediction=torch.max(outputs.data,1)\n",
    "        \n",
    "        train_accuracy+=int(torch.sum(prediction==labels.data))\n",
    "        \n",
    "    train_accuracy=train_accuracy/train_count\n",
    "    train_loss=train_loss/train_count\n",
    "    \n",
    "    train_accuracy_list.append(train_accuracy)\n",
    "    train_loss_list.append(train_loss)\n",
    "\n",
    "    \n",
    "    # Validation on Validation dataset\n",
    "    model.eval()\n",
    "    val_accuracy=0.0\n",
    "    pred = []\n",
    "    lab = []\n",
    "    \n",
    "    for i, (images,labels) in enumerate(val_dataloader):\n",
    "        if torch.cuda.is_available():\n",
    "            images=Variable(images.cuda())\n",
    "            labels=Variable(labels.cuda())\n",
    "        ##images = images.unsqueeze(1) \n",
    "#         print(i,images.shape)\n",
    "        outputs=model(images)\n",
    "        _,prediction=torch.max(outputs.data,1)\n",
    "        val_accuracy+=int(torch.sum(prediction==labels.data))\n",
    "        \n",
    "        pred.extend(prediction.tolist())\n",
    "        lab.extend(labels.tolist())\n",
    "    \n",
    "    val_accuracy=val_accuracy/val_count\n",
    "    val_accuracy_list.append(val_accuracy)\n",
    "    if max_acc < val_accuracy:\n",
    "        max_acc = val_accuracy\n",
    "        pred_labels = pred\n",
    "        actual_labels = lab\n",
    "        max_acc = val_accuracy\n",
    "        torch.save(model,\"best_accuracy_model_BiLSTM.pth\")\n",
    "    print('Epoch : '+str(epoch+1)+'/'+str(num_epochs)+'   Train Loss : '+str(train_loss)+'   Train Accuracy : '+str(train_accuracy)+'   Test Accuracy : '+str(val_accuracy))\n",
    "print(max_acc)   \n",
    "print('Finished Training and Testing')"
   ]
  },
  {
   "cell_type": "code",
   "execution_count": 32,
   "id": "787191bb",
   "metadata": {
    "execution": {
     "iopub.execute_input": "2023-12-13T23:12:07.882181Z",
     "iopub.status.busy": "2023-12-13T23:12:07.881791Z",
     "iopub.status.idle": "2023-12-13T23:12:28.429606Z",
     "shell.execute_reply": "2023-12-13T23:12:28.428363Z"
    },
    "papermill": {
     "duration": 20.564768,
     "end_time": "2023-12-13T23:12:28.431658",
     "exception": false,
     "start_time": "2023-12-13T23:12:07.866890",
     "status": "completed"
    },
    "tags": []
   },
   "outputs": [
    {
     "name": "stdout",
     "output_type": "stream",
     "text": [
      "testing Accuracy: 0.9233923176521364\n"
     ]
    }
   ],
   "source": [
    "# Load the best model\n",
    "best_model = torch.load(\"best_accuracy_model_BiLSTM.pth\")\n",
    "\n",
    "# Put the best_model in evaluation mode\n",
    "best_model.eval()\n",
    "\n",
    "# Initialize variables to store results\n",
    "testing_accuracy = 0.0\n",
    "pred_labels = []\n",
    "act_labels = []\n",
    "\n",
    "# Pass validation data through the best model\n",
    "for i, (images, labels) in enumerate(test_dataloader):\n",
    "    if torch.cuda.is_available():\n",
    "        images = Variable(images.cuda())\n",
    "        labels = Variable(labels.cuda())\n",
    "    \n",
    "    outputs = best_model(images)\n",
    "    _, prediction = torch.max(outputs.data, 1)\n",
    "    \n",
    "    testing_accuracy += int(torch.sum(prediction == labels.data))\n",
    "    \n",
    "    pred_labels.extend(prediction.tolist())\n",
    "    act_labels.extend(labels.tolist())\n",
    "\n",
    "# Calculate validation accuracy\n",
    "testing_accuracy = testing_accuracy / len(test_dataloader.dataset)\n",
    "\n",
    "# Print the validation accuracy\n",
    "print(\"testing Accuracy:\", testing_accuracy)"
   ]
  },
  {
   "cell_type": "code",
   "execution_count": 33,
   "id": "90c67430",
   "metadata": {
    "execution": {
     "iopub.execute_input": "2023-12-13T23:12:28.460984Z",
     "iopub.status.busy": "2023-12-13T23:12:28.460670Z",
     "iopub.status.idle": "2023-12-13T23:12:28.828856Z",
     "shell.execute_reply": "2023-12-13T23:12:28.827806Z"
    },
    "papermill": {
     "duration": 0.385026,
     "end_time": "2023-12-13T23:12:28.830835",
     "exception": false,
     "start_time": "2023-12-13T23:12:28.445809",
     "status": "completed"
    },
    "tags": []
   },
   "outputs": [
    {
     "data": {
      "image/png": "[encoded data removed]",
      "text/plain": [
       "<Figure size 640x480 with 2 Axes>"
      ]
     },
     "metadata": {},
     "output_type": "display_data"
    },
    {
     "name": "stdout",
     "output_type": "stream",
     "text": [
      "F1 Score :  0.9233601077031182\n"
     ]
    }
   ],
   "source": [
    "# Calculate the confusion matrix\n",
    "import seaborn as sns\n",
    "conf_mat = confusion_matrix(act_labels, pred_labels)\n",
    "# Plot confusion matrix heat map\n",
    "sns.heatmap(conf_mat, cmap=\"flare\",annot=True, fmt = \"g\", \n",
    "            cbar_kws={\"label\":\"color bar\"},\n",
    "            xticklabels=train_dataset.classes,\n",
    "            yticklabels=train_dataset.classes)\n",
    "plt.xlabel(\"Predicted\")\n",
    "plt.ylabel(\"Actual\")\n",
    "plt.title(\"Confusion Matrix\")\n",
    "plt.savefig(\"ConfusionMatrix_BiLSTM.png\")\n",
    "plt.show()\n",
    "from sklearn.metrics import f1_score\n",
    "f1_score = f1_score(pred_labels, act_labels, average='macro')\n",
    "print('F1 Score : ', f1_score)\n"
   ]
  },
  {
   "cell_type": "code",
   "execution_count": 34,
   "id": "0c0703df",
   "metadata": {
    "execution": {
     "iopub.execute_input": "2023-12-13T23:12:28.861583Z",
     "iopub.status.busy": "2023-12-13T23:12:28.860819Z",
     "iopub.status.idle": "2023-12-13T23:12:28.864907Z",
     "shell.execute_reply": "2023-12-13T23:12:28.864068Z"
    },
    "papermill": {
     "duration": 0.021467,
     "end_time": "2023-12-13T23:12:28.866819",
     "exception": false,
     "start_time": "2023-12-13T23:12:28.845352",
     "status": "completed"
    },
    "tags": []
   },
   "outputs": [],
   "source": [
    "# torch.save(model,'MGDCC_BiLSTMClassifier_01_01.pth')"
   ]
  },
  {
   "cell_type": "code",
   "execution_count": 35,
   "id": "7def01cd",
   "metadata": {
    "execution": {
     "iopub.execute_input": "2023-12-13T23:12:28.897286Z",
     "iopub.status.busy": "2023-12-13T23:12:28.896945Z",
     "iopub.status.idle": "2023-12-13T23:12:28.903966Z",
     "shell.execute_reply": "2023-12-13T23:12:28.903132Z"
    },
    "papermill": {
     "duration": 0.024236,
     "end_time": "2023-12-13T23:12:28.905814",
     "exception": false,
     "start_time": "2023-12-13T23:12:28.881578",
     "status": "completed"
    },
    "tags": []
   },
   "outputs": [],
   "source": [
    "# ResNet50\n",
    "# import torch\n",
    "# import torch.nn as nn\n",
    "\n",
    "\n",
    "# def conv3x3(in_channels, out_channels, stride=1):\n",
    "#     \"\"\"3x3 convolution with padding\"\"\"\n",
    "#     return nn.Conv2d(in_channels, out_channels, kernel_size=3, stride=stride, padding=1, bias=False)\n",
    "\n",
    "\n",
    "# class Bottleneck(nn.Module):\n",
    "#     expansion = 4\n",
    "\n",
    "#     def __init__(self, in_channels, out_channels, stride=1, downsample=None):\n",
    "#         super(Bottleneck, self).__init__()\n",
    "\n",
    "#         self.conv1 = nn.Conv2d(in_channels, out_channels, kernel_size=1, bias=False)\n",
    "#         self.bn1 = nn.BatchNorm2d(out_channels)\n",
    "#         self.conv2 = nn.Conv2d(out_channels, out_channels, kernel_size=3, stride=stride, padding=1, bias=False)\n",
    "#         self.bn2 = nn.BatchNorm2d(out_channels)\n",
    "#         self.conv3 = nn.Conv2d(out_channels, out_channels * self.expansion, kernel_size=1, bias=False)\n",
    "#         self.bn3 = nn.BatchNorm2d(out_channels * self.expansion)\n",
    "#         self.relu = nn.ReLU(inplace=True)\n",
    "#         self.downsample = downsample\n",
    "#         self.stride = stride\n",
    "\n",
    "#     def forward(self, x):\n",
    "#         identity = x\n",
    "\n",
    "#         out = self.conv1(x)\n",
    "#         out = self.bn1(out)\n",
    "#         out = self.relu(out)\n",
    "\n",
    "#         out = self.conv2(out)\n",
    "#         out = self.bn2(out)\n",
    "#         out = self.relu(out)\n",
    "\n",
    "#         out = self.conv3(out)\n",
    "#         out = self.bn3(out)\n",
    "\n",
    "#         if self.downsample is not None:\n",
    "#             identity = self.downsample(x)\n",
    "\n",
    "#         out += identity\n",
    "#         out = self.relu(out)\n",
    "\n",
    "#         return out\n",
    "\n",
    "\n",
    "# class ResNet(nn.Module):\n",
    "#     def __init__(self, block, layers, num_classes=1000):\n",
    "#         super(ResNet, self).__init__()\n",
    "\n",
    "#         self.in_channels = 64\n",
    "#         self.conv1 = nn.Conv2d(1, 64, kernel_size=7, stride=2, padding=3, bias=False)\n",
    "# #         self.conv1 = nn.Conv2d(1, 64, kernel_size=7, stride=2, padding=3, bias=False)\n",
    "#         self.bn1 = nn.BatchNorm2d(64)\n",
    "#         self.relu = nn.ReLU(inplace=True)\n",
    "#         self.maxpool = nn.MaxPool2d(kernel_size=3, stride=2, padding=1)\n",
    "\n",
    "#         self.layer1 = self._make_layer(block, 64, layers[0], stride=1)\n",
    "#         self.layer2 = self._make_layer(block, 128, layers[1], stride=2)\n",
    "#         self.layer3 = self._make_layer(block, 256, layers[2], stride=2)\n",
    "#         self.layer4 = self._make_layer(block, 512, layers[3], stride=2)\n",
    "\n",
    "#         self.avgpool = nn.AdaptiveAvgPool2d((1, 1))\n",
    "#         self.fc = nn.Linear(512 * block.expansion, num_classes)\n",
    "\n",
    "#     def _make_layer(self, block, out_channels, blocks, stride=1):\n",
    "#         downsample = None\n",
    "#         if stride != 1 or self.in_channels != out_channels * block.expansion:\n",
    "#             downsample = nn.Sequential(\n",
    "#                 nn.Conv2d(self.in_channels, out_channels * block.expansion, kernel_size=1, stride=stride, bias=False),\n",
    "#                 nn.BatchNorm2d(out_channels * block.expansion),\n",
    "#             )\n",
    "\n",
    "#         layers = [block(self.in_channels, out_channels, stride, downsample)]\n",
    "#         self.in_channels = out_channels * block.expansion\n",
    "#         for _ in range(1, blocks):\n",
    "#             layers.append(block(self.in_channels, out_channels))\n",
    "\n",
    "#         return nn.Sequential(*layers)\n",
    "\n",
    "#     def forward(self, x):\n",
    "#         x = self.conv1(x)\n",
    "#         x = self.bn1(x)\n",
    "#         x = self.relu(x)\n",
    "#         x = self.maxpool(x)\n",
    "\n",
    "#         x = self.layer1(x)\n",
    "#         x = self.layer2(x)\n",
    "#         x = self.layer3(x)\n",
    "#         x = self.layer4(x)\n",
    "\n",
    "#         x = self.avgpool(x)\n",
    "#         x = x.view(x.size(0), -1)\n",
    "#         x = self.fc(x)\n",
    "\n",
    "#         return x\n",
    "\n",
    "\n",
    "# # ResNet-50\n",
    "# def resnet50(num_classes=2):\n",
    "#     return ResNet(Bottleneck, [3, 4, 6, 3], num_classes)\n"
   ]
  },
  {
   "cell_type": "code",
   "execution_count": 36,
   "id": "2a922ca5",
   "metadata": {
    "execution": {
     "iopub.execute_input": "2023-12-13T23:12:28.935256Z",
     "iopub.status.busy": "2023-12-13T23:12:28.934989Z",
     "iopub.status.idle": "2023-12-13T23:12:28.938772Z",
     "shell.execute_reply": "2023-12-13T23:12:28.937925Z"
    },
    "papermill": {
     "duration": 0.020704,
     "end_time": "2023-12-13T23:12:28.940749",
     "exception": false,
     "start_time": "2023-12-13T23:12:28.920045",
     "status": "completed"
    },
    "tags": []
   },
   "outputs": [],
   "source": [
    "# model = resnet50()\n",
    "# model.to(device, dtype=torch.double)\n",
    "# loss_function = nn.CrossEntropyLoss()\n",
    "# optimizer = optim.Adam(model.parameters(), lr=learning_rate)\n",
    "# print(model)"
   ]
  },
  {
   "cell_type": "code",
   "execution_count": 37,
   "id": "f8fa455b",
   "metadata": {
    "execution": {
     "iopub.execute_input": "2023-12-13T23:12:29.026601Z",
     "iopub.status.busy": "2023-12-13T23:12:29.025775Z",
     "iopub.status.idle": "2023-12-13T23:12:29.029859Z",
     "shell.execute_reply": "2023-12-13T23:12:29.029024Z"
    },
    "papermill": {
     "duration": 0.02122,
     "end_time": "2023-12-13T23:12:29.031703",
     "exception": false,
     "start_time": "2023-12-13T23:12:29.010483",
     "status": "completed"
    },
    "tags": []
   },
   "outputs": [],
   "source": [
    "# torch.save(model,'MGDCC_ResNet50_0_0001.pth')"
   ]
  },
  {
   "cell_type": "code",
   "execution_count": 38,
   "id": "f0ea0300",
   "metadata": {
    "execution": {
     "iopub.execute_input": "2023-12-13T23:12:29.061309Z",
     "iopub.status.busy": "2023-12-13T23:12:29.061038Z",
     "iopub.status.idle": "2023-12-13T23:12:29.065050Z",
     "shell.execute_reply": "2023-12-13T23:12:29.064200Z"
    },
    "papermill": {
     "duration": 0.02085,
     "end_time": "2023-12-13T23:12:29.066927",
     "exception": false,
     "start_time": "2023-12-13T23:12:29.046077",
     "status": "completed"
    },
    "tags": []
   },
   "outputs": [],
   "source": [
    "# # Calculate the confusion matrix\n",
    "# import seaborn as sns\n",
    "# conf_mat = confusion_matrix(act_labels, pred_labels)\n",
    "# # Plot confusion matrix heat map\n",
    "# sns.heatmap(conf_mat, cmap=\"flare\",annot=True, fmt = \"g\", \n",
    "#             cbar_kws={\"label\":\"color bar\"},\n",
    "#             xticklabels=train_dataset.classes,\n",
    "#             yticklabels=train_dataset.classes)\n",
    "# plt.xlabel(\"Predicted\")\n",
    "# plt.ylabel(\"Actual\")\n",
    "# plt.title(\"Confusion Matrix\")\n",
    "# plt.savefig(\"ConfusionMatrix.png\")\n",
    "# plt.show()\n",
    "# from sklearn.metrics import f1_score\n",
    "# f1_score = f1_score(pred_labels, act_labels, average='macro')\n",
    "# print('F1 Score : ', f1_score)"
   ]
  }
 ],
 "metadata": {
  "kaggle": {
   "accelerator": "gpu",
   "dataSources": [
    {
     "datasetId": 4133733,
     "sourceId": 7157591,
     "sourceType": "datasetVersion"
    }
   ],
   "isGpuEnabled": true,
   "isInternetEnabled": true,
   "language": "python",
   "sourceType": "notebook"
  },
  "kernelspec": {
   "display_name": "Python 3",
   "language": "python",
   "name": "python3"
  },
  "language_info": {
   "codemirror_mode": {
    "name": "ipython",
    "version": 3
   },
   "file_extension": ".py",
   "mimetype": "text/x-python",
   "name": "python",
   "nbconvert_exporter": "python",
   "pygments_lexer": "ipython3",
   "version": "3.10.12"
  },
  "papermill": {
   "default_parameters": {},
   "duration": 9594.544285,
   "end_time": "2023-12-13T23:12:31.883183",
   "environment_variables": {},
   "exception": null,
   "input_path": "__notebook__.ipynb",
   "output_path": "__notebook__.ipynb",
   "parameters": {},
   "start_time": "2023-12-13T20:32:37.338898",
   "version": "2.4.0"
  }
 },
 "nbformat": 4,
 "nbformat_minor": 5
}
