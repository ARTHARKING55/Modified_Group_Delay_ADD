{
 "cells": [
  {
   "cell_type": "code",
   "execution_count": 1,
   "id": "b20b07d1",
   "metadata": {
    "execution": {
     "iopub.execute_input": "2023-12-13T17:05:29.719395Z",
     "iopub.status.busy": "2023-12-13T17:05:29.719040Z",
     "iopub.status.idle": "2023-12-13T17:05:42.743753Z",
     "shell.execute_reply": "2023-12-13T17:05:42.742586Z"
    },
    "papermill": {
     "duration": 13.039171,
     "end_time": "2023-12-13T17:05:42.746156",
     "exception": false,
     "start_time": "2023-12-13T17:05:29.706985",
     "status": "completed"
    },
    "tags": []
   },
   "outputs": [
    {
     "name": "stdout",
     "output_type": "stream",
     "text": [
      "Requirement already satisfied: scipy in /opt/conda/lib/python3.10/site-packages (1.11.4)\r\n",
      "Requirement already satisfied: numpy<1.28.0,>=1.21.6 in /opt/conda/lib/python3.10/site-packages (from scipy) (1.24.3)\r\n"
     ]
    }
   ],
   "source": [
    "!pip install --upgrade scipy"
   ]
  },
  {
   "cell_type": "code",
   "execution_count": 2,
   "id": "a91e07c3",
   "metadata": {
    "execution": {
     "iopub.execute_input": "2023-12-13T17:05:42.768489Z",
     "iopub.status.busy": "2023-12-13T17:05:42.768144Z",
     "iopub.status.idle": "2023-12-13T17:05:46.987318Z",
     "shell.execute_reply": "2023-12-13T17:05:46.986491Z"
    },
    "papermill": {
     "duration": 4.232975,
     "end_time": "2023-12-13T17:05:46.989656",
     "exception": false,
     "start_time": "2023-12-13T17:05:42.756681",
     "status": "completed"
    },
    "tags": []
   },
   "outputs": [
    {
     "name": "stderr",
     "output_type": "stream",
     "text": [
      "/opt/conda/lib/python3.10/site-packages/scipy/__init__.py:146: UserWarning: A NumPy version >=1.16.5 and <1.23.0 is required for this version of SciPy (detected version 1.24.3\n",
      "  warnings.warn(f\"A NumPy version >={np_minversion} and <{np_maxversion}\"\n"
     ]
    }
   ],
   "source": [
    "import torch \n",
    "import torch.nn as nn\n",
    "import torch.nn.functional as F\n",
    "from torch.autograd import Variable\n",
    "from torch.utils.data import Dataset, DataLoader\n",
    "\n",
    "import os, pathlib, glob, random\n",
    "import numpy as np\n",
    "import matplotlib.pyplot as plt \n",
    "\n",
    "from sklearn.metrics import confusion_matrix\n",
    "import scipy\n",
    "from scipy import io"
   ]
  },
  {
   "cell_type": "code",
   "execution_count": 3,
   "id": "886d8dbe",
   "metadata": {
    "execution": {
     "iopub.execute_input": "2023-12-13T17:05:47.011981Z",
     "iopub.status.busy": "2023-12-13T17:05:47.011557Z",
     "iopub.status.idle": "2023-12-13T17:05:47.076800Z",
     "shell.execute_reply": "2023-12-13T17:05:47.075896Z"
    },
    "papermill": {
     "duration": 0.078751,
     "end_time": "2023-12-13T17:05:47.079082",
     "exception": false,
     "start_time": "2023-12-13T17:05:47.000331",
     "status": "completed"
    },
    "tags": []
   },
   "outputs": [
    {
     "name": "stdout",
     "output_type": "stream",
     "text": [
      "cuda:0\n"
     ]
    }
   ],
   "source": [
    "device = torch.device('cuda:0' if torch.cuda.is_available() else 'cpu')\n",
    "print(device)"
   ]
  },
  {
   "cell_type": "code",
   "execution_count": 4,
   "id": "911f1897",
   "metadata": {
    "execution": {
     "iopub.execute_input": "2023-12-13T17:05:47.101538Z",
     "iopub.status.busy": "2023-12-13T17:05:47.100797Z",
     "iopub.status.idle": "2023-12-13T17:05:47.105261Z",
     "shell.execute_reply": "2023-12-13T17:05:47.104472Z"
    },
    "papermill": {
     "duration": 0.017757,
     "end_time": "2023-12-13T17:05:47.107234",
     "exception": false,
     "start_time": "2023-12-13T17:05:47.089477",
     "status": "completed"
    },
    "tags": []
   },
   "outputs": [],
   "source": [
    "batch_size = 64\n",
    "output_nodes = 2\n",
    "learning_rate = 0.001"
   ]
  },
  {
   "cell_type": "code",
   "execution_count": 5,
   "id": "c14c18d6",
   "metadata": {
    "execution": {
     "iopub.execute_input": "2023-12-13T17:05:47.128885Z",
     "iopub.status.busy": "2023-12-13T17:05:47.128572Z",
     "iopub.status.idle": "2023-12-13T17:05:47.132597Z",
     "shell.execute_reply": "2023-12-13T17:05:47.131855Z"
    },
    "papermill": {
     "duration": 0.016947,
     "end_time": "2023-12-13T17:05:47.134457",
     "exception": false,
     "start_time": "2023-12-13T17:05:47.117510",
     "status": "completed"
    },
    "tags": []
   },
   "outputs": [],
   "source": [
    "train_data_path = r\"/kaggle/input/deltadoubledelta-all-feat-add/delta,DoubleDelta/MGDCC/Delta/train\"\n",
    "validation_data_path =r\"/kaggle/input/deltadoubledelta-all-feat-add/delta,DoubleDelta/MGDCC/Delta/dev\"\n",
    "test_data_path = r\"/kaggle/input/deltadoubledelta-all-feat-add/delta,DoubleDelta/MGDCC/Delta/test\""
   ]
  },
  {
   "cell_type": "code",
   "execution_count": 6,
   "id": "5249cf11",
   "metadata": {
    "execution": {
     "iopub.execute_input": "2023-12-13T17:05:47.156112Z",
     "iopub.status.busy": "2023-12-13T17:05:47.155800Z",
     "iopub.status.idle": "2023-12-13T17:05:47.161050Z",
     "shell.execute_reply": "2023-12-13T17:05:47.160236Z"
    },
    "papermill": {
     "duration": 0.018224,
     "end_time": "2023-12-13T17:05:47.162988",
     "exception": false,
     "start_time": "2023-12-13T17:05:47.144764",
     "status": "completed"
    },
    "tags": []
   },
   "outputs": [],
   "source": [
    "# # ResNet50\n",
    "# class PtDataset(Dataset):\n",
    "#     def __init__(self, directory):\n",
    "#         self.directory = directory\n",
    "#         self.classes = sorted(entry.name for entry in os.scandir(directory) if entry.is_dir())\n",
    "#         self.class_to_idx = {c: i for i, c in enumerate(self.classes)}\n",
    "#         self.files = []\n",
    "#         for c in self.classes:\n",
    "#             c_dir = os.path.join(directory, c)\n",
    "#             c_files = [(os.path.join(c_dir, f), self.class_to_idx[c]) for f in os.listdir(c_dir)]\n",
    "#             self.files.extend(c_files)\n",
    "#         random.shuffle(self.files)\n",
    "        \n",
    "#     def __len__(self):\n",
    "#         return len(self.files)\n",
    "    \n",
    "#     # Assuming mono audio data\n",
    "#     def __getitem__(self, idx):\n",
    "#         filepath, label = self.files[idx]\n",
    "#         try:\n",
    "#             mat_vals = scipy.io.loadmat(filepath)\n",
    "#             data = mat_vals['final']\n",
    "#             data = data.T\n",
    "#             max_len = 750\n",
    "\n",
    "#             if (max_len > data.shape[0]):\n",
    "#                 pad_width = max_len - data.shape[0]\n",
    "#                 data = np.pad(data, pad_width=((0, pad_width), (0, 0)), mode='constant')\n",
    "#             else:\n",
    "#                 data = data[:max_len, :]\n",
    "\n",
    "#             # Reshape data to (1, 750, 20) for mono audio\n",
    "#             data = data[np.newaxis, :, :]\n",
    "\n",
    "#         except Exception as e:\n",
    "#             print(f\"Error loading file {filepath}: {str(e)}\")\n",
    "#             return None\n",
    "\n",
    "#         return data, label\n"
   ]
  },
  {
   "cell_type": "code",
   "execution_count": 7,
   "id": "a23a77fa",
   "metadata": {
    "execution": {
     "iopub.execute_input": "2023-12-13T17:05:47.184899Z",
     "iopub.status.busy": "2023-12-13T17:05:47.184602Z",
     "iopub.status.idle": "2023-12-13T17:05:47.195626Z",
     "shell.execute_reply": "2023-12-13T17:05:47.194880Z"
    },
    "papermill": {
     "duration": 0.024164,
     "end_time": "2023-12-13T17:05:47.197476",
     "exception": false,
     "start_time": "2023-12-13T17:05:47.173312",
     "status": "completed"
    },
    "tags": []
   },
   "outputs": [],
   "source": [
    "class PtDataset(Dataset):\n",
    "    def __init__(self, directory):\n",
    "        self.directory = directory\n",
    "        self.classes = sorted(entry.name for entry in os.scandir(directory) if entry.is_dir())\n",
    "        self.class_to_idx = {c: i for i, c in enumerate(self.classes)}\n",
    "        self.files = []\n",
    "        for c in self.classes:\n",
    "            c_dir = os.path.join(directory, c)\n",
    "            c_files = [(os.path.join(c_dir, f), self.class_to_idx[c]) for f in os.listdir(c_dir)]\n",
    "            self.files.extend(c_files)\n",
    "        random.shuffle(self.files)\n",
    "        \n",
    "    def __len__(self):\n",
    "        return len(self.files)\n",
    "    \n",
    "    def __getitem__(self, idx):\n",
    "        filepath, label = self.files[idx]\n",
    "        try:\n",
    "            mat_vals = scipy.io.loadmat(filepath)\n",
    "            data = mat_vals['final']\n",
    "            data = data.T\n",
    "            max_len=750\n",
    "            if (max_len > data.shape[0]):\n",
    "                pad_width = max_len - data.shape[0]\n",
    "                data = np.pad(data, pad_width=((0, pad_width),(0,0)), mode='constant')\n",
    "            else:\n",
    "                data = data[:max_len, :]\n",
    "        except Exception as e:\n",
    "            print(f\"Error loading file {filepath}: {str(e)}\")\n",
    "            return None\n",
    "        return data, label"
   ]
  },
  {
   "cell_type": "code",
   "execution_count": 8,
   "id": "47be2730",
   "metadata": {
    "execution": {
     "iopub.execute_input": "2023-12-13T17:05:47.219350Z",
     "iopub.status.busy": "2023-12-13T17:05:47.219079Z",
     "iopub.status.idle": "2023-12-13T17:05:48.560188Z",
     "shell.execute_reply": "2023-12-13T17:05:48.559230Z"
    },
    "papermill": {
     "duration": 1.355081,
     "end_time": "2023-12-13T17:05:48.562846",
     "exception": false,
     "start_time": "2023-12-13T17:05:47.207765",
     "status": "completed"
    },
    "tags": []
   },
   "outputs": [],
   "source": [
    "train_dataset = PtDataset(train_data_path)\n",
    "test_dataset = PtDataset(test_data_path)\n",
    "val_dataset = PtDataset(validation_data_path)"
   ]
  },
  {
   "cell_type": "code",
   "execution_count": 9,
   "id": "cbd39b7e",
   "metadata": {
    "execution": {
     "iopub.execute_input": "2023-12-13T17:05:48.586431Z",
     "iopub.status.busy": "2023-12-13T17:05:48.586101Z",
     "iopub.status.idle": "2023-12-13T17:05:48.591179Z",
     "shell.execute_reply": "2023-12-13T17:05:48.590282Z"
    },
    "papermill": {
     "duration": 0.018765,
     "end_time": "2023-12-13T17:05:48.593017",
     "exception": false,
     "start_time": "2023-12-13T17:05:48.574252",
     "status": "completed"
    },
    "tags": []
   },
   "outputs": [],
   "source": [
    "class PtDataLoader(DataLoader):\n",
    "    def __init__(self, directory, batch_size, shuffle=True):\n",
    "        dataset = PtDataset(directory)\n",
    "        super().__init__(dataset, batch_size=batch_size, shuffle=shuffle)"
   ]
  },
  {
   "cell_type": "code",
   "execution_count": 10,
   "id": "32cf97af",
   "metadata": {
    "execution": {
     "iopub.execute_input": "2023-12-13T17:05:48.616018Z",
     "iopub.status.busy": "2023-12-13T17:05:48.615177Z",
     "iopub.status.idle": "2023-12-13T17:05:48.867942Z",
     "shell.execute_reply": "2023-12-13T17:05:48.867053Z"
    },
    "papermill": {
     "duration": 0.266832,
     "end_time": "2023-12-13T17:05:48.870392",
     "exception": false,
     "start_time": "2023-12-13T17:05:48.603560",
     "status": "completed"
    },
    "tags": []
   },
   "outputs": [],
   "source": [
    "train_dataloader = PtDataLoader(directory=train_data_path, batch_size=batch_size)\n",
    "test_dataloader = PtDataLoader(directory=test_data_path, batch_size=batch_size)\n",
    "val_dataloader = PtDataLoader(directory=validation_data_path, batch_size=batch_size)"
   ]
  },
  {
   "cell_type": "code",
   "execution_count": 11,
   "id": "b99c7cd3",
   "metadata": {
    "execution": {
     "iopub.execute_input": "2023-12-13T17:05:48.893669Z",
     "iopub.status.busy": "2023-12-13T17:05:48.893296Z",
     "iopub.status.idle": "2023-12-13T17:05:48.897896Z",
     "shell.execute_reply": "2023-12-13T17:05:48.896945Z"
    },
    "papermill": {
     "duration": 0.018683,
     "end_time": "2023-12-13T17:05:48.899992",
     "exception": false,
     "start_time": "2023-12-13T17:05:48.881309",
     "status": "completed"
    },
    "tags": []
   },
   "outputs": [],
   "source": [
    "train_count = len(train_dataset) \n",
    "test_count = len(test_dataset)\n",
    "val_count = len(val_dataset)"
   ]
  },
  {
   "cell_type": "code",
   "execution_count": 12,
   "id": "19c8eba6",
   "metadata": {
    "execution": {
     "iopub.execute_input": "2023-12-13T17:05:48.922621Z",
     "iopub.status.busy": "2023-12-13T17:05:48.922284Z",
     "iopub.status.idle": "2023-12-13T17:05:48.926859Z",
     "shell.execute_reply": "2023-12-13T17:05:48.926094Z"
    },
    "papermill": {
     "duration": 0.018664,
     "end_time": "2023-12-13T17:05:48.929328",
     "exception": false,
     "start_time": "2023-12-13T17:05:48.910664",
     "status": "completed"
    },
    "tags": []
   },
   "outputs": [
    {
     "name": "stdout",
     "output_type": "stream",
     "text": [
      "53866\n",
      "4634\n",
      "10798\n"
     ]
    }
   ],
   "source": [
    "print(train_count)\n",
    "print(test_count)\n",
    "print(val_count)"
   ]
  },
  {
   "cell_type": "code",
   "execution_count": 13,
   "id": "3098e59e",
   "metadata": {
    "execution": {
     "iopub.execute_input": "2023-12-13T17:05:48.952224Z",
     "iopub.status.busy": "2023-12-13T17:05:48.951893Z",
     "iopub.status.idle": "2023-12-13T17:05:48.960305Z",
     "shell.execute_reply": "2023-12-13T17:05:48.959317Z"
    },
    "papermill": {
     "duration": 0.022248,
     "end_time": "2023-12-13T17:05:48.962311",
     "exception": false,
     "start_time": "2023-12-13T17:05:48.940063",
     "status": "completed"
    },
    "tags": []
   },
   "outputs": [],
   "source": [
    "class LSTMClassifier(nn.Module):\n",
    "    def __init__(self, input_size, hidden_size, num_layers, num_classes):\n",
    "        super(LSTMClassifier, self).__init__()\n",
    "        self.hidden_size = hidden_size\n",
    "        self.num_layers = num_layers\n",
    "        self.lstm = nn.LSTM(input_size, hidden_size, num_layers, batch_first=True, bidirectional=False)\n",
    "        self.dropout = nn.Dropout(p=drop_amount)\n",
    "        self.fc = nn.Linear(hidden_size, num_classes)\n",
    "\n",
    "    def forward(self, x):\n",
    "        # Explicitly specify the data type for initial hidden state tensors\n",
    "        h0 = torch.zeros(self.num_layers, x.size(0), self.hidden_size, dtype=x.dtype).to(device=x.device)\n",
    "        c0 = torch.zeros(self.num_layers, x.size(0), self.hidden_size, dtype=x.dtype).to(device=x.device)\n",
    "        out, _ = self.lstm(x, (h0, c0))\n",
    "        out = self.dropout(out)\n",
    "        out = self.fc(out[:, -1, :])\n",
    "        return out"
   ]
  },
  {
   "cell_type": "code",
   "execution_count": 14,
   "id": "a855b190",
   "metadata": {
    "execution": {
     "iopub.execute_input": "2023-12-13T17:05:48.985424Z",
     "iopub.status.busy": "2023-12-13T17:05:48.985081Z",
     "iopub.status.idle": "2023-12-13T17:05:48.993364Z",
     "shell.execute_reply": "2023-12-13T17:05:48.992482Z"
    },
    "papermill": {
     "duration": 0.022389,
     "end_time": "2023-12-13T17:05:48.995515",
     "exception": false,
     "start_time": "2023-12-13T17:05:48.973126",
     "status": "completed"
    },
    "tags": []
   },
   "outputs": [],
   "source": [
    "drop_amount = 0.255\n",
    "\n",
    "class BiGRUAudioClassifier(nn.Module):\n",
    "    def __init__(self,input_size, num_classes, hidden_units, num_layers):\n",
    "        super(BiGRUAudioClassifier, self).__init__()\n",
    "        self.input_size = input_size \n",
    "        self.num_classes = num_classes\n",
    "        self.hidden_units = hidden_units\n",
    "        self.num_layers = num_layers\n",
    "\n",
    "        self.bigru = nn.GRU(input_size=input_size, hidden_size=hidden_units, num_layers=num_layers, batch_first=True, bidirectional=True)\n",
    "        self.dropout = nn.Dropout(p=drop_amount)\n",
    "        # self.fc = nn.Linear(hidden_units, num_classes)\n",
    "        self.fc = nn.Linear(hidden_units * 2, num_classes)\n",
    "\n",
    "    def forward(self, x):\n",
    "        # x: (batch_size, sequence_length, num_features)\n",
    "\n",
    "        # Pass the input through the bi-GRU layers\n",
    "        output, _ = self.bigru(x)\n",
    "        output = self.dropout(output)\n",
    "        # Extract the last hidden state (concatenate forward and backward hidden states)\n",
    "        last_hidden_state = torch.cat((output[:, -1, :self.hidden_units], output[:, 0, self.hidden_units:]), dim=1)\n",
    "        # Apply the fully connected layer for classification\n",
    "        output = self.fc(last_hidden_state)\n",
    "\n",
    "        return output"
   ]
  },
  {
   "cell_type": "code",
   "execution_count": 15,
   "id": "e11ed3a1",
   "metadata": {
    "execution": {
     "iopub.execute_input": "2023-12-13T17:05:49.019309Z",
     "iopub.status.busy": "2023-12-13T17:05:49.018503Z",
     "iopub.status.idle": "2023-12-13T17:05:49.023119Z",
     "shell.execute_reply": "2023-12-13T17:05:49.022178Z"
    },
    "papermill": {
     "duration": 0.018336,
     "end_time": "2023-12-13T17:05:49.025019",
     "exception": false,
     "start_time": "2023-12-13T17:05:49.006683",
     "status": "completed"
    },
    "tags": []
   },
   "outputs": [],
   "source": [
    "import torch\n",
    "from torch import nn\n",
    "from torch.nn import Parameter\n",
    "import torch.nn.functional as F"
   ]
  },
  {
   "cell_type": "code",
   "execution_count": 16,
   "id": "6b3305a1",
   "metadata": {
    "execution": {
     "iopub.execute_input": "2023-12-13T17:05:49.047140Z",
     "iopub.status.busy": "2023-12-13T17:05:49.046866Z",
     "iopub.status.idle": "2023-12-13T17:05:53.927502Z",
     "shell.execute_reply": "2023-12-13T17:05:53.926387Z"
    },
    "papermill": {
     "duration": 4.894271,
     "end_time": "2023-12-13T17:05:53.929893",
     "exception": false,
     "start_time": "2023-12-13T17:05:49.035622",
     "status": "completed"
    },
    "tags": []
   },
   "outputs": [
    {
     "data": {
      "text/plain": [
       "LSTMClassifier(\n",
       "  (lstm): LSTM(20, 256, num_layers=2, batch_first=True)\n",
       "  (dropout): Dropout(p=0.255, inplace=False)\n",
       "  (fc): Linear(in_features=256, out_features=2, bias=True)\n",
       ")"
      ]
     },
     "execution_count": 16,
     "metadata": {},
     "output_type": "execute_result"
    }
   ],
   "source": [
    "# Define the parameters\n",
    "input_size = 20\n",
    "hidden_size = 256\n",
    "num_layers = 2\n",
    "num_classes = 2\n",
    "# drop_amount = 0.25  # You can choose an appropriate dropout rate\n",
    "\n",
    "model = LSTMClassifier(input_size, hidden_size, num_layers, num_classes)\n",
    "model.to(device, dtype=torch.double)\n"
   ]
  },
  {
   "cell_type": "code",
   "execution_count": 17,
   "id": "d362c563",
   "metadata": {
    "execution": {
     "iopub.execute_input": "2023-12-13T17:05:53.952718Z",
     "iopub.status.busy": "2023-12-13T17:05:53.952384Z",
     "iopub.status.idle": "2023-12-13T17:05:53.956576Z",
     "shell.execute_reply": "2023-12-13T17:05:53.955826Z"
    },
    "papermill": {
     "duration": 0.017788,
     "end_time": "2023-12-13T17:05:53.958525",
     "exception": false,
     "start_time": "2023-12-13T17:05:53.940737",
     "status": "completed"
    },
    "tags": []
   },
   "outputs": [],
   "source": [
    "import torch\n",
    "import torch.nn as nn\n",
    "import torch.optim as optim"
   ]
  },
  {
   "cell_type": "code",
   "execution_count": 18,
   "id": "c48c48e9",
   "metadata": {
    "execution": {
     "iopub.execute_input": "2023-12-13T17:05:53.980873Z",
     "iopub.status.busy": "2023-12-13T17:05:53.980550Z",
     "iopub.status.idle": "2023-12-13T17:05:53.985095Z",
     "shell.execute_reply": "2023-12-13T17:05:53.984192Z"
    },
    "papermill": {
     "duration": 0.017811,
     "end_time": "2023-12-13T17:05:53.987004",
     "exception": false,
     "start_time": "2023-12-13T17:05:53.969193",
     "status": "completed"
    },
    "tags": []
   },
   "outputs": [],
   "source": [
    "loss_function = nn.CrossEntropyLoss()\n",
    "optimizer = optim.Adam(model.parameters(), lr=learning_rate)"
   ]
  },
  {
   "cell_type": "code",
   "execution_count": 19,
   "id": "c23dda10",
   "metadata": {
    "execution": {
     "iopub.execute_input": "2023-12-13T17:05:54.010168Z",
     "iopub.status.busy": "2023-12-13T17:05:54.009492Z",
     "iopub.status.idle": "2023-12-13T17:05:54.014865Z",
     "shell.execute_reply": "2023-12-13T17:05:54.013845Z"
    },
    "papermill": {
     "duration": 0.01991,
     "end_time": "2023-12-13T17:05:54.017577",
     "exception": false,
     "start_time": "2023-12-13T17:05:53.997667",
     "status": "completed"
    },
    "tags": []
   },
   "outputs": [
    {
     "name": "stdout",
     "output_type": "stream",
     "text": [
      "LSTMClassifier(\n",
      "  (lstm): LSTM(20, 256, num_layers=2, batch_first=True)\n",
      "  (dropout): Dropout(p=0.255, inplace=False)\n",
      "  (fc): Linear(in_features=256, out_features=2, bias=True)\n",
      ")\n"
     ]
    }
   ],
   "source": [
    "print(model)"
   ]
  },
  {
   "cell_type": "code",
   "execution_count": 20,
   "id": "b943fac9",
   "metadata": {
    "execution": {
     "iopub.execute_input": "2023-12-13T17:05:54.042694Z",
     "iopub.status.busy": "2023-12-13T17:05:54.042034Z",
     "iopub.status.idle": "2023-12-13T17:05:57.568349Z",
     "shell.execute_reply": "2023-12-13T17:05:57.567579Z"
    },
    "papermill": {
     "duration": 3.541041,
     "end_time": "2023-12-13T17:05:57.570587",
     "exception": false,
     "start_time": "2023-12-13T17:05:54.029546",
     "status": "completed"
    },
    "tags": []
   },
   "outputs": [],
   "source": [
    "import torch \n",
    "import torch.nn as nn\n",
    "import torch.nn.functional as F\n",
    "from torch.autograd import Variable\n",
    "from torch.utils.data import Dataset, DataLoader\n",
    "import os, pathlib, glob, random\n",
    "import numpy as np\n",
    "import matplotlib.pyplot as plt \n",
    "import seaborn as sns\n",
    "from sklearn.metrics import confusion_matrix\n",
    "from transformers import WhisperProcessor, WhisperForConditionalGeneration\n",
    "from datasets import load_dataset\n",
    "from transformers.models.whisper.modeling_whisper import WhisperModel, WhisperEncoder\n",
    "from transformers.models.whisper.configuration_whisper import WhisperConfig\n",
    "from typing import Optional, Tuple, Union\n",
    "import torch\n",
    "import librosa \n",
    "import matplotlib.pyplot as plt\n",
    "import numpy as np\n",
    "import os, glob, pickle\n",
    "import scipy.io as sio\n",
    "from tqdm import tqdm\n",
    "import multiprocessing as mp \n",
    "import torch.optim as optim"
   ]
  },
  {
   "cell_type": "code",
   "execution_count": 21,
   "id": "3e222e7f",
   "metadata": {
    "execution": {
     "iopub.execute_input": "2023-12-13T17:05:57.593447Z",
     "iopub.status.busy": "2023-12-13T17:05:57.592979Z",
     "iopub.status.idle": "2023-12-13T18:08:50.026793Z",
     "shell.execute_reply": "2023-12-13T18:08:50.025867Z"
    },
    "papermill": {
     "duration": 3772.459333,
     "end_time": "2023-12-13T18:08:50.040768",
     "exception": false,
     "start_time": "2023-12-13T17:05:57.581435",
     "status": "completed"
    },
    "tags": []
   },
   "outputs": [
    {
     "name": "stdout",
     "output_type": "stream",
     "text": [
      "Epoch : 1/15   Train Loss : tensor(0.6949, dtype=torch.float64)   Train Accuracy : 0.5032859317565811   Test Accuracy : 0.498888683089461\n",
      "Epoch : 2/15   Train Loss : tensor(0.6929, dtype=torch.float64)   Train Accuracy : 0.5047525340660157   Test Accuracy : 0.5000926097425449\n",
      "Epoch : 3/15   Train Loss : tensor(0.6934, dtype=torch.float64)   Train Accuracy : 0.4956744514164779   Test Accuracy : 0.5000926097425449\n",
      "Epoch : 4/15   Train Loss : tensor(0.6932, dtype=torch.float64)   Train Accuracy : 0.4963799056919021   Test Accuracy : 0.5000926097425449\n",
      "Epoch : 5/15   Train Loss : tensor(0.6931, dtype=torch.float64)   Train Accuracy : 0.5028403816878921   Test Accuracy : 0.5029635117614373\n",
      "Epoch : 6/15   Train Loss : tensor(0.6940, dtype=torch.float64)   Train Accuracy : 0.5226116659859652   Test Accuracy : 0.5000926097425449\n",
      "Epoch : 7/15   Train Loss : tensor(0.6849, dtype=torch.float64)   Train Accuracy : 0.5431255337318531   Test Accuracy : 0.6729023893313577\n",
      "Epoch : 8/15   Train Loss : tensor(0.6833, dtype=torch.float64)   Train Accuracy : 0.5347900345301303   Test Accuracy : 0.5000926097425449\n",
      "Epoch : 9/15   Train Loss : tensor(0.6778, dtype=torch.float64)   Train Accuracy : 0.5648089704080496   Test Accuracy : 0.6620670494536025\n",
      "Epoch : 10/15   Train Loss : tensor(0.5641, dtype=torch.float64)   Train Accuracy : 0.7078119778710132   Test Accuracy : 0.7935728838673829\n",
      "Epoch : 11/15   Train Loss : tensor(0.3840, dtype=torch.float64)   Train Accuracy : 0.82588274607359   Test Accuracy : 0.7398592331913317\n",
      "Epoch : 12/15   Train Loss : tensor(0.3631, dtype=torch.float64)   Train Accuracy : 0.8375969999628708   Test Accuracy : 0.869235043526579\n",
      "Epoch : 13/15   Train Loss : tensor(0.2878, dtype=torch.float64)   Train Accuracy : 0.8796086585230015   Test Accuracy : 0.9025745508427486\n",
      "Epoch : 14/15   Train Loss : tensor(0.2273, dtype=torch.float64)   Train Accuracy : 0.9084023317120261   Test Accuracy : 0.9127616225226894\n",
      "Epoch : 15/15   Train Loss : tensor(0.1912, dtype=torch.float64)   Train Accuracy : 0.9259644302528497   Test Accuracy : 0.9310983515465827\n",
      "0.9310983515465827\n",
      "Finished Training and Testing\n"
     ]
    }
   ],
   "source": [
    "#Model training and testing \n",
    "n_total_steps = len(train_dataloader) # n_total_steps * batch size will give total number of training files (consider that last batch may not be fully filled)\n",
    "train_accuracy_list = []\n",
    "train_loss_list = []\n",
    "val_accuracy_list = []\n",
    "max_acc=0\n",
    "num_epochs = 15\n",
    "pred_labels =[]\n",
    "act_labels = []\n",
    "\n",
    "for epoch in range(num_epochs):\n",
    "    \n",
    "    #Evaluation and training on training dataset\n",
    "    model.train()\n",
    "    train_accuracy=0.0\n",
    "    train_loss=0.0\n",
    "    \n",
    "    for batch_idx, (images,labels) in enumerate(train_dataloader):\n",
    "        if torch.cuda.is_available():\n",
    "            images=Variable(images.cuda())\n",
    "            labels=Variable(labels.cuda())\n",
    "        ##images = images.unsqueeze(1)\n",
    "        optimizer.zero_grad()\n",
    "        outputs=model(images)\n",
    "        loss=loss_function(outputs,labels)\n",
    "        loss.backward()\n",
    "        optimizer.step()\n",
    "        \n",
    "        \n",
    "        train_loss+= loss.cpu().data*images.size(0)\n",
    "        _,prediction=torch.max(outputs.data,1)\n",
    "        \n",
    "        train_accuracy+=int(torch.sum(prediction==labels.data))\n",
    "        \n",
    "    train_accuracy=train_accuracy/train_count\n",
    "    train_loss=train_loss/train_count\n",
    "    \n",
    "    train_accuracy_list.append(train_accuracy)\n",
    "    train_loss_list.append(train_loss)\n",
    "\n",
    "    \n",
    "    # Validation on Validation dataset\n",
    "    model.eval()\n",
    "    val_accuracy=0.0\n",
    "    pred = []\n",
    "    lab = []\n",
    "    \n",
    "    for i, (images,labels) in enumerate(val_dataloader):\n",
    "        if torch.cuda.is_available():\n",
    "            images=Variable(images.cuda())\n",
    "            labels=Variable(labels.cuda())\n",
    "        ##images = images.unsqueeze(1) \n",
    "#         print(i,images.shape)\n",
    "        outputs=model(images)\n",
    "        _,prediction=torch.max(outputs.data,1)\n",
    "        val_accuracy+=int(torch.sum(prediction==labels.data))\n",
    "        \n",
    "        pred.extend(prediction.tolist())\n",
    "        lab.extend(labels.tolist())\n",
    "    \n",
    "    val_accuracy=val_accuracy/val_count\n",
    "    val_accuracy_list.append(val_accuracy)\n",
    "    if max_acc < val_accuracy:\n",
    "        max_acc = val_accuracy\n",
    "        pred_labels = pred\n",
    "        actual_labels = lab\n",
    "        max_acc = val_accuracy\n",
    "        torch.save(model,\"best_accuracy_model_LSTM.pth\")\n",
    "    print('Epoch : '+str(epoch+1)+'/'+str(num_epochs)+'   Train Loss : '+str(train_loss)+'   Train Accuracy : '+str(train_accuracy)+'   Test Accuracy : '+str(val_accuracy))\n",
    "print(max_acc)   \n",
    "print('Finished Training and Testing')"
   ]
  },
  {
   "cell_type": "code",
   "execution_count": 22,
   "id": "b96cdc96",
   "metadata": {
    "execution": {
     "iopub.execute_input": "2023-12-13T18:08:50.066614Z",
     "iopub.status.busy": "2023-12-13T18:08:50.066280Z",
     "iopub.status.idle": "2023-12-13T18:09:22.828646Z",
     "shell.execute_reply": "2023-12-13T18:09:22.827609Z"
    },
    "papermill": {
     "duration": 32.789604,
     "end_time": "2023-12-13T18:09:22.843164",
     "exception": false,
     "start_time": "2023-12-13T18:08:50.053560",
     "status": "completed"
    },
    "tags": []
   },
   "outputs": [
    {
     "name": "stdout",
     "output_type": "stream",
     "text": [
      "testing Accuracy: 0.8474320241691843\n"
     ]
    }
   ],
   "source": [
    "# Load the best model\n",
    "best_model = torch.load(\"best_accuracy_model_LSTM.pth\")\n",
    "\n",
    "# Put the best_model in evaluation mode\n",
    "best_model.eval()\n",
    "\n",
    "# Initialize variables to store results\n",
    "testing_accuracy = 0.0\n",
    "pred_labels = []\n",
    "act_labels = []\n",
    "\n",
    "# Pass validation data through the best model\n",
    "for i, (images, labels) in enumerate(test_dataloader):\n",
    "    if torch.cuda.is_available():\n",
    "        images = Variable(images.cuda())\n",
    "        labels = Variable(labels.cuda())\n",
    "    \n",
    "    outputs = best_model(images)\n",
    "    _, prediction = torch.max(outputs.data, 1)\n",
    "    \n",
    "    testing_accuracy += int(torch.sum(prediction == labels.data))\n",
    "    \n",
    "    pred_labels.extend(prediction.tolist())\n",
    "    act_labels.extend(labels.tolist())\n",
    "\n",
    "# Calculate validation accuracy\n",
    "testing_accuracy = testing_accuracy / len(test_dataloader.dataset)\n",
    "\n",
    "# Print the validation accuracy\n",
    "print(\"testing Accuracy:\", testing_accuracy)\n",
    "# train Accuracy: 0.9726729291204099\n",
    "# Validation Accuracy: 0.9680496388220041\n",
    "# test Accuracy: 0.9512300388433319"
   ]
  },
  {
   "cell_type": "code",
   "execution_count": 23,
   "id": "f87971b0",
   "metadata": {
    "execution": {
     "iopub.execute_input": "2023-12-13T18:09:22.869231Z",
     "iopub.status.busy": "2023-12-13T18:09:22.868615Z",
     "iopub.status.idle": "2023-12-13T18:09:22.873767Z",
     "shell.execute_reply": "2023-12-13T18:09:22.872768Z"
    },
    "papermill": {
     "duration": 0.021007,
     "end_time": "2023-12-13T18:09:22.876175",
     "exception": false,
     "start_time": "2023-12-13T18:09:22.855168",
     "status": "completed"
    },
    "tags": []
   },
   "outputs": [
    {
     "name": "stdout",
     "output_type": "stream",
     "text": [
      "LSTMClassifier(\n",
      "  (lstm): LSTM(20, 256, num_layers=2, batch_first=True)\n",
      "  (dropout): Dropout(p=0.255, inplace=False)\n",
      "  (fc): Linear(in_features=256, out_features=2, bias=True)\n",
      ")\n"
     ]
    }
   ],
   "source": [
    "print(model)"
   ]
  },
  {
   "cell_type": "code",
   "execution_count": 24,
   "id": "ece55795",
   "metadata": {
    "execution": {
     "iopub.execute_input": "2023-12-13T18:09:22.904498Z",
     "iopub.status.busy": "2023-12-13T18:09:22.904181Z",
     "iopub.status.idle": "2023-12-13T18:09:23.336755Z",
     "shell.execute_reply": "2023-12-13T18:09:23.335628Z"
    },
    "papermill": {
     "duration": 0.449248,
     "end_time": "2023-12-13T18:09:23.338700",
     "exception": false,
     "start_time": "2023-12-13T18:09:22.889452",
     "status": "completed"
    },
    "tags": []
   },
   "outputs": [
    {
     "data": {
      "image/png": "[encoded data removed]",
      "text/plain": [
       "<Figure size 640x480 with 2 Axes>"
      ]
     },
     "metadata": {},
     "output_type": "display_data"
    },
    {
     "name": "stdout",
     "output_type": "stream",
     "text": [
      "F1 Score :  0.847011336542344\n"
     ]
    }
   ],
   "source": [
    "# Calculate the confusion matrix\n",
    "import seaborn as sns\n",
    "conf_mat = confusion_matrix(act_labels, pred_labels)\n",
    "# Plot confusion matrix heat map\n",
    "sns.heatmap(conf_mat, cmap=\"flare\",annot=True, fmt = \"g\", \n",
    "            cbar_kws={\"label\":\"color bar\"},\n",
    "            xticklabels=train_dataset.classes,\n",
    "            yticklabels=train_dataset.classes)\n",
    "plt.xlabel(\"Predicted\")\n",
    "plt.ylabel(\"Actual\")\n",
    "plt.title(\"Confusion Matrix\")\n",
    "plt.savefig(\"ConfusionMatrix_LSTM.png\")\n",
    "plt.show()\n",
    "from sklearn.metrics import f1_score\n",
    "f1_score = f1_score(pred_labels, act_labels, average='macro')\n",
    "print('F1 Score : ', f1_score)\n"
   ]
  },
  {
   "cell_type": "code",
   "execution_count": 25,
   "id": "27723f8d",
   "metadata": {
    "execution": {
     "iopub.execute_input": "2023-12-13T18:09:23.364699Z",
     "iopub.status.busy": "2023-12-13T18:09:23.364416Z",
     "iopub.status.idle": "2023-12-13T18:09:23.368263Z",
     "shell.execute_reply": "2023-12-13T18:09:23.367438Z"
    },
    "papermill": {
     "duration": 0.018993,
     "end_time": "2023-12-13T18:09:23.370190",
     "exception": false,
     "start_time": "2023-12-13T18:09:23.351197",
     "status": "completed"
    },
    "tags": []
   },
   "outputs": [],
   "source": [
    "# torch.save(model,'MGDCC_LSTMClassifier_01_01.pth')"
   ]
  },
  {
   "cell_type": "code",
   "execution_count": 26,
   "id": "8cfde16a",
   "metadata": {
    "execution": {
     "iopub.execute_input": "2023-12-13T18:09:23.396618Z",
     "iopub.status.busy": "2023-12-13T18:09:23.396323Z",
     "iopub.status.idle": "2023-12-13T18:09:23.400044Z",
     "shell.execute_reply": "2023-12-13T18:09:23.399295Z"
    },
    "papermill": {
     "duration": 0.018995,
     "end_time": "2023-12-13T18:09:23.401891",
     "exception": false,
     "start_time": "2023-12-13T18:09:23.382896",
     "status": "completed"
    },
    "tags": []
   },
   "outputs": [],
   "source": [
    "# BiLSTM"
   ]
  },
  {
   "cell_type": "code",
   "execution_count": 27,
   "id": "383d93c5",
   "metadata": {
    "execution": {
     "iopub.execute_input": "2023-12-13T18:09:23.428266Z",
     "iopub.status.busy": "2023-12-13T18:09:23.427979Z",
     "iopub.status.idle": "2023-12-13T18:09:23.436615Z",
     "shell.execute_reply": "2023-12-13T18:09:23.435843Z"
    },
    "papermill": {
     "duration": 0.024069,
     "end_time": "2023-12-13T18:09:23.438552",
     "exception": false,
     "start_time": "2023-12-13T18:09:23.414483",
     "status": "completed"
    },
    "tags": []
   },
   "outputs": [],
   "source": [
    "drop_amount = 0.255\n",
    "\n",
    "class BiLSTMClassifier(nn.Module):\n",
    "    def __init__(self, input_size, hidden_size, num_layers, num_classes):\n",
    "        super(BiLSTMClassifier, self).__init__()\n",
    "        self.hidden_size = hidden_size\n",
    "        self.num_layers = num_layers\n",
    "        self.lstm = nn.LSTM(input_size, hidden_size, num_layers, batch_first=True, bidirectional=True)\n",
    "        self.dropout = nn.Dropout(p=drop_amount)\n",
    "        self.fc = nn.Linear(hidden_size*2, num_classes)\n",
    "\n",
    "    def forward(self, x):\n",
    "        h0 = torch.zeros(self.num_layers*2, x.size(0), self.hidden_size).to(device=x.device, dtype=torch.double)\n",
    "        c0 = torch.zeros(self.num_layers*2, x.size(0), self.hidden_size).to(device=x.device, dtype=torch.double)\n",
    "        out, _ = self.lstm(x, (h0, c0))\n",
    "        out = self.dropout(out)\n",
    "        # Extract the output of the last time step from both directions\n",
    "        last_hidden_state = torch.cat((out[:, -1, :self.hidden_size], out[:, 0, self.hidden_size:]), dim=1)\n",
    "        output = self.fc(last_hidden_state)\n",
    "        return output"
   ]
  },
  {
   "cell_type": "code",
   "execution_count": 28,
   "id": "8370bb2f",
   "metadata": {
    "execution": {
     "iopub.execute_input": "2023-12-13T18:09:23.465014Z",
     "iopub.status.busy": "2023-12-13T18:09:23.464158Z",
     "iopub.status.idle": "2023-12-13T18:09:23.468223Z",
     "shell.execute_reply": "2023-12-13T18:09:23.467436Z"
    },
    "papermill": {
     "duration": 0.019262,
     "end_time": "2023-12-13T18:09:23.470174",
     "exception": false,
     "start_time": "2023-12-13T18:09:23.450912",
     "status": "completed"
    },
    "tags": []
   },
   "outputs": [],
   "source": [
    "batch_size = 64\n",
    "output_nodes = 2\n",
    "learning_rate = 0.0001"
   ]
  },
  {
   "cell_type": "code",
   "execution_count": 29,
   "id": "44ee4d1b",
   "metadata": {
    "execution": {
     "iopub.execute_input": "2023-12-13T18:09:23.495955Z",
     "iopub.status.busy": "2023-12-13T18:09:23.495660Z",
     "iopub.status.idle": "2023-12-13T18:09:23.523510Z",
     "shell.execute_reply": "2023-12-13T18:09:23.522511Z"
    },
    "papermill": {
     "duration": 0.042887,
     "end_time": "2023-12-13T18:09:23.525510",
     "exception": false,
     "start_time": "2023-12-13T18:09:23.482623",
     "status": "completed"
    },
    "tags": []
   },
   "outputs": [
    {
     "name": "stdout",
     "output_type": "stream",
     "text": [
      "BiLSTMClassifier(\n",
      "  (lstm): LSTM(20, 256, num_layers=2, batch_first=True, bidirectional=True)\n",
      "  (dropout): Dropout(p=0.255, inplace=False)\n",
      "  (fc): Linear(in_features=512, out_features=2, bias=True)\n",
      ")\n"
     ]
    }
   ],
   "source": [
    "model = BiLSTMClassifier(input_size, hidden_size, num_layers, num_classes)\n",
    "model.to(device, dtype=torch.double)\n",
    "loss_function = nn.CrossEntropyLoss()\n",
    "optimizer = optim.Adam(model.parameters(), lr=learning_rate)\n",
    "print(model)"
   ]
  },
  {
   "cell_type": "code",
   "execution_count": 30,
   "id": "55712a56",
   "metadata": {
    "execution": {
     "iopub.execute_input": "2023-12-13T18:09:23.552600Z",
     "iopub.status.busy": "2023-12-13T18:09:23.552312Z",
     "iopub.status.idle": "2023-12-13T18:09:23.557253Z",
     "shell.execute_reply": "2023-12-13T18:09:23.556259Z"
    },
    "papermill": {
     "duration": 0.020008,
     "end_time": "2023-12-13T18:09:23.559116",
     "exception": false,
     "start_time": "2023-12-13T18:09:23.539108",
     "status": "completed"
    },
    "tags": []
   },
   "outputs": [
    {
     "name": "stdout",
     "output_type": "stream",
     "text": [
      "BiLSTMClassifier(\n",
      "  (lstm): LSTM(20, 256, num_layers=2, batch_first=True, bidirectional=True)\n",
      "  (dropout): Dropout(p=0.255, inplace=False)\n",
      "  (fc): Linear(in_features=512, out_features=2, bias=True)\n",
      ")\n"
     ]
    }
   ],
   "source": [
    "print(model)"
   ]
  },
  {
   "cell_type": "code",
   "execution_count": 31,
   "id": "fd37f38c",
   "metadata": {
    "execution": {
     "iopub.execute_input": "2023-12-13T18:09:23.584917Z",
     "iopub.status.busy": "2023-12-13T18:09:23.584595Z",
     "iopub.status.idle": "2023-12-13T19:46:29.384192Z",
     "shell.execute_reply": "2023-12-13T19:46:29.383234Z"
    },
    "papermill": {
     "duration": 5825.828506,
     "end_time": "2023-12-13T19:46:29.399954",
     "exception": false,
     "start_time": "2023-12-13T18:09:23.571448",
     "status": "completed"
    },
    "tags": []
   },
   "outputs": [
    {
     "name": "stdout",
     "output_type": "stream",
     "text": [
      "Epoch : 1/15   Train Loss : tensor(0.5395, dtype=torch.float64)   Train Accuracy : 0.7256154160323767   Test Accuracy : 0.7957029079459159\n",
      "Epoch : 2/15   Train Loss : tensor(0.3935, dtype=torch.float64)   Train Accuracy : 0.8245832250399139   Test Accuracy : 0.8669197999629561\n",
      "Epoch : 3/15   Train Loss : tensor(0.3958, dtype=torch.float64)   Train Accuracy : 0.8192366242156462   Test Accuracy : 0.82422670864975\n",
      "Epoch : 4/15   Train Loss : tensor(0.3427, dtype=torch.float64)   Train Accuracy : 0.8533954628151339   Test Accuracy : 0.8848860900166697\n",
      "Epoch : 5/15   Train Loss : tensor(0.2873, dtype=torch.float64)   Train Accuracy : 0.881372294211562   Test Accuracy : 0.9013706241896647\n",
      "Epoch : 6/15   Train Loss : tensor(0.2653, dtype=torch.float64)   Train Accuracy : 0.8966880778227453   Test Accuracy : 0.8618262641229857\n",
      "Epoch : 7/15   Train Loss : tensor(0.2121, dtype=torch.float64)   Train Accuracy : 0.921861656703672   Test Accuracy : 0.9072050379699944\n",
      "Epoch : 8/15   Train Loss : tensor(0.1663, dtype=torch.float64)   Train Accuracy : 0.9383470092451639   Test Accuracy : 0.9586960548249676\n",
      "Epoch : 9/15   Train Loss : tensor(0.2836, dtype=torch.float64)   Train Accuracy : 0.8769353581108678   Test Accuracy : 0.8079273939618448\n",
      "Epoch : 10/15   Train Loss : tensor(0.2568, dtype=torch.float64)   Train Accuracy : 0.8978390821668585   Test Accuracy : 0.844971290979811\n",
      "Epoch : 11/15   Train Loss : tensor(0.1974, dtype=torch.float64)   Train Accuracy : 0.925184717632644   Test Accuracy : 0.957121689201704\n",
      "Epoch : 12/15   Train Loss : tensor(0.2013, dtype=torch.float64)   Train Accuracy : 0.9255003155979653   Test Accuracy : 0.9558251528060752\n",
      "Epoch : 13/15   Train Loss : tensor(0.2470, dtype=torch.float64)   Train Accuracy : 0.9076040545056251   Test Accuracy : 0.7958881274310058\n",
      "Epoch : 14/15   Train Loss : tensor(0.2200, dtype=torch.float64)   Train Accuracy : 0.9136932387777077   Test Accuracy : 0.952769031302093\n",
      "Epoch : 15/15   Train Loss : tensor(0.1980, dtype=torch.float64)   Train Accuracy : 0.917833141499276   Test Accuracy : 0.800055565845527\n",
      "0.9586960548249676\n",
      "Finished Training and Testing\n"
     ]
    }
   ],
   "source": [
    "#Model training and testing \n",
    "n_total_steps = len(train_dataloader) # n_total_steps * batch size will give total number of training files (consider that last batch may not be fully filled)\n",
    "train_accuracy_list = []\n",
    "train_loss_list = []\n",
    "val_accuracy_list = []\n",
    "max_acc=0\n",
    "num_epochs = 15\n",
    "pred_labels =[]\n",
    "act_labels = []\n",
    "\n",
    "for epoch in range(num_epochs):\n",
    "    \n",
    "    #Evaluation and training on training dataset\n",
    "    model.train()\n",
    "    train_accuracy=0.0\n",
    "    train_loss=0.0\n",
    "    \n",
    "    for batch_idx, (images,labels) in enumerate(train_dataloader):\n",
    "        if torch.cuda.is_available():\n",
    "            images=Variable(images.cuda())\n",
    "            labels=Variable(labels.cuda())\n",
    "        ##images = images.unsqueeze(1)\n",
    "        optimizer.zero_grad()\n",
    "        outputs=model(images)\n",
    "        loss=loss_function(outputs,labels)\n",
    "        loss.backward()\n",
    "        optimizer.step()\n",
    "        \n",
    "        \n",
    "        train_loss+= loss.cpu().data*images.size(0)\n",
    "        _,prediction=torch.max(outputs.data,1)\n",
    "        \n",
    "        train_accuracy+=int(torch.sum(prediction==labels.data))\n",
    "        \n",
    "    train_accuracy=train_accuracy/train_count\n",
    "    train_loss=train_loss/train_count\n",
    "    \n",
    "    train_accuracy_list.append(train_accuracy)\n",
    "    train_loss_list.append(train_loss)\n",
    "\n",
    "    \n",
    "    # Validation on Validation dataset\n",
    "    model.eval()\n",
    "    val_accuracy=0.0\n",
    "    pred = []\n",
    "    lab = []\n",
    "    \n",
    "    for i, (images,labels) in enumerate(val_dataloader):\n",
    "        if torch.cuda.is_available():\n",
    "            images=Variable(images.cuda())\n",
    "            labels=Variable(labels.cuda())\n",
    "        ##images = images.unsqueeze(1) \n",
    "#         print(i,images.shape)\n",
    "        outputs=model(images)\n",
    "        _,prediction=torch.max(outputs.data,1)\n",
    "        val_accuracy+=int(torch.sum(prediction==labels.data))\n",
    "        \n",
    "        pred.extend(prediction.tolist())\n",
    "        lab.extend(labels.tolist())\n",
    "    \n",
    "    val_accuracy=val_accuracy/val_count\n",
    "    val_accuracy_list.append(val_accuracy)\n",
    "    if max_acc < val_accuracy:\n",
    "        max_acc = val_accuracy\n",
    "        pred_labels = pred\n",
    "        actual_labels = lab\n",
    "        max_acc = val_accuracy\n",
    "        torch.save(model,\"best_accuracy_model_BiLSTM.pth\")\n",
    "    print('Epoch : '+str(epoch+1)+'/'+str(num_epochs)+'   Train Loss : '+str(train_loss)+'   Train Accuracy : '+str(train_accuracy)+'   Test Accuracy : '+str(val_accuracy))\n",
    "print(max_acc)   \n",
    "print('Finished Training and Testing')"
   ]
  },
  {
   "cell_type": "code",
   "execution_count": 32,
   "id": "44d44485",
   "metadata": {
    "execution": {
     "iopub.execute_input": "2023-12-13T19:46:29.428853Z",
     "iopub.status.busy": "2023-12-13T19:46:29.428104Z",
     "iopub.status.idle": "2023-12-13T19:46:48.739356Z",
     "shell.execute_reply": "2023-12-13T19:46:48.738233Z"
    },
    "papermill": {
     "duration": 19.32806,
     "end_time": "2023-12-13T19:46:48.741641",
     "exception": false,
     "start_time": "2023-12-13T19:46:29.413581",
     "status": "completed"
    },
    "tags": []
   },
   "outputs": [
    {
     "name": "stdout",
     "output_type": "stream",
     "text": [
      "testing Accuracy: 0.9350453172205438\n"
     ]
    }
   ],
   "source": [
    "# Load the best model\n",
    "best_model = torch.load(\"best_accuracy_model_BiLSTM.pth\")\n",
    "\n",
    "# Put the best_model in evaluation mode\n",
    "best_model.eval()\n",
    "\n",
    "# Initialize variables to store results\n",
    "testing_accuracy = 0.0\n",
    "pred_labels = []\n",
    "act_labels = []\n",
    "\n",
    "# Pass validation data through the best model\n",
    "for i, (images, labels) in enumerate(test_dataloader):\n",
    "    if torch.cuda.is_available():\n",
    "        images = Variable(images.cuda())\n",
    "        labels = Variable(labels.cuda())\n",
    "    \n",
    "    outputs = best_model(images)\n",
    "    _, prediction = torch.max(outputs.data, 1)\n",
    "    \n",
    "    testing_accuracy += int(torch.sum(prediction == labels.data))\n",
    "    \n",
    "    pred_labels.extend(prediction.tolist())\n",
    "    act_labels.extend(labels.tolist())\n",
    "\n",
    "# Calculate validation accuracy\n",
    "testing_accuracy = testing_accuracy / len(test_dataloader.dataset)\n",
    "\n",
    "# Print the validation accuracy\n",
    "print(\"testing Accuracy:\", testing_accuracy)"
   ]
  },
  {
   "cell_type": "code",
   "execution_count": 33,
   "id": "b0661a1d",
   "metadata": {
    "execution": {
     "iopub.execute_input": "2023-12-13T19:46:48.771360Z",
     "iopub.status.busy": "2023-12-13T19:46:48.770590Z",
     "iopub.status.idle": "2023-12-13T19:46:49.157678Z",
     "shell.execute_reply": "2023-12-13T19:46:49.156618Z"
    },
    "papermill": {
     "duration": 0.403777,
     "end_time": "2023-12-13T19:46:49.159685",
     "exception": false,
     "start_time": "2023-12-13T19:46:48.755908",
     "status": "completed"
    },
    "tags": []
   },
   "outputs": [
    {
     "data": {
      "image/png": "[encoded data removed]",
      "text/plain": [
       "<Figure size 640x480 with 2 Axes>"
      ]
     },
     "metadata": {},
     "output_type": "display_data"
    },
    {
     "name": "stdout",
     "output_type": "stream",
     "text": [
      "F1 Score :  0.9349917672072219\n"
     ]
    }
   ],
   "source": [
    "# Calculate the confusion matrix\n",
    "import seaborn as sns\n",
    "conf_mat = confusion_matrix(act_labels, pred_labels)\n",
    "# Plot confusion matrix heat map\n",
    "sns.heatmap(conf_mat, cmap=\"flare\",annot=True, fmt = \"g\", \n",
    "            cbar_kws={\"label\":\"color bar\"},\n",
    "            xticklabels=train_dataset.classes,\n",
    "            yticklabels=train_dataset.classes)\n",
    "plt.xlabel(\"Predicted\")\n",
    "plt.ylabel(\"Actual\")\n",
    "plt.title(\"Confusion Matrix\")\n",
    "plt.savefig(\"ConfusionMatrix_BiLSTM.png\")\n",
    "plt.show()\n",
    "from sklearn.metrics import f1_score\n",
    "f1_score = f1_score(pred_labels, act_labels, average='macro')\n",
    "print('F1 Score : ', f1_score)\n"
   ]
  },
  {
   "cell_type": "code",
   "execution_count": 34,
   "id": "e72a0da5",
   "metadata": {
    "execution": {
     "iopub.execute_input": "2023-12-13T19:46:49.189248Z",
     "iopub.status.busy": "2023-12-13T19:46:49.188952Z",
     "iopub.status.idle": "2023-12-13T19:46:49.192660Z",
     "shell.execute_reply": "2023-12-13T19:46:49.191856Z"
    },
    "papermill": {
     "duration": 0.020547,
     "end_time": "2023-12-13T19:46:49.194584",
     "exception": false,
     "start_time": "2023-12-13T19:46:49.174037",
     "status": "completed"
    },
    "tags": []
   },
   "outputs": [],
   "source": [
    "# torch.save(model,'MGDCC_BiLSTMClassifier_01_01.pth')"
   ]
  },
  {
   "cell_type": "code",
   "execution_count": 35,
   "id": "40ffe5b6",
   "metadata": {
    "execution": {
     "iopub.execute_input": "2023-12-13T19:46:49.224153Z",
     "iopub.status.busy": "2023-12-13T19:46:49.223883Z",
     "iopub.status.idle": "2023-12-13T19:46:49.230696Z",
     "shell.execute_reply": "2023-12-13T19:46:49.229879Z"
    },
    "papermill": {
     "duration": 0.023829,
     "end_time": "2023-12-13T19:46:49.232488",
     "exception": false,
     "start_time": "2023-12-13T19:46:49.208659",
     "status": "completed"
    },
    "tags": []
   },
   "outputs": [],
   "source": [
    "# ResNet50\n",
    "# import torch\n",
    "# import torch.nn as nn\n",
    "\n",
    "\n",
    "# def conv3x3(in_channels, out_channels, stride=1):\n",
    "#     \"\"\"3x3 convolution with padding\"\"\"\n",
    "#     return nn.Conv2d(in_channels, out_channels, kernel_size=3, stride=stride, padding=1, bias=False)\n",
    "\n",
    "\n",
    "# class Bottleneck(nn.Module):\n",
    "#     expansion = 4\n",
    "\n",
    "#     def __init__(self, in_channels, out_channels, stride=1, downsample=None):\n",
    "#         super(Bottleneck, self).__init__()\n",
    "\n",
    "#         self.conv1 = nn.Conv2d(in_channels, out_channels, kernel_size=1, bias=False)\n",
    "#         self.bn1 = nn.BatchNorm2d(out_channels)\n",
    "#         self.conv2 = nn.Conv2d(out_channels, out_channels, kernel_size=3, stride=stride, padding=1, bias=False)\n",
    "#         self.bn2 = nn.BatchNorm2d(out_channels)\n",
    "#         self.conv3 = nn.Conv2d(out_channels, out_channels * self.expansion, kernel_size=1, bias=False)\n",
    "#         self.bn3 = nn.BatchNorm2d(out_channels * self.expansion)\n",
    "#         self.relu = nn.ReLU(inplace=True)\n",
    "#         self.downsample = downsample\n",
    "#         self.stride = stride\n",
    "\n",
    "#     def forward(self, x):\n",
    "#         identity = x\n",
    "\n",
    "#         out = self.conv1(x)\n",
    "#         out = self.bn1(out)\n",
    "#         out = self.relu(out)\n",
    "\n",
    "#         out = self.conv2(out)\n",
    "#         out = self.bn2(out)\n",
    "#         out = self.relu(out)\n",
    "\n",
    "#         out = self.conv3(out)\n",
    "#         out = self.bn3(out)\n",
    "\n",
    "#         if self.downsample is not None:\n",
    "#             identity = self.downsample(x)\n",
    "\n",
    "#         out += identity\n",
    "#         out = self.relu(out)\n",
    "\n",
    "#         return out\n",
    "\n",
    "\n",
    "# class ResNet(nn.Module):\n",
    "#     def __init__(self, block, layers, num_classes=1000):\n",
    "#         super(ResNet, self).__init__()\n",
    "\n",
    "#         self.in_channels = 64\n",
    "#         self.conv1 = nn.Conv2d(1, 64, kernel_size=7, stride=2, padding=3, bias=False)\n",
    "# #         self.conv1 = nn.Conv2d(1, 64, kernel_size=7, stride=2, padding=3, bias=False)\n",
    "#         self.bn1 = nn.BatchNorm2d(64)\n",
    "#         self.relu = nn.ReLU(inplace=True)\n",
    "#         self.maxpool = nn.MaxPool2d(kernel_size=3, stride=2, padding=1)\n",
    "\n",
    "#         self.layer1 = self._make_layer(block, 64, layers[0], stride=1)\n",
    "#         self.layer2 = self._make_layer(block, 128, layers[1], stride=2)\n",
    "#         self.layer3 = self._make_layer(block, 256, layers[2], stride=2)\n",
    "#         self.layer4 = self._make_layer(block, 512, layers[3], stride=2)\n",
    "\n",
    "#         self.avgpool = nn.AdaptiveAvgPool2d((1, 1))\n",
    "#         self.fc = nn.Linear(512 * block.expansion, num_classes)\n",
    "\n",
    "#     def _make_layer(self, block, out_channels, blocks, stride=1):\n",
    "#         downsample = None\n",
    "#         if stride != 1 or self.in_channels != out_channels * block.expansion:\n",
    "#             downsample = nn.Sequential(\n",
    "#                 nn.Conv2d(self.in_channels, out_channels * block.expansion, kernel_size=1, stride=stride, bias=False),\n",
    "#                 nn.BatchNorm2d(out_channels * block.expansion),\n",
    "#             )\n",
    "\n",
    "#         layers = [block(self.in_channels, out_channels, stride, downsample)]\n",
    "#         self.in_channels = out_channels * block.expansion\n",
    "#         for _ in range(1, blocks):\n",
    "#             layers.append(block(self.in_channels, out_channels))\n",
    "\n",
    "#         return nn.Sequential(*layers)\n",
    "\n",
    "#     def forward(self, x):\n",
    "#         x = self.conv1(x)\n",
    "#         x = self.bn1(x)\n",
    "#         x = self.relu(x)\n",
    "#         x = self.maxpool(x)\n",
    "\n",
    "#         x = self.layer1(x)\n",
    "#         x = self.layer2(x)\n",
    "#         x = self.layer3(x)\n",
    "#         x = self.layer4(x)\n",
    "\n",
    "#         x = self.avgpool(x)\n",
    "#         x = x.view(x.size(0), -1)\n",
    "#         x = self.fc(x)\n",
    "\n",
    "#         return x\n",
    "\n",
    "\n",
    "# # ResNet-50\n",
    "# def resnet50(num_classes=2):\n",
    "#     return ResNet(Bottleneck, [3, 4, 6, 3], num_classes)\n"
   ]
  },
  {
   "cell_type": "code",
   "execution_count": 36,
   "id": "828b0332",
   "metadata": {
    "execution": {
     "iopub.execute_input": "2023-12-13T19:46:49.315678Z",
     "iopub.status.busy": "2023-12-13T19:46:49.315354Z",
     "iopub.status.idle": "2023-12-13T19:46:49.319457Z",
     "shell.execute_reply": "2023-12-13T19:46:49.318639Z"
    },
    "papermill": {
     "duration": 0.021178,
     "end_time": "2023-12-13T19:46:49.321351",
     "exception": false,
     "start_time": "2023-12-13T19:46:49.300173",
     "status": "completed"
    },
    "tags": []
   },
   "outputs": [],
   "source": [
    "# model = resnet50()\n",
    "# model.to(device, dtype=torch.double)\n",
    "# loss_function = nn.CrossEntropyLoss()\n",
    "# optimizer = optim.Adam(model.parameters(), lr=learning_rate)\n",
    "# print(model)"
   ]
  },
  {
   "cell_type": "code",
   "execution_count": 37,
   "id": "405f91b8",
   "metadata": {
    "execution": {
     "iopub.execute_input": "2023-12-13T19:46:49.350472Z",
     "iopub.status.busy": "2023-12-13T19:46:49.350199Z",
     "iopub.status.idle": "2023-12-13T19:46:49.353829Z",
     "shell.execute_reply": "2023-12-13T19:46:49.352971Z"
    },
    "papermill": {
     "duration": 0.020223,
     "end_time": "2023-12-13T19:46:49.355639",
     "exception": false,
     "start_time": "2023-12-13T19:46:49.335416",
     "status": "completed"
    },
    "tags": []
   },
   "outputs": [],
   "source": [
    "# torch.save(model,'MGDCC_ResNet50_0_0001.pth')"
   ]
  },
  {
   "cell_type": "code",
   "execution_count": 38,
   "id": "0737ed01",
   "metadata": {
    "execution": {
     "iopub.execute_input": "2023-12-13T19:46:49.385190Z",
     "iopub.status.busy": "2023-12-13T19:46:49.384693Z",
     "iopub.status.idle": "2023-12-13T19:46:49.388947Z",
     "shell.execute_reply": "2023-12-13T19:46:49.388074Z"
    },
    "papermill": {
     "duration": 0.021118,
     "end_time": "2023-12-13T19:46:49.390915",
     "exception": false,
     "start_time": "2023-12-13T19:46:49.369797",
     "status": "completed"
    },
    "tags": []
   },
   "outputs": [],
   "source": [
    "# # Calculate the confusion matrix\n",
    "# import seaborn as sns\n",
    "# conf_mat = confusion_matrix(act_labels, pred_labels)\n",
    "# # Plot confusion matrix heat map\n",
    "# sns.heatmap(conf_mat, cmap=\"flare\",annot=True, fmt = \"g\", \n",
    "#             cbar_kws={\"label\":\"color bar\"},\n",
    "#             xticklabels=train_dataset.classes,\n",
    "#             yticklabels=train_dataset.classes)\n",
    "# plt.xlabel(\"Predicted\")\n",
    "# plt.ylabel(\"Actual\")\n",
    "# plt.title(\"Confusion Matrix\")\n",
    "# plt.savefig(\"ConfusionMatrix.png\")\n",
    "# plt.show()\n",
    "# from sklearn.metrics import f1_score\n",
    "# f1_score = f1_score(pred_labels, act_labels, average='macro')\n",
    "# print('F1 Score : ', f1_score)"
   ]
  }
 ],
 "metadata": {
  "kaggle": {
   "accelerator": "gpu",
   "dataSources": [
    {
     "datasetId": 4133733,
     "sourceId": 7157591,
     "sourceType": "datasetVersion"
    }
   ],
   "isGpuEnabled": true,
   "isInternetEnabled": true,
   "language": "python",
   "sourceType": "notebook"
  },
  "kernelspec": {
   "display_name": "Python 3",
   "language": "python",
   "name": "python3"
  },
  "language_info": {
   "codemirror_mode": {
    "name": "ipython",
    "version": 3
   },
   "file_extension": ".py",
   "mimetype": "text/x-python",
   "name": "python",
   "nbconvert_exporter": "python",
   "pygments_lexer": "ipython3",
   "version": "3.10.12"
  },
  "papermill": {
   "default_parameters": {},
   "duration": 9685.636544,
   "end_time": "2023-12-13T19:46:51.932523",
   "environment_variables": {},
   "exception": null,
   "input_path": "__notebook__.ipynb",
   "output_path": "__notebook__.ipynb",
   "parameters": {},
   "start_time": "2023-12-13T17:05:26.295979",
   "version": "2.4.0"
  }
 },
 "nbformat": 4,
 "nbformat_minor": 5
}
