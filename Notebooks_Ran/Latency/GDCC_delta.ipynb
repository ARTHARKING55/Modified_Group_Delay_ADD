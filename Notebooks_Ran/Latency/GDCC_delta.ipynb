{
 "cells": [
  {
   "cell_type": "code",
   "execution_count": 1,
   "id": "4d507b37",
   "metadata": {
    "execution": {
     "iopub.execute_input": "2023-12-14T09:20:46.341875Z",
     "iopub.status.busy": "2023-12-14T09:20:46.341130Z",
     "iopub.status.idle": "2023-12-14T09:20:59.317622Z",
     "shell.execute_reply": "2023-12-14T09:20:59.316544Z"
    },
    "papermill": {
     "duration": 12.990914,
     "end_time": "2023-12-14T09:20:59.320012",
     "exception": false,
     "start_time": "2023-12-14T09:20:46.329098",
     "status": "completed"
    },
    "tags": []
   },
   "outputs": [
    {
     "name": "stdout",
     "output_type": "stream",
     "text": [
      "Requirement already satisfied: scipy in /opt/conda/lib/python3.10/site-packages (1.11.4)\r\n",
      "Requirement already satisfied: numpy<1.28.0,>=1.21.6 in /opt/conda/lib/python3.10/site-packages (from scipy) (1.24.3)\r\n"
     ]
    }
   ],
   "source": [
    "!pip install --upgrade scipy"
   ]
  },
  {
   "cell_type": "code",
   "execution_count": 2,
   "id": "18cc9525",
   "metadata": {
    "execution": {
     "iopub.execute_input": "2023-12-14T09:20:59.342432Z",
     "iopub.status.busy": "2023-12-14T09:20:59.342120Z",
     "iopub.status.idle": "2023-12-14T09:21:03.642111Z",
     "shell.execute_reply": "2023-12-14T09:21:03.641166Z"
    },
    "papermill": {
     "duration": 4.314026,
     "end_time": "2023-12-14T09:21:03.644805",
     "exception": false,
     "start_time": "2023-12-14T09:20:59.330779",
     "status": "completed"
    },
    "tags": []
   },
   "outputs": [
    {
     "name": "stderr",
     "output_type": "stream",
     "text": [
      "/opt/conda/lib/python3.10/site-packages/scipy/__init__.py:146: UserWarning: A NumPy version >=1.16.5 and <1.23.0 is required for this version of SciPy (detected version 1.24.3\n",
      "  warnings.warn(f\"A NumPy version >={np_minversion} and <{np_maxversion}\"\n"
     ]
    }
   ],
   "source": [
    "import torch \n",
    "import torch.nn as nn\n",
    "import torch.nn.functional as F\n",
    "from torch.autograd import Variable\n",
    "from torch.utils.data import Dataset, DataLoader\n",
    "\n",
    "import os, pathlib, glob, random\n",
    "import numpy as np\n",
    "import matplotlib.pyplot as plt \n",
    "\n",
    "from sklearn.metrics import confusion_matrix\n",
    "import scipy\n",
    "from scipy import io"
   ]
  },
  {
   "cell_type": "code",
   "execution_count": 3,
   "id": "76dc6419",
   "metadata": {
    "execution": {
     "iopub.execute_input": "2023-12-14T09:21:03.667702Z",
     "iopub.status.busy": "2023-12-14T09:21:03.666748Z",
     "iopub.status.idle": "2023-12-14T09:21:03.735755Z",
     "shell.execute_reply": "2023-12-14T09:21:03.734865Z"
    },
    "papermill": {
     "duration": 0.082871,
     "end_time": "2023-12-14T09:21:03.738314",
     "exception": false,
     "start_time": "2023-12-14T09:21:03.655443",
     "status": "completed"
    },
    "tags": []
   },
   "outputs": [
    {
     "name": "stdout",
     "output_type": "stream",
     "text": [
      "cuda:0\n"
     ]
    }
   ],
   "source": [
    "device = torch.device('cuda:0' if torch.cuda.is_available() else 'cpu')\n",
    "print(device)"
   ]
  },
  {
   "cell_type": "code",
   "execution_count": 4,
   "id": "7f2e9bf1",
   "metadata": {
    "execution": {
     "iopub.execute_input": "2023-12-14T09:21:03.762999Z",
     "iopub.status.busy": "2023-12-14T09:21:03.762714Z",
     "iopub.status.idle": "2023-12-14T09:21:03.766778Z",
     "shell.execute_reply": "2023-12-14T09:21:03.765936Z"
    },
    "papermill": {
     "duration": 0.017119,
     "end_time": "2023-12-14T09:21:03.768654",
     "exception": false,
     "start_time": "2023-12-14T09:21:03.751535",
     "status": "completed"
    },
    "tags": []
   },
   "outputs": [],
   "source": [
    "batch_size = 64\n",
    "output_nodes = 2\n",
    "learning_rate = 0.001"
   ]
  },
  {
   "cell_type": "code",
   "execution_count": 5,
   "id": "650b8224",
   "metadata": {
    "execution": {
     "iopub.execute_input": "2023-12-14T09:21:03.790332Z",
     "iopub.status.busy": "2023-12-14T09:21:03.789988Z",
     "iopub.status.idle": "2023-12-14T09:21:03.796142Z",
     "shell.execute_reply": "2023-12-14T09:21:03.795344Z"
    },
    "papermill": {
     "duration": 0.019186,
     "end_time": "2023-12-14T09:21:03.798051",
     "exception": false,
     "start_time": "2023-12-14T09:21:03.778865",
     "status": "completed"
    },
    "tags": []
   },
   "outputs": [],
   "source": [
    "train_data_path = r\"/kaggle/input/deltadoubledelta-all-feat-add/delta,DoubleDelta/GDCC/Delta/train\"\n",
    "validation_data_path =r\"/kaggle/input/deltadoubledelta-all-feat-add/delta,DoubleDelta/GDCC/Delta/dev\"\n",
    "test_data_path = r\"/kaggle/input/deltadoubledelta-all-feat-add/delta,DoubleDelta/GDCC/Delta/test\""
   ]
  },
  {
   "cell_type": "code",
   "execution_count": 6,
   "id": "cd19ecab",
   "metadata": {
    "execution": {
     "iopub.execute_input": "2023-12-14T09:21:03.820042Z",
     "iopub.status.busy": "2023-12-14T09:21:03.819717Z",
     "iopub.status.idle": "2023-12-14T09:21:03.827082Z",
     "shell.execute_reply": "2023-12-14T09:21:03.826304Z"
    },
    "papermill": {
     "duration": 0.020683,
     "end_time": "2023-12-14T09:21:03.828964",
     "exception": false,
     "start_time": "2023-12-14T09:21:03.808281",
     "status": "completed"
    },
    "tags": []
   },
   "outputs": [],
   "source": [
    "# # ResNet50\n",
    "# class PtDataset(Dataset):\n",
    "#     def __init__(self, directory):\n",
    "#         self.directory = directory\n",
    "#         self.classes = sorted(entry.name for entry in os.scandir(directory) if entry.is_dir())\n",
    "#         self.class_to_idx = {c: i for i, c in enumerate(self.classes)}\n",
    "#         self.files = []\n",
    "#         for c in self.classes:\n",
    "#             c_dir = os.path.join(directory, c)\n",
    "#             c_files = [(os.path.join(c_dir, f), self.class_to_idx[c]) for f in os.listdir(c_dir)]\n",
    "#             self.files.extend(c_files)\n",
    "#         random.shuffle(self.files)\n",
    "        \n",
    "#     def __len__(self):\n",
    "#         return len(self.files)\n",
    "    \n",
    "#     # Assuming mono audio data\n",
    "#     def __getitem__(self, idx):\n",
    "#         filepath, label = self.files[idx]\n",
    "#         try:\n",
    "#             mat_vals = scipy.io.loadmat(filepath)\n",
    "#             data = mat_vals['final']\n",
    "#             data = data.T\n",
    "#             max_len = 750\n",
    "\n",
    "#             if (max_len > data.shape[0]):\n",
    "#                 pad_width = max_len - data.shape[0]\n",
    "#                 data = np.pad(data, pad_width=((0, pad_width), (0, 0)), mode='constant')\n",
    "#             else:\n",
    "#                 data = data[:max_len, :]\n",
    "\n",
    "#             # Reshape data to (1, 750, 20) for mono audio\n",
    "#             data = data[np.newaxis, :, :]\n",
    "\n",
    "#         except Exception as e:\n",
    "#             print(f\"Error loading file {filepath}: {str(e)}\")\n",
    "#             return None\n",
    "\n",
    "#         return data, label\n"
   ]
  },
  {
   "cell_type": "code",
   "execution_count": 7,
   "id": "16844fa8",
   "metadata": {
    "execution": {
     "iopub.execute_input": "2023-12-14T09:21:03.850659Z",
     "iopub.status.busy": "2023-12-14T09:21:03.850263Z",
     "iopub.status.idle": "2023-12-14T09:21:03.862733Z",
     "shell.execute_reply": "2023-12-14T09:21:03.861909Z"
    },
    "papermill": {
     "duration": 0.025649,
     "end_time": "2023-12-14T09:21:03.864885",
     "exception": false,
     "start_time": "2023-12-14T09:21:03.839236",
     "status": "completed"
    },
    "tags": []
   },
   "outputs": [],
   "source": [
    "class PtDataset(Dataset):\n",
    "    def __init__(self, directory):\n",
    "        self.directory = directory\n",
    "        self.classes = sorted(entry.name for entry in os.scandir(directory) if entry.is_dir())\n",
    "        self.class_to_idx = {c: i for i, c in enumerate(self.classes)}\n",
    "        self.files = []\n",
    "        for c in self.classes:\n",
    "            c_dir = os.path.join(directory, c)\n",
    "            c_files = [(os.path.join(c_dir, f), self.class_to_idx[c]) for f in os.listdir(c_dir)]\n",
    "            self.files.extend(c_files)\n",
    "        random.shuffle(self.files)\n",
    "        \n",
    "    def __len__(self):\n",
    "        return len(self.files)\n",
    "    \n",
    "    def __getitem__(self, idx):\n",
    "        filepath, label = self.files[idx]\n",
    "        try:\n",
    "            mat_vals = scipy.io.loadmat(filepath)\n",
    "            data = mat_vals['final']\n",
    "            data = data.T\n",
    "            max_len=750\n",
    "            if (max_len > data.shape[0]):\n",
    "                pad_width = max_len - data.shape[0]\n",
    "                data = np.pad(data, pad_width=((0, pad_width),(0,0)), mode='constant')\n",
    "            else:\n",
    "                data = data[:max_len, :]\n",
    "        except Exception as e:\n",
    "            print(f\"Error loading file {filepath}: {str(e)}\")\n",
    "            return None\n",
    "        return data, label"
   ]
  },
  {
   "cell_type": "code",
   "execution_count": 8,
   "id": "82b49991",
   "metadata": {
    "execution": {
     "iopub.execute_input": "2023-12-14T09:21:03.891640Z",
     "iopub.status.busy": "2023-12-14T09:21:03.891329Z",
     "iopub.status.idle": "2023-12-14T09:21:08.902652Z",
     "shell.execute_reply": "2023-12-14T09:21:08.901650Z"
    },
    "papermill": {
     "duration": 5.025386,
     "end_time": "2023-12-14T09:21:08.904942",
     "exception": false,
     "start_time": "2023-12-14T09:21:03.879556",
     "status": "completed"
    },
    "tags": []
   },
   "outputs": [],
   "source": [
    "train_dataset = PtDataset(train_data_path)\n",
    "test_dataset = PtDataset(test_data_path)\n",
    "val_dataset = PtDataset(validation_data_path)"
   ]
  },
  {
   "cell_type": "code",
   "execution_count": 9,
   "id": "d859926b",
   "metadata": {
    "execution": {
     "iopub.execute_input": "2023-12-14T09:21:08.927674Z",
     "iopub.status.busy": "2023-12-14T09:21:08.927337Z",
     "iopub.status.idle": "2023-12-14T09:21:08.932212Z",
     "shell.execute_reply": "2023-12-14T09:21:08.931370Z"
    },
    "papermill": {
     "duration": 0.01796,
     "end_time": "2023-12-14T09:21:08.934100",
     "exception": false,
     "start_time": "2023-12-14T09:21:08.916140",
     "status": "completed"
    },
    "tags": []
   },
   "outputs": [],
   "source": [
    "class PtDataLoader(DataLoader):\n",
    "    def __init__(self, directory, batch_size, shuffle=True):\n",
    "        dataset = PtDataset(directory)\n",
    "        super().__init__(dataset, batch_size=batch_size, shuffle=shuffle)"
   ]
  },
  {
   "cell_type": "code",
   "execution_count": 10,
   "id": "8033c06b",
   "metadata": {
    "execution": {
     "iopub.execute_input": "2023-12-14T09:21:08.955532Z",
     "iopub.status.busy": "2023-12-14T09:21:08.955246Z",
     "iopub.status.idle": "2023-12-14T09:21:09.186261Z",
     "shell.execute_reply": "2023-12-14T09:21:09.185505Z"
    },
    "papermill": {
     "duration": 0.244246,
     "end_time": "2023-12-14T09:21:09.188616",
     "exception": false,
     "start_time": "2023-12-14T09:21:08.944370",
     "status": "completed"
    },
    "tags": []
   },
   "outputs": [],
   "source": [
    "train_dataloader = PtDataLoader(directory=train_data_path, batch_size=batch_size)\n",
    "test_dataloader = PtDataLoader(directory=test_data_path, batch_size=batch_size)\n",
    "val_dataloader = PtDataLoader(directory=validation_data_path, batch_size=batch_size)"
   ]
  },
  {
   "cell_type": "code",
   "execution_count": 11,
   "id": "bd175e78",
   "metadata": {
    "execution": {
     "iopub.execute_input": "2023-12-14T09:21:09.210624Z",
     "iopub.status.busy": "2023-12-14T09:21:09.210288Z",
     "iopub.status.idle": "2023-12-14T09:21:09.214369Z",
     "shell.execute_reply": "2023-12-14T09:21:09.213562Z"
    },
    "papermill": {
     "duration": 0.017109,
     "end_time": "2023-12-14T09:21:09.216255",
     "exception": false,
     "start_time": "2023-12-14T09:21:09.199146",
     "status": "completed"
    },
    "tags": []
   },
   "outputs": [],
   "source": [
    "train_count = len(train_dataset) \n",
    "test_count = len(test_dataset)\n",
    "val_count = len(val_dataset)"
   ]
  },
  {
   "cell_type": "code",
   "execution_count": 12,
   "id": "5dd32155",
   "metadata": {
    "execution": {
     "iopub.execute_input": "2023-12-14T09:21:09.237925Z",
     "iopub.status.busy": "2023-12-14T09:21:09.237657Z",
     "iopub.status.idle": "2023-12-14T09:21:09.242191Z",
     "shell.execute_reply": "2023-12-14T09:21:09.241316Z"
    },
    "papermill": {
     "duration": 0.017893,
     "end_time": "2023-12-14T09:21:09.244517",
     "exception": false,
     "start_time": "2023-12-14T09:21:09.226624",
     "status": "completed"
    },
    "tags": []
   },
   "outputs": [
    {
     "name": "stdout",
     "output_type": "stream",
     "text": [
      "53866\n",
      "4634\n",
      "10798\n"
     ]
    }
   ],
   "source": [
    "print(train_count)\n",
    "print(test_count)\n",
    "print(val_count)"
   ]
  },
  {
   "cell_type": "code",
   "execution_count": 13,
   "id": "dbd65baa",
   "metadata": {
    "execution": {
     "iopub.execute_input": "2023-12-14T09:21:09.266450Z",
     "iopub.status.busy": "2023-12-14T09:21:09.266185Z",
     "iopub.status.idle": "2023-12-14T09:21:09.274021Z",
     "shell.execute_reply": "2023-12-14T09:21:09.273177Z"
    },
    "papermill": {
     "duration": 0.020889,
     "end_time": "2023-12-14T09:21:09.275812",
     "exception": false,
     "start_time": "2023-12-14T09:21:09.254923",
     "status": "completed"
    },
    "tags": []
   },
   "outputs": [],
   "source": [
    "class LSTMClassifier(nn.Module):\n",
    "    def __init__(self, input_size, hidden_size, num_layers, num_classes):\n",
    "        super(LSTMClassifier, self).__init__()\n",
    "        self.hidden_size = hidden_size\n",
    "        self.num_layers = num_layers\n",
    "        self.lstm = nn.LSTM(input_size, hidden_size, num_layers, batch_first=True, bidirectional=False)\n",
    "        self.dropout = nn.Dropout(p=drop_amount)\n",
    "        self.fc = nn.Linear(hidden_size, num_classes)\n",
    "\n",
    "    def forward(self, x):\n",
    "        # Explicitly specify the data type for initial hidden state tensors\n",
    "        h0 = torch.zeros(self.num_layers, x.size(0), self.hidden_size, dtype=x.dtype).to(device=x.device)\n",
    "        c0 = torch.zeros(self.num_layers, x.size(0), self.hidden_size, dtype=x.dtype).to(device=x.device)\n",
    "        out, _ = self.lstm(x, (h0, c0))\n",
    "        out = self.dropout(out)\n",
    "        out = self.fc(out[:, -1, :])\n",
    "        return out"
   ]
  },
  {
   "cell_type": "code",
   "execution_count": 14,
   "id": "cc6cf8ac",
   "metadata": {
    "execution": {
     "iopub.execute_input": "2023-12-14T09:21:09.298846Z",
     "iopub.status.busy": "2023-12-14T09:21:09.298576Z",
     "iopub.status.idle": "2023-12-14T09:21:09.306072Z",
     "shell.execute_reply": "2023-12-14T09:21:09.305337Z"
    },
    "papermill": {
     "duration": 0.020619,
     "end_time": "2023-12-14T09:21:09.307918",
     "exception": false,
     "start_time": "2023-12-14T09:21:09.287299",
     "status": "completed"
    },
    "tags": []
   },
   "outputs": [],
   "source": [
    "drop_amount = 0.255\n",
    "\n",
    "class BiGRUAudioClassifier(nn.Module):\n",
    "    def __init__(self,input_size, num_classes, hidden_units, num_layers):\n",
    "        super(BiGRUAudioClassifier, self).__init__()\n",
    "        self.input_size = input_size \n",
    "        self.num_classes = num_classes\n",
    "        self.hidden_units = hidden_units\n",
    "        self.num_layers = num_layers\n",
    "\n",
    "        self.bigru = nn.GRU(input_size=input_size, hidden_size=hidden_units, num_layers=num_layers, batch_first=True, bidirectional=True)\n",
    "        self.dropout = nn.Dropout(p=drop_amount)\n",
    "        # self.fc = nn.Linear(hidden_units, num_classes)\n",
    "        self.fc = nn.Linear(hidden_units * 2, num_classes)\n",
    "\n",
    "    def forward(self, x):\n",
    "        # x: (batch_size, sequence_length, num_features)\n",
    "\n",
    "        # Pass the input through the bi-GRU layers\n",
    "        output, _ = self.bigru(x)\n",
    "        output = self.dropout(output)\n",
    "        # Extract the last hidden state (concatenate forward and backward hidden states)\n",
    "        last_hidden_state = torch.cat((output[:, -1, :self.hidden_units], output[:, 0, self.hidden_units:]), dim=1)\n",
    "        # Apply the fully connected layer for classification\n",
    "        output = self.fc(last_hidden_state)\n",
    "\n",
    "        return output"
   ]
  },
  {
   "cell_type": "code",
   "execution_count": 15,
   "id": "10b084af",
   "metadata": {
    "execution": {
     "iopub.execute_input": "2023-12-14T09:21:09.329435Z",
     "iopub.status.busy": "2023-12-14T09:21:09.329187Z",
     "iopub.status.idle": "2023-12-14T09:21:09.333292Z",
     "shell.execute_reply": "2023-12-14T09:21:09.332466Z"
    },
    "papermill": {
     "duration": 0.017011,
     "end_time": "2023-12-14T09:21:09.335124",
     "exception": false,
     "start_time": "2023-12-14T09:21:09.318113",
     "status": "completed"
    },
    "tags": []
   },
   "outputs": [],
   "source": [
    "import torch\n",
    "from torch import nn\n",
    "from torch.nn import Parameter\n",
    "import torch.nn.functional as F"
   ]
  },
  {
   "cell_type": "code",
   "execution_count": 16,
   "id": "af998c1a",
   "metadata": {
    "execution": {
     "iopub.execute_input": "2023-12-14T09:21:09.356338Z",
     "iopub.status.busy": "2023-12-14T09:21:09.356070Z",
     "iopub.status.idle": "2023-12-14T09:21:14.359857Z",
     "shell.execute_reply": "2023-12-14T09:21:14.358906Z"
    },
    "papermill": {
     "duration": 5.016788,
     "end_time": "2023-12-14T09:21:14.362090",
     "exception": false,
     "start_time": "2023-12-14T09:21:09.345302",
     "status": "completed"
    },
    "tags": []
   },
   "outputs": [
    {
     "data": {
      "text/plain": [
       "LSTMClassifier(\n",
       "  (lstm): LSTM(20, 256, num_layers=2, batch_first=True)\n",
       "  (dropout): Dropout(p=0.255, inplace=False)\n",
       "  (fc): Linear(in_features=256, out_features=2, bias=True)\n",
       ")"
      ]
     },
     "execution_count": 16,
     "metadata": {},
     "output_type": "execute_result"
    }
   ],
   "source": [
    "# Define the parameters\n",
    "input_size = 20\n",
    "hidden_size = 256\n",
    "num_layers = 2\n",
    "num_classes = 2\n",
    "# drop_amount = 0.25  # You can choose an appropriate dropout rate\n",
    "\n",
    "model = LSTMClassifier(input_size, hidden_size, num_layers, num_classes)\n",
    "model.to(device, dtype=torch.double)\n"
   ]
  },
  {
   "cell_type": "code",
   "execution_count": 17,
   "id": "e5359691",
   "metadata": {
    "execution": {
     "iopub.execute_input": "2023-12-14T09:21:14.385131Z",
     "iopub.status.busy": "2023-12-14T09:21:14.384834Z",
     "iopub.status.idle": "2023-12-14T09:21:14.388829Z",
     "shell.execute_reply": "2023-12-14T09:21:14.387989Z"
    },
    "papermill": {
     "duration": 0.017402,
     "end_time": "2023-12-14T09:21:14.390652",
     "exception": false,
     "start_time": "2023-12-14T09:21:14.373250",
     "status": "completed"
    },
    "tags": []
   },
   "outputs": [],
   "source": [
    "import torch\n",
    "import torch.nn as nn\n",
    "import torch.optim as optim"
   ]
  },
  {
   "cell_type": "code",
   "execution_count": 18,
   "id": "7551f625",
   "metadata": {
    "execution": {
     "iopub.execute_input": "2023-12-14T09:21:14.412289Z",
     "iopub.status.busy": "2023-12-14T09:21:14.412012Z",
     "iopub.status.idle": "2023-12-14T09:21:14.416160Z",
     "shell.execute_reply": "2023-12-14T09:21:14.415360Z"
    },
    "papermill": {
     "duration": 0.017022,
     "end_time": "2023-12-14T09:21:14.417997",
     "exception": false,
     "start_time": "2023-12-14T09:21:14.400975",
     "status": "completed"
    },
    "tags": []
   },
   "outputs": [],
   "source": [
    "loss_function = nn.CrossEntropyLoss()\n",
    "optimizer = optim.Adam(model.parameters(), lr=learning_rate)"
   ]
  },
  {
   "cell_type": "code",
   "execution_count": 19,
   "id": "4744334f",
   "metadata": {
    "execution": {
     "iopub.execute_input": "2023-12-14T09:21:14.439455Z",
     "iopub.status.busy": "2023-12-14T09:21:14.439204Z",
     "iopub.status.idle": "2023-12-14T09:21:14.443574Z",
     "shell.execute_reply": "2023-12-14T09:21:14.442807Z"
    },
    "papermill": {
     "duration": 0.017343,
     "end_time": "2023-12-14T09:21:14.445634",
     "exception": false,
     "start_time": "2023-12-14T09:21:14.428291",
     "status": "completed"
    },
    "tags": []
   },
   "outputs": [
    {
     "name": "stdout",
     "output_type": "stream",
     "text": [
      "LSTMClassifier(\n",
      "  (lstm): LSTM(20, 256, num_layers=2, batch_first=True)\n",
      "  (dropout): Dropout(p=0.255, inplace=False)\n",
      "  (fc): Linear(in_features=256, out_features=2, bias=True)\n",
      ")\n"
     ]
    }
   ],
   "source": [
    "print(model)"
   ]
  },
  {
   "cell_type": "code",
   "execution_count": 20,
   "id": "2c2333cf",
   "metadata": {
    "execution": {
     "iopub.execute_input": "2023-12-14T09:21:14.467792Z",
     "iopub.status.busy": "2023-12-14T09:21:14.467534Z",
     "iopub.status.idle": "2023-12-14T09:21:18.069297Z",
     "shell.execute_reply": "2023-12-14T09:21:18.068531Z"
    },
    "papermill": {
     "duration": 3.615089,
     "end_time": "2023-12-14T09:21:18.071620",
     "exception": false,
     "start_time": "2023-12-14T09:21:14.456531",
     "status": "completed"
    },
    "tags": []
   },
   "outputs": [],
   "source": [
    "import torch \n",
    "import torch.nn as nn\n",
    "import torch.nn.functional as F\n",
    "from torch.autograd import Variable\n",
    "from torch.utils.data import Dataset, DataLoader\n",
    "import os, pathlib, glob, random\n",
    "import numpy as np\n",
    "import matplotlib.pyplot as plt \n",
    "import seaborn as sns\n",
    "from sklearn.metrics import confusion_matrix\n",
    "from transformers import WhisperProcessor, WhisperForConditionalGeneration\n",
    "from datasets import load_dataset\n",
    "from transformers.models.whisper.modeling_whisper import WhisperModel, WhisperEncoder\n",
    "from transformers.models.whisper.configuration_whisper import WhisperConfig\n",
    "from typing import Optional, Tuple, Union\n",
    "import torch\n",
    "import librosa \n",
    "import matplotlib.pyplot as plt\n",
    "import numpy as np\n",
    "import os, glob, pickle\n",
    "import scipy.io as sio\n",
    "from tqdm import tqdm\n",
    "import multiprocessing as mp \n",
    "import torch.optim as optim"
   ]
  },
  {
   "cell_type": "code",
   "execution_count": 21,
   "id": "03f00fde",
   "metadata": {
    "execution": {
     "iopub.execute_input": "2023-12-14T09:21:18.094304Z",
     "iopub.status.busy": "2023-12-14T09:21:18.093827Z",
     "iopub.status.idle": "2023-12-14T10:28:45.116691Z",
     "shell.execute_reply": "2023-12-14T10:28:45.115748Z"
    },
    "papermill": {
     "duration": 4047.047639,
     "end_time": "2023-12-14T10:28:45.130023",
     "exception": false,
     "start_time": "2023-12-14T09:21:18.082384",
     "status": "completed"
    },
    "tags": []
   },
   "outputs": [
    {
     "name": "stdout",
     "output_type": "stream",
     "text": [
      "Epoch : 1/15   Train Loss : tensor(0.6900, dtype=torch.float64)   Train Accuracy : 0.526974343741878   Test Accuracy : 0.5000926097425449\n",
      "Epoch : 2/15   Train Loss : tensor(0.6933, dtype=torch.float64)   Train Accuracy : 0.5002599042067353   Test Accuracy : 0.49990739025745506\n",
      "Epoch : 3/15   Train Loss : tensor(0.6932, dtype=torch.float64)   Train Accuracy : 0.5007611480340103   Test Accuracy : 0.49990739025745506\n",
      "Epoch : 4/15   Train Loss : tensor(0.6932, dtype=torch.float64)   Train Accuracy : 0.4984220101733932   Test Accuracy : 0.5000926097425449\n",
      "Epoch : 5/15   Train Loss : tensor(0.6932, dtype=torch.float64)   Train Accuracy : 0.5009839230683548   Test Accuracy : 0.5000926097425449\n",
      "Epoch : 6/15   Train Loss : tensor(0.6932, dtype=torch.float64)   Train Accuracy : 0.4995730145175064   Test Accuracy : 0.5000926097425449\n",
      "Epoch : 7/15   Train Loss : tensor(0.6932, dtype=torch.float64)   Train Accuracy : 0.5011881335165039   Test Accuracy : 0.49990739025745506\n",
      "Epoch : 8/15   Train Loss : tensor(0.6932, dtype=torch.float64)   Train Accuracy : 0.49912746444881745   Test Accuracy : 0.49990739025745506\n",
      "Epoch : 9/15   Train Loss : tensor(0.6932, dtype=torch.float64)   Train Accuracy : 0.5016151189989975   Test Accuracy : 0.5000926097425449\n",
      "Epoch : 10/15   Train Loss : tensor(0.6932, dtype=torch.float64)   Train Accuracy : 0.5026918649983292   Test Accuracy : 0.49990739025745506\n",
      "Epoch : 11/15   Train Loss : tensor(0.6933, dtype=torch.float64)   Train Accuracy : 0.49803215386329036   Test Accuracy : 0.49990739025745506\n",
      "Epoch : 12/15   Train Loss : tensor(0.6932, dtype=torch.float64)   Train Accuracy : 0.4973081350016708   Test Accuracy : 0.49990739025745506\n",
      "Epoch : 13/15   Train Loss : tensor(0.6932, dtype=torch.float64)   Train Accuracy : 0.5015222960680207   Test Accuracy : 0.5000926097425449\n",
      "Epoch : 14/15   Train Loss : tensor(0.6932, dtype=torch.float64)   Train Accuracy : 0.49875617272490996   Test Accuracy : 0.5000926097425449\n",
      "Epoch : 15/15   Train Loss : tensor(0.6932, dtype=torch.float64)   Train Accuracy : 0.49935023948316193   Test Accuracy : 0.49990739025745506\n",
      "0.5000926097425449\n",
      "Finished Training and Testing\n"
     ]
    }
   ],
   "source": [
    "#Model training and testing \n",
    "n_total_steps = len(train_dataloader) # n_total_steps * batch size will give total number of training files (consider that last batch may not be fully filled)\n",
    "train_accuracy_list = []\n",
    "train_loss_list = []\n",
    "val_accuracy_list = []\n",
    "max_acc=0\n",
    "num_epochs = 15\n",
    "pred_labels =[]\n",
    "act_labels = []\n",
    "\n",
    "for epoch in range(num_epochs):\n",
    "    \n",
    "    #Evaluation and training on training dataset\n",
    "    model.train()\n",
    "    train_accuracy=0.0\n",
    "    train_loss=0.0\n",
    "    \n",
    "    for batch_idx, (images,labels) in enumerate(train_dataloader):\n",
    "        if torch.cuda.is_available():\n",
    "            images=Variable(images.cuda())\n",
    "            labels=Variable(labels.cuda())\n",
    "        ##images = images.unsqueeze(1)\n",
    "        optimizer.zero_grad()\n",
    "        outputs=model(images)\n",
    "        loss=loss_function(outputs,labels)\n",
    "        loss.backward()\n",
    "        optimizer.step()\n",
    "        \n",
    "        \n",
    "        train_loss+= loss.cpu().data*images.size(0)\n",
    "        _,prediction=torch.max(outputs.data,1)\n",
    "        \n",
    "        train_accuracy+=int(torch.sum(prediction==labels.data))\n",
    "        \n",
    "    train_accuracy=train_accuracy/train_count\n",
    "    train_loss=train_loss/train_count\n",
    "    \n",
    "    train_accuracy_list.append(train_accuracy)\n",
    "    train_loss_list.append(train_loss)\n",
    "\n",
    "    \n",
    "    # Validation on Validation dataset\n",
    "    model.eval()\n",
    "    val_accuracy=0.0\n",
    "    pred = []\n",
    "    lab = []\n",
    "    \n",
    "    for i, (images,labels) in enumerate(val_dataloader):\n",
    "        if torch.cuda.is_available():\n",
    "            images=Variable(images.cuda())\n",
    "            labels=Variable(labels.cuda())\n",
    "        ##images = images.unsqueeze(1) \n",
    "#         print(i,images.shape)\n",
    "        outputs=model(images)\n",
    "        _,prediction=torch.max(outputs.data,1)\n",
    "        val_accuracy+=int(torch.sum(prediction==labels.data))\n",
    "        \n",
    "        pred.extend(prediction.tolist())\n",
    "        lab.extend(labels.tolist())\n",
    "    \n",
    "    val_accuracy=val_accuracy/val_count\n",
    "    val_accuracy_list.append(val_accuracy)\n",
    "    if max_acc < val_accuracy:\n",
    "        max_acc = val_accuracy\n",
    "        pred_labels = pred\n",
    "        actual_labels = lab\n",
    "        max_acc = val_accuracy\n",
    "        torch.save(model,\"best_accuracy_model_LSTM.pth\")\n",
    "    print('Epoch : '+str(epoch+1)+'/'+str(num_epochs)+'   Train Loss : '+str(train_loss)+'   Train Accuracy : '+str(train_accuracy)+'   Test Accuracy : '+str(val_accuracy))\n",
    "print(max_acc)   \n",
    "print('Finished Training and Testing')"
   ]
  },
  {
   "cell_type": "code",
   "execution_count": 22,
   "id": "3263e670",
   "metadata": {
    "execution": {
     "iopub.execute_input": "2023-12-14T10:28:45.154575Z",
     "iopub.status.busy": "2023-12-14T10:28:45.154239Z",
     "iopub.status.idle": "2023-12-14T10:29:32.040597Z",
     "shell.execute_reply": "2023-12-14T10:29:32.039549Z"
    },
    "papermill": {
     "duration": 46.913466,
     "end_time": "2023-12-14T10:29:32.055142",
     "exception": false,
     "start_time": "2023-12-14T10:28:45.141676",
     "status": "completed"
    },
    "tags": []
   },
   "outputs": [
    {
     "name": "stdout",
     "output_type": "stream",
     "text": [
      "testing Accuracy: 0.48856279671989644\n"
     ]
    }
   ],
   "source": [
    "# Load the best model\n",
    "best_model = torch.load(\"best_accuracy_model_LSTM.pth\")\n",
    "\n",
    "# Put the best_model in evaluation mode\n",
    "best_model.eval()\n",
    "\n",
    "# Initialize variables to store results\n",
    "testing_accuracy = 0.0\n",
    "pred_labels = []\n",
    "act_labels = []\n",
    "\n",
    "# Pass validation data through the best model\n",
    "for i, (images, labels) in enumerate(test_dataloader):\n",
    "    if torch.cuda.is_available():\n",
    "        images = Variable(images.cuda())\n",
    "        labels = Variable(labels.cuda())\n",
    "    \n",
    "    outputs = best_model(images)\n",
    "    _, prediction = torch.max(outputs.data, 1)\n",
    "    \n",
    "    testing_accuracy += int(torch.sum(prediction == labels.data))\n",
    "    \n",
    "    pred_labels.extend(prediction.tolist())\n",
    "    act_labels.extend(labels.tolist())\n",
    "\n",
    "# Calculate validation accuracy\n",
    "testing_accuracy = testing_accuracy / len(test_dataloader.dataset)\n",
    "\n",
    "# Print the validation accuracy\n",
    "print(\"testing Accuracy:\", testing_accuracy)\n",
    "# train Accuracy: 0.9726729291204099\n",
    "# Validation Accuracy: 0.9680496388220041\n",
    "# test Accuracy: 0.9512300388433319"
   ]
  },
  {
   "cell_type": "code",
   "execution_count": 23,
   "id": "98846617",
   "metadata": {
    "execution": {
     "iopub.execute_input": "2023-12-14T10:29:32.080116Z",
     "iopub.status.busy": "2023-12-14T10:29:32.079813Z",
     "iopub.status.idle": "2023-12-14T10:29:32.084391Z",
     "shell.execute_reply": "2023-12-14T10:29:32.083521Z"
    },
    "papermill": {
     "duration": 0.019411,
     "end_time": "2023-12-14T10:29:32.086322",
     "exception": false,
     "start_time": "2023-12-14T10:29:32.066911",
     "status": "completed"
    },
    "tags": []
   },
   "outputs": [
    {
     "name": "stdout",
     "output_type": "stream",
     "text": [
      "LSTMClassifier(\n",
      "  (lstm): LSTM(20, 256, num_layers=2, batch_first=True)\n",
      "  (dropout): Dropout(p=0.255, inplace=False)\n",
      "  (fc): Linear(in_features=256, out_features=2, bias=True)\n",
      ")\n"
     ]
    }
   ],
   "source": [
    "print(model)"
   ]
  },
  {
   "cell_type": "code",
   "execution_count": 24,
   "id": "68d7dfa8",
   "metadata": {
    "execution": {
     "iopub.execute_input": "2023-12-14T10:29:32.110896Z",
     "iopub.status.busy": "2023-12-14T10:29:32.110639Z",
     "iopub.status.idle": "2023-12-14T10:29:32.474567Z",
     "shell.execute_reply": "2023-12-14T10:29:32.473525Z"
    },
    "papermill": {
     "duration": 0.378458,
     "end_time": "2023-12-14T10:29:32.476467",
     "exception": false,
     "start_time": "2023-12-14T10:29:32.098009",
     "status": "completed"
    },
    "tags": []
   },
   "outputs": [
    {
     "data": {
      "image/png": "[encoded data removed]",
      "text/plain": [
       "<Figure size 640x480 with 2 Axes>"
      ]
     },
     "metadata": {},
     "output_type": "display_data"
    },
    {
     "name": "stdout",
     "output_type": "stream",
     "text": [
      "F1 Score :  0.32821107567410845\n"
     ]
    }
   ],
   "source": [
    "# Calculate the confusion matrix\n",
    "import seaborn as sns\n",
    "conf_mat = confusion_matrix(act_labels, pred_labels)\n",
    "# Plot confusion matrix heat map\n",
    "sns.heatmap(conf_mat, cmap=\"flare\",annot=True, fmt = \"g\", \n",
    "            cbar_kws={\"label\":\"color bar\"},\n",
    "            xticklabels=train_dataset.classes,\n",
    "            yticklabels=train_dataset.classes)\n",
    "plt.xlabel(\"Predicted\")\n",
    "plt.ylabel(\"Actual\")\n",
    "plt.title(\"Confusion Matrix\")\n",
    "plt.savefig(\"ConfusionMatrix_LSTM.png\")\n",
    "plt.show()\n",
    "from sklearn.metrics import f1_score\n",
    "f1_score = f1_score(pred_labels, act_labels, average='macro')\n",
    "print('F1 Score : ', f1_score)\n"
   ]
  },
  {
   "cell_type": "code",
   "execution_count": 25,
   "id": "fc1357ae",
   "metadata": {
    "execution": {
     "iopub.execute_input": "2023-12-14T10:29:32.502273Z",
     "iopub.status.busy": "2023-12-14T10:29:32.501998Z",
     "iopub.status.idle": "2023-12-14T10:29:32.505870Z",
     "shell.execute_reply": "2023-12-14T10:29:32.504906Z"
    },
    "papermill": {
     "duration": 0.018943,
     "end_time": "2023-12-14T10:29:32.507774",
     "exception": false,
     "start_time": "2023-12-14T10:29:32.488831",
     "status": "completed"
    },
    "tags": []
   },
   "outputs": [],
   "source": [
    "# torch.save(model,'MGDCC_LSTMClassifier_01_01.pth')"
   ]
  },
  {
   "cell_type": "code",
   "execution_count": 26,
   "id": "10f7dfe2",
   "metadata": {
    "execution": {
     "iopub.execute_input": "2023-12-14T10:29:32.533175Z",
     "iopub.status.busy": "2023-12-14T10:29:32.532922Z",
     "iopub.status.idle": "2023-12-14T10:29:32.536566Z",
     "shell.execute_reply": "2023-12-14T10:29:32.535759Z"
    },
    "papermill": {
     "duration": 0.018321,
     "end_time": "2023-12-14T10:29:32.538373",
     "exception": false,
     "start_time": "2023-12-14T10:29:32.520052",
     "status": "completed"
    },
    "tags": []
   },
   "outputs": [],
   "source": [
    "# BiLSTM"
   ]
  },
  {
   "cell_type": "code",
   "execution_count": 27,
   "id": "5cba8050",
   "metadata": {
    "execution": {
     "iopub.execute_input": "2023-12-14T10:29:32.563549Z",
     "iopub.status.busy": "2023-12-14T10:29:32.563249Z",
     "iopub.status.idle": "2023-12-14T10:29:32.571875Z",
     "shell.execute_reply": "2023-12-14T10:29:32.571044Z"
    },
    "papermill": {
     "duration": 0.02328,
     "end_time": "2023-12-14T10:29:32.573694",
     "exception": false,
     "start_time": "2023-12-14T10:29:32.550414",
     "status": "completed"
    },
    "tags": []
   },
   "outputs": [],
   "source": [
    "drop_amount = 0.255\n",
    "\n",
    "class BiLSTMClassifier(nn.Module):\n",
    "    def __init__(self, input_size, hidden_size, num_layers, num_classes):\n",
    "        super(BiLSTMClassifier, self).__init__()\n",
    "        self.hidden_size = hidden_size\n",
    "        self.num_layers = num_layers\n",
    "        self.lstm = nn.LSTM(input_size, hidden_size, num_layers, batch_first=True, bidirectional=True)\n",
    "        self.dropout = nn.Dropout(p=drop_amount)\n",
    "        self.fc = nn.Linear(hidden_size*2, num_classes)\n",
    "\n",
    "    def forward(self, x):\n",
    "        h0 = torch.zeros(self.num_layers*2, x.size(0), self.hidden_size).to(device=x.device, dtype=torch.double)\n",
    "        c0 = torch.zeros(self.num_layers*2, x.size(0), self.hidden_size).to(device=x.device, dtype=torch.double)\n",
    "        out, _ = self.lstm(x, (h0, c0))\n",
    "        out = self.dropout(out)\n",
    "        # Extract the output of the last time step from both directions\n",
    "        last_hidden_state = torch.cat((out[:, -1, :self.hidden_size], out[:, 0, self.hidden_size:]), dim=1)\n",
    "        output = self.fc(last_hidden_state)\n",
    "        return output"
   ]
  },
  {
   "cell_type": "code",
   "execution_count": 28,
   "id": "5ecc97d5",
   "metadata": {
    "execution": {
     "iopub.execute_input": "2023-12-14T10:29:32.599231Z",
     "iopub.status.busy": "2023-12-14T10:29:32.598960Z",
     "iopub.status.idle": "2023-12-14T10:29:32.602720Z",
     "shell.execute_reply": "2023-12-14T10:29:32.601888Z"
    },
    "papermill": {
     "duration": 0.019403,
     "end_time": "2023-12-14T10:29:32.605253",
     "exception": false,
     "start_time": "2023-12-14T10:29:32.585850",
     "status": "completed"
    },
    "tags": []
   },
   "outputs": [],
   "source": [
    "batch_size = 64\n",
    "output_nodes = 2\n",
    "learning_rate = 0.0001"
   ]
  },
  {
   "cell_type": "code",
   "execution_count": 29,
   "id": "1b7b42d8",
   "metadata": {
    "execution": {
     "iopub.execute_input": "2023-12-14T10:29:32.631181Z",
     "iopub.status.busy": "2023-12-14T10:29:32.630901Z",
     "iopub.status.idle": "2023-12-14T10:29:32.658965Z",
     "shell.execute_reply": "2023-12-14T10:29:32.657864Z"
    },
    "papermill": {
     "duration": 0.043032,
     "end_time": "2023-12-14T10:29:32.660862",
     "exception": false,
     "start_time": "2023-12-14T10:29:32.617830",
     "status": "completed"
    },
    "tags": []
   },
   "outputs": [
    {
     "name": "stdout",
     "output_type": "stream",
     "text": [
      "BiLSTMClassifier(\n",
      "  (lstm): LSTM(20, 256, num_layers=2, batch_first=True, bidirectional=True)\n",
      "  (dropout): Dropout(p=0.255, inplace=False)\n",
      "  (fc): Linear(in_features=512, out_features=2, bias=True)\n",
      ")\n"
     ]
    }
   ],
   "source": [
    "model = BiLSTMClassifier(input_size, hidden_size, num_layers, num_classes)\n",
    "model.to(device, dtype=torch.double)\n",
    "loss_function = nn.CrossEntropyLoss()\n",
    "optimizer = optim.Adam(model.parameters(), lr=learning_rate)\n",
    "print(model)"
   ]
  },
  {
   "cell_type": "code",
   "execution_count": 30,
   "id": "b4448273",
   "metadata": {
    "execution": {
     "iopub.execute_input": "2023-12-14T10:29:32.686180Z",
     "iopub.status.busy": "2023-12-14T10:29:32.685933Z",
     "iopub.status.idle": "2023-12-14T10:29:32.690504Z",
     "shell.execute_reply": "2023-12-14T10:29:32.689449Z"
    },
    "papermill": {
     "duration": 0.019283,
     "end_time": "2023-12-14T10:29:32.692385",
     "exception": false,
     "start_time": "2023-12-14T10:29:32.673102",
     "status": "completed"
    },
    "tags": []
   },
   "outputs": [
    {
     "name": "stdout",
     "output_type": "stream",
     "text": [
      "BiLSTMClassifier(\n",
      "  (lstm): LSTM(20, 256, num_layers=2, batch_first=True, bidirectional=True)\n",
      "  (dropout): Dropout(p=0.255, inplace=False)\n",
      "  (fc): Linear(in_features=512, out_features=2, bias=True)\n",
      ")\n"
     ]
    }
   ],
   "source": [
    "print(model)"
   ]
  },
  {
   "cell_type": "code",
   "execution_count": 31,
   "id": "5d774ca8",
   "metadata": {
    "execution": {
     "iopub.execute_input": "2023-12-14T10:29:32.718168Z",
     "iopub.status.busy": "2023-12-14T10:29:32.717925Z",
     "iopub.status.idle": "2023-12-14T12:07:30.897295Z",
     "shell.execute_reply": "2023-12-14T12:07:30.896404Z"
    },
    "papermill": {
     "duration": 5878.208423,
     "end_time": "2023-12-14T12:07:30.913100",
     "exception": false,
     "start_time": "2023-12-14T10:29:32.704677",
     "status": "completed"
    },
    "tags": []
   },
   "outputs": [
    {
     "name": "stdout",
     "output_type": "stream",
     "text": [
      "Epoch : 1/15   Train Loss : tensor(0.6447, dtype=torch.float64)   Train Accuracy : 0.6072290498644786   Test Accuracy : 0.7789405445452862\n",
      "Epoch : 2/15   Train Loss : tensor(0.4587, dtype=torch.float64)   Train Accuracy : 0.8029554821223035   Test Accuracy : 0.8496017781070568\n",
      "Epoch : 3/15   Train Loss : tensor(0.4027, dtype=torch.float64)   Train Accuracy : 0.8370400623770096   Test Accuracy : 0.7845897388405261\n",
      "Epoch : 4/15   Train Loss : tensor(0.5264, dtype=torch.float64)   Train Accuracy : 0.7374410574388297   Test Accuracy : 0.8020003704389702\n",
      "Epoch : 5/15   Train Loss : tensor(0.5740, dtype=torch.float64)   Train Accuracy : 0.7115063305238927   Test Accuracy : 0.7301352102241155\n",
      "Epoch : 6/15   Train Loss : tensor(0.5024, dtype=torch.float64)   Train Accuracy : 0.765325065904281   Test Accuracy : 0.7675495462122616\n",
      "Epoch : 7/15   Train Loss : tensor(0.4821, dtype=torch.float64)   Train Accuracy : 0.783759699996287   Test Accuracy : 0.8169105389887016\n",
      "Epoch : 8/15   Train Loss : tensor(0.4434, dtype=torch.float64)   Train Accuracy : 0.8057401700516096   Test Accuracy : 0.835247268012595\n",
      "Epoch : 9/15   Train Loss : tensor(0.5199, dtype=torch.float64)   Train Accuracy : 0.7576021980470056   Test Accuracy : 0.7848675680681608\n",
      "Epoch : 10/15   Train Loss : tensor(0.4337, dtype=torch.float64)   Train Accuracy : 0.8140942338395277   Test Accuracy : 0.6376180774217448\n",
      "Epoch : 11/15   Train Loss : tensor(0.6091, dtype=torch.float64)   Train Accuracy : 0.664482233691011   Test Accuracy : 0.738470087053158\n",
      "Epoch : 12/15   Train Loss : tensor(0.5922, dtype=torch.float64)   Train Accuracy : 0.6602495080384658   Test Accuracy : 0.5827931098351546\n",
      "Epoch : 13/15   Train Loss : tensor(0.5995, dtype=torch.float64)   Train Accuracy : 0.6761222292355104   Test Accuracy : 0.779033154287831\n",
      "Epoch : 14/15   Train Loss : tensor(0.4537, dtype=torch.float64)   Train Accuracy : 0.8116994022203246   Test Accuracy : 0.8007964437858863\n",
      "Epoch : 15/15   Train Loss : tensor(0.3753, dtype=torch.float64)   Train Accuracy : 0.8562915382616122   Test Accuracy : 0.8748842378218189\n",
      "0.8748842378218189\n",
      "Finished Training and Testing\n"
     ]
    }
   ],
   "source": [
    "#Model training and testing \n",
    "n_total_steps = len(train_dataloader) # n_total_steps * batch size will give total number of training files (consider that last batch may not be fully filled)\n",
    "train_accuracy_list = []\n",
    "train_loss_list = []\n",
    "val_accuracy_list = []\n",
    "max_acc=0\n",
    "num_epochs = 15\n",
    "pred_labels =[]\n",
    "act_labels = []\n",
    "\n",
    "for epoch in range(num_epochs):\n",
    "    \n",
    "    #Evaluation and training on training dataset\n",
    "    model.train()\n",
    "    train_accuracy=0.0\n",
    "    train_loss=0.0\n",
    "    \n",
    "    for batch_idx, (images,labels) in enumerate(train_dataloader):\n",
    "        if torch.cuda.is_available():\n",
    "            images=Variable(images.cuda())\n",
    "            labels=Variable(labels.cuda())\n",
    "        ##images = images.unsqueeze(1)\n",
    "        optimizer.zero_grad()\n",
    "        outputs=model(images)\n",
    "        loss=loss_function(outputs,labels)\n",
    "        loss.backward()\n",
    "        optimizer.step()\n",
    "        \n",
    "        \n",
    "        train_loss+= loss.cpu().data*images.size(0)\n",
    "        _,prediction=torch.max(outputs.data,1)\n",
    "        \n",
    "        train_accuracy+=int(torch.sum(prediction==labels.data))\n",
    "        \n",
    "    train_accuracy=train_accuracy/train_count\n",
    "    train_loss=train_loss/train_count\n",
    "    \n",
    "    train_accuracy_list.append(train_accuracy)\n",
    "    train_loss_list.append(train_loss)\n",
    "\n",
    "    \n",
    "    # Validation on Validation dataset\n",
    "    model.eval()\n",
    "    val_accuracy=0.0\n",
    "    pred = []\n",
    "    lab = []\n",
    "    \n",
    "    for i, (images,labels) in enumerate(val_dataloader):\n",
    "        if torch.cuda.is_available():\n",
    "            images=Variable(images.cuda())\n",
    "            labels=Variable(labels.cuda())\n",
    "        ##images = images.unsqueeze(1) \n",
    "#         print(i,images.shape)\n",
    "        outputs=model(images)\n",
    "        _,prediction=torch.max(outputs.data,1)\n",
    "        val_accuracy+=int(torch.sum(prediction==labels.data))\n",
    "        \n",
    "        pred.extend(prediction.tolist())\n",
    "        lab.extend(labels.tolist())\n",
    "    \n",
    "    val_accuracy=val_accuracy/val_count\n",
    "    val_accuracy_list.append(val_accuracy)\n",
    "    if max_acc < val_accuracy:\n",
    "        max_acc = val_accuracy\n",
    "        pred_labels = pred\n",
    "        actual_labels = lab\n",
    "        max_acc = val_accuracy\n",
    "        torch.save(model,\"best_accuracy_model_BiLSTM.pth\")\n",
    "    print('Epoch : '+str(epoch+1)+'/'+str(num_epochs)+'   Train Loss : '+str(train_loss)+'   Train Accuracy : '+str(train_accuracy)+'   Test Accuracy : '+str(val_accuracy))\n",
    "print(max_acc)   \n",
    "print('Finished Training and Testing')"
   ]
  },
  {
   "cell_type": "code",
   "execution_count": 32,
   "id": "3d177d35",
   "metadata": {
    "execution": {
     "iopub.execute_input": "2023-12-14T12:07:30.941834Z",
     "iopub.status.busy": "2023-12-14T12:07:30.941195Z",
     "iopub.status.idle": "2023-12-14T12:07:49.809910Z",
     "shell.execute_reply": "2023-12-14T12:07:49.808932Z"
    },
    "papermill": {
     "duration": 18.885373,
     "end_time": "2023-12-14T12:07:49.812037",
     "exception": false,
     "start_time": "2023-12-14T12:07:30.926664",
     "status": "completed"
    },
    "tags": []
   },
   "outputs": [
    {
     "name": "stdout",
     "output_type": "stream",
     "text": [
      "testing Accuracy: 0.5973241260250324\n"
     ]
    }
   ],
   "source": [
    "# Load the best model\n",
    "best_model = torch.load(\"best_accuracy_model_BiLSTM.pth\")\n",
    "\n",
    "# Put the best_model in evaluation mode\n",
    "best_model.eval()\n",
    "\n",
    "# Initialize variables to store results\n",
    "testing_accuracy = 0.0\n",
    "pred_labels = []\n",
    "act_labels = []\n",
    "\n",
    "# Pass validation data through the best model\n",
    "for i, (images, labels) in enumerate(test_dataloader):\n",
    "    if torch.cuda.is_available():\n",
    "        images = Variable(images.cuda())\n",
    "        labels = Variable(labels.cuda())\n",
    "    \n",
    "    outputs = best_model(images)\n",
    "    _, prediction = torch.max(outputs.data, 1)\n",
    "    \n",
    "    testing_accuracy += int(torch.sum(prediction == labels.data))\n",
    "    \n",
    "    pred_labels.extend(prediction.tolist())\n",
    "    act_labels.extend(labels.tolist())\n",
    "\n",
    "# Calculate validation accuracy\n",
    "testing_accuracy = testing_accuracy / len(test_dataloader.dataset)\n",
    "\n",
    "# Print the validation accuracy\n",
    "print(\"testing Accuracy:\", testing_accuracy)"
   ]
  },
  {
   "cell_type": "code",
   "execution_count": 33,
   "id": "4a6e9c39",
   "metadata": {
    "execution": {
     "iopub.execute_input": "2023-12-14T12:07:49.841595Z",
     "iopub.status.busy": "2023-12-14T12:07:49.841266Z",
     "iopub.status.idle": "2023-12-14T12:07:50.223171Z",
     "shell.execute_reply": "2023-12-14T12:07:50.222281Z"
    },
    "papermill": {
     "duration": 0.399135,
     "end_time": "2023-12-14T12:07:50.225124",
     "exception": false,
     "start_time": "2023-12-14T12:07:49.825989",
     "status": "completed"
    },
    "tags": []
   },
   "outputs": [
    {
     "data": {
      "image/png": "[encoded data removed]",
      "text/plain": [
       "<Figure size 640x480 with 2 Axes>"
      ]
     },
     "metadata": {},
     "output_type": "display_data"
    },
    {
     "name": "stdout",
     "output_type": "stream",
     "text": [
      "F1 Score :  0.5946268429453521\n"
     ]
    }
   ],
   "source": [
    "# Calculate the confusion matrix\n",
    "import seaborn as sns\n",
    "conf_mat = confusion_matrix(act_labels, pred_labels)\n",
    "# Plot confusion matrix heat map\n",
    "sns.heatmap(conf_mat, cmap=\"flare\",annot=True, fmt = \"g\", \n",
    "            cbar_kws={\"label\":\"color bar\"},\n",
    "            xticklabels=train_dataset.classes,\n",
    "            yticklabels=train_dataset.classes)\n",
    "plt.xlabel(\"Predicted\")\n",
    "plt.ylabel(\"Actual\")\n",
    "plt.title(\"Confusion Matrix\")\n",
    "plt.savefig(\"ConfusionMatrix_BiLSTM.png\")\n",
    "plt.show()\n",
    "from sklearn.metrics import f1_score\n",
    "f1_score = f1_score(pred_labels, act_labels, average='macro')\n",
    "print('F1 Score : ', f1_score)\n"
   ]
  },
  {
   "cell_type": "code",
   "execution_count": 34,
   "id": "642eaeb5",
   "metadata": {
    "execution": {
     "iopub.execute_input": "2023-12-14T12:07:50.318727Z",
     "iopub.status.busy": "2023-12-14T12:07:50.318226Z",
     "iopub.status.idle": "2023-12-14T12:07:50.323654Z",
     "shell.execute_reply": "2023-12-14T12:07:50.321930Z"
    },
    "papermill": {
     "duration": 0.029287,
     "end_time": "2023-12-14T12:07:50.326192",
     "exception": false,
     "start_time": "2023-12-14T12:07:50.296905",
     "status": "completed"
    },
    "tags": []
   },
   "outputs": [],
   "source": [
    "# torch.save(model,'MGDCC_BiLSTMClassifier_01_01.pth')"
   ]
  },
  {
   "cell_type": "code",
   "execution_count": 35,
   "id": "c566a87f",
   "metadata": {
    "execution": {
     "iopub.execute_input": "2023-12-14T12:07:50.364153Z",
     "iopub.status.busy": "2023-12-14T12:07:50.363556Z",
     "iopub.status.idle": "2023-12-14T12:07:50.370671Z",
     "shell.execute_reply": "2023-12-14T12:07:50.369827Z"
    },
    "papermill": {
     "duration": 0.02734,
     "end_time": "2023-12-14T12:07:50.372694",
     "exception": false,
     "start_time": "2023-12-14T12:07:50.345354",
     "status": "completed"
    },
    "tags": []
   },
   "outputs": [],
   "source": [
    "# ResNet50\n",
    "# import torch\n",
    "# import torch.nn as nn\n",
    "\n",
    "\n",
    "# def conv3x3(in_channels, out_channels, stride=1):\n",
    "#     \"\"\"3x3 convolution with padding\"\"\"\n",
    "#     return nn.Conv2d(in_channels, out_channels, kernel_size=3, stride=stride, padding=1, bias=False)\n",
    "\n",
    "\n",
    "# class Bottleneck(nn.Module):\n",
    "#     expansion = 4\n",
    "\n",
    "#     def __init__(self, in_channels, out_channels, stride=1, downsample=None):\n",
    "#         super(Bottleneck, self).__init__()\n",
    "\n",
    "#         self.conv1 = nn.Conv2d(in_channels, out_channels, kernel_size=1, bias=False)\n",
    "#         self.bn1 = nn.BatchNorm2d(out_channels)\n",
    "#         self.conv2 = nn.Conv2d(out_channels, out_channels, kernel_size=3, stride=stride, padding=1, bias=False)\n",
    "#         self.bn2 = nn.BatchNorm2d(out_channels)\n",
    "#         self.conv3 = nn.Conv2d(out_channels, out_channels * self.expansion, kernel_size=1, bias=False)\n",
    "#         self.bn3 = nn.BatchNorm2d(out_channels * self.expansion)\n",
    "#         self.relu = nn.ReLU(inplace=True)\n",
    "#         self.downsample = downsample\n",
    "#         self.stride = stride\n",
    "\n",
    "#     def forward(self, x):\n",
    "#         identity = x\n",
    "\n",
    "#         out = self.conv1(x)\n",
    "#         out = self.bn1(out)\n",
    "#         out = self.relu(out)\n",
    "\n",
    "#         out = self.conv2(out)\n",
    "#         out = self.bn2(out)\n",
    "#         out = self.relu(out)\n",
    "\n",
    "#         out = self.conv3(out)\n",
    "#         out = self.bn3(out)\n",
    "\n",
    "#         if self.downsample is not None:\n",
    "#             identity = self.downsample(x)\n",
    "\n",
    "#         out += identity\n",
    "#         out = self.relu(out)\n",
    "\n",
    "#         return out\n",
    "\n",
    "\n",
    "# class ResNet(nn.Module):\n",
    "#     def __init__(self, block, layers, num_classes=1000):\n",
    "#         super(ResNet, self).__init__()\n",
    "\n",
    "#         self.in_channels = 64\n",
    "#         self.conv1 = nn.Conv2d(1, 64, kernel_size=7, stride=2, padding=3, bias=False)\n",
    "# #         self.conv1 = nn.Conv2d(1, 64, kernel_size=7, stride=2, padding=3, bias=False)\n",
    "#         self.bn1 = nn.BatchNorm2d(64)\n",
    "#         self.relu = nn.ReLU(inplace=True)\n",
    "#         self.maxpool = nn.MaxPool2d(kernel_size=3, stride=2, padding=1)\n",
    "\n",
    "#         self.layer1 = self._make_layer(block, 64, layers[0], stride=1)\n",
    "#         self.layer2 = self._make_layer(block, 128, layers[1], stride=2)\n",
    "#         self.layer3 = self._make_layer(block, 256, layers[2], stride=2)\n",
    "#         self.layer4 = self._make_layer(block, 512, layers[3], stride=2)\n",
    "\n",
    "#         self.avgpool = nn.AdaptiveAvgPool2d((1, 1))\n",
    "#         self.fc = nn.Linear(512 * block.expansion, num_classes)\n",
    "\n",
    "#     def _make_layer(self, block, out_channels, blocks, stride=1):\n",
    "#         downsample = None\n",
    "#         if stride != 1 or self.in_channels != out_channels * block.expansion:\n",
    "#             downsample = nn.Sequential(\n",
    "#                 nn.Conv2d(self.in_channels, out_channels * block.expansion, kernel_size=1, stride=stride, bias=False),\n",
    "#                 nn.BatchNorm2d(out_channels * block.expansion),\n",
    "#             )\n",
    "\n",
    "#         layers = [block(self.in_channels, out_channels, stride, downsample)]\n",
    "#         self.in_channels = out_channels * block.expansion\n",
    "#         for _ in range(1, blocks):\n",
    "#             layers.append(block(self.in_channels, out_channels))\n",
    "\n",
    "#         return nn.Sequential(*layers)\n",
    "\n",
    "#     def forward(self, x):\n",
    "#         x = self.conv1(x)\n",
    "#         x = self.bn1(x)\n",
    "#         x = self.relu(x)\n",
    "#         x = self.maxpool(x)\n",
    "\n",
    "#         x = self.layer1(x)\n",
    "#         x = self.layer2(x)\n",
    "#         x = self.layer3(x)\n",
    "#         x = self.layer4(x)\n",
    "\n",
    "#         x = self.avgpool(x)\n",
    "#         x = x.view(x.size(0), -1)\n",
    "#         x = self.fc(x)\n",
    "\n",
    "#         return x\n",
    "\n",
    "\n",
    "# # ResNet-50\n",
    "# def resnet50(num_classes=2):\n",
    "#     return ResNet(Bottleneck, [3, 4, 6, 3], num_classes)\n"
   ]
  },
  {
   "cell_type": "code",
   "execution_count": 36,
   "id": "e61cb078",
   "metadata": {
    "execution": {
     "iopub.execute_input": "2023-12-14T12:07:50.401977Z",
     "iopub.status.busy": "2023-12-14T12:07:50.401688Z",
     "iopub.status.idle": "2023-12-14T12:07:50.405535Z",
     "shell.execute_reply": "2023-12-14T12:07:50.404775Z"
    },
    "papermill": {
     "duration": 0.020707,
     "end_time": "2023-12-14T12:07:50.407469",
     "exception": false,
     "start_time": "2023-12-14T12:07:50.386762",
     "status": "completed"
    },
    "tags": []
   },
   "outputs": [],
   "source": [
    "# model = resnet50()\n",
    "# model.to(device, dtype=torch.double)\n",
    "# loss_function = nn.CrossEntropyLoss()\n",
    "# optimizer = optim.Adam(model.parameters(), lr=learning_rate)\n",
    "# print(model)"
   ]
  },
  {
   "cell_type": "code",
   "execution_count": 37,
   "id": "afbd4614",
   "metadata": {
    "execution": {
     "iopub.execute_input": "2023-12-14T12:07:50.436843Z",
     "iopub.status.busy": "2023-12-14T12:07:50.436568Z",
     "iopub.status.idle": "2023-12-14T12:07:50.440029Z",
     "shell.execute_reply": "2023-12-14T12:07:50.439337Z"
    },
    "papermill": {
     "duration": 0.020122,
     "end_time": "2023-12-14T12:07:50.441860",
     "exception": false,
     "start_time": "2023-12-14T12:07:50.421738",
     "status": "completed"
    },
    "tags": []
   },
   "outputs": [],
   "source": [
    "# torch.save(model,'MGDCC_ResNet50_0_0001.pth')"
   ]
  },
  {
   "cell_type": "code",
   "execution_count": 38,
   "id": "02b937fb",
   "metadata": {
    "execution": {
     "iopub.execute_input": "2023-12-14T12:07:50.471256Z",
     "iopub.status.busy": "2023-12-14T12:07:50.470966Z",
     "iopub.status.idle": "2023-12-14T12:07:50.475168Z",
     "shell.execute_reply": "2023-12-14T12:07:50.474353Z"
    },
    "papermill": {
     "duration": 0.020944,
     "end_time": "2023-12-14T12:07:50.477085",
     "exception": false,
     "start_time": "2023-12-14T12:07:50.456141",
     "status": "completed"
    },
    "tags": []
   },
   "outputs": [],
   "source": [
    "# # Calculate the confusion matrix\n",
    "# import seaborn as sns\n",
    "# conf_mat = confusion_matrix(act_labels, pred_labels)\n",
    "# # Plot confusion matrix heat map\n",
    "# sns.heatmap(conf_mat, cmap=\"flare\",annot=True, fmt = \"g\", \n",
    "#             cbar_kws={\"label\":\"color bar\"},\n",
    "#             xticklabels=train_dataset.classes,\n",
    "#             yticklabels=train_dataset.classes)\n",
    "# plt.xlabel(\"Predicted\")\n",
    "# plt.ylabel(\"Actual\")\n",
    "# plt.title(\"Confusion Matrix\")\n",
    "# plt.savefig(\"ConfusionMatrix.png\")\n",
    "# plt.show()\n",
    "# from sklearn.metrics import f1_score\n",
    "# f1_score = f1_score(pred_labels, act_labels, average='macro')\n",
    "# print('F1 Score : ', f1_score)"
   ]
  }
 ],
 "metadata": {
  "kaggle": {
   "accelerator": "gpu",
   "dataSources": [
    {
     "datasetId": 4133733,
     "sourceId": 7157591,
     "sourceType": "datasetVersion"
    }
   ],
   "dockerImageVersionId": 30627,
   "isGpuEnabled": true,
   "isInternetEnabled": true,
   "language": "python",
   "sourceType": "notebook"
  },
  "kernelspec": {
   "display_name": "Python 3",
   "language": "python",
   "name": "python3"
  },
  "language_info": {
   "codemirror_mode": {
    "name": "ipython",
    "version": 3
   },
   "file_extension": ".py",
   "mimetype": "text/x-python",
   "name": "python",
   "nbconvert_exporter": "python",
   "pygments_lexer": "ipython3",
   "version": "3.10.12"
  },
  "papermill": {
   "default_parameters": {},
   "duration": 10029.514432,
   "end_time": "2023-12-14T12:07:52.438614",
   "environment_variables": {},
   "exception": null,
   "input_path": "__notebook__.ipynb",
   "output_path": "__notebook__.ipynb",
   "parameters": {},
   "start_time": "2023-12-14T09:20:42.924182",
   "version": "2.4.0"
  }
 },
 "nbformat": 4,
 "nbformat_minor": 5
}
