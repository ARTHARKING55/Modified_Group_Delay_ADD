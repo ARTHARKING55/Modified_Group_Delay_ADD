{
 "cells": [
  {
   "cell_type": "code",
   "execution_count": 1,
   "id": "9f09ae5a",
   "metadata": {
    "execution": {
     "iopub.execute_input": "2023-12-14T15:29:47.175758Z",
     "iopub.status.busy": "2023-12-14T15:29:47.175240Z",
     "iopub.status.idle": "2023-12-14T15:29:59.856043Z",
     "shell.execute_reply": "2023-12-14T15:29:59.854945Z"
    },
    "papermill": {
     "duration": 12.694815,
     "end_time": "2023-12-14T15:29:59.858574",
     "exception": false,
     "start_time": "2023-12-14T15:29:47.163759",
     "status": "completed"
    },
    "tags": []
   },
   "outputs": [
    {
     "name": "stdout",
     "output_type": "stream",
     "text": [
      "Requirement already satisfied: scipy in /opt/conda/lib/python3.10/site-packages (1.11.4)\r\n",
      "Requirement already satisfied: numpy<1.28.0,>=1.21.6 in /opt/conda/lib/python3.10/site-packages (from scipy) (1.24.3)\r\n"
     ]
    }
   ],
   "source": [
    "!pip install --upgrade scipy"
   ]
  },
  {
   "cell_type": "code",
   "execution_count": 2,
   "id": "e97a469e",
   "metadata": {
    "execution": {
     "iopub.execute_input": "2023-12-14T15:29:59.880877Z",
     "iopub.status.busy": "2023-12-14T15:29:59.880575Z",
     "iopub.status.idle": "2023-12-14T15:30:03.826442Z",
     "shell.execute_reply": "2023-12-14T15:30:03.825495Z"
    },
    "papermill": {
     "duration": 3.959553,
     "end_time": "2023-12-14T15:30:03.828826",
     "exception": false,
     "start_time": "2023-12-14T15:29:59.869273",
     "status": "completed"
    },
    "tags": []
   },
   "outputs": [
    {
     "name": "stderr",
     "output_type": "stream",
     "text": [
      "/opt/conda/lib/python3.10/site-packages/scipy/__init__.py:146: UserWarning: A NumPy version >=1.16.5 and <1.23.0 is required for this version of SciPy (detected version 1.24.3\n",
      "  warnings.warn(f\"A NumPy version >={np_minversion} and <{np_maxversion}\"\n"
     ]
    }
   ],
   "source": [
    "import torch \n",
    "import torch.nn as nn\n",
    "import torch.nn.functional as F\n",
    "from torch.autograd import Variable\n",
    "from torch.utils.data import Dataset, DataLoader\n",
    "\n",
    "import os, pathlib, glob, random\n",
    "import numpy as np\n",
    "import matplotlib.pyplot as plt \n",
    "\n",
    "from sklearn.metrics import confusion_matrix\n",
    "import scipy\n",
    "from scipy import io"
   ]
  },
  {
   "cell_type": "code",
   "execution_count": 3,
   "id": "2eab0261",
   "metadata": {
    "execution": {
     "iopub.execute_input": "2023-12-14T15:30:03.851274Z",
     "iopub.status.busy": "2023-12-14T15:30:03.850462Z",
     "iopub.status.idle": "2023-12-14T15:30:03.914620Z",
     "shell.execute_reply": "2023-12-14T15:30:03.913720Z"
    },
    "papermill": {
     "duration": 0.077209,
     "end_time": "2023-12-14T15:30:03.916636",
     "exception": false,
     "start_time": "2023-12-14T15:30:03.839427",
     "status": "completed"
    },
    "tags": []
   },
   "outputs": [
    {
     "name": "stdout",
     "output_type": "stream",
     "text": [
      "cuda:0\n"
     ]
    }
   ],
   "source": [
    "device = torch.device('cuda:0' if torch.cuda.is_available() else 'cpu')\n",
    "print(device)"
   ]
  },
  {
   "cell_type": "code",
   "execution_count": 4,
   "id": "7437dbdd",
   "metadata": {
    "execution": {
     "iopub.execute_input": "2023-12-14T15:30:03.938289Z",
     "iopub.status.busy": "2023-12-14T15:30:03.937964Z",
     "iopub.status.idle": "2023-12-14T15:30:03.941863Z",
     "shell.execute_reply": "2023-12-14T15:30:03.941062Z"
    },
    "papermill": {
     "duration": 0.016675,
     "end_time": "2023-12-14T15:30:03.943709",
     "exception": false,
     "start_time": "2023-12-14T15:30:03.927034",
     "status": "completed"
    },
    "tags": []
   },
   "outputs": [],
   "source": [
    "batch_size = 64\n",
    "output_nodes = 2\n",
    "learning_rate = 0.001"
   ]
  },
  {
   "cell_type": "code",
   "execution_count": 5,
   "id": "7b87e1ae",
   "metadata": {
    "execution": {
     "iopub.execute_input": "2023-12-14T15:30:03.965119Z",
     "iopub.status.busy": "2023-12-14T15:30:03.964843Z",
     "iopub.status.idle": "2023-12-14T15:30:03.968820Z",
     "shell.execute_reply": "2023-12-14T15:30:03.968036Z"
    },
    "papermill": {
     "duration": 0.016709,
     "end_time": "2023-12-14T15:30:03.970624",
     "exception": false,
     "start_time": "2023-12-14T15:30:03.953915",
     "status": "completed"
    },
    "tags": []
   },
   "outputs": [],
   "source": [
    "train_data_path = r\"/kaggle/input/deltadoubledelta-all-feat-add/delta,DoubleDelta/MFCC/Delta/train\"\n",
    "validation_data_path =r\"/kaggle/input/deltadoubledelta-all-feat-add/delta,DoubleDelta/MFCC/Delta/dev\"\n",
    "test_data_path = r\"/kaggle/input/deltadoubledelta-all-feat-add/delta,DoubleDelta/MFCC/Delta/test\""
   ]
  },
  {
   "cell_type": "code",
   "execution_count": 6,
   "id": "93895c4d",
   "metadata": {
    "execution": {
     "iopub.execute_input": "2023-12-14T15:30:03.992653Z",
     "iopub.status.busy": "2023-12-14T15:30:03.991896Z",
     "iopub.status.idle": "2023-12-14T15:30:03.996588Z",
     "shell.execute_reply": "2023-12-14T15:30:03.995920Z"
    },
    "papermill": {
     "duration": 0.017428,
     "end_time": "2023-12-14T15:30:03.998336",
     "exception": false,
     "start_time": "2023-12-14T15:30:03.980908",
     "status": "completed"
    },
    "tags": []
   },
   "outputs": [],
   "source": [
    "# # ResNet50\n",
    "# class PtDataset(Dataset):\n",
    "#     def __init__(self, directory):\n",
    "#         self.directory = directory\n",
    "#         self.classes = sorted(entry.name for entry in os.scandir(directory) if entry.is_dir())\n",
    "#         self.class_to_idx = {c: i for i, c in enumerate(self.classes)}\n",
    "#         self.files = []\n",
    "#         for c in self.classes:\n",
    "#             c_dir = os.path.join(directory, c)\n",
    "#             c_files = [(os.path.join(c_dir, f), self.class_to_idx[c]) for f in os.listdir(c_dir)]\n",
    "#             self.files.extend(c_files)\n",
    "#         random.shuffle(self.files)\n",
    "        \n",
    "#     def __len__(self):\n",
    "#         return len(self.files)\n",
    "    \n",
    "#     # Assuming mono audio data\n",
    "#     def __getitem__(self, idx):\n",
    "#         filepath, label = self.files[idx]\n",
    "#         try:\n",
    "#             mat_vals = scipy.io.loadmat(filepath)\n",
    "#             data = mat_vals['final']\n",
    "#             data = data.T\n",
    "#             max_len = 750\n",
    "\n",
    "#             if (max_len > data.shape[0]):\n",
    "#                 pad_width = max_len - data.shape[0]\n",
    "#                 data = np.pad(data, pad_width=((0, pad_width), (0, 0)), mode='constant')\n",
    "#             else:\n",
    "#                 data = data[:max_len, :]\n",
    "\n",
    "#             # Reshape data to (1, 750, 20) for mono audio\n",
    "#             data = data[np.newaxis, :, :]\n",
    "\n",
    "#         except Exception as e:\n",
    "#             print(f\"Error loading file {filepath}: {str(e)}\")\n",
    "#             return None\n",
    "\n",
    "#         return data, label\n"
   ]
  },
  {
   "cell_type": "code",
   "execution_count": 7,
   "id": "26cc8f20",
   "metadata": {
    "execution": {
     "iopub.execute_input": "2023-12-14T15:30:04.019776Z",
     "iopub.status.busy": "2023-12-14T15:30:04.019522Z",
     "iopub.status.idle": "2023-12-14T15:30:04.030041Z",
     "shell.execute_reply": "2023-12-14T15:30:04.029363Z"
    },
    "papermill": {
     "duration": 0.02334,
     "end_time": "2023-12-14T15:30:04.031857",
     "exception": false,
     "start_time": "2023-12-14T15:30:04.008517",
     "status": "completed"
    },
    "tags": []
   },
   "outputs": [],
   "source": [
    "class PtDataset(Dataset):\n",
    "    def __init__(self, directory):\n",
    "        self.directory = directory\n",
    "        self.classes = sorted(entry.name for entry in os.scandir(directory) if entry.is_dir())\n",
    "        self.class_to_idx = {c: i for i, c in enumerate(self.classes)}\n",
    "        self.files = []\n",
    "        for c in self.classes:\n",
    "            c_dir = os.path.join(directory, c)\n",
    "            c_files = [(os.path.join(c_dir, f), self.class_to_idx[c]) for f in os.listdir(c_dir)]\n",
    "            self.files.extend(c_files)\n",
    "        random.shuffle(self.files)\n",
    "        \n",
    "    def __len__(self):\n",
    "        return len(self.files)\n",
    "    \n",
    "    def __getitem__(self, idx):\n",
    "        filepath, label = self.files[idx]\n",
    "        try:\n",
    "            mat_vals = scipy.io.loadmat(filepath)\n",
    "            data = mat_vals['final']\n",
    "#             data = data.T\n",
    "            max_len=750\n",
    "            if (max_len > data.shape[0]):\n",
    "                pad_width = max_len - data.shape[0]\n",
    "                data = np.pad(data, pad_width=((0, pad_width),(0,0)), mode='constant')\n",
    "            else:\n",
    "                data = data[:max_len, :]\n",
    "        except Exception as e:\n",
    "            print(f\"Error loading file {filepath}: {str(e)}\")\n",
    "            return None\n",
    "        return data, label"
   ]
  },
  {
   "cell_type": "code",
   "execution_count": 8,
   "id": "077da579",
   "metadata": {
    "execution": {
     "iopub.execute_input": "2023-12-14T15:30:04.053618Z",
     "iopub.status.busy": "2023-12-14T15:30:04.052981Z",
     "iopub.status.idle": "2023-12-14T15:30:10.210455Z",
     "shell.execute_reply": "2023-12-14T15:30:10.209459Z"
    },
    "papermill": {
     "duration": 6.170758,
     "end_time": "2023-12-14T15:30:10.212836",
     "exception": false,
     "start_time": "2023-12-14T15:30:04.042078",
     "status": "completed"
    },
    "tags": []
   },
   "outputs": [],
   "source": [
    "train_dataset = PtDataset(train_data_path)\n",
    "test_dataset = PtDataset(test_data_path)\n",
    "val_dataset = PtDataset(validation_data_path)"
   ]
  },
  {
   "cell_type": "code",
   "execution_count": 9,
   "id": "5d0b9cec",
   "metadata": {
    "execution": {
     "iopub.execute_input": "2023-12-14T15:30:10.235513Z",
     "iopub.status.busy": "2023-12-14T15:30:10.235208Z",
     "iopub.status.idle": "2023-12-14T15:30:10.239875Z",
     "shell.execute_reply": "2023-12-14T15:30:10.239048Z"
    },
    "papermill": {
     "duration": 0.017676,
     "end_time": "2023-12-14T15:30:10.241826",
     "exception": false,
     "start_time": "2023-12-14T15:30:10.224150",
     "status": "completed"
    },
    "tags": []
   },
   "outputs": [],
   "source": [
    "class PtDataLoader(DataLoader):\n",
    "    def __init__(self, directory, batch_size, shuffle=True):\n",
    "        dataset = PtDataset(directory)\n",
    "        super().__init__(dataset, batch_size=batch_size, shuffle=shuffle)"
   ]
  },
  {
   "cell_type": "code",
   "execution_count": 10,
   "id": "04282a2e",
   "metadata": {
    "execution": {
     "iopub.execute_input": "2023-12-14T15:30:10.263149Z",
     "iopub.status.busy": "2023-12-14T15:30:10.262853Z",
     "iopub.status.idle": "2023-12-14T15:30:10.495721Z",
     "shell.execute_reply": "2023-12-14T15:30:10.495033Z"
    },
    "papermill": {
     "duration": 0.245784,
     "end_time": "2023-12-14T15:30:10.497815",
     "exception": false,
     "start_time": "2023-12-14T15:30:10.252031",
     "status": "completed"
    },
    "tags": []
   },
   "outputs": [],
   "source": [
    "train_dataloader = PtDataLoader(directory=train_data_path, batch_size=batch_size)\n",
    "test_dataloader = PtDataLoader(directory=test_data_path, batch_size=batch_size)\n",
    "val_dataloader = PtDataLoader(directory=validation_data_path, batch_size=batch_size)"
   ]
  },
  {
   "cell_type": "code",
   "execution_count": 11,
   "id": "b0eaf743",
   "metadata": {
    "execution": {
     "iopub.execute_input": "2023-12-14T15:30:10.519846Z",
     "iopub.status.busy": "2023-12-14T15:30:10.519559Z",
     "iopub.status.idle": "2023-12-14T15:30:10.523887Z",
     "shell.execute_reply": "2023-12-14T15:30:10.523043Z"
    },
    "papermill": {
     "duration": 0.017562,
     "end_time": "2023-12-14T15:30:10.525845",
     "exception": false,
     "start_time": "2023-12-14T15:30:10.508283",
     "status": "completed"
    },
    "tags": []
   },
   "outputs": [],
   "source": [
    "train_count = len(train_dataset) \n",
    "test_count = len(test_dataset)\n",
    "val_count = len(val_dataset)"
   ]
  },
  {
   "cell_type": "code",
   "execution_count": 12,
   "id": "5cbb42b5",
   "metadata": {
    "execution": {
     "iopub.execute_input": "2023-12-14T15:30:10.547201Z",
     "iopub.status.busy": "2023-12-14T15:30:10.546898Z",
     "iopub.status.idle": "2023-12-14T15:30:10.551235Z",
     "shell.execute_reply": "2023-12-14T15:30:10.550435Z"
    },
    "papermill": {
     "duration": 0.017077,
     "end_time": "2023-12-14T15:30:10.553121",
     "exception": false,
     "start_time": "2023-12-14T15:30:10.536044",
     "status": "completed"
    },
    "tags": []
   },
   "outputs": [
    {
     "name": "stdout",
     "output_type": "stream",
     "text": [
      "53866\n",
      "4634\n",
      "10798\n"
     ]
    }
   ],
   "source": [
    "print(train_count)\n",
    "print(test_count)\n",
    "print(val_count)"
   ]
  },
  {
   "cell_type": "code",
   "execution_count": 13,
   "id": "61cca9e9",
   "metadata": {
    "execution": {
     "iopub.execute_input": "2023-12-14T15:30:10.574687Z",
     "iopub.status.busy": "2023-12-14T15:30:10.574422Z",
     "iopub.status.idle": "2023-12-14T15:30:10.581842Z",
     "shell.execute_reply": "2023-12-14T15:30:10.581051Z"
    },
    "papermill": {
     "duration": 0.020258,
     "end_time": "2023-12-14T15:30:10.583708",
     "exception": false,
     "start_time": "2023-12-14T15:30:10.563450",
     "status": "completed"
    },
    "tags": []
   },
   "outputs": [],
   "source": [
    "class LSTMClassifier(nn.Module):\n",
    "    def __init__(self, input_size, hidden_size, num_layers, num_classes):\n",
    "        super(LSTMClassifier, self).__init__()\n",
    "        self.hidden_size = hidden_size\n",
    "        self.num_layers = num_layers\n",
    "        self.lstm = nn.LSTM(input_size, hidden_size, num_layers, batch_first=True, bidirectional=False)\n",
    "        self.dropout = nn.Dropout(p=drop_amount)\n",
    "        self.fc = nn.Linear(hidden_size, num_classes)\n",
    "\n",
    "    def forward(self, x):\n",
    "        # Explicitly specify the data type for initial hidden state tensors\n",
    "        h0 = torch.zeros(self.num_layers, x.size(0), self.hidden_size, dtype=x.dtype).to(device=x.device)\n",
    "        c0 = torch.zeros(self.num_layers, x.size(0), self.hidden_size, dtype=x.dtype).to(device=x.device)\n",
    "        out, _ = self.lstm(x, (h0, c0))\n",
    "        out = self.dropout(out)\n",
    "        out = self.fc(out[:, -1, :])\n",
    "        return out"
   ]
  },
  {
   "cell_type": "code",
   "execution_count": 14,
   "id": "747fe2c7",
   "metadata": {
    "execution": {
     "iopub.execute_input": "2023-12-14T15:30:10.605139Z",
     "iopub.status.busy": "2023-12-14T15:30:10.604861Z",
     "iopub.status.idle": "2023-12-14T15:30:10.612234Z",
     "shell.execute_reply": "2023-12-14T15:30:10.611528Z"
    },
    "papermill": {
     "duration": 0.020153,
     "end_time": "2023-12-14T15:30:10.614031",
     "exception": false,
     "start_time": "2023-12-14T15:30:10.593878",
     "status": "completed"
    },
    "tags": []
   },
   "outputs": [],
   "source": [
    "drop_amount = 0.255\n",
    "\n",
    "class BiGRUAudioClassifier(nn.Module):\n",
    "    def __init__(self,input_size, num_classes, hidden_units, num_layers):\n",
    "        super(BiGRUAudioClassifier, self).__init__()\n",
    "        self.input_size = input_size \n",
    "        self.num_classes = num_classes\n",
    "        self.hidden_units = hidden_units\n",
    "        self.num_layers = num_layers\n",
    "\n",
    "        self.bigru = nn.GRU(input_size=input_size, hidden_size=hidden_units, num_layers=num_layers, batch_first=True, bidirectional=True)\n",
    "        self.dropout = nn.Dropout(p=drop_amount)\n",
    "        # self.fc = nn.Linear(hidden_units, num_classes)\n",
    "        self.fc = nn.Linear(hidden_units * 2, num_classes)\n",
    "\n",
    "    def forward(self, x):\n",
    "        # x: (batch_size, sequence_length, num_features)\n",
    "\n",
    "        # Pass the input through the bi-GRU layers\n",
    "        output, _ = self.bigru(x)\n",
    "        output = self.dropout(output)\n",
    "        # Extract the last hidden state (concatenate forward and backward hidden states)\n",
    "        last_hidden_state = torch.cat((output[:, -1, :self.hidden_units], output[:, 0, self.hidden_units:]), dim=1)\n",
    "        # Apply the fully connected layer for classification\n",
    "        output = self.fc(last_hidden_state)\n",
    "\n",
    "        return output"
   ]
  },
  {
   "cell_type": "code",
   "execution_count": 15,
   "id": "79edeb3c",
   "metadata": {
    "execution": {
     "iopub.execute_input": "2023-12-14T15:30:10.635412Z",
     "iopub.status.busy": "2023-12-14T15:30:10.635151Z",
     "iopub.status.idle": "2023-12-14T15:30:10.639101Z",
     "shell.execute_reply": "2023-12-14T15:30:10.638275Z"
    },
    "papermill": {
     "duration": 0.016775,
     "end_time": "2023-12-14T15:30:10.641029",
     "exception": false,
     "start_time": "2023-12-14T15:30:10.624254",
     "status": "completed"
    },
    "tags": []
   },
   "outputs": [],
   "source": [
    "import torch\n",
    "from torch import nn\n",
    "from torch.nn import Parameter\n",
    "import torch.nn.functional as F"
   ]
  },
  {
   "cell_type": "code",
   "execution_count": 16,
   "id": "72d76bad",
   "metadata": {
    "execution": {
     "iopub.execute_input": "2023-12-14T15:30:10.662562Z",
     "iopub.status.busy": "2023-12-14T15:30:10.662324Z",
     "iopub.status.idle": "2023-12-14T15:30:15.492940Z",
     "shell.execute_reply": "2023-12-14T15:30:15.492064Z"
    },
    "papermill": {
     "duration": 4.844297,
     "end_time": "2023-12-14T15:30:15.495737",
     "exception": false,
     "start_time": "2023-12-14T15:30:10.651440",
     "status": "completed"
    },
    "tags": []
   },
   "outputs": [
    {
     "data": {
      "text/plain": [
       "LSTMClassifier(\n",
       "  (lstm): LSTM(20, 256, num_layers=2, batch_first=True)\n",
       "  (dropout): Dropout(p=0.255, inplace=False)\n",
       "  (fc): Linear(in_features=256, out_features=2, bias=True)\n",
       ")"
      ]
     },
     "execution_count": 16,
     "metadata": {},
     "output_type": "execute_result"
    }
   ],
   "source": [
    "# Define the parameters\n",
    "input_size = 20\n",
    "hidden_size = 256\n",
    "num_layers = 2\n",
    "num_classes = 2\n",
    "# drop_amount = 0.25  # You can choose an appropriate dropout rate\n",
    "\n",
    "model = LSTMClassifier(input_size, hidden_size, num_layers, num_classes)\n",
    "model.to(device, dtype=torch.double)\n"
   ]
  },
  {
   "cell_type": "code",
   "execution_count": 17,
   "id": "ac9e9e1b",
   "metadata": {
    "execution": {
     "iopub.execute_input": "2023-12-14T15:30:15.519154Z",
     "iopub.status.busy": "2023-12-14T15:30:15.518588Z",
     "iopub.status.idle": "2023-12-14T15:30:15.522821Z",
     "shell.execute_reply": "2023-12-14T15:30:15.522036Z"
    },
    "papermill": {
     "duration": 0.017798,
     "end_time": "2023-12-14T15:30:15.524777",
     "exception": false,
     "start_time": "2023-12-14T15:30:15.506979",
     "status": "completed"
    },
    "tags": []
   },
   "outputs": [],
   "source": [
    "import torch\n",
    "import torch.nn as nn\n",
    "import torch.optim as optim"
   ]
  },
  {
   "cell_type": "code",
   "execution_count": 18,
   "id": "3a9a7f29",
   "metadata": {
    "execution": {
     "iopub.execute_input": "2023-12-14T15:30:15.546970Z",
     "iopub.status.busy": "2023-12-14T15:30:15.546497Z",
     "iopub.status.idle": "2023-12-14T15:30:15.551008Z",
     "shell.execute_reply": "2023-12-14T15:30:15.550197Z"
    },
    "papermill": {
     "duration": 0.017467,
     "end_time": "2023-12-14T15:30:15.552824",
     "exception": false,
     "start_time": "2023-12-14T15:30:15.535357",
     "status": "completed"
    },
    "tags": []
   },
   "outputs": [],
   "source": [
    "loss_function = nn.CrossEntropyLoss()\n",
    "optimizer = optim.Adam(model.parameters(), lr=learning_rate)"
   ]
  },
  {
   "cell_type": "code",
   "execution_count": 19,
   "id": "601c7c4d",
   "metadata": {
    "execution": {
     "iopub.execute_input": "2023-12-14T15:30:15.574622Z",
     "iopub.status.busy": "2023-12-14T15:30:15.574375Z",
     "iopub.status.idle": "2023-12-14T15:30:15.578856Z",
     "shell.execute_reply": "2023-12-14T15:30:15.577984Z"
    },
    "papermill": {
     "duration": 0.01742,
     "end_time": "2023-12-14T15:30:15.580668",
     "exception": false,
     "start_time": "2023-12-14T15:30:15.563248",
     "status": "completed"
    },
    "tags": []
   },
   "outputs": [
    {
     "name": "stdout",
     "output_type": "stream",
     "text": [
      "LSTMClassifier(\n",
      "  (lstm): LSTM(20, 256, num_layers=2, batch_first=True)\n",
      "  (dropout): Dropout(p=0.255, inplace=False)\n",
      "  (fc): Linear(in_features=256, out_features=2, bias=True)\n",
      ")\n"
     ]
    }
   ],
   "source": [
    "print(model)"
   ]
  },
  {
   "cell_type": "code",
   "execution_count": 20,
   "id": "82e36ae8",
   "metadata": {
    "execution": {
     "iopub.execute_input": "2023-12-14T15:30:15.602664Z",
     "iopub.status.busy": "2023-12-14T15:30:15.602425Z",
     "iopub.status.idle": "2023-12-14T15:30:19.019946Z",
     "shell.execute_reply": "2023-12-14T15:30:19.019201Z"
    },
    "papermill": {
     "duration": 3.431177,
     "end_time": "2023-12-14T15:30:19.022285",
     "exception": false,
     "start_time": "2023-12-14T15:30:15.591108",
     "status": "completed"
    },
    "tags": []
   },
   "outputs": [],
   "source": [
    "import torch \n",
    "import torch.nn as nn\n",
    "import torch.nn.functional as F\n",
    "from torch.autograd import Variable\n",
    "from torch.utils.data import Dataset, DataLoader\n",
    "import os, pathlib, glob, random\n",
    "import numpy as np\n",
    "import matplotlib.pyplot as plt \n",
    "import seaborn as sns\n",
    "from sklearn.metrics import confusion_matrix\n",
    "from transformers import WhisperProcessor, WhisperForConditionalGeneration\n",
    "from datasets import load_dataset\n",
    "from transformers.models.whisper.modeling_whisper import WhisperModel, WhisperEncoder\n",
    "from transformers.models.whisper.configuration_whisper import WhisperConfig\n",
    "from typing import Optional, Tuple, Union\n",
    "import torch\n",
    "import librosa \n",
    "import matplotlib.pyplot as plt\n",
    "import numpy as np\n",
    "import os, glob, pickle\n",
    "import scipy.io as sio\n",
    "from tqdm import tqdm\n",
    "import multiprocessing as mp \n",
    "import torch.optim as optim"
   ]
  },
  {
   "cell_type": "code",
   "execution_count": 21,
   "id": "35b05542",
   "metadata": {
    "execution": {
     "iopub.execute_input": "2023-12-14T15:30:19.045462Z",
     "iopub.status.busy": "2023-12-14T15:30:19.044985Z",
     "iopub.status.idle": "2023-12-14T16:38:49.889408Z",
     "shell.execute_reply": "2023-12-14T16:38:49.888362Z"
    },
    "papermill": {
     "duration": 4110.869355,
     "end_time": "2023-12-14T16:38:49.902706",
     "exception": false,
     "start_time": "2023-12-14T15:30:19.033351",
     "status": "completed"
    },
    "tags": []
   },
   "outputs": [
    {
     "name": "stdout",
     "output_type": "stream",
     "text": [
      "Epoch : 1/15   Train Loss : tensor(0.6972, dtype=torch.float64)   Train Accuracy : 0.4993131103107712   Test Accuracy : 0.49990739025745506\n",
      "Epoch : 2/15   Train Loss : tensor(0.6941, dtype=torch.float64)   Train Accuracy : 0.49756803920840603   Test Accuracy : 0.5000926097425449\n",
      "Epoch : 3/15   Train Loss : tensor(0.6932, dtype=torch.float64)   Train Accuracy : 0.49701110162254486   Test Accuracy : 0.49990739025745506\n",
      "Epoch : 4/15   Train Loss : tensor(0.6932, dtype=torch.float64)   Train Accuracy : 0.49988861248282773   Test Accuracy : 0.5000926097425449\n",
      "Epoch : 5/15   Train Loss : tensor(0.6932, dtype=torch.float64)   Train Accuracy : 0.49875617272490996   Test Accuracy : 0.49990739025745506\n",
      "Epoch : 6/15   Train Loss : tensor(0.6932, dtype=torch.float64)   Train Accuracy : 0.5010767459993317   Test Accuracy : 0.49990739025745506\n",
      "Epoch : 7/15   Train Loss : tensor(0.6940, dtype=torch.float64)   Train Accuracy : 0.5025619128949615   Test Accuracy : 0.5000926097425449\n",
      "Epoch : 8/15   Train Loss : tensor(0.6930, dtype=torch.float64)   Train Accuracy : 0.5077599970296662   Test Accuracy : 0.5000926097425449\n",
      "Epoch : 9/15   Train Loss : tensor(0.6933, dtype=torch.float64)   Train Accuracy : 0.5012066981026992   Test Accuracy : 0.5000926097425449\n",
      "Epoch : 10/15   Train Loss : tensor(0.6932, dtype=torch.float64)   Train Accuracy : 0.5010024876545501   Test Accuracy : 0.49990739025745506\n",
      "Epoch : 11/15   Train Loss : tensor(0.6932, dtype=torch.float64)   Train Accuracy : 0.49474622210670927   Test Accuracy : 0.49990739025745506\n",
      "Epoch : 12/15   Train Loss : tensor(0.6932, dtype=torch.float64)   Train Accuracy : 0.5001113875171722   Test Accuracy : 0.49990739025745506\n",
      "Epoch : 13/15   Train Loss : tensor(0.6932, dtype=torch.float64)   Train Accuracy : 0.5026176066535477   Test Accuracy : 0.5000926097425449\n",
      "Epoch : 14/15   Train Loss : tensor(0.6932, dtype=torch.float64)   Train Accuracy : 0.49886756024208223   Test Accuracy : 0.49990739025745506\n",
      "Epoch : 15/15   Train Loss : tensor(0.6932, dtype=torch.float64)   Train Accuracy : 0.4995730145175064   Test Accuracy : 0.49990739025745506\n",
      "0.5000926097425449\n",
      "Finished Training and Testing\n"
     ]
    }
   ],
   "source": [
    "#Model training and testing \n",
    "n_total_steps = len(train_dataloader) # n_total_steps * batch size will give total number of training files (consider that last batch may not be fully filled)\n",
    "train_accuracy_list = []\n",
    "train_loss_list = []\n",
    "val_accuracy_list = []\n",
    "max_acc=0\n",
    "num_epochs = 15\n",
    "pred_labels =[]\n",
    "act_labels = []\n",
    "\n",
    "for epoch in range(num_epochs):\n",
    "    \n",
    "    #Evaluation and training on training dataset\n",
    "    model.train()\n",
    "    train_accuracy=0.0\n",
    "    train_loss=0.0\n",
    "    \n",
    "    for batch_idx, (images,labels) in enumerate(train_dataloader):\n",
    "        if torch.cuda.is_available():\n",
    "            images=Variable(images.cuda())\n",
    "            labels=Variable(labels.cuda())\n",
    "        ##images = images.unsqueeze(1)\n",
    "        optimizer.zero_grad()\n",
    "        outputs=model(images)\n",
    "        loss=loss_function(outputs,labels)\n",
    "        loss.backward()\n",
    "        optimizer.step()\n",
    "        \n",
    "        \n",
    "        train_loss+= loss.cpu().data*images.size(0)\n",
    "        _,prediction=torch.max(outputs.data,1)\n",
    "        \n",
    "        train_accuracy+=int(torch.sum(prediction==labels.data))\n",
    "        \n",
    "    train_accuracy=train_accuracy/train_count\n",
    "    train_loss=train_loss/train_count\n",
    "    \n",
    "    train_accuracy_list.append(train_accuracy)\n",
    "    train_loss_list.append(train_loss)\n",
    "\n",
    "    \n",
    "    # Validation on Validation dataset\n",
    "    model.eval()\n",
    "    val_accuracy=0.0\n",
    "    pred = []\n",
    "    lab = []\n",
    "    \n",
    "    for i, (images,labels) in enumerate(val_dataloader):\n",
    "        if torch.cuda.is_available():\n",
    "            images=Variable(images.cuda())\n",
    "            labels=Variable(labels.cuda())\n",
    "        ##images = images.unsqueeze(1) \n",
    "#         print(i,images.shape)\n",
    "        outputs=model(images)\n",
    "        _,prediction=torch.max(outputs.data,1)\n",
    "        val_accuracy+=int(torch.sum(prediction==labels.data))\n",
    "        \n",
    "        pred.extend(prediction.tolist())\n",
    "        lab.extend(labels.tolist())\n",
    "    \n",
    "    val_accuracy=val_accuracy/val_count\n",
    "    val_accuracy_list.append(val_accuracy)\n",
    "    if max_acc < val_accuracy:\n",
    "        max_acc = val_accuracy\n",
    "        pred_labels = pred\n",
    "        actual_labels = lab\n",
    "        max_acc = val_accuracy\n",
    "        torch.save(model,\"best_accuracy_model_LSTM.pth\")\n",
    "    print('Epoch : '+str(epoch+1)+'/'+str(num_epochs)+'   Train Loss : '+str(train_loss)+'   Train Accuracy : '+str(train_accuracy)+'   Test Accuracy : '+str(val_accuracy))\n",
    "print(max_acc)   \n",
    "print('Finished Training and Testing')"
   ]
  },
  {
   "cell_type": "code",
   "execution_count": 22,
   "id": "8a931c15",
   "metadata": {
    "execution": {
     "iopub.execute_input": "2023-12-14T16:38:49.927312Z",
     "iopub.status.busy": "2023-12-14T16:38:49.926960Z",
     "iopub.status.idle": "2023-12-14T16:39:40.834488Z",
     "shell.execute_reply": "2023-12-14T16:39:40.833564Z"
    },
    "papermill": {
     "duration": 50.934076,
     "end_time": "2023-12-14T16:39:40.848378",
     "exception": false,
     "start_time": "2023-12-14T16:38:49.914302",
     "status": "completed"
    },
    "tags": []
   },
   "outputs": [
    {
     "name": "stdout",
     "output_type": "stream",
     "text": [
      "testing Accuracy: 0.48856279671989644\n"
     ]
    }
   ],
   "source": [
    "# Load the best model\n",
    "best_model = torch.load(\"best_accuracy_model_LSTM.pth\")\n",
    "\n",
    "# Put the best_model in evaluation mode\n",
    "best_model.eval()\n",
    "\n",
    "# Initialize variables to store results\n",
    "testing_accuracy = 0.0\n",
    "pred_labels = []\n",
    "act_labels = []\n",
    "\n",
    "# Pass validation data through the best model\n",
    "for i, (images, labels) in enumerate(test_dataloader):\n",
    "    if torch.cuda.is_available():\n",
    "        images = Variable(images.cuda())\n",
    "        labels = Variable(labels.cuda())\n",
    "    \n",
    "    outputs = best_model(images)\n",
    "    _, prediction = torch.max(outputs.data, 1)\n",
    "    \n",
    "    testing_accuracy += int(torch.sum(prediction == labels.data))\n",
    "    \n",
    "    pred_labels.extend(prediction.tolist())\n",
    "    act_labels.extend(labels.tolist())\n",
    "\n",
    "# Calculate validation accuracy\n",
    "testing_accuracy = testing_accuracy / len(test_dataloader.dataset)\n",
    "\n",
    "# Print the validation accuracy\n",
    "print(\"testing Accuracy:\", testing_accuracy)\n",
    "# train Accuracy: 0.9726729291204099\n",
    "# Validation Accuracy: 0.9680496388220041\n",
    "# test Accuracy: 0.9512300388433319"
   ]
  },
  {
   "cell_type": "code",
   "execution_count": 23,
   "id": "2db2bea2",
   "metadata": {
    "execution": {
     "iopub.execute_input": "2023-12-14T16:39:40.873131Z",
     "iopub.status.busy": "2023-12-14T16:39:40.872772Z",
     "iopub.status.idle": "2023-12-14T16:39:40.877908Z",
     "shell.execute_reply": "2023-12-14T16:39:40.877036Z"
    },
    "papermill": {
     "duration": 0.019803,
     "end_time": "2023-12-14T16:39:40.879864",
     "exception": false,
     "start_time": "2023-12-14T16:39:40.860061",
     "status": "completed"
    },
    "tags": []
   },
   "outputs": [
    {
     "name": "stdout",
     "output_type": "stream",
     "text": [
      "LSTMClassifier(\n",
      "  (lstm): LSTM(20, 256, num_layers=2, batch_first=True)\n",
      "  (dropout): Dropout(p=0.255, inplace=False)\n",
      "  (fc): Linear(in_features=256, out_features=2, bias=True)\n",
      ")\n"
     ]
    }
   ],
   "source": [
    "print(model)"
   ]
  },
  {
   "cell_type": "code",
   "execution_count": 24,
   "id": "15e59ba0",
   "metadata": {
    "execution": {
     "iopub.execute_input": "2023-12-14T16:39:40.904664Z",
     "iopub.status.busy": "2023-12-14T16:39:40.904373Z",
     "iopub.status.idle": "2023-12-14T16:39:41.288164Z",
     "shell.execute_reply": "2023-12-14T16:39:41.286838Z"
    },
    "papermill": {
     "duration": 0.398909,
     "end_time": "2023-12-14T16:39:41.290672",
     "exception": false,
     "start_time": "2023-12-14T16:39:40.891763",
     "status": "completed"
    },
    "tags": []
   },
   "outputs": [
    {
     "data": {
      "image/png": "[encoded data removed]",
      "text/plain": [
       "<Figure size 640x480 with 2 Axes>"
      ]
     },
     "metadata": {},
     "output_type": "display_data"
    },
    {
     "name": "stdout",
     "output_type": "stream",
     "text": [
      "F1 Score :  0.32821107567410845\n"
     ]
    }
   ],
   "source": [
    "# Calculate the confusion matrix\n",
    "import seaborn as sns\n",
    "conf_mat = confusion_matrix(act_labels, pred_labels)\n",
    "# Plot confusion matrix heat map\n",
    "sns.heatmap(conf_mat, cmap=\"flare\",annot=True, fmt = \"g\", \n",
    "            cbar_kws={\"label\":\"color bar\"},\n",
    "            xticklabels=train_dataset.classes,\n",
    "            yticklabels=train_dataset.classes)\n",
    "plt.xlabel(\"Predicted\")\n",
    "plt.ylabel(\"Actual\")\n",
    "plt.title(\"Confusion Matrix\")\n",
    "plt.savefig(\"ConfusionMatrix_LSTM.png\")\n",
    "plt.show()\n",
    "from sklearn.metrics import f1_score\n",
    "f1_score = f1_score(pred_labels, act_labels, average='macro')\n",
    "print('F1 Score : ', f1_score)\n"
   ]
  },
  {
   "cell_type": "code",
   "execution_count": 25,
   "id": "80b0a8b7",
   "metadata": {
    "execution": {
     "iopub.execute_input": "2023-12-14T16:39:41.318168Z",
     "iopub.status.busy": "2023-12-14T16:39:41.317803Z",
     "iopub.status.idle": "2023-12-14T16:39:41.321888Z",
     "shell.execute_reply": "2023-12-14T16:39:41.320989Z"
    },
    "papermill": {
     "duration": 0.01961,
     "end_time": "2023-12-14T16:39:41.323819",
     "exception": false,
     "start_time": "2023-12-14T16:39:41.304209",
     "status": "completed"
    },
    "tags": []
   },
   "outputs": [],
   "source": [
    "# torch.save(model,'MGDCC_LSTMClassifier_01_01.pth')"
   ]
  },
  {
   "cell_type": "code",
   "execution_count": 26,
   "id": "be5162ef",
   "metadata": {
    "execution": {
     "iopub.execute_input": "2023-12-14T16:39:41.349595Z",
     "iopub.status.busy": "2023-12-14T16:39:41.349311Z",
     "iopub.status.idle": "2023-12-14T16:39:41.353240Z",
     "shell.execute_reply": "2023-12-14T16:39:41.352419Z"
    },
    "papermill": {
     "duration": 0.019206,
     "end_time": "2023-12-14T16:39:41.355287",
     "exception": false,
     "start_time": "2023-12-14T16:39:41.336081",
     "status": "completed"
    },
    "tags": []
   },
   "outputs": [],
   "source": [
    "# BiLSTM"
   ]
  },
  {
   "cell_type": "code",
   "execution_count": 27,
   "id": "ea134e0a",
   "metadata": {
    "execution": {
     "iopub.execute_input": "2023-12-14T16:39:41.386516Z",
     "iopub.status.busy": "2023-12-14T16:39:41.386214Z",
     "iopub.status.idle": "2023-12-14T16:39:41.398179Z",
     "shell.execute_reply": "2023-12-14T16:39:41.396983Z"
    },
    "papermill": {
     "duration": 0.031003,
     "end_time": "2023-12-14T16:39:41.401359",
     "exception": false,
     "start_time": "2023-12-14T16:39:41.370356",
     "status": "completed"
    },
    "tags": []
   },
   "outputs": [],
   "source": [
    "drop_amount = 0.255\n",
    "\n",
    "class BiLSTMClassifier(nn.Module):\n",
    "    def __init__(self, input_size, hidden_size, num_layers, num_classes):\n",
    "        super(BiLSTMClassifier, self).__init__()\n",
    "        self.hidden_size = hidden_size\n",
    "        self.num_layers = num_layers\n",
    "        self.lstm = nn.LSTM(input_size, hidden_size, num_layers, batch_first=True, bidirectional=True)\n",
    "        self.dropout = nn.Dropout(p=drop_amount)\n",
    "        self.fc = nn.Linear(hidden_size*2, num_classes)\n",
    "\n",
    "    def forward(self, x):\n",
    "        h0 = torch.zeros(self.num_layers*2, x.size(0), self.hidden_size).to(device=x.device, dtype=torch.double)\n",
    "        c0 = torch.zeros(self.num_layers*2, x.size(0), self.hidden_size).to(device=x.device, dtype=torch.double)\n",
    "        out, _ = self.lstm(x, (h0, c0))\n",
    "        out = self.dropout(out)\n",
    "        # Extract the output of the last time step from both directions\n",
    "        last_hidden_state = torch.cat((out[:, -1, :self.hidden_size], out[:, 0, self.hidden_size:]), dim=1)\n",
    "        output = self.fc(last_hidden_state)\n",
    "        return output"
   ]
  },
  {
   "cell_type": "code",
   "execution_count": 28,
   "id": "cbbe38b6",
   "metadata": {
    "execution": {
     "iopub.execute_input": "2023-12-14T16:39:41.435877Z",
     "iopub.status.busy": "2023-12-14T16:39:41.435550Z",
     "iopub.status.idle": "2023-12-14T16:39:41.439672Z",
     "shell.execute_reply": "2023-12-14T16:39:41.438808Z"
    },
    "papermill": {
     "duration": 0.022884,
     "end_time": "2023-12-14T16:39:41.441582",
     "exception": false,
     "start_time": "2023-12-14T16:39:41.418698",
     "status": "completed"
    },
    "tags": []
   },
   "outputs": [],
   "source": [
    "batch_size = 64\n",
    "output_nodes = 2\n",
    "learning_rate = 0.0001"
   ]
  },
  {
   "cell_type": "code",
   "execution_count": 29,
   "id": "48ab7215",
   "metadata": {
    "execution": {
     "iopub.execute_input": "2023-12-14T16:39:41.467293Z",
     "iopub.status.busy": "2023-12-14T16:39:41.467009Z",
     "iopub.status.idle": "2023-12-14T16:39:41.495446Z",
     "shell.execute_reply": "2023-12-14T16:39:41.494305Z"
    },
    "papermill": {
     "duration": 0.043467,
     "end_time": "2023-12-14T16:39:41.497351",
     "exception": false,
     "start_time": "2023-12-14T16:39:41.453884",
     "status": "completed"
    },
    "tags": []
   },
   "outputs": [
    {
     "name": "stdout",
     "output_type": "stream",
     "text": [
      "BiLSTMClassifier(\n",
      "  (lstm): LSTM(20, 256, num_layers=2, batch_first=True, bidirectional=True)\n",
      "  (dropout): Dropout(p=0.255, inplace=False)\n",
      "  (fc): Linear(in_features=512, out_features=2, bias=True)\n",
      ")\n"
     ]
    }
   ],
   "source": [
    "model = BiLSTMClassifier(input_size, hidden_size, num_layers, num_classes)\n",
    "model.to(device, dtype=torch.double)\n",
    "loss_function = nn.CrossEntropyLoss()\n",
    "optimizer = optim.Adam(model.parameters(), lr=learning_rate)\n",
    "print(model)"
   ]
  },
  {
   "cell_type": "code",
   "execution_count": 30,
   "id": "7620b272",
   "metadata": {
    "execution": {
     "iopub.execute_input": "2023-12-14T16:39:41.523798Z",
     "iopub.status.busy": "2023-12-14T16:39:41.523510Z",
     "iopub.status.idle": "2023-12-14T16:39:41.527974Z",
     "shell.execute_reply": "2023-12-14T16:39:41.527129Z"
    },
    "papermill": {
     "duration": 0.020253,
     "end_time": "2023-12-14T16:39:41.530096",
     "exception": false,
     "start_time": "2023-12-14T16:39:41.509843",
     "status": "completed"
    },
    "tags": []
   },
   "outputs": [
    {
     "name": "stdout",
     "output_type": "stream",
     "text": [
      "BiLSTMClassifier(\n",
      "  (lstm): LSTM(20, 256, num_layers=2, batch_first=True, bidirectional=True)\n",
      "  (dropout): Dropout(p=0.255, inplace=False)\n",
      "  (fc): Linear(in_features=512, out_features=2, bias=True)\n",
      ")\n"
     ]
    }
   ],
   "source": [
    "print(model)"
   ]
  },
  {
   "cell_type": "code",
   "execution_count": 31,
   "id": "8ebf226d",
   "metadata": {
    "execution": {
     "iopub.execute_input": "2023-12-14T16:39:41.555696Z",
     "iopub.status.busy": "2023-12-14T16:39:41.555434Z",
     "iopub.status.idle": "2023-12-14T18:17:05.955260Z",
     "shell.execute_reply": "2023-12-14T18:17:05.954258Z"
    },
    "papermill": {
     "duration": 5844.429096,
     "end_time": "2023-12-14T18:17:05.971460",
     "exception": false,
     "start_time": "2023-12-14T16:39:41.542364",
     "status": "completed"
    },
    "tags": []
   },
   "outputs": [
    {
     "name": "stdout",
     "output_type": "stream",
     "text": [
      "Epoch : 1/15   Train Loss : tensor(0.4742, dtype=torch.float64)   Train Accuracy : 0.7606096610106561   Test Accuracy : 0.8696980922393036\n",
      "Epoch : 2/15   Train Loss : tensor(0.3130, dtype=torch.float64)   Train Accuracy : 0.8712731593212787   Test Accuracy : 0.8852565289868494\n",
      "Epoch : 3/15   Train Loss : tensor(0.2628, dtype=torch.float64)   Train Accuracy : 0.8962053985816656   Test Accuracy : 0.8952583811817003\n",
      "Epoch : 4/15   Train Loss : tensor(0.2491, dtype=torch.float64)   Train Accuracy : 0.8999740095793265   Test Accuracy : 0.8918318207075384\n",
      "Epoch : 5/15   Train Loss : tensor(0.2084, dtype=torch.float64)   Train Accuracy : 0.9169234767757026   Test Accuracy : 0.9287831079829598\n",
      "Epoch : 6/15   Train Loss : tensor(0.1823, dtype=torch.float64)   Train Accuracy : 0.9280993576653176   Test Accuracy : 0.9386923504352658\n",
      "Epoch : 7/15   Train Loss : tensor(0.1747, dtype=torch.float64)   Train Accuracy : 0.9324249062488397   Test Accuracy : 0.9326727171698462\n",
      "Epoch : 8/15   Train Loss : tensor(0.1542, dtype=torch.float64)   Train Accuracy : 0.9404633720714365   Test Accuracy : 0.9596221522504167\n",
      "Epoch : 9/15   Train Loss : tensor(0.0998, dtype=torch.float64)   Train Accuracy : 0.9653770467456281   Test Accuracy : 0.9737914428597888\n",
      "Epoch : 10/15   Train Loss : tensor(0.0830, dtype=torch.float64)   Train Accuracy : 0.9710949392938032   Test Accuracy : 0.9645304686052972\n",
      "Epoch : 11/15   Train Loss : tensor(0.0770, dtype=torch.float64)   Train Accuracy : 0.9726914937066052   Test Accuracy : 0.9717540285238007\n",
      "Epoch : 12/15   Train Loss : tensor(0.0667, dtype=torch.float64)   Train Accuracy : 0.9771655589796904   Test Accuracy : 0.9805519540655677\n",
      "Epoch : 13/15   Train Loss : tensor(0.0729, dtype=torch.float64)   Train Accuracy : 0.9745850814985334   Test Accuracy : 0.9423041303945175\n",
      "Epoch : 14/15   Train Loss : tensor(0.1237, dtype=torch.float64)   Train Accuracy : 0.9539041324768871   Test Accuracy : 0.9390627894054454\n",
      "Epoch : 15/15   Train Loss : tensor(0.1289, dtype=torch.float64)   Train Accuracy : 0.952957338580923   Test Accuracy : 0.9677718095943694\n",
      "0.9805519540655677\n",
      "Finished Training and Testing\n"
     ]
    }
   ],
   "source": [
    "#Model training and testing \n",
    "n_total_steps = len(train_dataloader) # n_total_steps * batch size will give total number of training files (consider that last batch may not be fully filled)\n",
    "train_accuracy_list = []\n",
    "train_loss_list = []\n",
    "val_accuracy_list = []\n",
    "max_acc=0\n",
    "num_epochs = 15\n",
    "pred_labels =[]\n",
    "act_labels = []\n",
    "\n",
    "for epoch in range(num_epochs):\n",
    "    \n",
    "    #Evaluation and training on training dataset\n",
    "    model.train()\n",
    "    train_accuracy=0.0\n",
    "    train_loss=0.0\n",
    "    \n",
    "    for batch_idx, (images,labels) in enumerate(train_dataloader):\n",
    "        if torch.cuda.is_available():\n",
    "            images=Variable(images.cuda())\n",
    "            labels=Variable(labels.cuda())\n",
    "        ##images = images.unsqueeze(1)\n",
    "        optimizer.zero_grad()\n",
    "        outputs=model(images)\n",
    "        loss=loss_function(outputs,labels)\n",
    "        loss.backward()\n",
    "        optimizer.step()\n",
    "        \n",
    "        \n",
    "        train_loss+= loss.cpu().data*images.size(0)\n",
    "        _,prediction=torch.max(outputs.data,1)\n",
    "        \n",
    "        train_accuracy+=int(torch.sum(prediction==labels.data))\n",
    "        \n",
    "    train_accuracy=train_accuracy/train_count\n",
    "    train_loss=train_loss/train_count\n",
    "    \n",
    "    train_accuracy_list.append(train_accuracy)\n",
    "    train_loss_list.append(train_loss)\n",
    "\n",
    "    \n",
    "    # Validation on Validation dataset\n",
    "    model.eval()\n",
    "    val_accuracy=0.0\n",
    "    pred = []\n",
    "    lab = []\n",
    "    \n",
    "    for i, (images,labels) in enumerate(val_dataloader):\n",
    "        if torch.cuda.is_available():\n",
    "            images=Variable(images.cuda())\n",
    "            labels=Variable(labels.cuda())\n",
    "        ##images = images.unsqueeze(1) \n",
    "#         print(i,images.shape)\n",
    "        outputs=model(images)\n",
    "        _,prediction=torch.max(outputs.data,1)\n",
    "        val_accuracy+=int(torch.sum(prediction==labels.data))\n",
    "        \n",
    "        pred.extend(prediction.tolist())\n",
    "        lab.extend(labels.tolist())\n",
    "    \n",
    "    val_accuracy=val_accuracy/val_count\n",
    "    val_accuracy_list.append(val_accuracy)\n",
    "    if max_acc < val_accuracy:\n",
    "        max_acc = val_accuracy\n",
    "        pred_labels = pred\n",
    "        actual_labels = lab\n",
    "        max_acc = val_accuracy\n",
    "        torch.save(model,\"best_accuracy_model_BiLSTM.pth\")\n",
    "    print('Epoch : '+str(epoch+1)+'/'+str(num_epochs)+'   Train Loss : '+str(train_loss)+'   Train Accuracy : '+str(train_accuracy)+'   Test Accuracy : '+str(val_accuracy))\n",
    "print(max_acc)   \n",
    "print('Finished Training and Testing')"
   ]
  },
  {
   "cell_type": "code",
   "execution_count": 32,
   "id": "82382e5c",
   "metadata": {
    "execution": {
     "iopub.execute_input": "2023-12-14T18:17:06.000842Z",
     "iopub.status.busy": "2023-12-14T18:17:06.000263Z",
     "iopub.status.idle": "2023-12-14T18:17:26.094370Z",
     "shell.execute_reply": "2023-12-14T18:17:26.093431Z"
    },
    "papermill": {
     "duration": 20.111186,
     "end_time": "2023-12-14T18:17:26.096489",
     "exception": false,
     "start_time": "2023-12-14T18:17:05.985303",
     "status": "completed"
    },
    "tags": []
   },
   "outputs": [
    {
     "name": "stdout",
     "output_type": "stream",
     "text": [
      "testing Accuracy: 0.7384548985757445\n"
     ]
    }
   ],
   "source": [
    "# Load the best model\n",
    "best_model = torch.load(\"best_accuracy_model_BiLSTM.pth\")\n",
    "\n",
    "# Put the best_model in evaluation mode\n",
    "best_model.eval()\n",
    "\n",
    "# Initialize variables to store results\n",
    "testing_accuracy = 0.0\n",
    "pred_labels = []\n",
    "act_labels = []\n",
    "\n",
    "# Pass validation data through the best model\n",
    "for i, (images, labels) in enumerate(test_dataloader):\n",
    "    if torch.cuda.is_available():\n",
    "        images = Variable(images.cuda())\n",
    "        labels = Variable(labels.cuda())\n",
    "    \n",
    "    outputs = best_model(images)\n",
    "    _, prediction = torch.max(outputs.data, 1)\n",
    "    \n",
    "    testing_accuracy += int(torch.sum(prediction == labels.data))\n",
    "    \n",
    "    pred_labels.extend(prediction.tolist())\n",
    "    act_labels.extend(labels.tolist())\n",
    "\n",
    "# Calculate validation accuracy\n",
    "testing_accuracy = testing_accuracy / len(test_dataloader.dataset)\n",
    "\n",
    "# Print the validation accuracy\n",
    "print(\"testing Accuracy:\", testing_accuracy)"
   ]
  },
  {
   "cell_type": "code",
   "execution_count": 33,
   "id": "f505bcf6",
   "metadata": {
    "execution": {
     "iopub.execute_input": "2023-12-14T18:17:26.126109Z",
     "iopub.status.busy": "2023-12-14T18:17:26.125785Z",
     "iopub.status.idle": "2023-12-14T18:17:26.493837Z",
     "shell.execute_reply": "2023-12-14T18:17:26.492804Z"
    },
    "papermill": {
     "duration": 0.385196,
     "end_time": "2023-12-14T18:17:26.495896",
     "exception": false,
     "start_time": "2023-12-14T18:17:26.110700",
     "status": "completed"
    },
    "tags": []
   },
   "outputs": [
    {
     "data": {
      "image/png": "[encoded data removed]",
      "text/plain": [
       "<Figure size 640x480 with 2 Axes>"
      ]
     },
     "metadata": {},
     "output_type": "display_data"
    },
    {
     "name": "stdout",
     "output_type": "stream",
     "text": [
      "F1 Score :  0.7381348649217221\n"
     ]
    }
   ],
   "source": [
    "# Calculate the confusion matrix\n",
    "import seaborn as sns\n",
    "conf_mat = confusion_matrix(act_labels, pred_labels)\n",
    "# Plot confusion matrix heat map\n",
    "sns.heatmap(conf_mat, cmap=\"flare\",annot=True, fmt = \"g\", \n",
    "            cbar_kws={\"label\":\"color bar\"},\n",
    "            xticklabels=train_dataset.classes,\n",
    "            yticklabels=train_dataset.classes)\n",
    "plt.xlabel(\"Predicted\")\n",
    "plt.ylabel(\"Actual\")\n",
    "plt.title(\"Confusion Matrix\")\n",
    "plt.savefig(\"ConfusionMatrix_BiLSTM.png\")\n",
    "plt.show()\n",
    "from sklearn.metrics import f1_score\n",
    "f1_score = f1_score(pred_labels, act_labels, average='macro')\n",
    "print('F1 Score : ', f1_score)\n"
   ]
  },
  {
   "cell_type": "code",
   "execution_count": 34,
   "id": "4d52b987",
   "metadata": {
    "execution": {
     "iopub.execute_input": "2023-12-14T18:17:26.589459Z",
     "iopub.status.busy": "2023-12-14T18:17:26.588699Z",
     "iopub.status.idle": "2023-12-14T18:17:26.592811Z",
     "shell.execute_reply": "2023-12-14T18:17:26.591914Z"
    },
    "papermill": {
     "duration": 0.021523,
     "end_time": "2023-12-14T18:17:26.594739",
     "exception": false,
     "start_time": "2023-12-14T18:17:26.573216",
     "status": "completed"
    },
    "tags": []
   },
   "outputs": [],
   "source": [
    "# torch.save(model,'MGDCC_BiLSTMClassifier_01_01.pth')"
   ]
  },
  {
   "cell_type": "code",
   "execution_count": 35,
   "id": "ef990900",
   "metadata": {
    "execution": {
     "iopub.execute_input": "2023-12-14T18:17:26.624880Z",
     "iopub.status.busy": "2023-12-14T18:17:26.624343Z",
     "iopub.status.idle": "2023-12-14T18:17:26.631355Z",
     "shell.execute_reply": "2023-12-14T18:17:26.630506Z"
    },
    "papermill": {
     "duration": 0.024202,
     "end_time": "2023-12-14T18:17:26.633368",
     "exception": false,
     "start_time": "2023-12-14T18:17:26.609166",
     "status": "completed"
    },
    "tags": []
   },
   "outputs": [],
   "source": [
    "# ResNet50\n",
    "# import torch\n",
    "# import torch.nn as nn\n",
    "\n",
    "\n",
    "# def conv3x3(in_channels, out_channels, stride=1):\n",
    "#     \"\"\"3x3 convolution with padding\"\"\"\n",
    "#     return nn.Conv2d(in_channels, out_channels, kernel_size=3, stride=stride, padding=1, bias=False)\n",
    "\n",
    "\n",
    "# class Bottleneck(nn.Module):\n",
    "#     expansion = 4\n",
    "\n",
    "#     def __init__(self, in_channels, out_channels, stride=1, downsample=None):\n",
    "#         super(Bottleneck, self).__init__()\n",
    "\n",
    "#         self.conv1 = nn.Conv2d(in_channels, out_channels, kernel_size=1, bias=False)\n",
    "#         self.bn1 = nn.BatchNorm2d(out_channels)\n",
    "#         self.conv2 = nn.Conv2d(out_channels, out_channels, kernel_size=3, stride=stride, padding=1, bias=False)\n",
    "#         self.bn2 = nn.BatchNorm2d(out_channels)\n",
    "#         self.conv3 = nn.Conv2d(out_channels, out_channels * self.expansion, kernel_size=1, bias=False)\n",
    "#         self.bn3 = nn.BatchNorm2d(out_channels * self.expansion)\n",
    "#         self.relu = nn.ReLU(inplace=True)\n",
    "#         self.downsample = downsample\n",
    "#         self.stride = stride\n",
    "\n",
    "#     def forward(self, x):\n",
    "#         identity = x\n",
    "\n",
    "#         out = self.conv1(x)\n",
    "#         out = self.bn1(out)\n",
    "#         out = self.relu(out)\n",
    "\n",
    "#         out = self.conv2(out)\n",
    "#         out = self.bn2(out)\n",
    "#         out = self.relu(out)\n",
    "\n",
    "#         out = self.conv3(out)\n",
    "#         out = self.bn3(out)\n",
    "\n",
    "#         if self.downsample is not None:\n",
    "#             identity = self.downsample(x)\n",
    "\n",
    "#         out += identity\n",
    "#         out = self.relu(out)\n",
    "\n",
    "#         return out\n",
    "\n",
    "\n",
    "# class ResNet(nn.Module):\n",
    "#     def __init__(self, block, layers, num_classes=1000):\n",
    "#         super(ResNet, self).__init__()\n",
    "\n",
    "#         self.in_channels = 64\n",
    "#         self.conv1 = nn.Conv2d(1, 64, kernel_size=7, stride=2, padding=3, bias=False)\n",
    "# #         self.conv1 = nn.Conv2d(1, 64, kernel_size=7, stride=2, padding=3, bias=False)\n",
    "#         self.bn1 = nn.BatchNorm2d(64)\n",
    "#         self.relu = nn.ReLU(inplace=True)\n",
    "#         self.maxpool = nn.MaxPool2d(kernel_size=3, stride=2, padding=1)\n",
    "\n",
    "#         self.layer1 = self._make_layer(block, 64, layers[0], stride=1)\n",
    "#         self.layer2 = self._make_layer(block, 128, layers[1], stride=2)\n",
    "#         self.layer3 = self._make_layer(block, 256, layers[2], stride=2)\n",
    "#         self.layer4 = self._make_layer(block, 512, layers[3], stride=2)\n",
    "\n",
    "#         self.avgpool = nn.AdaptiveAvgPool2d((1, 1))\n",
    "#         self.fc = nn.Linear(512 * block.expansion, num_classes)\n",
    "\n",
    "#     def _make_layer(self, block, out_channels, blocks, stride=1):\n",
    "#         downsample = None\n",
    "#         if stride != 1 or self.in_channels != out_channels * block.expansion:\n",
    "#             downsample = nn.Sequential(\n",
    "#                 nn.Conv2d(self.in_channels, out_channels * block.expansion, kernel_size=1, stride=stride, bias=False),\n",
    "#                 nn.BatchNorm2d(out_channels * block.expansion),\n",
    "#             )\n",
    "\n",
    "#         layers = [block(self.in_channels, out_channels, stride, downsample)]\n",
    "#         self.in_channels = out_channels * block.expansion\n",
    "#         for _ in range(1, blocks):\n",
    "#             layers.append(block(self.in_channels, out_channels))\n",
    "\n",
    "#         return nn.Sequential(*layers)\n",
    "\n",
    "#     def forward(self, x):\n",
    "#         x = self.conv1(x)\n",
    "#         x = self.bn1(x)\n",
    "#         x = self.relu(x)\n",
    "#         x = self.maxpool(x)\n",
    "\n",
    "#         x = self.layer1(x)\n",
    "#         x = self.layer2(x)\n",
    "#         x = self.layer3(x)\n",
    "#         x = self.layer4(x)\n",
    "\n",
    "#         x = self.avgpool(x)\n",
    "#         x = x.view(x.size(0), -1)\n",
    "#         x = self.fc(x)\n",
    "\n",
    "#         return x\n",
    "\n",
    "\n",
    "# # ResNet-50\n",
    "# def resnet50(num_classes=2):\n",
    "#     return ResNet(Bottleneck, [3, 4, 6, 3], num_classes)\n"
   ]
  },
  {
   "cell_type": "code",
   "execution_count": 36,
   "id": "5d9ba221",
   "metadata": {
    "execution": {
     "iopub.execute_input": "2023-12-14T18:17:26.663242Z",
     "iopub.status.busy": "2023-12-14T18:17:26.662930Z",
     "iopub.status.idle": "2023-12-14T18:17:26.666867Z",
     "shell.execute_reply": "2023-12-14T18:17:26.666020Z"
    },
    "papermill": {
     "duration": 0.020908,
     "end_time": "2023-12-14T18:17:26.668720",
     "exception": false,
     "start_time": "2023-12-14T18:17:26.647812",
     "status": "completed"
    },
    "tags": []
   },
   "outputs": [],
   "source": [
    "# model = resnet50()\n",
    "# model.to(device, dtype=torch.double)\n",
    "# loss_function = nn.CrossEntropyLoss()\n",
    "# optimizer = optim.Adam(model.parameters(), lr=learning_rate)\n",
    "# print(model)"
   ]
  },
  {
   "cell_type": "code",
   "execution_count": 37,
   "id": "dc3e8e3a",
   "metadata": {
    "execution": {
     "iopub.execute_input": "2023-12-14T18:17:26.698889Z",
     "iopub.status.busy": "2023-12-14T18:17:26.698578Z",
     "iopub.status.idle": "2023-12-14T18:17:26.702632Z",
     "shell.execute_reply": "2023-12-14T18:17:26.701795Z"
    },
    "papermill": {
     "duration": 0.021563,
     "end_time": "2023-12-14T18:17:26.704498",
     "exception": false,
     "start_time": "2023-12-14T18:17:26.682935",
     "status": "completed"
    },
    "tags": []
   },
   "outputs": [],
   "source": [
    "# torch.save(model,'MGDCC_ResNet50_0_0001.pth')"
   ]
  },
  {
   "cell_type": "code",
   "execution_count": 38,
   "id": "1e825376",
   "metadata": {
    "execution": {
     "iopub.execute_input": "2023-12-14T18:17:26.734129Z",
     "iopub.status.busy": "2023-12-14T18:17:26.733801Z",
     "iopub.status.idle": "2023-12-14T18:17:26.738068Z",
     "shell.execute_reply": "2023-12-14T18:17:26.737231Z"
    },
    "papermill": {
     "duration": 0.021242,
     "end_time": "2023-12-14T18:17:26.740005",
     "exception": false,
     "start_time": "2023-12-14T18:17:26.718763",
     "status": "completed"
    },
    "tags": []
   },
   "outputs": [],
   "source": [
    "# # Calculate the confusion matrix\n",
    "# import seaborn as sns\n",
    "# conf_mat = confusion_matrix(act_labels, pred_labels)\n",
    "# # Plot confusion matrix heat map\n",
    "# sns.heatmap(conf_mat, cmap=\"flare\",annot=True, fmt = \"g\", \n",
    "#             cbar_kws={\"label\":\"color bar\"},\n",
    "#             xticklabels=train_dataset.classes,\n",
    "#             yticklabels=train_dataset.classes)\n",
    "# plt.xlabel(\"Predicted\")\n",
    "# plt.ylabel(\"Actual\")\n",
    "# plt.title(\"Confusion Matrix\")\n",
    "# plt.savefig(\"ConfusionMatrix.png\")\n",
    "# plt.show()\n",
    "# from sklearn.metrics import f1_score\n",
    "# f1_score = f1_score(pred_labels, act_labels, average='macro')\n",
    "# print('F1 Score : ', f1_score)"
   ]
  }
 ],
 "metadata": {
  "kaggle": {
   "accelerator": "none",
   "dataSources": [
    {
     "datasetId": 4133733,
     "sourceId": 7157591,
     "sourceType": "datasetVersion"
    }
   ],
   "dockerImageVersionId": 30627,
   "isGpuEnabled": false,
   "isInternetEnabled": true,
   "language": "python",
   "sourceType": "notebook"
  },
  "kernelspec": {
   "display_name": "Python 3",
   "language": "python",
   "name": "python3"
  },
  "language_info": {
   "codemirror_mode": {
    "name": "ipython",
    "version": 3
   },
   "file_extension": ".py",
   "mimetype": "text/x-python",
   "name": "python",
   "nbconvert_exporter": "python",
   "pygments_lexer": "ipython3",
   "version": "3.10.12"
  },
  "papermill": {
   "default_parameters": {},
   "duration": 10065.702635,
   "end_time": "2023-12-14T18:17:29.574199",
   "environment_variables": {},
   "exception": null,
   "input_path": "__notebook__.ipynb",
   "output_path": "__notebook__.ipynb",
   "parameters": {},
   "start_time": "2023-12-14T15:29:43.871564",
   "version": "2.4.0"
  }
 },
 "nbformat": 4,
 "nbformat_minor": 5
}
