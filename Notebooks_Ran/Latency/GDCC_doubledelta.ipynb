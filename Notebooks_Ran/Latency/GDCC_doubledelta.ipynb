{
 "cells": [
  {
   "cell_type": "code",
   "execution_count": 1,
   "id": "cb3c1698",
   "metadata": {
    "execution": {
     "iopub.execute_input": "2023-12-14T04:50:45.942003Z",
     "iopub.status.busy": "2023-12-14T04:50:45.941663Z",
     "iopub.status.idle": "2023-12-14T04:50:58.888062Z",
     "shell.execute_reply": "2023-12-14T04:50:58.886972Z"
    },
    "papermill": {
     "duration": 12.960984,
     "end_time": "2023-12-14T04:50:58.890620",
     "exception": false,
     "start_time": "2023-12-14T04:50:45.929636",
     "status": "completed"
    },
    "tags": []
   },
   "outputs": [
    {
     "name": "stdout",
     "output_type": "stream",
     "text": [
      "Requirement already satisfied: scipy in /opt/conda/lib/python3.10/site-packages (1.11.4)\r\n",
      "Requirement already satisfied: numpy<1.28.0,>=1.21.6 in /opt/conda/lib/python3.10/site-packages (from scipy) (1.24.3)\r\n"
     ]
    }
   ],
   "source": [
    "!pip install --upgrade scipy"
   ]
  },
  {
   "cell_type": "code",
   "execution_count": 2,
   "id": "5276e869",
   "metadata": {
    "execution": {
     "iopub.execute_input": "2023-12-14T04:50:58.912937Z",
     "iopub.status.busy": "2023-12-14T04:50:58.912629Z",
     "iopub.status.idle": "2023-12-14T04:51:03.175465Z",
     "shell.execute_reply": "2023-12-14T04:51:03.174619Z"
    },
    "papermill": {
     "duration": 4.276505,
     "end_time": "2023-12-14T04:51:03.177703",
     "exception": false,
     "start_time": "2023-12-14T04:50:58.901198",
     "status": "completed"
    },
    "tags": []
   },
   "outputs": [
    {
     "name": "stderr",
     "output_type": "stream",
     "text": [
      "/opt/conda/lib/python3.10/site-packages/scipy/__init__.py:146: UserWarning: A NumPy version >=1.16.5 and <1.23.0 is required for this version of SciPy (detected version 1.24.3\n",
      "  warnings.warn(f\"A NumPy version >={np_minversion} and <{np_maxversion}\"\n"
     ]
    }
   ],
   "source": [
    "import torch \n",
    "import torch.nn as nn\n",
    "import torch.nn.functional as F\n",
    "from torch.autograd import Variable\n",
    "from torch.utils.data import Dataset, DataLoader\n",
    "\n",
    "import os, pathlib, glob, random\n",
    "import numpy as np\n",
    "import matplotlib.pyplot as plt \n",
    "\n",
    "from sklearn.metrics import confusion_matrix\n",
    "import scipy\n",
    "from scipy import io"
   ]
  },
  {
   "cell_type": "code",
   "execution_count": 3,
   "id": "8b1b61c7",
   "metadata": {
    "execution": {
     "iopub.execute_input": "2023-12-14T04:51:03.206207Z",
     "iopub.status.busy": "2023-12-14T04:51:03.205750Z",
     "iopub.status.idle": "2023-12-14T04:51:03.269083Z",
     "shell.execute_reply": "2023-12-14T04:51:03.268214Z"
    },
    "papermill": {
     "duration": 0.079403,
     "end_time": "2023-12-14T04:51:03.271242",
     "exception": false,
     "start_time": "2023-12-14T04:51:03.191839",
     "status": "completed"
    },
    "tags": []
   },
   "outputs": [
    {
     "name": "stdout",
     "output_type": "stream",
     "text": [
      "cuda:0\n"
     ]
    }
   ],
   "source": [
    "device = torch.device('cuda:0' if torch.cuda.is_available() else 'cpu')\n",
    "print(device)"
   ]
  },
  {
   "cell_type": "code",
   "execution_count": 4,
   "id": "3b3b8b17",
   "metadata": {
    "execution": {
     "iopub.execute_input": "2023-12-14T04:51:03.295492Z",
     "iopub.status.busy": "2023-12-14T04:51:03.295174Z",
     "iopub.status.idle": "2023-12-14T04:51:03.299291Z",
     "shell.execute_reply": "2023-12-14T04:51:03.298489Z"
    },
    "papermill": {
     "duration": 0.018824,
     "end_time": "2023-12-14T04:51:03.301209",
     "exception": false,
     "start_time": "2023-12-14T04:51:03.282385",
     "status": "completed"
    },
    "tags": []
   },
   "outputs": [],
   "source": [
    "batch_size = 64\n",
    "output_nodes = 2\n",
    "learning_rate = 0.001"
   ]
  },
  {
   "cell_type": "code",
   "execution_count": 5,
   "id": "970ea5b2",
   "metadata": {
    "execution": {
     "iopub.execute_input": "2023-12-14T04:51:03.323704Z",
     "iopub.status.busy": "2023-12-14T04:51:03.323008Z",
     "iopub.status.idle": "2023-12-14T04:51:03.327555Z",
     "shell.execute_reply": "2023-12-14T04:51:03.326726Z"
    },
    "papermill": {
     "duration": 0.017703,
     "end_time": "2023-12-14T04:51:03.329427",
     "exception": false,
     "start_time": "2023-12-14T04:51:03.311724",
     "status": "completed"
    },
    "tags": []
   },
   "outputs": [],
   "source": [
    "train_data_path = r\"/kaggle/input/deltadoubledelta-all-feat-add/delta,DoubleDelta/GDCC/doubleDelta/train\"\n",
    "validation_data_path =r\"/kaggle/input/deltadoubledelta-all-feat-add/delta,DoubleDelta/GDCC/doubleDelta/dev\"\n",
    "test_data_path = r\"/kaggle/input/deltadoubledelta-all-feat-add/delta,DoubleDelta/GDCC/doubleDelta/test\""
   ]
  },
  {
   "cell_type": "code",
   "execution_count": 6,
   "id": "da07827a",
   "metadata": {
    "execution": {
     "iopub.execute_input": "2023-12-14T04:51:03.351678Z",
     "iopub.status.busy": "2023-12-14T04:51:03.351119Z",
     "iopub.status.idle": "2023-12-14T04:51:03.356168Z",
     "shell.execute_reply": "2023-12-14T04:51:03.355402Z"
    },
    "papermill": {
     "duration": 0.018205,
     "end_time": "2023-12-14T04:51:03.357959",
     "exception": false,
     "start_time": "2023-12-14T04:51:03.339754",
     "status": "completed"
    },
    "tags": []
   },
   "outputs": [],
   "source": [
    "# # ResNet50\n",
    "# class PtDataset(Dataset):\n",
    "#     def __init__(self, directory):\n",
    "#         self.directory = directory\n",
    "#         self.classes = sorted(entry.name for entry in os.scandir(directory) if entry.is_dir())\n",
    "#         self.class_to_idx = {c: i for i, c in enumerate(self.classes)}\n",
    "#         self.files = []\n",
    "#         for c in self.classes:\n",
    "#             c_dir = os.path.join(directory, c)\n",
    "#             c_files = [(os.path.join(c_dir, f), self.class_to_idx[c]) for f in os.listdir(c_dir)]\n",
    "#             self.files.extend(c_files)\n",
    "#         random.shuffle(self.files)\n",
    "        \n",
    "#     def __len__(self):\n",
    "#         return len(self.files)\n",
    "    \n",
    "#     # Assuming mono audio data\n",
    "#     def __getitem__(self, idx):\n",
    "#         filepath, label = self.files[idx]\n",
    "#         try:\n",
    "#             mat_vals = scipy.io.loadmat(filepath)\n",
    "#             data = mat_vals['final']\n",
    "#             data = data.T\n",
    "#             max_len = 750\n",
    "\n",
    "#             if (max_len > data.shape[0]):\n",
    "#                 pad_width = max_len - data.shape[0]\n",
    "#                 data = np.pad(data, pad_width=((0, pad_width), (0, 0)), mode='constant')\n",
    "#             else:\n",
    "#                 data = data[:max_len, :]\n",
    "\n",
    "#             # Reshape data to (1, 750, 20) for mono audio\n",
    "#             data = data[np.newaxis, :, :]\n",
    "\n",
    "#         except Exception as e:\n",
    "#             print(f\"Error loading file {filepath}: {str(e)}\")\n",
    "#             return None\n",
    "\n",
    "#         return data, label\n"
   ]
  },
  {
   "cell_type": "code",
   "execution_count": 7,
   "id": "b6069586",
   "metadata": {
    "execution": {
     "iopub.execute_input": "2023-12-14T04:51:03.379859Z",
     "iopub.status.busy": "2023-12-14T04:51:03.379555Z",
     "iopub.status.idle": "2023-12-14T04:51:03.391004Z",
     "shell.execute_reply": "2023-12-14T04:51:03.390286Z"
    },
    "papermill": {
     "duration": 0.024359,
     "end_time": "2023-12-14T04:51:03.392803",
     "exception": false,
     "start_time": "2023-12-14T04:51:03.368444",
     "status": "completed"
    },
    "tags": []
   },
   "outputs": [],
   "source": [
    "class PtDataset(Dataset):\n",
    "    def __init__(self, directory):\n",
    "        self.directory = directory\n",
    "        self.classes = sorted(entry.name for entry in os.scandir(directory) if entry.is_dir())\n",
    "        self.class_to_idx = {c: i for i, c in enumerate(self.classes)}\n",
    "        self.files = []\n",
    "        for c in self.classes:\n",
    "            c_dir = os.path.join(directory, c)\n",
    "            c_files = [(os.path.join(c_dir, f), self.class_to_idx[c]) for f in os.listdir(c_dir)]\n",
    "            self.files.extend(c_files)\n",
    "        random.shuffle(self.files)\n",
    "        \n",
    "    def __len__(self):\n",
    "        return len(self.files)\n",
    "    \n",
    "    def __getitem__(self, idx):\n",
    "        filepath, label = self.files[idx]\n",
    "        try:\n",
    "            mat_vals = scipy.io.loadmat(filepath)\n",
    "            data = mat_vals['final']\n",
    "            data = data.T\n",
    "            max_len=750\n",
    "            if (max_len > data.shape[0]):\n",
    "                pad_width = max_len - data.shape[0]\n",
    "                data = np.pad(data, pad_width=((0, pad_width),(0,0)), mode='constant')\n",
    "            else:\n",
    "                data = data[:max_len, :]\n",
    "        except Exception as e:\n",
    "            print(f\"Error loading file {filepath}: {str(e)}\")\n",
    "            return None\n",
    "        return data, label"
   ]
  },
  {
   "cell_type": "code",
   "execution_count": 8,
   "id": "3e40ec3f",
   "metadata": {
    "execution": {
     "iopub.execute_input": "2023-12-14T04:51:03.414663Z",
     "iopub.status.busy": "2023-12-14T04:51:03.414386Z",
     "iopub.status.idle": "2023-12-14T04:51:05.787358Z",
     "shell.execute_reply": "2023-12-14T04:51:05.786372Z"
    },
    "papermill": {
     "duration": 2.386677,
     "end_time": "2023-12-14T04:51:05.789748",
     "exception": false,
     "start_time": "2023-12-14T04:51:03.403071",
     "status": "completed"
    },
    "tags": []
   },
   "outputs": [],
   "source": [
    "train_dataset = PtDataset(train_data_path)\n",
    "test_dataset = PtDataset(test_data_path)\n",
    "val_dataset = PtDataset(validation_data_path)"
   ]
  },
  {
   "cell_type": "code",
   "execution_count": 9,
   "id": "708f330d",
   "metadata": {
    "execution": {
     "iopub.execute_input": "2023-12-14T04:51:05.813342Z",
     "iopub.status.busy": "2023-12-14T04:51:05.812695Z",
     "iopub.status.idle": "2023-12-14T04:51:05.817651Z",
     "shell.execute_reply": "2023-12-14T04:51:05.816798Z"
    },
    "papermill": {
     "duration": 0.018575,
     "end_time": "2023-12-14T04:51:05.819596",
     "exception": false,
     "start_time": "2023-12-14T04:51:05.801021",
     "status": "completed"
    },
    "tags": []
   },
   "outputs": [],
   "source": [
    "class PtDataLoader(DataLoader):\n",
    "    def __init__(self, directory, batch_size, shuffle=True):\n",
    "        dataset = PtDataset(directory)\n",
    "        super().__init__(dataset, batch_size=batch_size, shuffle=shuffle)"
   ]
  },
  {
   "cell_type": "code",
   "execution_count": 10,
   "id": "7842ddb6",
   "metadata": {
    "execution": {
     "iopub.execute_input": "2023-12-14T04:51:05.841861Z",
     "iopub.status.busy": "2023-12-14T04:51:05.841571Z",
     "iopub.status.idle": "2023-12-14T04:51:06.080675Z",
     "shell.execute_reply": "2023-12-14T04:51:06.079876Z"
    },
    "papermill": {
     "duration": 0.252589,
     "end_time": "2023-12-14T04:51:06.082944",
     "exception": false,
     "start_time": "2023-12-14T04:51:05.830355",
     "status": "completed"
    },
    "tags": []
   },
   "outputs": [],
   "source": [
    "train_dataloader = PtDataLoader(directory=train_data_path, batch_size=batch_size)\n",
    "test_dataloader = PtDataLoader(directory=test_data_path, batch_size=batch_size)\n",
    "val_dataloader = PtDataLoader(directory=validation_data_path, batch_size=batch_size)"
   ]
  },
  {
   "cell_type": "code",
   "execution_count": 11,
   "id": "f0b39b90",
   "metadata": {
    "execution": {
     "iopub.execute_input": "2023-12-14T04:51:06.106337Z",
     "iopub.status.busy": "2023-12-14T04:51:06.105597Z",
     "iopub.status.idle": "2023-12-14T04:51:06.110027Z",
     "shell.execute_reply": "2023-12-14T04:51:06.109192Z"
    },
    "papermill": {
     "duration": 0.017717,
     "end_time": "2023-12-14T04:51:06.111848",
     "exception": false,
     "start_time": "2023-12-14T04:51:06.094131",
     "status": "completed"
    },
    "tags": []
   },
   "outputs": [],
   "source": [
    "train_count = len(train_dataset) \n",
    "test_count = len(test_dataset)\n",
    "val_count = len(val_dataset)"
   ]
  },
  {
   "cell_type": "code",
   "execution_count": 12,
   "id": "95d9fc07",
   "metadata": {
    "execution": {
     "iopub.execute_input": "2023-12-14T04:51:06.133962Z",
     "iopub.status.busy": "2023-12-14T04:51:06.133661Z",
     "iopub.status.idle": "2023-12-14T04:51:06.138540Z",
     "shell.execute_reply": "2023-12-14T04:51:06.137663Z"
    },
    "papermill": {
     "duration": 0.018093,
     "end_time": "2023-12-14T04:51:06.140398",
     "exception": false,
     "start_time": "2023-12-14T04:51:06.122305",
     "status": "completed"
    },
    "tags": []
   },
   "outputs": [
    {
     "name": "stdout",
     "output_type": "stream",
     "text": [
      "53866\n",
      "4634\n",
      "10798\n"
     ]
    }
   ],
   "source": [
    "print(train_count)\n",
    "print(test_count)\n",
    "print(val_count)"
   ]
  },
  {
   "cell_type": "code",
   "execution_count": 13,
   "id": "bb906537",
   "metadata": {
    "execution": {
     "iopub.execute_input": "2023-12-14T04:51:06.162563Z",
     "iopub.status.busy": "2023-12-14T04:51:06.162239Z",
     "iopub.status.idle": "2023-12-14T04:51:06.170407Z",
     "shell.execute_reply": "2023-12-14T04:51:06.169547Z"
    },
    "papermill": {
     "duration": 0.021322,
     "end_time": "2023-12-14T04:51:06.172286",
     "exception": false,
     "start_time": "2023-12-14T04:51:06.150964",
     "status": "completed"
    },
    "tags": []
   },
   "outputs": [],
   "source": [
    "class LSTMClassifier(nn.Module):\n",
    "    def __init__(self, input_size, hidden_size, num_layers, num_classes):\n",
    "        super(LSTMClassifier, self).__init__()\n",
    "        self.hidden_size = hidden_size\n",
    "        self.num_layers = num_layers\n",
    "        self.lstm = nn.LSTM(input_size, hidden_size, num_layers, batch_first=True, bidirectional=False)\n",
    "        self.dropout = nn.Dropout(p=drop_amount)\n",
    "        self.fc = nn.Linear(hidden_size, num_classes)\n",
    "\n",
    "    def forward(self, x):\n",
    "        # Explicitly specify the data type for initial hidden state tensors\n",
    "        h0 = torch.zeros(self.num_layers, x.size(0), self.hidden_size, dtype=x.dtype).to(device=x.device)\n",
    "        c0 = torch.zeros(self.num_layers, x.size(0), self.hidden_size, dtype=x.dtype).to(device=x.device)\n",
    "        out, _ = self.lstm(x, (h0, c0))\n",
    "        out = self.dropout(out)\n",
    "        out = self.fc(out[:, -1, :])\n",
    "        return out"
   ]
  },
  {
   "cell_type": "code",
   "execution_count": 14,
   "id": "31f2e5ce",
   "metadata": {
    "execution": {
     "iopub.execute_input": "2023-12-14T04:51:06.194958Z",
     "iopub.status.busy": "2023-12-14T04:51:06.194248Z",
     "iopub.status.idle": "2023-12-14T04:51:06.202137Z",
     "shell.execute_reply": "2023-12-14T04:51:06.201341Z"
    },
    "papermill": {
     "duration": 0.021259,
     "end_time": "2023-12-14T04:51:06.203993",
     "exception": false,
     "start_time": "2023-12-14T04:51:06.182734",
     "status": "completed"
    },
    "tags": []
   },
   "outputs": [],
   "source": [
    "drop_amount = 0.255\n",
    "\n",
    "class BiGRUAudioClassifier(nn.Module):\n",
    "    def __init__(self,input_size, num_classes, hidden_units, num_layers):\n",
    "        super(BiGRUAudioClassifier, self).__init__()\n",
    "        self.input_size = input_size \n",
    "        self.num_classes = num_classes\n",
    "        self.hidden_units = hidden_units\n",
    "        self.num_layers = num_layers\n",
    "\n",
    "        self.bigru = nn.GRU(input_size=input_size, hidden_size=hidden_units, num_layers=num_layers, batch_first=True, bidirectional=True)\n",
    "        self.dropout = nn.Dropout(p=drop_amount)\n",
    "        # self.fc = nn.Linear(hidden_units, num_classes)\n",
    "        self.fc = nn.Linear(hidden_units * 2, num_classes)\n",
    "\n",
    "    def forward(self, x):\n",
    "        # x: (batch_size, sequence_length, num_features)\n",
    "\n",
    "        # Pass the input through the bi-GRU layers\n",
    "        output, _ = self.bigru(x)\n",
    "        output = self.dropout(output)\n",
    "        # Extract the last hidden state (concatenate forward and backward hidden states)\n",
    "        last_hidden_state = torch.cat((output[:, -1, :self.hidden_units], output[:, 0, self.hidden_units:]), dim=1)\n",
    "        # Apply the fully connected layer for classification\n",
    "        output = self.fc(last_hidden_state)\n",
    "\n",
    "        return output"
   ]
  },
  {
   "cell_type": "code",
   "execution_count": 15,
   "id": "8a83a8f2",
   "metadata": {
    "execution": {
     "iopub.execute_input": "2023-12-14T04:51:06.227059Z",
     "iopub.status.busy": "2023-12-14T04:51:06.226470Z",
     "iopub.status.idle": "2023-12-14T04:51:06.230758Z",
     "shell.execute_reply": "2023-12-14T04:51:06.229929Z"
    },
    "papermill": {
     "duration": 0.018023,
     "end_time": "2023-12-14T04:51:06.232712",
     "exception": false,
     "start_time": "2023-12-14T04:51:06.214689",
     "status": "completed"
    },
    "tags": []
   },
   "outputs": [],
   "source": [
    "import torch\n",
    "from torch import nn\n",
    "from torch.nn import Parameter\n",
    "import torch.nn.functional as F"
   ]
  },
  {
   "cell_type": "code",
   "execution_count": 16,
   "id": "4710560d",
   "metadata": {
    "execution": {
     "iopub.execute_input": "2023-12-14T04:51:06.255115Z",
     "iopub.status.busy": "2023-12-14T04:51:06.254613Z",
     "iopub.status.idle": "2023-12-14T04:51:11.224651Z",
     "shell.execute_reply": "2023-12-14T04:51:11.223638Z"
    },
    "papermill": {
     "duration": 4.9839,
     "end_time": "2023-12-14T04:51:11.226977",
     "exception": false,
     "start_time": "2023-12-14T04:51:06.243077",
     "status": "completed"
    },
    "tags": []
   },
   "outputs": [
    {
     "data": {
      "text/plain": [
       "LSTMClassifier(\n",
       "  (lstm): LSTM(20, 256, num_layers=2, batch_first=True)\n",
       "  (dropout): Dropout(p=0.255, inplace=False)\n",
       "  (fc): Linear(in_features=256, out_features=2, bias=True)\n",
       ")"
      ]
     },
     "execution_count": 16,
     "metadata": {},
     "output_type": "execute_result"
    }
   ],
   "source": [
    "# Define the parameters\n",
    "input_size = 20\n",
    "hidden_size = 256\n",
    "num_layers = 2\n",
    "num_classes = 2\n",
    "# drop_amount = 0.25  # You can choose an appropriate dropout rate\n",
    "\n",
    "model = LSTMClassifier(input_size, hidden_size, num_layers, num_classes)\n",
    "model.to(device, dtype=torch.double)\n"
   ]
  },
  {
   "cell_type": "code",
   "execution_count": 17,
   "id": "aa67e9b1",
   "metadata": {
    "execution": {
     "iopub.execute_input": "2023-12-14T04:51:11.250602Z",
     "iopub.status.busy": "2023-12-14T04:51:11.250266Z",
     "iopub.status.idle": "2023-12-14T04:51:11.254973Z",
     "shell.execute_reply": "2023-12-14T04:51:11.253897Z"
    },
    "papermill": {
     "duration": 0.019021,
     "end_time": "2023-12-14T04:51:11.257034",
     "exception": false,
     "start_time": "2023-12-14T04:51:11.238013",
     "status": "completed"
    },
    "tags": []
   },
   "outputs": [],
   "source": [
    "import torch\n",
    "import torch.nn as nn\n",
    "import torch.optim as optim"
   ]
  },
  {
   "cell_type": "code",
   "execution_count": 18,
   "id": "fee41f8d",
   "metadata": {
    "execution": {
     "iopub.execute_input": "2023-12-14T04:51:11.282145Z",
     "iopub.status.busy": "2023-12-14T04:51:11.281794Z",
     "iopub.status.idle": "2023-12-14T04:51:11.287266Z",
     "shell.execute_reply": "2023-12-14T04:51:11.286306Z"
    },
    "papermill": {
     "duration": 0.02082,
     "end_time": "2023-12-14T04:51:11.289480",
     "exception": false,
     "start_time": "2023-12-14T04:51:11.268660",
     "status": "completed"
    },
    "tags": []
   },
   "outputs": [],
   "source": [
    "loss_function = nn.CrossEntropyLoss()\n",
    "optimizer = optim.Adam(model.parameters(), lr=learning_rate)"
   ]
  },
  {
   "cell_type": "code",
   "execution_count": 19,
   "id": "ad5400a1",
   "metadata": {
    "execution": {
     "iopub.execute_input": "2023-12-14T04:51:11.317030Z",
     "iopub.status.busy": "2023-12-14T04:51:11.316686Z",
     "iopub.status.idle": "2023-12-14T04:51:11.321857Z",
     "shell.execute_reply": "2023-12-14T04:51:11.320892Z"
    },
    "papermill": {
     "duration": 0.021271,
     "end_time": "2023-12-14T04:51:11.324529",
     "exception": false,
     "start_time": "2023-12-14T04:51:11.303258",
     "status": "completed"
    },
    "tags": []
   },
   "outputs": [
    {
     "name": "stdout",
     "output_type": "stream",
     "text": [
      "LSTMClassifier(\n",
      "  (lstm): LSTM(20, 256, num_layers=2, batch_first=True)\n",
      "  (dropout): Dropout(p=0.255, inplace=False)\n",
      "  (fc): Linear(in_features=256, out_features=2, bias=True)\n",
      ")\n"
     ]
    }
   ],
   "source": [
    "print(model)"
   ]
  },
  {
   "cell_type": "code",
   "execution_count": 20,
   "id": "ee1b7eea",
   "metadata": {
    "execution": {
     "iopub.execute_input": "2023-12-14T04:51:11.350887Z",
     "iopub.status.busy": "2023-12-14T04:51:11.350558Z",
     "iopub.status.idle": "2023-12-14T04:51:14.854047Z",
     "shell.execute_reply": "2023-12-14T04:51:14.853126Z"
    },
    "papermill": {
     "duration": 3.519428,
     "end_time": "2023-12-14T04:51:14.856393",
     "exception": false,
     "start_time": "2023-12-14T04:51:11.336965",
     "status": "completed"
    },
    "tags": []
   },
   "outputs": [],
   "source": [
    "import torch \n",
    "import torch.nn as nn\n",
    "import torch.nn.functional as F\n",
    "from torch.autograd import Variable\n",
    "from torch.utils.data import Dataset, DataLoader\n",
    "import os, pathlib, glob, random\n",
    "import numpy as np\n",
    "import matplotlib.pyplot as plt \n",
    "import seaborn as sns\n",
    "from sklearn.metrics import confusion_matrix\n",
    "from transformers import WhisperProcessor, WhisperForConditionalGeneration\n",
    "from datasets import load_dataset\n",
    "from transformers.models.whisper.modeling_whisper import WhisperModel, WhisperEncoder\n",
    "from transformers.models.whisper.configuration_whisper import WhisperConfig\n",
    "from typing import Optional, Tuple, Union\n",
    "import torch\n",
    "import librosa \n",
    "import matplotlib.pyplot as plt\n",
    "import numpy as np\n",
    "import os, glob, pickle\n",
    "import scipy.io as sio\n",
    "from tqdm import tqdm\n",
    "import multiprocessing as mp \n",
    "import torch.optim as optim"
   ]
  },
  {
   "cell_type": "code",
   "execution_count": 21,
   "id": "7dd34b12",
   "metadata": {
    "execution": {
     "iopub.execute_input": "2023-12-14T04:51:14.879695Z",
     "iopub.status.busy": "2023-12-14T04:51:14.879176Z",
     "iopub.status.idle": "2023-12-14T05:57:40.111706Z",
     "shell.execute_reply": "2023-12-14T05:57:40.110765Z"
    },
    "papermill": {
     "duration": 3985.258323,
     "end_time": "2023-12-14T05:57:40.125645",
     "exception": false,
     "start_time": "2023-12-14T04:51:14.867322",
     "status": "completed"
    },
    "tags": []
   },
   "outputs": [
    {
     "name": "stdout",
     "output_type": "stream",
     "text": [
      "Epoch : 1/15   Train Loss : tensor(0.6905, dtype=torch.float64)   Train Accuracy : 0.5258419039839602   Test Accuracy : 0.5740877940359326\n",
      "Epoch : 2/15   Train Loss : tensor(0.6750, dtype=torch.float64)   Train Accuracy : 0.595923216871496   Test Accuracy : 0.5983515465827005\n",
      "Epoch : 3/15   Train Loss : tensor(0.6723, dtype=torch.float64)   Train Accuracy : 0.5996175695243753   Test Accuracy : 0.5997406927208743\n",
      "Epoch : 4/15   Train Loss : tensor(0.6673, dtype=torch.float64)   Train Accuracy : 0.6046114432109309   Test Accuracy : 0.6029820337099463\n",
      "Epoch : 5/15   Train Loss : tensor(0.6886, dtype=torch.float64)   Train Accuracy : 0.5269000853970965   Test Accuracy : 0.5249120207445823\n",
      "Epoch : 6/15   Train Loss : tensor(0.6917, dtype=torch.float64)   Train Accuracy : 0.5167823859206179   Test Accuracy : 0.5134284126690127\n",
      "Epoch : 7/15   Train Loss : tensor(0.6916, dtype=torch.float64)   Train Accuracy : 0.5144803772323915   Test Accuracy : 0.514354510094462\n",
      "Epoch : 8/15   Train Loss : tensor(0.6920, dtype=torch.float64)   Train Accuracy : 0.5144246834738053   Test Accuracy : 0.5157436562326356\n",
      "Epoch : 9/15   Train Loss : tensor(0.6919, dtype=torch.float64)   Train Accuracy : 0.5144432480600007   Test Accuracy : 0.5146323393220967\n",
      "Epoch : 10/15   Train Loss : tensor(0.6919, dtype=torch.float64)   Train Accuracy : 0.5132179853711061   Test Accuracy : 0.5000926097425449\n",
      "Epoch : 11/15   Train Loss : tensor(0.6916, dtype=torch.float64)   Train Accuracy : 0.5154828648869416   Test Accuracy : 0.5151879977773661\n",
      "Epoch : 12/15   Train Loss : tensor(0.6918, dtype=torch.float64)   Train Accuracy : 0.5135892770950136   Test Accuracy : 0.5000926097425449\n",
      "Epoch : 13/15   Train Loss : tensor(0.6921, dtype=torch.float64)   Train Accuracy : 0.5084840158912858   Test Accuracy : 0.5136136321541026\n",
      "Epoch : 14/15   Train Loss : tensor(0.6926, dtype=torch.float64)   Train Accuracy : 0.5068688968922883   Test Accuracy : 0.5069457306908687\n",
      "Epoch : 15/15   Train Loss : tensor(0.6929, dtype=torch.float64)   Train Accuracy : 0.5047896632384065   Test Accuracy : 0.5042600481570662\n",
      "0.6029820337099463\n",
      "Finished Training and Testing\n"
     ]
    }
   ],
   "source": [
    "#Model training and testing \n",
    "n_total_steps = len(train_dataloader) # n_total_steps * batch size will give total number of training files (consider that last batch may not be fully filled)\n",
    "train_accuracy_list = []\n",
    "train_loss_list = []\n",
    "val_accuracy_list = []\n",
    "max_acc=0\n",
    "num_epochs = 15\n",
    "pred_labels =[]\n",
    "act_labels = []\n",
    "\n",
    "for epoch in range(num_epochs):\n",
    "    \n",
    "    #Evaluation and training on training dataset\n",
    "    model.train()\n",
    "    train_accuracy=0.0\n",
    "    train_loss=0.0\n",
    "    \n",
    "    for batch_idx, (images,labels) in enumerate(train_dataloader):\n",
    "        if torch.cuda.is_available():\n",
    "            images=Variable(images.cuda())\n",
    "            labels=Variable(labels.cuda())\n",
    "        ##images = images.unsqueeze(1)\n",
    "        optimizer.zero_grad()\n",
    "        outputs=model(images)\n",
    "        loss=loss_function(outputs,labels)\n",
    "        loss.backward()\n",
    "        optimizer.step()\n",
    "        \n",
    "        \n",
    "        train_loss+= loss.cpu().data*images.size(0)\n",
    "        _,prediction=torch.max(outputs.data,1)\n",
    "        \n",
    "        train_accuracy+=int(torch.sum(prediction==labels.data))\n",
    "        \n",
    "    train_accuracy=train_accuracy/train_count\n",
    "    train_loss=train_loss/train_count\n",
    "    \n",
    "    train_accuracy_list.append(train_accuracy)\n",
    "    train_loss_list.append(train_loss)\n",
    "\n",
    "    \n",
    "    # Validation on Validation dataset\n",
    "    model.eval()\n",
    "    val_accuracy=0.0\n",
    "    pred = []\n",
    "    lab = []\n",
    "    \n",
    "    for i, (images,labels) in enumerate(val_dataloader):\n",
    "        if torch.cuda.is_available():\n",
    "            images=Variable(images.cuda())\n",
    "            labels=Variable(labels.cuda())\n",
    "        ##images = images.unsqueeze(1) \n",
    "#         print(i,images.shape)\n",
    "        outputs=model(images)\n",
    "        _,prediction=torch.max(outputs.data,1)\n",
    "        val_accuracy+=int(torch.sum(prediction==labels.data))\n",
    "        \n",
    "        pred.extend(prediction.tolist())\n",
    "        lab.extend(labels.tolist())\n",
    "    \n",
    "    val_accuracy=val_accuracy/val_count\n",
    "    val_accuracy_list.append(val_accuracy)\n",
    "    if max_acc < val_accuracy:\n",
    "        max_acc = val_accuracy\n",
    "        pred_labels = pred\n",
    "        actual_labels = lab\n",
    "        max_acc = val_accuracy\n",
    "        torch.save(model,\"best_accuracy_model_LSTM.pth\")\n",
    "    print('Epoch : '+str(epoch+1)+'/'+str(num_epochs)+'   Train Loss : '+str(train_loss)+'   Train Accuracy : '+str(train_accuracy)+'   Test Accuracy : '+str(val_accuracy))\n",
    "print(max_acc)   \n",
    "print('Finished Training and Testing')"
   ]
  },
  {
   "cell_type": "code",
   "execution_count": 22,
   "id": "d3f957c0",
   "metadata": {
    "execution": {
     "iopub.execute_input": "2023-12-14T05:57:40.150443Z",
     "iopub.status.busy": "2023-12-14T05:57:40.150096Z",
     "iopub.status.idle": "2023-12-14T05:58:25.825565Z",
     "shell.execute_reply": "2023-12-14T05:58:25.824611Z"
    },
    "papermill": {
     "duration": 45.701964,
     "end_time": "2023-12-14T05:58:25.839293",
     "exception": false,
     "start_time": "2023-12-14T05:57:40.137329",
     "status": "completed"
    },
    "tags": []
   },
   "outputs": [
    {
     "name": "stdout",
     "output_type": "stream",
     "text": [
      "testing Accuracy: 0.40138109624514456\n"
     ]
    }
   ],
   "source": [
    "# Load the best model\n",
    "best_model = torch.load(\"best_accuracy_model_LSTM.pth\")\n",
    "\n",
    "# Put the best_model in evaluation mode\n",
    "best_model.eval()\n",
    "\n",
    "# Initialize variables to store results\n",
    "testing_accuracy = 0.0\n",
    "pred_labels = []\n",
    "act_labels = []\n",
    "\n",
    "# Pass validation data through the best model\n",
    "for i, (images, labels) in enumerate(test_dataloader):\n",
    "    if torch.cuda.is_available():\n",
    "        images = Variable(images.cuda())\n",
    "        labels = Variable(labels.cuda())\n",
    "    \n",
    "    outputs = best_model(images)\n",
    "    _, prediction = torch.max(outputs.data, 1)\n",
    "    \n",
    "    testing_accuracy += int(torch.sum(prediction == labels.data))\n",
    "    \n",
    "    pred_labels.extend(prediction.tolist())\n",
    "    act_labels.extend(labels.tolist())\n",
    "\n",
    "# Calculate validation accuracy\n",
    "testing_accuracy = testing_accuracy / len(test_dataloader.dataset)\n",
    "\n",
    "# Print the validation accuracy\n",
    "print(\"testing Accuracy:\", testing_accuracy)\n",
    "# train Accuracy: 0.9726729291204099\n",
    "# Validation Accuracy: 0.9680496388220041\n",
    "# test Accuracy: 0.9512300388433319"
   ]
  },
  {
   "cell_type": "code",
   "execution_count": 23,
   "id": "cc474adc",
   "metadata": {
    "execution": {
     "iopub.execute_input": "2023-12-14T05:58:25.864007Z",
     "iopub.status.busy": "2023-12-14T05:58:25.863665Z",
     "iopub.status.idle": "2023-12-14T05:58:25.868603Z",
     "shell.execute_reply": "2023-12-14T05:58:25.867696Z"
    },
    "papermill": {
     "duration": 0.019534,
     "end_time": "2023-12-14T05:58:25.870513",
     "exception": false,
     "start_time": "2023-12-14T05:58:25.850979",
     "status": "completed"
    },
    "tags": []
   },
   "outputs": [
    {
     "name": "stdout",
     "output_type": "stream",
     "text": [
      "LSTMClassifier(\n",
      "  (lstm): LSTM(20, 256, num_layers=2, batch_first=True)\n",
      "  (dropout): Dropout(p=0.255, inplace=False)\n",
      "  (fc): Linear(in_features=256, out_features=2, bias=True)\n",
      ")\n"
     ]
    }
   ],
   "source": [
    "print(model)"
   ]
  },
  {
   "cell_type": "code",
   "execution_count": 24,
   "id": "594fc833",
   "metadata": {
    "execution": {
     "iopub.execute_input": "2023-12-14T05:58:25.895375Z",
     "iopub.status.busy": "2023-12-14T05:58:25.895048Z",
     "iopub.status.idle": "2023-12-14T05:58:26.338821Z",
     "shell.execute_reply": "2023-12-14T05:58:26.337396Z"
    },
    "papermill": {
     "duration": 0.458941,
     "end_time": "2023-12-14T05:58:26.341309",
     "exception": false,
     "start_time": "2023-12-14T05:58:25.882368",
     "status": "completed"
    },
    "tags": []
   },
   "outputs": [
    {
     "data": {
      "image/png": "[encoded data removed]",
      "text/plain": [
       "<Figure size 640x480 with 2 Axes>"
      ]
     },
     "metadata": {},
     "output_type": "display_data"
    },
    {
     "name": "stdout",
     "output_type": "stream",
     "text": [
      "F1 Score :  0.3196662347999864\n"
     ]
    }
   ],
   "source": [
    "# Calculate the confusion matrix\n",
    "import seaborn as sns\n",
    "conf_mat = confusion_matrix(act_labels, pred_labels)\n",
    "# Plot confusion matrix heat map\n",
    "sns.heatmap(conf_mat, cmap=\"flare\",annot=True, fmt = \"g\", \n",
    "            cbar_kws={\"label\":\"color bar\"},\n",
    "            xticklabels=train_dataset.classes,\n",
    "            yticklabels=train_dataset.classes)\n",
    "plt.xlabel(\"Predicted\")\n",
    "plt.ylabel(\"Actual\")\n",
    "plt.title(\"Confusion Matrix\")\n",
    "plt.savefig(\"ConfusionMatrix_LSTM.png\")\n",
    "plt.show()\n",
    "from sklearn.metrics import f1_score\n",
    "f1_score = f1_score(pred_labels, act_labels, average='macro')\n",
    "print('F1 Score : ', f1_score)\n"
   ]
  },
  {
   "cell_type": "code",
   "execution_count": 25,
   "id": "6cf7dbd7",
   "metadata": {
    "execution": {
     "iopub.execute_input": "2023-12-14T05:58:26.370927Z",
     "iopub.status.busy": "2023-12-14T05:58:26.370511Z",
     "iopub.status.idle": "2023-12-14T05:58:26.375290Z",
     "shell.execute_reply": "2023-12-14T05:58:26.374377Z"
    },
    "papermill": {
     "duration": 0.021164,
     "end_time": "2023-12-14T05:58:26.377362",
     "exception": false,
     "start_time": "2023-12-14T05:58:26.356198",
     "status": "completed"
    },
    "tags": []
   },
   "outputs": [],
   "source": [
    "# torch.save(model,'MGDCC_LSTMClassifier_01_01.pth')"
   ]
  },
  {
   "cell_type": "code",
   "execution_count": 26,
   "id": "f8c5f902",
   "metadata": {
    "execution": {
     "iopub.execute_input": "2023-12-14T05:58:26.403741Z",
     "iopub.status.busy": "2023-12-14T05:58:26.403353Z",
     "iopub.status.idle": "2023-12-14T05:58:26.407688Z",
     "shell.execute_reply": "2023-12-14T05:58:26.406802Z"
    },
    "papermill": {
     "duration": 0.01988,
     "end_time": "2023-12-14T05:58:26.409958",
     "exception": false,
     "start_time": "2023-12-14T05:58:26.390078",
     "status": "completed"
    },
    "tags": []
   },
   "outputs": [],
   "source": [
    "# BiLSTM"
   ]
  },
  {
   "cell_type": "code",
   "execution_count": 27,
   "id": "f932d7d3",
   "metadata": {
    "execution": {
     "iopub.execute_input": "2023-12-14T05:58:26.445980Z",
     "iopub.status.busy": "2023-12-14T05:58:26.445104Z",
     "iopub.status.idle": "2023-12-14T05:58:26.454491Z",
     "shell.execute_reply": "2023-12-14T05:58:26.453532Z"
    },
    "papermill": {
     "duration": 0.029279,
     "end_time": "2023-12-14T05:58:26.456542",
     "exception": false,
     "start_time": "2023-12-14T05:58:26.427263",
     "status": "completed"
    },
    "tags": []
   },
   "outputs": [],
   "source": [
    "drop_amount = 0.255\n",
    "\n",
    "class BiLSTMClassifier(nn.Module):\n",
    "    def __init__(self, input_size, hidden_size, num_layers, num_classes):\n",
    "        super(BiLSTMClassifier, self).__init__()\n",
    "        self.hidden_size = hidden_size\n",
    "        self.num_layers = num_layers\n",
    "        self.lstm = nn.LSTM(input_size, hidden_size, num_layers, batch_first=True, bidirectional=True)\n",
    "        self.dropout = nn.Dropout(p=drop_amount)\n",
    "        self.fc = nn.Linear(hidden_size*2, num_classes)\n",
    "\n",
    "    def forward(self, x):\n",
    "        h0 = torch.zeros(self.num_layers*2, x.size(0), self.hidden_size).to(device=x.device, dtype=torch.double)\n",
    "        c0 = torch.zeros(self.num_layers*2, x.size(0), self.hidden_size).to(device=x.device, dtype=torch.double)\n",
    "        out, _ = self.lstm(x, (h0, c0))\n",
    "        out = self.dropout(out)\n",
    "        # Extract the output of the last time step from both directions\n",
    "        last_hidden_state = torch.cat((out[:, -1, :self.hidden_size], out[:, 0, self.hidden_size:]), dim=1)\n",
    "        output = self.fc(last_hidden_state)\n",
    "        return output"
   ]
  },
  {
   "cell_type": "code",
   "execution_count": 28,
   "id": "bbb72128",
   "metadata": {
    "execution": {
     "iopub.execute_input": "2023-12-14T05:58:26.486515Z",
     "iopub.status.busy": "2023-12-14T05:58:26.486121Z",
     "iopub.status.idle": "2023-12-14T05:58:26.490882Z",
     "shell.execute_reply": "2023-12-14T05:58:26.489930Z"
    },
    "papermill": {
     "duration": 0.020904,
     "end_time": "2023-12-14T05:58:26.492843",
     "exception": false,
     "start_time": "2023-12-14T05:58:26.471939",
     "status": "completed"
    },
    "tags": []
   },
   "outputs": [],
   "source": [
    "batch_size = 64\n",
    "output_nodes = 2\n",
    "learning_rate = 0.0001"
   ]
  },
  {
   "cell_type": "code",
   "execution_count": 29,
   "id": "05addc36",
   "metadata": {
    "execution": {
     "iopub.execute_input": "2023-12-14T05:58:26.521821Z",
     "iopub.status.busy": "2023-12-14T05:58:26.521328Z",
     "iopub.status.idle": "2023-12-14T05:58:26.557157Z",
     "shell.execute_reply": "2023-12-14T05:58:26.555678Z"
    },
    "papermill": {
     "duration": 0.053674,
     "end_time": "2023-12-14T05:58:26.559280",
     "exception": false,
     "start_time": "2023-12-14T05:58:26.505606",
     "status": "completed"
    },
    "tags": []
   },
   "outputs": [
    {
     "name": "stdout",
     "output_type": "stream",
     "text": [
      "BiLSTMClassifier(\n",
      "  (lstm): LSTM(20, 256, num_layers=2, batch_first=True, bidirectional=True)\n",
      "  (dropout): Dropout(p=0.255, inplace=False)\n",
      "  (fc): Linear(in_features=512, out_features=2, bias=True)\n",
      ")\n"
     ]
    }
   ],
   "source": [
    "model = BiLSTMClassifier(input_size, hidden_size, num_layers, num_classes)\n",
    "model.to(device, dtype=torch.double)\n",
    "loss_function = nn.CrossEntropyLoss()\n",
    "optimizer = optim.Adam(model.parameters(), lr=learning_rate)\n",
    "print(model)"
   ]
  },
  {
   "cell_type": "code",
   "execution_count": 30,
   "id": "f793e7ae",
   "metadata": {
    "execution": {
     "iopub.execute_input": "2023-12-14T05:58:26.585886Z",
     "iopub.status.busy": "2023-12-14T05:58:26.585547Z",
     "iopub.status.idle": "2023-12-14T05:58:26.590450Z",
     "shell.execute_reply": "2023-12-14T05:58:26.589541Z"
    },
    "papermill": {
     "duration": 0.020375,
     "end_time": "2023-12-14T05:58:26.592432",
     "exception": false,
     "start_time": "2023-12-14T05:58:26.572057",
     "status": "completed"
    },
    "tags": []
   },
   "outputs": [
    {
     "name": "stdout",
     "output_type": "stream",
     "text": [
      "BiLSTMClassifier(\n",
      "  (lstm): LSTM(20, 256, num_layers=2, batch_first=True, bidirectional=True)\n",
      "  (dropout): Dropout(p=0.255, inplace=False)\n",
      "  (fc): Linear(in_features=512, out_features=2, bias=True)\n",
      ")\n"
     ]
    }
   ],
   "source": [
    "print(model)"
   ]
  },
  {
   "cell_type": "code",
   "execution_count": 31,
   "id": "d20db4ea",
   "metadata": {
    "execution": {
     "iopub.execute_input": "2023-12-14T05:58:26.618290Z",
     "iopub.status.busy": "2023-12-14T05:58:26.617969Z",
     "iopub.status.idle": "2023-12-14T07:37:30.818727Z",
     "shell.execute_reply": "2023-12-14T07:37:30.817793Z"
    },
    "papermill": {
     "duration": 5944.230075,
     "end_time": "2023-12-14T07:37:30.834885",
     "exception": false,
     "start_time": "2023-12-14T05:58:26.604810",
     "status": "completed"
    },
    "tags": []
   },
   "outputs": [
    {
     "name": "stdout",
     "output_type": "stream",
     "text": [
      "Epoch : 1/15   Train Loss : tensor(0.6842, dtype=torch.float64)   Train Accuracy : 0.5548212230349385   Test Accuracy : 0.6390998333024634\n",
      "Epoch : 2/15   Train Loss : tensor(0.5550, dtype=torch.float64)   Train Accuracy : 0.7340437381650763   Test Accuracy : 0.820892757918133\n",
      "Epoch : 3/15   Train Loss : tensor(0.4179, dtype=torch.float64)   Train Accuracy : 0.8277020755207366   Test Accuracy : 0.8445082422670865\n",
      "Epoch : 4/15   Train Loss : tensor(0.4190, dtype=torch.float64)   Train Accuracy : 0.8194965284223815   Test Accuracy : 0.5807556954991665\n",
      "Epoch : 5/15   Train Loss : tensor(0.5610, dtype=torch.float64)   Train Accuracy : 0.7067909256302677   Test Accuracy : 0.5614928690498241\n",
      "Epoch : 6/15   Train Loss : tensor(0.4807, dtype=torch.float64)   Train Accuracy : 0.7744217131400141   Test Accuracy : 0.8493239488794221\n",
      "Epoch : 7/15   Train Loss : tensor(0.5243, dtype=torch.float64)   Train Accuracy : 0.7490439238109382   Test Accuracy : 0.5899240600111132\n",
      "Epoch : 8/15   Train Loss : tensor(0.6259, dtype=torch.float64)   Train Accuracy : 0.6733561058923997   Test Accuracy : 0.49953695128727543\n",
      "Epoch : 9/15   Train Loss : tensor(0.6996, dtype=torch.float64)   Train Accuracy : 0.49946162700033414   Test Accuracy : 0.49990739025745506\n",
      "Epoch : 10/15   Train Loss : tensor(0.6959, dtype=torch.float64)   Train Accuracy : 0.5089110013737794   Test Accuracy : 0.49990739025745506\n",
      "Epoch : 11/15   Train Loss : tensor(0.6941, dtype=torch.float64)   Train Accuracy : 0.513013774922957   Test Accuracy : 0.5024078533061678\n",
      "Epoch : 12/15   Train Loss : tensor(0.6452, dtype=torch.float64)   Train Accuracy : 0.599654698696766   Test Accuracy : 0.5699203556214114\n",
      "Epoch : 13/15   Train Loss : tensor(0.5978, dtype=torch.float64)   Train Accuracy : 0.6471057810121412   Test Accuracy : 0.6691979996295611\n",
      "Epoch : 14/15   Train Loss : tensor(0.5276, dtype=torch.float64)   Train Accuracy : 0.7491553113281105   Test Accuracy : 0.7724578625671421\n",
      "Epoch : 15/15   Train Loss : tensor(0.4521, dtype=torch.float64)   Train Accuracy : 0.8065755764304013   Test Accuracy : 0.8412669012780144\n",
      "0.8493239488794221\n",
      "Finished Training and Testing\n"
     ]
    }
   ],
   "source": [
    "#Model training and testing \n",
    "n_total_steps = len(train_dataloader) # n_total_steps * batch size will give total number of training files (consider that last batch may not be fully filled)\n",
    "train_accuracy_list = []\n",
    "train_loss_list = []\n",
    "val_accuracy_list = []\n",
    "max_acc=0\n",
    "num_epochs = 15\n",
    "pred_labels =[]\n",
    "act_labels = []\n",
    "\n",
    "for epoch in range(num_epochs):\n",
    "    \n",
    "    #Evaluation and training on training dataset\n",
    "    model.train()\n",
    "    train_accuracy=0.0\n",
    "    train_loss=0.0\n",
    "    \n",
    "    for batch_idx, (images,labels) in enumerate(train_dataloader):\n",
    "        if torch.cuda.is_available():\n",
    "            images=Variable(images.cuda())\n",
    "            labels=Variable(labels.cuda())\n",
    "        ##images = images.unsqueeze(1)\n",
    "        optimizer.zero_grad()\n",
    "        outputs=model(images)\n",
    "        loss=loss_function(outputs,labels)\n",
    "        loss.backward()\n",
    "        optimizer.step()\n",
    "        \n",
    "        \n",
    "        train_loss+= loss.cpu().data*images.size(0)\n",
    "        _,prediction=torch.max(outputs.data,1)\n",
    "        \n",
    "        train_accuracy+=int(torch.sum(prediction==labels.data))\n",
    "        \n",
    "    train_accuracy=train_accuracy/train_count\n",
    "    train_loss=train_loss/train_count\n",
    "    \n",
    "    train_accuracy_list.append(train_accuracy)\n",
    "    train_loss_list.append(train_loss)\n",
    "\n",
    "    \n",
    "    # Validation on Validation dataset\n",
    "    model.eval()\n",
    "    val_accuracy=0.0\n",
    "    pred = []\n",
    "    lab = []\n",
    "    \n",
    "    for i, (images,labels) in enumerate(val_dataloader):\n",
    "        if torch.cuda.is_available():\n",
    "            images=Variable(images.cuda())\n",
    "            labels=Variable(labels.cuda())\n",
    "        ##images = images.unsqueeze(1) \n",
    "#         print(i,images.shape)\n",
    "        outputs=model(images)\n",
    "        _,prediction=torch.max(outputs.data,1)\n",
    "        val_accuracy+=int(torch.sum(prediction==labels.data))\n",
    "        \n",
    "        pred.extend(prediction.tolist())\n",
    "        lab.extend(labels.tolist())\n",
    "    \n",
    "    val_accuracy=val_accuracy/val_count\n",
    "    val_accuracy_list.append(val_accuracy)\n",
    "    if max_acc < val_accuracy:\n",
    "        max_acc = val_accuracy\n",
    "        pred_labels = pred\n",
    "        actual_labels = lab\n",
    "        max_acc = val_accuracy\n",
    "        torch.save(model,\"best_accuracy_model_BiLSTM.pth\")\n",
    "    print('Epoch : '+str(epoch+1)+'/'+str(num_epochs)+'   Train Loss : '+str(train_loss)+'   Train Accuracy : '+str(train_accuracy)+'   Test Accuracy : '+str(val_accuracy))\n",
    "print(max_acc)   \n",
    "print('Finished Training and Testing')"
   ]
  },
  {
   "cell_type": "code",
   "execution_count": 32,
   "id": "e8a3572f",
   "metadata": {
    "execution": {
     "iopub.execute_input": "2023-12-14T07:37:30.863972Z",
     "iopub.status.busy": "2023-12-14T07:37:30.863665Z",
     "iopub.status.idle": "2023-12-14T07:37:51.196132Z",
     "shell.execute_reply": "2023-12-14T07:37:51.194922Z"
    },
    "papermill": {
     "duration": 20.350034,
     "end_time": "2023-12-14T07:37:51.198472",
     "exception": false,
     "start_time": "2023-12-14T07:37:30.848438",
     "status": "completed"
    },
    "tags": []
   },
   "outputs": [
    {
     "name": "stdout",
     "output_type": "stream",
     "text": [
      "testing Accuracy: 0.48079413034095814\n"
     ]
    }
   ],
   "source": [
    "# Load the best model\n",
    "best_model = torch.load(\"best_accuracy_model_BiLSTM.pth\")\n",
    "\n",
    "# Put the best_model in evaluation mode\n",
    "best_model.eval()\n",
    "\n",
    "# Initialize variables to store results\n",
    "testing_accuracy = 0.0\n",
    "pred_labels = []\n",
    "act_labels = []\n",
    "\n",
    "# Pass validation data through the best model\n",
    "for i, (images, labels) in enumerate(test_dataloader):\n",
    "    if torch.cuda.is_available():\n",
    "        images = Variable(images.cuda())\n",
    "        labels = Variable(labels.cuda())\n",
    "    \n",
    "    outputs = best_model(images)\n",
    "    _, prediction = torch.max(outputs.data, 1)\n",
    "    \n",
    "    testing_accuracy += int(torch.sum(prediction == labels.data))\n",
    "    \n",
    "    pred_labels.extend(prediction.tolist())\n",
    "    act_labels.extend(labels.tolist())\n",
    "\n",
    "# Calculate validation accuracy\n",
    "testing_accuracy = testing_accuracy / len(test_dataloader.dataset)\n",
    "\n",
    "# Print the validation accuracy\n",
    "print(\"testing Accuracy:\", testing_accuracy)"
   ]
  },
  {
   "cell_type": "code",
   "execution_count": 33,
   "id": "3eb3908a",
   "metadata": {
    "execution": {
     "iopub.execute_input": "2023-12-14T07:37:51.292229Z",
     "iopub.status.busy": "2023-12-14T07:37:51.291051Z",
     "iopub.status.idle": "2023-12-14T07:37:51.657583Z",
     "shell.execute_reply": "2023-12-14T07:37:51.656456Z"
    },
    "papermill": {
     "duration": 0.384001,
     "end_time": "2023-12-14T07:37:51.659731",
     "exception": false,
     "start_time": "2023-12-14T07:37:51.275730",
     "status": "completed"
    },
    "tags": []
   },
   "outputs": [
    {
     "data": {
      "image/png": "[encoded data removed]",
      "text/plain": [
       "<Figure size 640x480 with 2 Axes>"
      ]
     },
     "metadata": {},
     "output_type": "display_data"
    },
    {
     "name": "stdout",
     "output_type": "stream",
     "text": [
      "F1 Score :  0.33113309351223214\n"
     ]
    }
   ],
   "source": [
    "# Calculate the confusion matrix\n",
    "import seaborn as sns\n",
    "conf_mat = confusion_matrix(act_labels, pred_labels)\n",
    "# Plot confusion matrix heat map\n",
    "sns.heatmap(conf_mat, cmap=\"flare\",annot=True, fmt = \"g\", \n",
    "            cbar_kws={\"label\":\"color bar\"},\n",
    "            xticklabels=train_dataset.classes,\n",
    "            yticklabels=train_dataset.classes)\n",
    "plt.xlabel(\"Predicted\")\n",
    "plt.ylabel(\"Actual\")\n",
    "plt.title(\"Confusion Matrix\")\n",
    "plt.savefig(\"ConfusionMatrix_BiLSTM.png\")\n",
    "plt.show()\n",
    "from sklearn.metrics import f1_score\n",
    "f1_score = f1_score(pred_labels, act_labels, average='macro')\n",
    "print('F1 Score : ', f1_score)\n"
   ]
  },
  {
   "cell_type": "code",
   "execution_count": 34,
   "id": "67e8d05f",
   "metadata": {
    "execution": {
     "iopub.execute_input": "2023-12-14T07:37:51.690210Z",
     "iopub.status.busy": "2023-12-14T07:37:51.689872Z",
     "iopub.status.idle": "2023-12-14T07:37:51.693871Z",
     "shell.execute_reply": "2023-12-14T07:37:51.693051Z"
    },
    "papermill": {
     "duration": 0.020926,
     "end_time": "2023-12-14T07:37:51.695719",
     "exception": false,
     "start_time": "2023-12-14T07:37:51.674793",
     "status": "completed"
    },
    "tags": []
   },
   "outputs": [],
   "source": [
    "# torch.save(model,'MGDCC_BiLSTMClassifier_01_01.pth')"
   ]
  },
  {
   "cell_type": "code",
   "execution_count": 35,
   "id": "296e56df",
   "metadata": {
    "execution": {
     "iopub.execute_input": "2023-12-14T07:37:51.725408Z",
     "iopub.status.busy": "2023-12-14T07:37:51.725051Z",
     "iopub.status.idle": "2023-12-14T07:37:51.731922Z",
     "shell.execute_reply": "2023-12-14T07:37:51.731170Z"
    },
    "papermill": {
     "duration": 0.023968,
     "end_time": "2023-12-14T07:37:51.733822",
     "exception": false,
     "start_time": "2023-12-14T07:37:51.709854",
     "status": "completed"
    },
    "tags": []
   },
   "outputs": [],
   "source": [
    "# ResNet50\n",
    "# import torch\n",
    "# import torch.nn as nn\n",
    "\n",
    "\n",
    "# def conv3x3(in_channels, out_channels, stride=1):\n",
    "#     \"\"\"3x3 convolution with padding\"\"\"\n",
    "#     return nn.Conv2d(in_channels, out_channels, kernel_size=3, stride=stride, padding=1, bias=False)\n",
    "\n",
    "\n",
    "# class Bottleneck(nn.Module):\n",
    "#     expansion = 4\n",
    "\n",
    "#     def __init__(self, in_channels, out_channels, stride=1, downsample=None):\n",
    "#         super(Bottleneck, self).__init__()\n",
    "\n",
    "#         self.conv1 = nn.Conv2d(in_channels, out_channels, kernel_size=1, bias=False)\n",
    "#         self.bn1 = nn.BatchNorm2d(out_channels)\n",
    "#         self.conv2 = nn.Conv2d(out_channels, out_channels, kernel_size=3, stride=stride, padding=1, bias=False)\n",
    "#         self.bn2 = nn.BatchNorm2d(out_channels)\n",
    "#         self.conv3 = nn.Conv2d(out_channels, out_channels * self.expansion, kernel_size=1, bias=False)\n",
    "#         self.bn3 = nn.BatchNorm2d(out_channels * self.expansion)\n",
    "#         self.relu = nn.ReLU(inplace=True)\n",
    "#         self.downsample = downsample\n",
    "#         self.stride = stride\n",
    "\n",
    "#     def forward(self, x):\n",
    "#         identity = x\n",
    "\n",
    "#         out = self.conv1(x)\n",
    "#         out = self.bn1(out)\n",
    "#         out = self.relu(out)\n",
    "\n",
    "#         out = self.conv2(out)\n",
    "#         out = self.bn2(out)\n",
    "#         out = self.relu(out)\n",
    "\n",
    "#         out = self.conv3(out)\n",
    "#         out = self.bn3(out)\n",
    "\n",
    "#         if self.downsample is not None:\n",
    "#             identity = self.downsample(x)\n",
    "\n",
    "#         out += identity\n",
    "#         out = self.relu(out)\n",
    "\n",
    "#         return out\n",
    "\n",
    "\n",
    "# class ResNet(nn.Module):\n",
    "#     def __init__(self, block, layers, num_classes=1000):\n",
    "#         super(ResNet, self).__init__()\n",
    "\n",
    "#         self.in_channels = 64\n",
    "#         self.conv1 = nn.Conv2d(1, 64, kernel_size=7, stride=2, padding=3, bias=False)\n",
    "# #         self.conv1 = nn.Conv2d(1, 64, kernel_size=7, stride=2, padding=3, bias=False)\n",
    "#         self.bn1 = nn.BatchNorm2d(64)\n",
    "#         self.relu = nn.ReLU(inplace=True)\n",
    "#         self.maxpool = nn.MaxPool2d(kernel_size=3, stride=2, padding=1)\n",
    "\n",
    "#         self.layer1 = self._make_layer(block, 64, layers[0], stride=1)\n",
    "#         self.layer2 = self._make_layer(block, 128, layers[1], stride=2)\n",
    "#         self.layer3 = self._make_layer(block, 256, layers[2], stride=2)\n",
    "#         self.layer4 = self._make_layer(block, 512, layers[3], stride=2)\n",
    "\n",
    "#         self.avgpool = nn.AdaptiveAvgPool2d((1, 1))\n",
    "#         self.fc = nn.Linear(512 * block.expansion, num_classes)\n",
    "\n",
    "#     def _make_layer(self, block, out_channels, blocks, stride=1):\n",
    "#         downsample = None\n",
    "#         if stride != 1 or self.in_channels != out_channels * block.expansion:\n",
    "#             downsample = nn.Sequential(\n",
    "#                 nn.Conv2d(self.in_channels, out_channels * block.expansion, kernel_size=1, stride=stride, bias=False),\n",
    "#                 nn.BatchNorm2d(out_channels * block.expansion),\n",
    "#             )\n",
    "\n",
    "#         layers = [block(self.in_channels, out_channels, stride, downsample)]\n",
    "#         self.in_channels = out_channels * block.expansion\n",
    "#         for _ in range(1, blocks):\n",
    "#             layers.append(block(self.in_channels, out_channels))\n",
    "\n",
    "#         return nn.Sequential(*layers)\n",
    "\n",
    "#     def forward(self, x):\n",
    "#         x = self.conv1(x)\n",
    "#         x = self.bn1(x)\n",
    "#         x = self.relu(x)\n",
    "#         x = self.maxpool(x)\n",
    "\n",
    "#         x = self.layer1(x)\n",
    "#         x = self.layer2(x)\n",
    "#         x = self.layer3(x)\n",
    "#         x = self.layer4(x)\n",
    "\n",
    "#         x = self.avgpool(x)\n",
    "#         x = x.view(x.size(0), -1)\n",
    "#         x = self.fc(x)\n",
    "\n",
    "#         return x\n",
    "\n",
    "\n",
    "# # ResNet-50\n",
    "# def resnet50(num_classes=2):\n",
    "#     return ResNet(Bottleneck, [3, 4, 6, 3], num_classes)\n"
   ]
  },
  {
   "cell_type": "code",
   "execution_count": 36,
   "id": "249d39df",
   "metadata": {
    "execution": {
     "iopub.execute_input": "2023-12-14T07:37:51.763664Z",
     "iopub.status.busy": "2023-12-14T07:37:51.763395Z",
     "iopub.status.idle": "2023-12-14T07:37:51.767186Z",
     "shell.execute_reply": "2023-12-14T07:37:51.766401Z"
    },
    "papermill": {
     "duration": 0.020596,
     "end_time": "2023-12-14T07:37:51.768988",
     "exception": false,
     "start_time": "2023-12-14T07:37:51.748392",
     "status": "completed"
    },
    "tags": []
   },
   "outputs": [],
   "source": [
    "# model = resnet50()\n",
    "# model.to(device, dtype=torch.double)\n",
    "# loss_function = nn.CrossEntropyLoss()\n",
    "# optimizer = optim.Adam(model.parameters(), lr=learning_rate)\n",
    "# print(model)"
   ]
  },
  {
   "cell_type": "code",
   "execution_count": 37,
   "id": "caf17d66",
   "metadata": {
    "execution": {
     "iopub.execute_input": "2023-12-14T07:37:51.798425Z",
     "iopub.status.busy": "2023-12-14T07:37:51.798125Z",
     "iopub.status.idle": "2023-12-14T07:37:51.801926Z",
     "shell.execute_reply": "2023-12-14T07:37:51.801183Z"
    },
    "papermill": {
     "duration": 0.020517,
     "end_time": "2023-12-14T07:37:51.803691",
     "exception": false,
     "start_time": "2023-12-14T07:37:51.783174",
     "status": "completed"
    },
    "tags": []
   },
   "outputs": [],
   "source": [
    "# torch.save(model,'MGDCC_ResNet50_0_0001.pth')"
   ]
  },
  {
   "cell_type": "code",
   "execution_count": 38,
   "id": "efd60865",
   "metadata": {
    "execution": {
     "iopub.execute_input": "2023-12-14T07:37:51.834370Z",
     "iopub.status.busy": "2023-12-14T07:37:51.833659Z",
     "iopub.status.idle": "2023-12-14T07:37:51.838298Z",
     "shell.execute_reply": "2023-12-14T07:37:51.837441Z"
    },
    "papermill": {
     "duration": 0.022279,
     "end_time": "2023-12-14T07:37:51.840192",
     "exception": false,
     "start_time": "2023-12-14T07:37:51.817913",
     "status": "completed"
    },
    "tags": []
   },
   "outputs": [],
   "source": [
    "# # Calculate the confusion matrix\n",
    "# import seaborn as sns\n",
    "# conf_mat = confusion_matrix(act_labels, pred_labels)\n",
    "# # Plot confusion matrix heat map\n",
    "# sns.heatmap(conf_mat, cmap=\"flare\",annot=True, fmt = \"g\", \n",
    "#             cbar_kws={\"label\":\"color bar\"},\n",
    "#             xticklabels=train_dataset.classes,\n",
    "#             yticklabels=train_dataset.classes)\n",
    "# plt.xlabel(\"Predicted\")\n",
    "# plt.ylabel(\"Actual\")\n",
    "# plt.title(\"Confusion Matrix\")\n",
    "# plt.savefig(\"ConfusionMatrix.png\")\n",
    "# plt.show()\n",
    "# from sklearn.metrics import f1_score\n",
    "# f1_score = f1_score(pred_labels, act_labels, average='macro')\n",
    "# print('F1 Score : ', f1_score)"
   ]
  }
 ],
 "metadata": {
  "kaggle": {
   "accelerator": "gpu",
   "dataSources": [
    {
     "datasetId": 4133733,
     "sourceId": 7157591,
     "sourceType": "datasetVersion"
    }
   ],
   "dockerImageVersionId": 30627,
   "isGpuEnabled": true,
   "isInternetEnabled": true,
   "language": "python",
   "sourceType": "notebook"
  },
  "kernelspec": {
   "display_name": "Python 3",
   "language": "python",
   "name": "python3"
  },
  "language_info": {
   "codemirror_mode": {
    "name": "ipython",
    "version": 3
   },
   "file_extension": ".py",
   "mimetype": "text/x-python",
   "name": "python",
   "nbconvert_exporter": "python",
   "pygments_lexer": "ipython3",
   "version": "3.10.12"
  },
  "papermill": {
   "default_parameters": {},
   "duration": 10031.812651,
   "end_time": "2023-12-14T07:37:54.368899",
   "environment_variables": {},
   "exception": null,
   "input_path": "__notebook__.ipynb",
   "output_path": "__notebook__.ipynb",
   "parameters": {},
   "start_time": "2023-12-14T04:50:42.556248",
   "version": "2.4.0"
  }
 },
 "nbformat": 4,
 "nbformat_minor": 5
}
