{
 "cells": [
  {
   "cell_type": "code",
   "execution_count": 1,
   "id": "c7603f2d",
   "metadata": {
    "execution": {
     "iopub.execute_input": "2023-12-14T18:20:28.992251Z",
     "iopub.status.busy": "2023-12-14T18:20:28.991540Z",
     "iopub.status.idle": "2023-12-14T18:20:41.929654Z",
     "shell.execute_reply": "2023-12-14T18:20:41.928564Z"
    },
    "papermill": {
     "duration": 12.952326,
     "end_time": "2023-12-14T18:20:41.932079",
     "exception": false,
     "start_time": "2023-12-14T18:20:28.979753",
     "status": "completed"
    },
    "tags": []
   },
   "outputs": [
    {
     "name": "stdout",
     "output_type": "stream",
     "text": [
      "Requirement already satisfied: scipy in /opt/conda/lib/python3.10/site-packages (1.11.4)\r\n",
      "Requirement already satisfied: numpy<1.28.0,>=1.21.6 in /opt/conda/lib/python3.10/site-packages (from scipy) (1.24.3)\r\n"
     ]
    }
   ],
   "source": [
    "!pip install --upgrade scipy"
   ]
  },
  {
   "cell_type": "code",
   "execution_count": 2,
   "id": "60be8bdb",
   "metadata": {
    "execution": {
     "iopub.execute_input": "2023-12-14T18:20:41.954326Z",
     "iopub.status.busy": "2023-12-14T18:20:41.954029Z",
     "iopub.status.idle": "2023-12-14T18:20:46.424206Z",
     "shell.execute_reply": "2023-12-14T18:20:46.423377Z"
    },
    "papermill": {
     "duration": 4.483877,
     "end_time": "2023-12-14T18:20:46.426517",
     "exception": false,
     "start_time": "2023-12-14T18:20:41.942640",
     "status": "completed"
    },
    "tags": []
   },
   "outputs": [
    {
     "name": "stderr",
     "output_type": "stream",
     "text": [
      "/opt/conda/lib/python3.10/site-packages/scipy/__init__.py:146: UserWarning: A NumPy version >=1.16.5 and <1.23.0 is required for this version of SciPy (detected version 1.24.3\n",
      "  warnings.warn(f\"A NumPy version >={np_minversion} and <{np_maxversion}\"\n"
     ]
    }
   ],
   "source": [
    "import torch \n",
    "import torch.nn as nn\n",
    "import torch.nn.functional as F\n",
    "from torch.autograd import Variable\n",
    "from torch.utils.data import Dataset, DataLoader\n",
    "\n",
    "import os, pathlib, glob, random\n",
    "import numpy as np\n",
    "import matplotlib.pyplot as plt \n",
    "\n",
    "from sklearn.metrics import confusion_matrix\n",
    "import scipy\n",
    "from scipy import io"
   ]
  },
  {
   "cell_type": "code",
   "execution_count": 3,
   "id": "610efab4",
   "metadata": {
    "execution": {
     "iopub.execute_input": "2023-12-14T18:20:46.448685Z",
     "iopub.status.busy": "2023-12-14T18:20:46.448271Z",
     "iopub.status.idle": "2023-12-14T18:20:46.508817Z",
     "shell.execute_reply": "2023-12-14T18:20:46.507764Z"
    },
    "papermill": {
     "duration": 0.073557,
     "end_time": "2023-12-14T18:20:46.510737",
     "exception": false,
     "start_time": "2023-12-14T18:20:46.437180",
     "status": "completed"
    },
    "tags": []
   },
   "outputs": [
    {
     "name": "stdout",
     "output_type": "stream",
     "text": [
      "cuda:0\n"
     ]
    }
   ],
   "source": [
    "device = torch.device('cuda:0' if torch.cuda.is_available() else 'cpu')\n",
    "print(device)"
   ]
  },
  {
   "cell_type": "code",
   "execution_count": 4,
   "id": "2b6a6f05",
   "metadata": {
    "execution": {
     "iopub.execute_input": "2023-12-14T18:20:46.532621Z",
     "iopub.status.busy": "2023-12-14T18:20:46.532335Z",
     "iopub.status.idle": "2023-12-14T18:20:46.536580Z",
     "shell.execute_reply": "2023-12-14T18:20:46.535690Z"
    },
    "papermill": {
     "duration": 0.017213,
     "end_time": "2023-12-14T18:20:46.538432",
     "exception": false,
     "start_time": "2023-12-14T18:20:46.521219",
     "status": "completed"
    },
    "tags": []
   },
   "outputs": [],
   "source": [
    "batch_size = 64\n",
    "output_nodes = 2\n",
    "learning_rate = 0.001"
   ]
  },
  {
   "cell_type": "code",
   "execution_count": 5,
   "id": "2f3ddd27",
   "metadata": {
    "execution": {
     "iopub.execute_input": "2023-12-14T18:20:46.560178Z",
     "iopub.status.busy": "2023-12-14T18:20:46.559834Z",
     "iopub.status.idle": "2023-12-14T18:20:46.563579Z",
     "shell.execute_reply": "2023-12-14T18:20:46.562787Z"
    },
    "papermill": {
     "duration": 0.017092,
     "end_time": "2023-12-14T18:20:46.565712",
     "exception": false,
     "start_time": "2023-12-14T18:20:46.548620",
     "status": "completed"
    },
    "tags": []
   },
   "outputs": [],
   "source": [
    "train_data_path = r\"/kaggle/input/deltadoubledelta-all-feat-add/delta,DoubleDelta/MFCC/doubleDelta/train\"\n",
    "validation_data_path =r\"/kaggle/input/deltadoubledelta-all-feat-add/delta,DoubleDelta/MFCC/doubleDelta/dev\"\n",
    "test_data_path = r\"/kaggle/input/deltadoubledelta-all-feat-add/delta,DoubleDelta/MFCC/doubleDelta/test\""
   ]
  },
  {
   "cell_type": "code",
   "execution_count": 6,
   "id": "a770169b",
   "metadata": {
    "execution": {
     "iopub.execute_input": "2023-12-14T18:20:46.587379Z",
     "iopub.status.busy": "2023-12-14T18:20:46.587103Z",
     "iopub.status.idle": "2023-12-14T18:20:46.592085Z",
     "shell.execute_reply": "2023-12-14T18:20:46.591238Z"
    },
    "papermill": {
     "duration": 0.01791,
     "end_time": "2023-12-14T18:20:46.594058",
     "exception": false,
     "start_time": "2023-12-14T18:20:46.576148",
     "status": "completed"
    },
    "tags": []
   },
   "outputs": [],
   "source": [
    "# # ResNet50\n",
    "# class PtDataset(Dataset):\n",
    "#     def __init__(self, directory):\n",
    "#         self.directory = directory\n",
    "#         self.classes = sorted(entry.name for entry in os.scandir(directory) if entry.is_dir())\n",
    "#         self.class_to_idx = {c: i for i, c in enumerate(self.classes)}\n",
    "#         self.files = []\n",
    "#         for c in self.classes:\n",
    "#             c_dir = os.path.join(directory, c)\n",
    "#             c_files = [(os.path.join(c_dir, f), self.class_to_idx[c]) for f in os.listdir(c_dir)]\n",
    "#             self.files.extend(c_files)\n",
    "#         random.shuffle(self.files)\n",
    "        \n",
    "#     def __len__(self):\n",
    "#         return len(self.files)\n",
    "    \n",
    "#     # Assuming mono audio data\n",
    "#     def __getitem__(self, idx):\n",
    "#         filepath, label = self.files[idx]\n",
    "#         try:\n",
    "#             mat_vals = scipy.io.loadmat(filepath)\n",
    "#             data = mat_vals['final']\n",
    "#             data = data.T\n",
    "#             max_len = 750\n",
    "\n",
    "#             if (max_len > data.shape[0]):\n",
    "#                 pad_width = max_len - data.shape[0]\n",
    "#                 data = np.pad(data, pad_width=((0, pad_width), (0, 0)), mode='constant')\n",
    "#             else:\n",
    "#                 data = data[:max_len, :]\n",
    "\n",
    "#             # Reshape data to (1, 750, 20) for mono audio\n",
    "#             data = data[np.newaxis, :, :]\n",
    "\n",
    "#         except Exception as e:\n",
    "#             print(f\"Error loading file {filepath}: {str(e)}\")\n",
    "#             return None\n",
    "\n",
    "#         return data, label\n"
   ]
  },
  {
   "cell_type": "code",
   "execution_count": 7,
   "id": "d61d8093",
   "metadata": {
    "execution": {
     "iopub.execute_input": "2023-12-14T18:20:46.616330Z",
     "iopub.status.busy": "2023-12-14T18:20:46.616048Z",
     "iopub.status.idle": "2023-12-14T18:20:46.626908Z",
     "shell.execute_reply": "2023-12-14T18:20:46.626081Z"
    },
    "papermill": {
     "duration": 0.024231,
     "end_time": "2023-12-14T18:20:46.628712",
     "exception": false,
     "start_time": "2023-12-14T18:20:46.604481",
     "status": "completed"
    },
    "tags": []
   },
   "outputs": [],
   "source": [
    "class PtDataset(Dataset):\n",
    "    def __init__(self, directory):\n",
    "        self.directory = directory\n",
    "        self.classes = sorted(entry.name for entry in os.scandir(directory) if entry.is_dir())\n",
    "        self.class_to_idx = {c: i for i, c in enumerate(self.classes)}\n",
    "        self.files = []\n",
    "        for c in self.classes:\n",
    "            c_dir = os.path.join(directory, c)\n",
    "            c_files = [(os.path.join(c_dir, f), self.class_to_idx[c]) for f in os.listdir(c_dir)]\n",
    "            self.files.extend(c_files)\n",
    "        random.shuffle(self.files)\n",
    "        \n",
    "    def __len__(self):\n",
    "        return len(self.files)\n",
    "    \n",
    "    def __getitem__(self, idx):\n",
    "        filepath, label = self.files[idx]\n",
    "        try:\n",
    "            mat_vals = scipy.io.loadmat(filepath)\n",
    "            data = mat_vals['final']\n",
    "#             data = data.T\n",
    "            max_len=750\n",
    "            if (max_len > data.shape[0]):\n",
    "                pad_width = max_len - data.shape[0]\n",
    "                data = np.pad(data, pad_width=((0, pad_width),(0,0)), mode='constant')\n",
    "            else:\n",
    "                data = data[:max_len, :]\n",
    "        except Exception as e:\n",
    "            print(f\"Error loading file {filepath}: {str(e)}\")\n",
    "            return None\n",
    "        return data, label"
   ]
  },
  {
   "cell_type": "code",
   "execution_count": 8,
   "id": "65b11843",
   "metadata": {
    "execution": {
     "iopub.execute_input": "2023-12-14T18:20:46.650746Z",
     "iopub.status.busy": "2023-12-14T18:20:46.650075Z",
     "iopub.status.idle": "2023-12-14T18:20:52.267661Z",
     "shell.execute_reply": "2023-12-14T18:20:52.266830Z"
    },
    "papermill": {
     "duration": 5.631151,
     "end_time": "2023-12-14T18:20:52.270149",
     "exception": false,
     "start_time": "2023-12-14T18:20:46.638998",
     "status": "completed"
    },
    "tags": []
   },
   "outputs": [],
   "source": [
    "train_dataset = PtDataset(train_data_path)\n",
    "test_dataset = PtDataset(test_data_path)\n",
    "val_dataset = PtDataset(validation_data_path)"
   ]
  },
  {
   "cell_type": "code",
   "execution_count": 9,
   "id": "c975c6c4",
   "metadata": {
    "execution": {
     "iopub.execute_input": "2023-12-14T18:20:52.293755Z",
     "iopub.status.busy": "2023-12-14T18:20:52.293400Z",
     "iopub.status.idle": "2023-12-14T18:20:52.298493Z",
     "shell.execute_reply": "2023-12-14T18:20:52.297631Z"
    },
    "papermill": {
     "duration": 0.018687,
     "end_time": "2023-12-14T18:20:52.300299",
     "exception": false,
     "start_time": "2023-12-14T18:20:52.281612",
     "status": "completed"
    },
    "tags": []
   },
   "outputs": [],
   "source": [
    "class PtDataLoader(DataLoader):\n",
    "    def __init__(self, directory, batch_size, shuffle=True):\n",
    "        dataset = PtDataset(directory)\n",
    "        super().__init__(dataset, batch_size=batch_size, shuffle=shuffle)"
   ]
  },
  {
   "cell_type": "code",
   "execution_count": 10,
   "id": "45459d46",
   "metadata": {
    "execution": {
     "iopub.execute_input": "2023-12-14T18:20:52.322440Z",
     "iopub.status.busy": "2023-12-14T18:20:52.322121Z",
     "iopub.status.idle": "2023-12-14T18:20:52.558963Z",
     "shell.execute_reply": "2023-12-14T18:20:52.558149Z"
    },
    "papermill": {
     "duration": 0.250423,
     "end_time": "2023-12-14T18:20:52.561253",
     "exception": false,
     "start_time": "2023-12-14T18:20:52.310830",
     "status": "completed"
    },
    "tags": []
   },
   "outputs": [],
   "source": [
    "train_dataloader = PtDataLoader(directory=train_data_path, batch_size=batch_size)\n",
    "test_dataloader = PtDataLoader(directory=test_data_path, batch_size=batch_size)\n",
    "val_dataloader = PtDataLoader(directory=validation_data_path, batch_size=batch_size)"
   ]
  },
  {
   "cell_type": "code",
   "execution_count": 11,
   "id": "cd2f34d5",
   "metadata": {
    "execution": {
     "iopub.execute_input": "2023-12-14T18:20:52.583711Z",
     "iopub.status.busy": "2023-12-14T18:20:52.583364Z",
     "iopub.status.idle": "2023-12-14T18:20:52.587678Z",
     "shell.execute_reply": "2023-12-14T18:20:52.586851Z"
    },
    "papermill": {
     "duration": 0.01764,
     "end_time": "2023-12-14T18:20:52.589698",
     "exception": false,
     "start_time": "2023-12-14T18:20:52.572058",
     "status": "completed"
    },
    "tags": []
   },
   "outputs": [],
   "source": [
    "train_count = len(train_dataset) \n",
    "test_count = len(test_dataset)\n",
    "val_count = len(val_dataset)"
   ]
  },
  {
   "cell_type": "code",
   "execution_count": 12,
   "id": "d618b54d",
   "metadata": {
    "execution": {
     "iopub.execute_input": "2023-12-14T18:20:52.611921Z",
     "iopub.status.busy": "2023-12-14T18:20:52.611140Z",
     "iopub.status.idle": "2023-12-14T18:20:52.616019Z",
     "shell.execute_reply": "2023-12-14T18:20:52.615186Z"
    },
    "papermill": {
     "duration": 0.018075,
     "end_time": "2023-12-14T18:20:52.618090",
     "exception": false,
     "start_time": "2023-12-14T18:20:52.600015",
     "status": "completed"
    },
    "tags": []
   },
   "outputs": [
    {
     "name": "stdout",
     "output_type": "stream",
     "text": [
      "53866\n",
      "4634\n",
      "10798\n"
     ]
    }
   ],
   "source": [
    "print(train_count)\n",
    "print(test_count)\n",
    "print(val_count)"
   ]
  },
  {
   "cell_type": "code",
   "execution_count": 13,
   "id": "063ad246",
   "metadata": {
    "execution": {
     "iopub.execute_input": "2023-12-14T18:20:52.640330Z",
     "iopub.status.busy": "2023-12-14T18:20:52.640028Z",
     "iopub.status.idle": "2023-12-14T18:20:52.648083Z",
     "shell.execute_reply": "2023-12-14T18:20:52.647252Z"
    },
    "papermill": {
     "duration": 0.021285,
     "end_time": "2023-12-14T18:20:52.649933",
     "exception": false,
     "start_time": "2023-12-14T18:20:52.628648",
     "status": "completed"
    },
    "tags": []
   },
   "outputs": [],
   "source": [
    "class LSTMClassifier(nn.Module):\n",
    "    def __init__(self, input_size, hidden_size, num_layers, num_classes):\n",
    "        super(LSTMClassifier, self).__init__()\n",
    "        self.hidden_size = hidden_size\n",
    "        self.num_layers = num_layers\n",
    "        self.lstm = nn.LSTM(input_size, hidden_size, num_layers, batch_first=True, bidirectional=False)\n",
    "        self.dropout = nn.Dropout(p=drop_amount)\n",
    "        self.fc = nn.Linear(hidden_size, num_classes)\n",
    "\n",
    "    def forward(self, x):\n",
    "        # Explicitly specify the data type for initial hidden state tensors\n",
    "        h0 = torch.zeros(self.num_layers, x.size(0), self.hidden_size, dtype=x.dtype).to(device=x.device)\n",
    "        c0 = torch.zeros(self.num_layers, x.size(0), self.hidden_size, dtype=x.dtype).to(device=x.device)\n",
    "        out, _ = self.lstm(x, (h0, c0))\n",
    "        out = self.dropout(out)\n",
    "        out = self.fc(out[:, -1, :])\n",
    "        return out"
   ]
  },
  {
   "cell_type": "code",
   "execution_count": 14,
   "id": "98f5da5d",
   "metadata": {
    "execution": {
     "iopub.execute_input": "2023-12-14T18:20:52.671960Z",
     "iopub.status.busy": "2023-12-14T18:20:52.671665Z",
     "iopub.status.idle": "2023-12-14T18:20:52.679182Z",
     "shell.execute_reply": "2023-12-14T18:20:52.678364Z"
    },
    "papermill": {
     "duration": 0.020391,
     "end_time": "2023-12-14T18:20:52.680937",
     "exception": false,
     "start_time": "2023-12-14T18:20:52.660546",
     "status": "completed"
    },
    "tags": []
   },
   "outputs": [],
   "source": [
    "drop_amount = 0.255\n",
    "\n",
    "class BiGRUAudioClassifier(nn.Module):\n",
    "    def __init__(self,input_size, num_classes, hidden_units, num_layers):\n",
    "        super(BiGRUAudioClassifier, self).__init__()\n",
    "        self.input_size = input_size \n",
    "        self.num_classes = num_classes\n",
    "        self.hidden_units = hidden_units\n",
    "        self.num_layers = num_layers\n",
    "\n",
    "        self.bigru = nn.GRU(input_size=input_size, hidden_size=hidden_units, num_layers=num_layers, batch_first=True, bidirectional=True)\n",
    "        self.dropout = nn.Dropout(p=drop_amount)\n",
    "        # self.fc = nn.Linear(hidden_units, num_classes)\n",
    "        self.fc = nn.Linear(hidden_units * 2, num_classes)\n",
    "\n",
    "    def forward(self, x):\n",
    "        # x: (batch_size, sequence_length, num_features)\n",
    "\n",
    "        # Pass the input through the bi-GRU layers\n",
    "        output, _ = self.bigru(x)\n",
    "        output = self.dropout(output)\n",
    "        # Extract the last hidden state (concatenate forward and backward hidden states)\n",
    "        last_hidden_state = torch.cat((output[:, -1, :self.hidden_units], output[:, 0, self.hidden_units:]), dim=1)\n",
    "        # Apply the fully connected layer for classification\n",
    "        output = self.fc(last_hidden_state)\n",
    "\n",
    "        return output"
   ]
  },
  {
   "cell_type": "code",
   "execution_count": 15,
   "id": "f7dd6502",
   "metadata": {
    "execution": {
     "iopub.execute_input": "2023-12-14T18:20:52.702374Z",
     "iopub.status.busy": "2023-12-14T18:20:52.702102Z",
     "iopub.status.idle": "2023-12-14T18:20:52.706077Z",
     "shell.execute_reply": "2023-12-14T18:20:52.705352Z"
    },
    "papermill": {
     "duration": 0.0168,
     "end_time": "2023-12-14T18:20:52.707951",
     "exception": false,
     "start_time": "2023-12-14T18:20:52.691151",
     "status": "completed"
    },
    "tags": []
   },
   "outputs": [],
   "source": [
    "import torch\n",
    "from torch import nn\n",
    "from torch.nn import Parameter\n",
    "import torch.nn.functional as F"
   ]
  },
  {
   "cell_type": "code",
   "execution_count": 16,
   "id": "958a0b4f",
   "metadata": {
    "execution": {
     "iopub.execute_input": "2023-12-14T18:20:52.729301Z",
     "iopub.status.busy": "2023-12-14T18:20:52.729031Z",
     "iopub.status.idle": "2023-12-14T18:20:57.884871Z",
     "shell.execute_reply": "2023-12-14T18:20:57.883957Z"
    },
    "papermill": {
     "duration": 5.168807,
     "end_time": "2023-12-14T18:20:57.886918",
     "exception": false,
     "start_time": "2023-12-14T18:20:52.718111",
     "status": "completed"
    },
    "tags": []
   },
   "outputs": [
    {
     "data": {
      "text/plain": [
       "LSTMClassifier(\n",
       "  (lstm): LSTM(20, 256, num_layers=2, batch_first=True)\n",
       "  (dropout): Dropout(p=0.255, inplace=False)\n",
       "  (fc): Linear(in_features=256, out_features=2, bias=True)\n",
       ")"
      ]
     },
     "execution_count": 16,
     "metadata": {},
     "output_type": "execute_result"
    }
   ],
   "source": [
    "# Define the parameters\n",
    "input_size = 20\n",
    "hidden_size = 256\n",
    "num_layers = 2\n",
    "num_classes = 2\n",
    "# drop_amount = 0.25  # You can choose an appropriate dropout rate\n",
    "\n",
    "model = LSTMClassifier(input_size, hidden_size, num_layers, num_classes)\n",
    "model.to(device, dtype=torch.double)\n"
   ]
  },
  {
   "cell_type": "code",
   "execution_count": 17,
   "id": "004c398b",
   "metadata": {
    "execution": {
     "iopub.execute_input": "2023-12-14T18:20:57.909795Z",
     "iopub.status.busy": "2023-12-14T18:20:57.909456Z",
     "iopub.status.idle": "2023-12-14T18:20:57.913784Z",
     "shell.execute_reply": "2023-12-14T18:20:57.912967Z"
    },
    "papermill": {
     "duration": 0.017897,
     "end_time": "2023-12-14T18:20:57.915601",
     "exception": false,
     "start_time": "2023-12-14T18:20:57.897704",
     "status": "completed"
    },
    "tags": []
   },
   "outputs": [],
   "source": [
    "import torch\n",
    "import torch.nn as nn\n",
    "import torch.optim as optim"
   ]
  },
  {
   "cell_type": "code",
   "execution_count": 18,
   "id": "5eeafd20",
   "metadata": {
    "execution": {
     "iopub.execute_input": "2023-12-14T18:20:57.938550Z",
     "iopub.status.busy": "2023-12-14T18:20:57.938213Z",
     "iopub.status.idle": "2023-12-14T18:20:57.942773Z",
     "shell.execute_reply": "2023-12-14T18:20:57.941967Z"
    },
    "papermill": {
     "duration": 0.018414,
     "end_time": "2023-12-14T18:20:57.944608",
     "exception": false,
     "start_time": "2023-12-14T18:20:57.926194",
     "status": "completed"
    },
    "tags": []
   },
   "outputs": [],
   "source": [
    "loss_function = nn.CrossEntropyLoss()\n",
    "optimizer = optim.Adam(model.parameters(), lr=learning_rate)"
   ]
  },
  {
   "cell_type": "code",
   "execution_count": 19,
   "id": "414672de",
   "metadata": {
    "execution": {
     "iopub.execute_input": "2023-12-14T18:20:57.966943Z",
     "iopub.status.busy": "2023-12-14T18:20:57.966585Z",
     "iopub.status.idle": "2023-12-14T18:20:57.971240Z",
     "shell.execute_reply": "2023-12-14T18:20:57.970373Z"
    },
    "papermill": {
     "duration": 0.018368,
     "end_time": "2023-12-14T18:20:57.973536",
     "exception": false,
     "start_time": "2023-12-14T18:20:57.955168",
     "status": "completed"
    },
    "tags": []
   },
   "outputs": [
    {
     "name": "stdout",
     "output_type": "stream",
     "text": [
      "LSTMClassifier(\n",
      "  (lstm): LSTM(20, 256, num_layers=2, batch_first=True)\n",
      "  (dropout): Dropout(p=0.255, inplace=False)\n",
      "  (fc): Linear(in_features=256, out_features=2, bias=True)\n",
      ")\n"
     ]
    }
   ],
   "source": [
    "print(model)"
   ]
  },
  {
   "cell_type": "code",
   "execution_count": 20,
   "id": "4d0b0abd",
   "metadata": {
    "execution": {
     "iopub.execute_input": "2023-12-14T18:20:57.996904Z",
     "iopub.status.busy": "2023-12-14T18:20:57.996538Z",
     "iopub.status.idle": "2023-12-14T18:21:01.752934Z",
     "shell.execute_reply": "2023-12-14T18:21:01.752074Z"
    },
    "papermill": {
     "duration": 3.770266,
     "end_time": "2023-12-14T18:21:01.755272",
     "exception": false,
     "start_time": "2023-12-14T18:20:57.985006",
     "status": "completed"
    },
    "tags": []
   },
   "outputs": [],
   "source": [
    "import torch \n",
    "import torch.nn as nn\n",
    "import torch.nn.functional as F\n",
    "from torch.autograd import Variable\n",
    "from torch.utils.data import Dataset, DataLoader\n",
    "import os, pathlib, glob, random\n",
    "import numpy as np\n",
    "import matplotlib.pyplot as plt \n",
    "import seaborn as sns\n",
    "from sklearn.metrics import confusion_matrix\n",
    "from transformers import WhisperProcessor, WhisperForConditionalGeneration\n",
    "from datasets import load_dataset\n",
    "from transformers.models.whisper.modeling_whisper import WhisperModel, WhisperEncoder\n",
    "from transformers.models.whisper.configuration_whisper import WhisperConfig\n",
    "from typing import Optional, Tuple, Union\n",
    "import torch\n",
    "import librosa \n",
    "import matplotlib.pyplot as plt\n",
    "import numpy as np\n",
    "import os, glob, pickle\n",
    "import scipy.io as sio\n",
    "from tqdm import tqdm\n",
    "import multiprocessing as mp \n",
    "import torch.optim as optim"
   ]
  },
  {
   "cell_type": "code",
   "execution_count": 21,
   "id": "87ed0ef6",
   "metadata": {
    "execution": {
     "iopub.execute_input": "2023-12-14T18:21:01.778694Z",
     "iopub.status.busy": "2023-12-14T18:21:01.778131Z",
     "iopub.status.idle": "2023-12-14T19:29:49.842663Z",
     "shell.execute_reply": "2023-12-14T19:29:49.841697Z"
    },
    "papermill": {
     "duration": 4128.090222,
     "end_time": "2023-12-14T19:29:49.856390",
     "exception": false,
     "start_time": "2023-12-14T18:21:01.766168",
     "status": "completed"
    },
    "tags": []
   },
   "outputs": [
    {
     "name": "stdout",
     "output_type": "stream",
     "text": [
      "Epoch : 1/15   Train Loss : tensor(0.6936, dtype=torch.float64)   Train Accuracy : 0.4977351204841644   Test Accuracy : 0.5000926097425449\n",
      "Epoch : 2/15   Train Loss : tensor(0.6932, dtype=torch.float64)   Train Accuracy : 0.503378754687558   Test Accuracy : 0.49990739025745506\n",
      "Epoch : 3/15   Train Loss : tensor(0.6941, dtype=torch.float64)   Train Accuracy : 0.5007611480340103   Test Accuracy : 0.49990739025745506\n",
      "Epoch : 4/15   Train Loss : tensor(0.6935, dtype=torch.float64)   Train Accuracy : 0.49686258493298185   Test Accuracy : 0.5000926097425449\n",
      "Epoch : 5/15   Train Loss : tensor(0.6932, dtype=torch.float64)   Train Accuracy : 0.49827349348383027   Test Accuracy : 0.5000926097425449\n",
      "Epoch : 6/15   Train Loss : tensor(0.6932, dtype=torch.float64)   Train Accuracy : 0.4970482307949356   Test Accuracy : 0.49990739025745506\n",
      "Epoch : 7/15   Train Loss : tensor(0.6932, dtype=torch.float64)   Train Accuracy : 0.4995915791037018   Test Accuracy : 0.5000926097425449\n",
      "Epoch : 8/15   Train Loss : tensor(0.6932, dtype=torch.float64)   Train Accuracy : 0.4974752162774292   Test Accuracy : 0.5000926097425449\n",
      "Epoch : 9/15   Train Loss : tensor(0.6931, dtype=torch.float64)   Train Accuracy : 0.5038799985148331   Test Accuracy : 0.5000926097425449\n",
      "Epoch : 10/15   Train Loss : tensor(0.6932, dtype=torch.float64)   Train Accuracy : 0.5   Test Accuracy : 0.49990739025745506\n",
      "Epoch : 11/15   Train Loss : tensor(0.6932, dtype=torch.float64)   Train Accuracy : 0.4972710058292801   Test Accuracy : 0.5000926097425449\n",
      "Epoch : 12/15   Train Loss : tensor(0.6932, dtype=torch.float64)   Train Accuracy : 0.49728957041547545   Test Accuracy : 0.49990739025745506\n",
      "Epoch : 13/15   Train Loss : tensor(0.6932, dtype=torch.float64)   Train Accuracy : 0.4975123454498199   Test Accuracy : 0.5000926097425449\n",
      "Epoch : 14/15   Train Loss : tensor(0.6932, dtype=torch.float64)   Train Accuracy : 0.4991460290350128   Test Accuracy : 0.5000926097425449\n",
      "Epoch : 15/15   Train Loss : tensor(0.6932, dtype=torch.float64)   Train Accuracy : 0.5004826792410797   Test Accuracy : 0.49990739025745506\n",
      "0.5000926097425449\n",
      "Finished Training and Testing\n"
     ]
    }
   ],
   "source": [
    "#Model training and testing \n",
    "n_total_steps = len(train_dataloader) # n_total_steps * batch size will give total number of training files (consider that last batch may not be fully filled)\n",
    "train_accuracy_list = []\n",
    "train_loss_list = []\n",
    "val_accuracy_list = []\n",
    "max_acc=0\n",
    "num_epochs = 15\n",
    "pred_labels =[]\n",
    "act_labels = []\n",
    "\n",
    "for epoch in range(num_epochs):\n",
    "    \n",
    "    #Evaluation and training on training dataset\n",
    "    model.train()\n",
    "    train_accuracy=0.0\n",
    "    train_loss=0.0\n",
    "    \n",
    "    for batch_idx, (images,labels) in enumerate(train_dataloader):\n",
    "        if torch.cuda.is_available():\n",
    "            images=Variable(images.cuda())\n",
    "            labels=Variable(labels.cuda())\n",
    "        ##images = images.unsqueeze(1)\n",
    "        optimizer.zero_grad()\n",
    "        outputs=model(images)\n",
    "        loss=loss_function(outputs,labels)\n",
    "        loss.backward()\n",
    "        optimizer.step()\n",
    "        \n",
    "        \n",
    "        train_loss+= loss.cpu().data*images.size(0)\n",
    "        _,prediction=torch.max(outputs.data,1)\n",
    "        \n",
    "        train_accuracy+=int(torch.sum(prediction==labels.data))\n",
    "        \n",
    "    train_accuracy=train_accuracy/train_count\n",
    "    train_loss=train_loss/train_count\n",
    "    \n",
    "    train_accuracy_list.append(train_accuracy)\n",
    "    train_loss_list.append(train_loss)\n",
    "\n",
    "    \n",
    "    # Validation on Validation dataset\n",
    "    model.eval()\n",
    "    val_accuracy=0.0\n",
    "    pred = []\n",
    "    lab = []\n",
    "    \n",
    "    for i, (images,labels) in enumerate(val_dataloader):\n",
    "        if torch.cuda.is_available():\n",
    "            images=Variable(images.cuda())\n",
    "            labels=Variable(labels.cuda())\n",
    "        ##images = images.unsqueeze(1) \n",
    "#         print(i,images.shape)\n",
    "        outputs=model(images)\n",
    "        _,prediction=torch.max(outputs.data,1)\n",
    "        val_accuracy+=int(torch.sum(prediction==labels.data))\n",
    "        \n",
    "        pred.extend(prediction.tolist())\n",
    "        lab.extend(labels.tolist())\n",
    "    \n",
    "    val_accuracy=val_accuracy/val_count\n",
    "    val_accuracy_list.append(val_accuracy)\n",
    "    if max_acc < val_accuracy:\n",
    "        max_acc = val_accuracy\n",
    "        pred_labels = pred\n",
    "        actual_labels = lab\n",
    "        max_acc = val_accuracy\n",
    "        torch.save(model,\"best_accuracy_model_LSTM.pth\")\n",
    "    print('Epoch : '+str(epoch+1)+'/'+str(num_epochs)+'   Train Loss : '+str(train_loss)+'   Train Accuracy : '+str(train_accuracy)+'   Test Accuracy : '+str(val_accuracy))\n",
    "print(max_acc)   \n",
    "print('Finished Training and Testing')"
   ]
  },
  {
   "cell_type": "code",
   "execution_count": 22,
   "id": "1411dcf1",
   "metadata": {
    "execution": {
     "iopub.execute_input": "2023-12-14T19:29:49.881357Z",
     "iopub.status.busy": "2023-12-14T19:29:49.881011Z",
     "iopub.status.idle": "2023-12-14T19:30:49.111485Z",
     "shell.execute_reply": "2023-12-14T19:30:49.110515Z"
    },
    "papermill": {
     "duration": 59.257034,
     "end_time": "2023-12-14T19:30:49.125241",
     "exception": false,
     "start_time": "2023-12-14T19:29:49.868207",
     "status": "completed"
    },
    "tags": []
   },
   "outputs": [
    {
     "name": "stdout",
     "output_type": "stream",
     "text": [
      "testing Accuracy: 0.48856279671989644\n"
     ]
    }
   ],
   "source": [
    "# Load the best model\n",
    "best_model = torch.load(\"best_accuracy_model_LSTM.pth\")\n",
    "\n",
    "# Put the best_model in evaluation mode\n",
    "best_model.eval()\n",
    "\n",
    "# Initialize variables to store results\n",
    "testing_accuracy = 0.0\n",
    "pred_labels = []\n",
    "act_labels = []\n",
    "\n",
    "# Pass validation data through the best model\n",
    "for i, (images, labels) in enumerate(test_dataloader):\n",
    "    if torch.cuda.is_available():\n",
    "        images = Variable(images.cuda())\n",
    "        labels = Variable(labels.cuda())\n",
    "    \n",
    "    outputs = best_model(images)\n",
    "    _, prediction = torch.max(outputs.data, 1)\n",
    "    \n",
    "    testing_accuracy += int(torch.sum(prediction == labels.data))\n",
    "    \n",
    "    pred_labels.extend(prediction.tolist())\n",
    "    act_labels.extend(labels.tolist())\n",
    "\n",
    "# Calculate validation accuracy\n",
    "testing_accuracy = testing_accuracy / len(test_dataloader.dataset)\n",
    "\n",
    "# Print the validation accuracy\n",
    "print(\"testing Accuracy:\", testing_accuracy)\n",
    "# train Accuracy: 0.9726729291204099\n",
    "# Validation Accuracy: 0.9680496388220041\n",
    "# test Accuracy: 0.9512300388433319"
   ]
  },
  {
   "cell_type": "code",
   "execution_count": 23,
   "id": "ebc1663e",
   "metadata": {
    "execution": {
     "iopub.execute_input": "2023-12-14T19:30:49.151589Z",
     "iopub.status.busy": "2023-12-14T19:30:49.150698Z",
     "iopub.status.idle": "2023-12-14T19:30:49.156120Z",
     "shell.execute_reply": "2023-12-14T19:30:49.155202Z"
    },
    "papermill": {
     "duration": 0.020837,
     "end_time": "2023-12-14T19:30:49.158082",
     "exception": false,
     "start_time": "2023-12-14T19:30:49.137245",
     "status": "completed"
    },
    "tags": []
   },
   "outputs": [
    {
     "name": "stdout",
     "output_type": "stream",
     "text": [
      "LSTMClassifier(\n",
      "  (lstm): LSTM(20, 256, num_layers=2, batch_first=True)\n",
      "  (dropout): Dropout(p=0.255, inplace=False)\n",
      "  (fc): Linear(in_features=256, out_features=2, bias=True)\n",
      ")\n"
     ]
    }
   ],
   "source": [
    "print(model)"
   ]
  },
  {
   "cell_type": "code",
   "execution_count": 24,
   "id": "f86db3bf",
   "metadata": {
    "execution": {
     "iopub.execute_input": "2023-12-14T19:30:49.185034Z",
     "iopub.status.busy": "2023-12-14T19:30:49.184663Z",
     "iopub.status.idle": "2023-12-14T19:30:49.583189Z",
     "shell.execute_reply": "2023-12-14T19:30:49.582126Z"
    },
    "papermill": {
     "duration": 0.414021,
     "end_time": "2023-12-14T19:30:49.585474",
     "exception": false,
     "start_time": "2023-12-14T19:30:49.171453",
     "status": "completed"
    },
    "tags": []
   },
   "outputs": [
    {
     "data": {
      "image/png": "[encoded data removed]",
      "text/plain": [
       "<Figure size 640x480 with 2 Axes>"
      ]
     },
     "metadata": {},
     "output_type": "display_data"
    },
    {
     "name": "stdout",
     "output_type": "stream",
     "text": [
      "F1 Score :  0.32821107567410845\n"
     ]
    }
   ],
   "source": [
    "# Calculate the confusion matrix\n",
    "import seaborn as sns\n",
    "conf_mat = confusion_matrix(act_labels, pred_labels)\n",
    "# Plot confusion matrix heat map\n",
    "sns.heatmap(conf_mat, cmap=\"flare\",annot=True, fmt = \"g\", \n",
    "            cbar_kws={\"label\":\"color bar\"},\n",
    "            xticklabels=train_dataset.classes,\n",
    "            yticklabels=train_dataset.classes)\n",
    "plt.xlabel(\"Predicted\")\n",
    "plt.ylabel(\"Actual\")\n",
    "plt.title(\"Confusion Matrix\")\n",
    "plt.savefig(\"ConfusionMatrix_LSTM.png\")\n",
    "plt.show()\n",
    "from sklearn.metrics import f1_score\n",
    "f1_score = f1_score(pred_labels, act_labels, average='macro')\n",
    "print('F1 Score : ', f1_score)\n"
   ]
  },
  {
   "cell_type": "code",
   "execution_count": 25,
   "id": "b9dd0aa2",
   "metadata": {
    "execution": {
     "iopub.execute_input": "2023-12-14T19:30:49.612655Z",
     "iopub.status.busy": "2023-12-14T19:30:49.612266Z",
     "iopub.status.idle": "2023-12-14T19:30:49.616343Z",
     "shell.execute_reply": "2023-12-14T19:30:49.615506Z"
    },
    "papermill": {
     "duration": 0.019959,
     "end_time": "2023-12-14T19:30:49.618248",
     "exception": false,
     "start_time": "2023-12-14T19:30:49.598289",
     "status": "completed"
    },
    "tags": []
   },
   "outputs": [],
   "source": [
    "# torch.save(model,'MGDCC_LSTMClassifier_01_01.pth')"
   ]
  },
  {
   "cell_type": "code",
   "execution_count": 26,
   "id": "111e8633",
   "metadata": {
    "execution": {
     "iopub.execute_input": "2023-12-14T19:30:49.645455Z",
     "iopub.status.busy": "2023-12-14T19:30:49.645098Z",
     "iopub.status.idle": "2023-12-14T19:30:49.649273Z",
     "shell.execute_reply": "2023-12-14T19:30:49.648359Z"
    },
    "papermill": {
     "duration": 0.02018,
     "end_time": "2023-12-14T19:30:49.651250",
     "exception": false,
     "start_time": "2023-12-14T19:30:49.631070",
     "status": "completed"
    },
    "tags": []
   },
   "outputs": [],
   "source": [
    "# BiLSTM"
   ]
  },
  {
   "cell_type": "code",
   "execution_count": 27,
   "id": "aef67d8c",
   "metadata": {
    "execution": {
     "iopub.execute_input": "2023-12-14T19:30:49.678706Z",
     "iopub.status.busy": "2023-12-14T19:30:49.677857Z",
     "iopub.status.idle": "2023-12-14T19:30:49.687072Z",
     "shell.execute_reply": "2023-12-14T19:30:49.686173Z"
    },
    "papermill": {
     "duration": 0.025194,
     "end_time": "2023-12-14T19:30:49.689041",
     "exception": false,
     "start_time": "2023-12-14T19:30:49.663847",
     "status": "completed"
    },
    "tags": []
   },
   "outputs": [],
   "source": [
    "drop_amount = 0.255\n",
    "\n",
    "class BiLSTMClassifier(nn.Module):\n",
    "    def __init__(self, input_size, hidden_size, num_layers, num_classes):\n",
    "        super(BiLSTMClassifier, self).__init__()\n",
    "        self.hidden_size = hidden_size\n",
    "        self.num_layers = num_layers\n",
    "        self.lstm = nn.LSTM(input_size, hidden_size, num_layers, batch_first=True, bidirectional=True)\n",
    "        self.dropout = nn.Dropout(p=drop_amount)\n",
    "        self.fc = nn.Linear(hidden_size*2, num_classes)\n",
    "\n",
    "    def forward(self, x):\n",
    "        h0 = torch.zeros(self.num_layers*2, x.size(0), self.hidden_size).to(device=x.device, dtype=torch.double)\n",
    "        c0 = torch.zeros(self.num_layers*2, x.size(0), self.hidden_size).to(device=x.device, dtype=torch.double)\n",
    "        out, _ = self.lstm(x, (h0, c0))\n",
    "        out = self.dropout(out)\n",
    "        # Extract the output of the last time step from both directions\n",
    "        last_hidden_state = torch.cat((out[:, -1, :self.hidden_size], out[:, 0, self.hidden_size:]), dim=1)\n",
    "        output = self.fc(last_hidden_state)\n",
    "        return output"
   ]
  },
  {
   "cell_type": "code",
   "execution_count": 28,
   "id": "d665c56c",
   "metadata": {
    "execution": {
     "iopub.execute_input": "2023-12-14T19:30:49.716269Z",
     "iopub.status.busy": "2023-12-14T19:30:49.715414Z",
     "iopub.status.idle": "2023-12-14T19:30:49.719901Z",
     "shell.execute_reply": "2023-12-14T19:30:49.718987Z"
    },
    "papermill": {
     "duration": 0.020325,
     "end_time": "2023-12-14T19:30:49.721995",
     "exception": false,
     "start_time": "2023-12-14T19:30:49.701670",
     "status": "completed"
    },
    "tags": []
   },
   "outputs": [],
   "source": [
    "batch_size = 64\n",
    "output_nodes = 2\n",
    "learning_rate = 0.0001"
   ]
  },
  {
   "cell_type": "code",
   "execution_count": 29,
   "id": "cf053639",
   "metadata": {
    "execution": {
     "iopub.execute_input": "2023-12-14T19:30:49.749288Z",
     "iopub.status.busy": "2023-12-14T19:30:49.748546Z",
     "iopub.status.idle": "2023-12-14T19:30:49.778077Z",
     "shell.execute_reply": "2023-12-14T19:30:49.776920Z"
    },
    "papermill": {
     "duration": 0.045353,
     "end_time": "2023-12-14T19:30:49.780376",
     "exception": false,
     "start_time": "2023-12-14T19:30:49.735023",
     "status": "completed"
    },
    "tags": []
   },
   "outputs": [
    {
     "name": "stdout",
     "output_type": "stream",
     "text": [
      "BiLSTMClassifier(\n",
      "  (lstm): LSTM(20, 256, num_layers=2, batch_first=True, bidirectional=True)\n",
      "  (dropout): Dropout(p=0.255, inplace=False)\n",
      "  (fc): Linear(in_features=512, out_features=2, bias=True)\n",
      ")\n"
     ]
    }
   ],
   "source": [
    "model = BiLSTMClassifier(input_size, hidden_size, num_layers, num_classes)\n",
    "model.to(device, dtype=torch.double)\n",
    "loss_function = nn.CrossEntropyLoss()\n",
    "optimizer = optim.Adam(model.parameters(), lr=learning_rate)\n",
    "print(model)"
   ]
  },
  {
   "cell_type": "code",
   "execution_count": 30,
   "id": "dc7c7c79",
   "metadata": {
    "execution": {
     "iopub.execute_input": "2023-12-14T19:30:49.808395Z",
     "iopub.status.busy": "2023-12-14T19:30:49.807542Z",
     "iopub.status.idle": "2023-12-14T19:30:49.812593Z",
     "shell.execute_reply": "2023-12-14T19:30:49.811713Z"
    },
    "papermill": {
     "duration": 0.020719,
     "end_time": "2023-12-14T19:30:49.814643",
     "exception": false,
     "start_time": "2023-12-14T19:30:49.793924",
     "status": "completed"
    },
    "tags": []
   },
   "outputs": [
    {
     "name": "stdout",
     "output_type": "stream",
     "text": [
      "BiLSTMClassifier(\n",
      "  (lstm): LSTM(20, 256, num_layers=2, batch_first=True, bidirectional=True)\n",
      "  (dropout): Dropout(p=0.255, inplace=False)\n",
      "  (fc): Linear(in_features=512, out_features=2, bias=True)\n",
      ")\n"
     ]
    }
   ],
   "source": [
    "print(model)"
   ]
  },
  {
   "cell_type": "code",
   "execution_count": 31,
   "id": "3156d1ac",
   "metadata": {
    "execution": {
     "iopub.execute_input": "2023-12-14T19:30:49.841918Z",
     "iopub.status.busy": "2023-12-14T19:30:49.841233Z",
     "iopub.status.idle": "2023-12-14T21:08:25.268507Z",
     "shell.execute_reply": "2023-12-14T21:08:25.267502Z"
    },
    "papermill": {
     "duration": 5855.457421,
     "end_time": "2023-12-14T21:08:25.284712",
     "exception": false,
     "start_time": "2023-12-14T19:30:49.827291",
     "status": "completed"
    },
    "tags": []
   },
   "outputs": [
    {
     "name": "stdout",
     "output_type": "stream",
     "text": [
      "Epoch : 1/15   Train Loss : tensor(0.5641, dtype=torch.float64)   Train Accuracy : 0.6909738981918093   Test Accuracy : 0.7470827931098352\n",
      "Epoch : 2/15   Train Loss : tensor(0.4676, dtype=torch.float64)   Train Accuracy : 0.7814576913080608   Test Accuracy : 0.7948694202630117\n",
      "Epoch : 3/15   Train Loss : tensor(0.4117, dtype=torch.float64)   Train Accuracy : 0.8148368172873427   Test Accuracy : 0.8358029264678645\n",
      "Epoch : 4/15   Train Loss : tensor(0.3551, dtype=torch.float64)   Train Accuracy : 0.8462109679575243   Test Accuracy : 0.8480274124837933\n",
      "Epoch : 5/15   Train Loss : tensor(0.3091, dtype=torch.float64)   Train Accuracy : 0.8691382319088108   Test Accuracy : 0.8924800889053528\n",
      "Epoch : 6/15   Train Loss : tensor(0.4187, dtype=torch.float64)   Train Accuracy : 0.8143355734600676   Test Accuracy : 0.8211705871457677\n",
      "Epoch : 7/15   Train Loss : tensor(0.3258, dtype=torch.float64)   Train Accuracy : 0.8612854119481677   Test Accuracy : 0.8562696795702908\n",
      "Epoch : 8/15   Train Loss : tensor(0.3129, dtype=torch.float64)   Train Accuracy : 0.8672446441168826   Test Accuracy : 0.893406186330802\n",
      "Epoch : 9/15   Train Loss : tensor(0.2710, dtype=torch.float64)   Train Accuracy : 0.886737459622025   Test Accuracy : 0.8882200407482868\n",
      "Epoch : 10/15   Train Loss : tensor(0.2415, dtype=torch.float64)   Train Accuracy : 0.9036683622322058   Test Accuracy : 0.9052602333765513\n",
      "Epoch : 11/15   Train Loss : tensor(0.2575, dtype=torch.float64)   Train Accuracy : 0.8947016670998403   Test Accuracy : 0.9352657899611039\n",
      "Epoch : 12/15   Train Loss : tensor(0.1932, dtype=torch.float64)   Train Accuracy : 0.9247020383915643   Test Accuracy : 0.9177625486201149\n",
      "Epoch : 13/15   Train Loss : tensor(0.1435, dtype=torch.float64)   Train Accuracy : 0.9473137043775294   Test Accuracy : 0.9435080570476014\n",
      "Epoch : 14/15   Train Loss : tensor(0.2381, dtype=torch.float64)   Train Accuracy : 0.9000668325103034   Test Accuracy : 0.8687719948138544\n",
      "Epoch : 15/15   Train Loss : tensor(0.2476, dtype=torch.float64)   Train Accuracy : 0.8986373593732596   Test Accuracy : 0.951657714391554\n",
      "0.951657714391554\n",
      "Finished Training and Testing\n"
     ]
    }
   ],
   "source": [
    "#Model training and testing \n",
    "n_total_steps = len(train_dataloader) # n_total_steps * batch size will give total number of training files (consider that last batch may not be fully filled)\n",
    "train_accuracy_list = []\n",
    "train_loss_list = []\n",
    "val_accuracy_list = []\n",
    "max_acc=0\n",
    "num_epochs = 15\n",
    "pred_labels =[]\n",
    "act_labels = []\n",
    "\n",
    "for epoch in range(num_epochs):\n",
    "    \n",
    "    #Evaluation and training on training dataset\n",
    "    model.train()\n",
    "    train_accuracy=0.0\n",
    "    train_loss=0.0\n",
    "    \n",
    "    for batch_idx, (images,labels) in enumerate(train_dataloader):\n",
    "        if torch.cuda.is_available():\n",
    "            images=Variable(images.cuda())\n",
    "            labels=Variable(labels.cuda())\n",
    "        ##images = images.unsqueeze(1)\n",
    "        optimizer.zero_grad()\n",
    "        outputs=model(images)\n",
    "        loss=loss_function(outputs,labels)\n",
    "        loss.backward()\n",
    "        optimizer.step()\n",
    "        \n",
    "        \n",
    "        train_loss+= loss.cpu().data*images.size(0)\n",
    "        _,prediction=torch.max(outputs.data,1)\n",
    "        \n",
    "        train_accuracy+=int(torch.sum(prediction==labels.data))\n",
    "        \n",
    "    train_accuracy=train_accuracy/train_count\n",
    "    train_loss=train_loss/train_count\n",
    "    \n",
    "    train_accuracy_list.append(train_accuracy)\n",
    "    train_loss_list.append(train_loss)\n",
    "\n",
    "    \n",
    "    # Validation on Validation dataset\n",
    "    model.eval()\n",
    "    val_accuracy=0.0\n",
    "    pred = []\n",
    "    lab = []\n",
    "    \n",
    "    for i, (images,labels) in enumerate(val_dataloader):\n",
    "        if torch.cuda.is_available():\n",
    "            images=Variable(images.cuda())\n",
    "            labels=Variable(labels.cuda())\n",
    "        ##images = images.unsqueeze(1) \n",
    "#         print(i,images.shape)\n",
    "        outputs=model(images)\n",
    "        _,prediction=torch.max(outputs.data,1)\n",
    "        val_accuracy+=int(torch.sum(prediction==labels.data))\n",
    "        \n",
    "        pred.extend(prediction.tolist())\n",
    "        lab.extend(labels.tolist())\n",
    "    \n",
    "    val_accuracy=val_accuracy/val_count\n",
    "    val_accuracy_list.append(val_accuracy)\n",
    "    if max_acc < val_accuracy:\n",
    "        max_acc = val_accuracy\n",
    "        pred_labels = pred\n",
    "        actual_labels = lab\n",
    "        max_acc = val_accuracy\n",
    "        torch.save(model,\"best_accuracy_model_BiLSTM.pth\")\n",
    "    print('Epoch : '+str(epoch+1)+'/'+str(num_epochs)+'   Train Loss : '+str(train_loss)+'   Train Accuracy : '+str(train_accuracy)+'   Test Accuracy : '+str(val_accuracy))\n",
    "print(max_acc)   \n",
    "print('Finished Training and Testing')"
   ]
  },
  {
   "cell_type": "code",
   "execution_count": 32,
   "id": "4b424a61",
   "metadata": {
    "execution": {
     "iopub.execute_input": "2023-12-14T21:08:25.315172Z",
     "iopub.status.busy": "2023-12-14T21:08:25.314775Z",
     "iopub.status.idle": "2023-12-14T21:08:44.650075Z",
     "shell.execute_reply": "2023-12-14T21:08:44.648960Z"
    },
    "papermill": {
     "duration": 19.353008,
     "end_time": "2023-12-14T21:08:44.652285",
     "exception": false,
     "start_time": "2023-12-14T21:08:25.299277",
     "status": "completed"
    },
    "tags": []
   },
   "outputs": [
    {
     "name": "stdout",
     "output_type": "stream",
     "text": [
      "testing Accuracy: 0.6491152352179542\n"
     ]
    }
   ],
   "source": [
    "# Load the best model\n",
    "best_model = torch.load(\"best_accuracy_model_BiLSTM.pth\")\n",
    "\n",
    "# Put the best_model in evaluation mode\n",
    "best_model.eval()\n",
    "\n",
    "# Initialize variables to store results\n",
    "testing_accuracy = 0.0\n",
    "pred_labels = []\n",
    "act_labels = []\n",
    "\n",
    "# Pass validation data through the best model\n",
    "for i, (images, labels) in enumerate(test_dataloader):\n",
    "    if torch.cuda.is_available():\n",
    "        images = Variable(images.cuda())\n",
    "        labels = Variable(labels.cuda())\n",
    "    \n",
    "    outputs = best_model(images)\n",
    "    _, prediction = torch.max(outputs.data, 1)\n",
    "    \n",
    "    testing_accuracy += int(torch.sum(prediction == labels.data))\n",
    "    \n",
    "    pred_labels.extend(prediction.tolist())\n",
    "    act_labels.extend(labels.tolist())\n",
    "\n",
    "# Calculate validation accuracy\n",
    "testing_accuracy = testing_accuracy / len(test_dataloader.dataset)\n",
    "\n",
    "# Print the validation accuracy\n",
    "print(\"testing Accuracy:\", testing_accuracy)"
   ]
  },
  {
   "cell_type": "code",
   "execution_count": 33,
   "id": "01dd20c7",
   "metadata": {
    "execution": {
     "iopub.execute_input": "2023-12-14T21:08:44.682594Z",
     "iopub.status.busy": "2023-12-14T21:08:44.681727Z",
     "iopub.status.idle": "2023-12-14T21:08:45.059358Z",
     "shell.execute_reply": "2023-12-14T21:08:45.058217Z"
    },
    "papermill": {
     "duration": 0.395083,
     "end_time": "2023-12-14T21:08:45.061571",
     "exception": false,
     "start_time": "2023-12-14T21:08:44.666488",
     "status": "completed"
    },
    "tags": []
   },
   "outputs": [
    {
     "data": {
      "image/png": "[encoded data removed]",
      "text/plain": [
       "<Figure size 640x480 with 2 Axes>"
      ]
     },
     "metadata": {},
     "output_type": "display_data"
    },
    {
     "name": "stdout",
     "output_type": "stream",
     "text": [
      "F1 Score :  0.620132453055513\n"
     ]
    }
   ],
   "source": [
    "# Calculate the confusion matrix\n",
    "import seaborn as sns\n",
    "conf_mat = confusion_matrix(act_labels, pred_labels)\n",
    "# Plot confusion matrix heat map\n",
    "sns.heatmap(conf_mat, cmap=\"flare\",annot=True, fmt = \"g\", \n",
    "            cbar_kws={\"label\":\"color bar\"},\n",
    "            xticklabels=train_dataset.classes,\n",
    "            yticklabels=train_dataset.classes)\n",
    "plt.xlabel(\"Predicted\")\n",
    "plt.ylabel(\"Actual\")\n",
    "plt.title(\"Confusion Matrix\")\n",
    "plt.savefig(\"ConfusionMatrix_BiLSTM.png\")\n",
    "plt.show()\n",
    "from sklearn.metrics import f1_score\n",
    "f1_score = f1_score(pred_labels, act_labels, average='macro')\n",
    "print('F1 Score : ', f1_score)\n"
   ]
  },
  {
   "cell_type": "code",
   "execution_count": 34,
   "id": "b54348ab",
   "metadata": {
    "execution": {
     "iopub.execute_input": "2023-12-14T21:08:45.158489Z",
     "iopub.status.busy": "2023-12-14T21:08:45.157618Z",
     "iopub.status.idle": "2023-12-14T21:08:45.161792Z",
     "shell.execute_reply": "2023-12-14T21:08:45.160964Z"
    },
    "papermill": {
     "duration": 0.021673,
     "end_time": "2023-12-14T21:08:45.163725",
     "exception": false,
     "start_time": "2023-12-14T21:08:45.142052",
     "status": "completed"
    },
    "tags": []
   },
   "outputs": [],
   "source": [
    "# torch.save(model,'MGDCC_BiLSTMClassifier_01_01.pth')"
   ]
  },
  {
   "cell_type": "code",
   "execution_count": 35,
   "id": "4ecd8b1e",
   "metadata": {
    "execution": {
     "iopub.execute_input": "2023-12-14T21:08:45.193566Z",
     "iopub.status.busy": "2023-12-14T21:08:45.193246Z",
     "iopub.status.idle": "2023-12-14T21:08:45.200324Z",
     "shell.execute_reply": "2023-12-14T21:08:45.199437Z"
    },
    "papermill": {
     "duration": 0.024425,
     "end_time": "2023-12-14T21:08:45.202267",
     "exception": false,
     "start_time": "2023-12-14T21:08:45.177842",
     "status": "completed"
    },
    "tags": []
   },
   "outputs": [],
   "source": [
    "# ResNet50\n",
    "# import torch\n",
    "# import torch.nn as nn\n",
    "\n",
    "\n",
    "# def conv3x3(in_channels, out_channels, stride=1):\n",
    "#     \"\"\"3x3 convolution with padding\"\"\"\n",
    "#     return nn.Conv2d(in_channels, out_channels, kernel_size=3, stride=stride, padding=1, bias=False)\n",
    "\n",
    "\n",
    "# class Bottleneck(nn.Module):\n",
    "#     expansion = 4\n",
    "\n",
    "#     def __init__(self, in_channels, out_channels, stride=1, downsample=None):\n",
    "#         super(Bottleneck, self).__init__()\n",
    "\n",
    "#         self.conv1 = nn.Conv2d(in_channels, out_channels, kernel_size=1, bias=False)\n",
    "#         self.bn1 = nn.BatchNorm2d(out_channels)\n",
    "#         self.conv2 = nn.Conv2d(out_channels, out_channels, kernel_size=3, stride=stride, padding=1, bias=False)\n",
    "#         self.bn2 = nn.BatchNorm2d(out_channels)\n",
    "#         self.conv3 = nn.Conv2d(out_channels, out_channels * self.expansion, kernel_size=1, bias=False)\n",
    "#         self.bn3 = nn.BatchNorm2d(out_channels * self.expansion)\n",
    "#         self.relu = nn.ReLU(inplace=True)\n",
    "#         self.downsample = downsample\n",
    "#         self.stride = stride\n",
    "\n",
    "#     def forward(self, x):\n",
    "#         identity = x\n",
    "\n",
    "#         out = self.conv1(x)\n",
    "#         out = self.bn1(out)\n",
    "#         out = self.relu(out)\n",
    "\n",
    "#         out = self.conv2(out)\n",
    "#         out = self.bn2(out)\n",
    "#         out = self.relu(out)\n",
    "\n",
    "#         out = self.conv3(out)\n",
    "#         out = self.bn3(out)\n",
    "\n",
    "#         if self.downsample is not None:\n",
    "#             identity = self.downsample(x)\n",
    "\n",
    "#         out += identity\n",
    "#         out = self.relu(out)\n",
    "\n",
    "#         return out\n",
    "\n",
    "\n",
    "# class ResNet(nn.Module):\n",
    "#     def __init__(self, block, layers, num_classes=1000):\n",
    "#         super(ResNet, self).__init__()\n",
    "\n",
    "#         self.in_channels = 64\n",
    "#         self.conv1 = nn.Conv2d(1, 64, kernel_size=7, stride=2, padding=3, bias=False)\n",
    "# #         self.conv1 = nn.Conv2d(1, 64, kernel_size=7, stride=2, padding=3, bias=False)\n",
    "#         self.bn1 = nn.BatchNorm2d(64)\n",
    "#         self.relu = nn.ReLU(inplace=True)\n",
    "#         self.maxpool = nn.MaxPool2d(kernel_size=3, stride=2, padding=1)\n",
    "\n",
    "#         self.layer1 = self._make_layer(block, 64, layers[0], stride=1)\n",
    "#         self.layer2 = self._make_layer(block, 128, layers[1], stride=2)\n",
    "#         self.layer3 = self._make_layer(block, 256, layers[2], stride=2)\n",
    "#         self.layer4 = self._make_layer(block, 512, layers[3], stride=2)\n",
    "\n",
    "#         self.avgpool = nn.AdaptiveAvgPool2d((1, 1))\n",
    "#         self.fc = nn.Linear(512 * block.expansion, num_classes)\n",
    "\n",
    "#     def _make_layer(self, block, out_channels, blocks, stride=1):\n",
    "#         downsample = None\n",
    "#         if stride != 1 or self.in_channels != out_channels * block.expansion:\n",
    "#             downsample = nn.Sequential(\n",
    "#                 nn.Conv2d(self.in_channels, out_channels * block.expansion, kernel_size=1, stride=stride, bias=False),\n",
    "#                 nn.BatchNorm2d(out_channels * block.expansion),\n",
    "#             )\n",
    "\n",
    "#         layers = [block(self.in_channels, out_channels, stride, downsample)]\n",
    "#         self.in_channels = out_channels * block.expansion\n",
    "#         for _ in range(1, blocks):\n",
    "#             layers.append(block(self.in_channels, out_channels))\n",
    "\n",
    "#         return nn.Sequential(*layers)\n",
    "\n",
    "#     def forward(self, x):\n",
    "#         x = self.conv1(x)\n",
    "#         x = self.bn1(x)\n",
    "#         x = self.relu(x)\n",
    "#         x = self.maxpool(x)\n",
    "\n",
    "#         x = self.layer1(x)\n",
    "#         x = self.layer2(x)\n",
    "#         x = self.layer3(x)\n",
    "#         x = self.layer4(x)\n",
    "\n",
    "#         x = self.avgpool(x)\n",
    "#         x = x.view(x.size(0), -1)\n",
    "#         x = self.fc(x)\n",
    "\n",
    "#         return x\n",
    "\n",
    "\n",
    "# # ResNet-50\n",
    "# def resnet50(num_classes=2):\n",
    "#     return ResNet(Bottleneck, [3, 4, 6, 3], num_classes)\n"
   ]
  },
  {
   "cell_type": "code",
   "execution_count": 36,
   "id": "746e5851",
   "metadata": {
    "execution": {
     "iopub.execute_input": "2023-12-14T21:08:45.232410Z",
     "iopub.status.busy": "2023-12-14T21:08:45.232041Z",
     "iopub.status.idle": "2023-12-14T21:08:45.236105Z",
     "shell.execute_reply": "2023-12-14T21:08:45.235259Z"
    },
    "papermill": {
     "duration": 0.021521,
     "end_time": "2023-12-14T21:08:45.238041",
     "exception": false,
     "start_time": "2023-12-14T21:08:45.216520",
     "status": "completed"
    },
    "tags": []
   },
   "outputs": [],
   "source": [
    "# model = resnet50()\n",
    "# model.to(device, dtype=torch.double)\n",
    "# loss_function = nn.CrossEntropyLoss()\n",
    "# optimizer = optim.Adam(model.parameters(), lr=learning_rate)\n",
    "# print(model)"
   ]
  },
  {
   "cell_type": "code",
   "execution_count": 37,
   "id": "7ff20ac8",
   "metadata": {
    "execution": {
     "iopub.execute_input": "2023-12-14T21:08:45.268641Z",
     "iopub.status.busy": "2023-12-14T21:08:45.268282Z",
     "iopub.status.idle": "2023-12-14T21:08:45.272413Z",
     "shell.execute_reply": "2023-12-14T21:08:45.271492Z"
    },
    "papermill": {
     "duration": 0.021854,
     "end_time": "2023-12-14T21:08:45.274274",
     "exception": false,
     "start_time": "2023-12-14T21:08:45.252420",
     "status": "completed"
    },
    "tags": []
   },
   "outputs": [],
   "source": [
    "# torch.save(model,'MGDCC_ResNet50_0_0001.pth')"
   ]
  },
  {
   "cell_type": "code",
   "execution_count": 38,
   "id": "5e6aba46",
   "metadata": {
    "execution": {
     "iopub.execute_input": "2023-12-14T21:08:45.306314Z",
     "iopub.status.busy": "2023-12-14T21:08:45.305316Z",
     "iopub.status.idle": "2023-12-14T21:08:45.309974Z",
     "shell.execute_reply": "2023-12-14T21:08:45.309223Z"
    },
    "papermill": {
     "duration": 0.022794,
     "end_time": "2023-12-14T21:08:45.311843",
     "exception": false,
     "start_time": "2023-12-14T21:08:45.289049",
     "status": "completed"
    },
    "tags": []
   },
   "outputs": [],
   "source": [
    "# # Calculate the confusion matrix\n",
    "# import seaborn as sns\n",
    "# conf_mat = confusion_matrix(act_labels, pred_labels)\n",
    "# # Plot confusion matrix heat map\n",
    "# sns.heatmap(conf_mat, cmap=\"flare\",annot=True, fmt = \"g\", \n",
    "#             cbar_kws={\"label\":\"color bar\"},\n",
    "#             xticklabels=train_dataset.classes,\n",
    "#             yticklabels=train_dataset.classes)\n",
    "# plt.xlabel(\"Predicted\")\n",
    "# plt.ylabel(\"Actual\")\n",
    "# plt.title(\"Confusion Matrix\")\n",
    "# plt.savefig(\"ConfusionMatrix.png\")\n",
    "# plt.show()\n",
    "# from sklearn.metrics import f1_score\n",
    "# f1_score = f1_score(pred_labels, act_labels, average='macro')\n",
    "# print('F1 Score : ', f1_score)"
   ]
  }
 ],
 "metadata": {
  "kaggle": {
   "accelerator": "gpu",
   "dataSources": [
    {
     "datasetId": 4133733,
     "sourceId": 7157591,
     "sourceType": "datasetVersion"
    }
   ],
   "dockerImageVersionId": 30627,
   "isGpuEnabled": true,
   "isInternetEnabled": true,
   "language": "python",
   "sourceType": "notebook"
  },
  "kernelspec": {
   "display_name": "Python 3",
   "language": "python",
   "name": "python3"
  },
  "language_info": {
   "codemirror_mode": {
    "name": "ipython",
    "version": 3
   },
   "file_extension": ".py",
   "mimetype": "text/x-python",
   "name": "python",
   "nbconvert_exporter": "python",
   "pygments_lexer": "ipython3",
   "version": "3.10.12"
  },
  "papermill": {
   "default_parameters": {},
   "duration": 10101.936918,
   "end_time": "2023-12-14T21:08:47.553401",
   "environment_variables": {},
   "exception": null,
   "input_path": "__notebook__.ipynb",
   "output_path": "__notebook__.ipynb",
   "parameters": {},
   "start_time": "2023-12-14T18:20:25.616483",
   "version": "2.4.0"
  }
 },
 "nbformat": 4,
 "nbformat_minor": 5
}
