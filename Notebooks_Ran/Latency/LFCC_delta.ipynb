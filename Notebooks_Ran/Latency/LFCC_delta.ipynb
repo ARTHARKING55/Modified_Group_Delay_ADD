{
 "cells": [
  {
   "cell_type": "code",
   "execution_count": 1,
   "id": "51adbdf1",
   "metadata": {
    "execution": {
     "iopub.execute_input": "2023-12-15T06:01:57.360619Z",
     "iopub.status.busy": "2023-12-15T06:01:57.359977Z",
     "iopub.status.idle": "2023-12-15T06:02:10.184713Z",
     "shell.execute_reply": "2023-12-15T06:02:10.183577Z"
    },
    "papermill": {
     "duration": 12.838983,
     "end_time": "2023-12-15T06:02:10.187206",
     "exception": false,
     "start_time": "2023-12-15T06:01:57.348223",
     "status": "completed"
    },
    "tags": []
   },
   "outputs": [
    {
     "name": "stdout",
     "output_type": "stream",
     "text": [
      "Requirement already satisfied: scipy in /opt/conda/lib/python3.10/site-packages (1.11.4)\r\n",
      "Requirement already satisfied: numpy<1.28.0,>=1.21.6 in /opt/conda/lib/python3.10/site-packages (from scipy) (1.24.3)\r\n"
     ]
    }
   ],
   "source": [
    "!pip install --upgrade scipy"
   ]
  },
  {
   "cell_type": "code",
   "execution_count": 2,
   "id": "b095df03",
   "metadata": {
    "execution": {
     "iopub.execute_input": "2023-12-15T06:02:10.209758Z",
     "iopub.status.busy": "2023-12-15T06:02:10.209474Z",
     "iopub.status.idle": "2023-12-15T06:02:14.441171Z",
     "shell.execute_reply": "2023-12-15T06:02:14.440389Z"
    },
    "papermill": {
     "duration": 4.245563,
     "end_time": "2023-12-15T06:02:14.443402",
     "exception": false,
     "start_time": "2023-12-15T06:02:10.197839",
     "status": "completed"
    },
    "tags": []
   },
   "outputs": [
    {
     "name": "stderr",
     "output_type": "stream",
     "text": [
      "/opt/conda/lib/python3.10/site-packages/scipy/__init__.py:146: UserWarning: A NumPy version >=1.16.5 and <1.23.0 is required for this version of SciPy (detected version 1.24.3\n",
      "  warnings.warn(f\"A NumPy version >={np_minversion} and <{np_maxversion}\"\n"
     ]
    }
   ],
   "source": [
    "import torch \n",
    "import torch.nn as nn\n",
    "import torch.nn.functional as F\n",
    "from torch.autograd import Variable\n",
    "from torch.utils.data import Dataset, DataLoader\n",
    "\n",
    "import os, pathlib, glob, random\n",
    "import numpy as np\n",
    "import matplotlib.pyplot as plt \n",
    "\n",
    "from sklearn.metrics import confusion_matrix\n",
    "import scipy\n",
    "from scipy import io"
   ]
  },
  {
   "cell_type": "code",
   "execution_count": 3,
   "id": "3dbc5c48",
   "metadata": {
    "execution": {
     "iopub.execute_input": "2023-12-15T06:02:14.465919Z",
     "iopub.status.busy": "2023-12-15T06:02:14.465525Z",
     "iopub.status.idle": "2023-12-15T06:02:14.527676Z",
     "shell.execute_reply": "2023-12-15T06:02:14.526819Z"
    },
    "papermill": {
     "duration": 0.075429,
     "end_time": "2023-12-15T06:02:14.529653",
     "exception": false,
     "start_time": "2023-12-15T06:02:14.454224",
     "status": "completed"
    },
    "tags": []
   },
   "outputs": [
    {
     "name": "stdout",
     "output_type": "stream",
     "text": [
      "cuda:0\n"
     ]
    }
   ],
   "source": [
    "device = torch.device('cuda:0' if torch.cuda.is_available() else 'cpu')\n",
    "print(device)"
   ]
  },
  {
   "cell_type": "code",
   "execution_count": 4,
   "id": "5c5ba467",
   "metadata": {
    "execution": {
     "iopub.execute_input": "2023-12-15T06:02:14.552155Z",
     "iopub.status.busy": "2023-12-15T06:02:14.551663Z",
     "iopub.status.idle": "2023-12-15T06:02:14.555588Z",
     "shell.execute_reply": "2023-12-15T06:02:14.554779Z"
    },
    "papermill": {
     "duration": 0.017433,
     "end_time": "2023-12-15T06:02:14.557445",
     "exception": false,
     "start_time": "2023-12-15T06:02:14.540012",
     "status": "completed"
    },
    "tags": []
   },
   "outputs": [],
   "source": [
    "batch_size = 64\n",
    "output_nodes = 2\n",
    "learning_rate = 0.001"
   ]
  },
  {
   "cell_type": "code",
   "execution_count": 5,
   "id": "19f0f31b",
   "metadata": {
    "execution": {
     "iopub.execute_input": "2023-12-15T06:02:14.578959Z",
     "iopub.status.busy": "2023-12-15T06:02:14.578699Z",
     "iopub.status.idle": "2023-12-15T06:02:14.582482Z",
     "shell.execute_reply": "2023-12-15T06:02:14.581668Z"
    },
    "papermill": {
     "duration": 0.016485,
     "end_time": "2023-12-15T06:02:14.584339",
     "exception": false,
     "start_time": "2023-12-15T06:02:14.567854",
     "status": "completed"
    },
    "tags": []
   },
   "outputs": [],
   "source": [
    "train_data_path = r\"/kaggle/input/deltadoubledelta-all-feat-add/delta,DoubleDelta/LFCC/Delta/train\"\n",
    "validation_data_path =r\"/kaggle/input/deltadoubledelta-all-feat-add/delta,DoubleDelta/LFCC/Delta/dev\"\n",
    "test_data_path = r\"/kaggle/input/deltadoubledelta-all-feat-add/delta,DoubleDelta/LFCC/Delta/test\""
   ]
  },
  {
   "cell_type": "code",
   "execution_count": 6,
   "id": "17dd75b5",
   "metadata": {
    "execution": {
     "iopub.execute_input": "2023-12-15T06:02:14.606167Z",
     "iopub.status.busy": "2023-12-15T06:02:14.605693Z",
     "iopub.status.idle": "2023-12-15T06:02:14.610418Z",
     "shell.execute_reply": "2023-12-15T06:02:14.609612Z"
    },
    "papermill": {
     "duration": 0.017594,
     "end_time": "2023-12-15T06:02:14.612239",
     "exception": false,
     "start_time": "2023-12-15T06:02:14.594645",
     "status": "completed"
    },
    "tags": []
   },
   "outputs": [],
   "source": [
    "# # ResNet50\n",
    "# class PtDataset(Dataset):\n",
    "#     def __init__(self, directory):\n",
    "#         self.directory = directory\n",
    "#         self.classes = sorted(entry.name for entry in os.scandir(directory) if entry.is_dir())\n",
    "#         self.class_to_idx = {c: i for i, c in enumerate(self.classes)}\n",
    "#         self.files = []\n",
    "#         for c in self.classes:\n",
    "#             c_dir = os.path.join(directory, c)\n",
    "#             c_files = [(os.path.join(c_dir, f), self.class_to_idx[c]) for f in os.listdir(c_dir)]\n",
    "#             self.files.extend(c_files)\n",
    "#         random.shuffle(self.files)\n",
    "        \n",
    "#     def __len__(self):\n",
    "#         return len(self.files)\n",
    "    \n",
    "#     # Assuming mono audio data\n",
    "#     def __getitem__(self, idx):\n",
    "#         filepath, label = self.files[idx]\n",
    "#         try:\n",
    "#             mat_vals = scipy.io.loadmat(filepath)\n",
    "#             data = mat_vals['final']\n",
    "#             data = data.T\n",
    "#             max_len = 750\n",
    "\n",
    "#             if (max_len > data.shape[0]):\n",
    "#                 pad_width = max_len - data.shape[0]\n",
    "#                 data = np.pad(data, pad_width=((0, pad_width), (0, 0)), mode='constant')\n",
    "#             else:\n",
    "#                 data = data[:max_len, :]\n",
    "\n",
    "#             # Reshape data to (1, 750, 20) for mono audio\n",
    "#             data = data[np.newaxis, :, :]\n",
    "\n",
    "#         except Exception as e:\n",
    "#             print(f\"Error loading file {filepath}: {str(e)}\")\n",
    "#             return None\n",
    "\n",
    "#         return data, label\n"
   ]
  },
  {
   "cell_type": "code",
   "execution_count": 7,
   "id": "33473734",
   "metadata": {
    "execution": {
     "iopub.execute_input": "2023-12-15T06:02:14.634142Z",
     "iopub.status.busy": "2023-12-15T06:02:14.633617Z",
     "iopub.status.idle": "2023-12-15T06:02:14.644130Z",
     "shell.execute_reply": "2023-12-15T06:02:14.643293Z"
    },
    "papermill": {
     "duration": 0.023697,
     "end_time": "2023-12-15T06:02:14.646180",
     "exception": false,
     "start_time": "2023-12-15T06:02:14.622483",
     "status": "completed"
    },
    "tags": []
   },
   "outputs": [],
   "source": [
    "class PtDataset(Dataset):\n",
    "    def __init__(self, directory):\n",
    "        self.directory = directory\n",
    "        self.classes = sorted(entry.name for entry in os.scandir(directory) if entry.is_dir())\n",
    "        self.class_to_idx = {c: i for i, c in enumerate(self.classes)}\n",
    "        self.files = []\n",
    "        for c in self.classes:\n",
    "            c_dir = os.path.join(directory, c)\n",
    "            c_files = [(os.path.join(c_dir, f), self.class_to_idx[c]) for f in os.listdir(c_dir)]\n",
    "            self.files.extend(c_files)\n",
    "        random.shuffle(self.files)\n",
    "        \n",
    "    def __len__(self):\n",
    "        return len(self.files)\n",
    "    \n",
    "    def __getitem__(self, idx):\n",
    "        filepath, label = self.files[idx]\n",
    "        try:\n",
    "            mat_vals = scipy.io.loadmat(filepath)\n",
    "            data = mat_vals['final']\n",
    "#             data = data.T\n",
    "            max_len=750\n",
    "            if (max_len > data.shape[0]):\n",
    "                pad_width = max_len - data.shape[0]\n",
    "                data = np.pad(data, pad_width=((0, pad_width),(0,0)), mode='constant')\n",
    "            else:\n",
    "                data = data[:max_len, :]\n",
    "        except Exception as e:\n",
    "            print(f\"Error loading file {filepath}: {str(e)}\")\n",
    "            return None\n",
    "        return data, label"
   ]
  },
  {
   "cell_type": "code",
   "execution_count": 8,
   "id": "5fed2768",
   "metadata": {
    "execution": {
     "iopub.execute_input": "2023-12-15T06:02:14.667795Z",
     "iopub.status.busy": "2023-12-15T06:02:14.667534Z",
     "iopub.status.idle": "2023-12-15T06:02:22.221940Z",
     "shell.execute_reply": "2023-12-15T06:02:22.221155Z"
    },
    "papermill": {
     "duration": 7.567904,
     "end_time": "2023-12-15T06:02:22.224305",
     "exception": false,
     "start_time": "2023-12-15T06:02:14.656401",
     "status": "completed"
    },
    "tags": []
   },
   "outputs": [],
   "source": [
    "train_dataset = PtDataset(train_data_path)\n",
    "test_dataset = PtDataset(test_data_path)\n",
    "val_dataset = PtDataset(validation_data_path)"
   ]
  },
  {
   "cell_type": "code",
   "execution_count": 9,
   "id": "85893a6d",
   "metadata": {
    "execution": {
     "iopub.execute_input": "2023-12-15T06:02:22.246975Z",
     "iopub.status.busy": "2023-12-15T06:02:22.246674Z",
     "iopub.status.idle": "2023-12-15T06:02:22.251476Z",
     "shell.execute_reply": "2023-12-15T06:02:22.250650Z"
    },
    "papermill": {
     "duration": 0.0178,
     "end_time": "2023-12-15T06:02:22.253345",
     "exception": false,
     "start_time": "2023-12-15T06:02:22.235545",
     "status": "completed"
    },
    "tags": []
   },
   "outputs": [],
   "source": [
    "class PtDataLoader(DataLoader):\n",
    "    def __init__(self, directory, batch_size, shuffle=True):\n",
    "        dataset = PtDataset(directory)\n",
    "        super().__init__(dataset, batch_size=batch_size, shuffle=shuffle)"
   ]
  },
  {
   "cell_type": "code",
   "execution_count": 10,
   "id": "104669c1",
   "metadata": {
    "execution": {
     "iopub.execute_input": "2023-12-15T06:02:22.274988Z",
     "iopub.status.busy": "2023-12-15T06:02:22.274516Z",
     "iopub.status.idle": "2023-12-15T06:02:22.510021Z",
     "shell.execute_reply": "2023-12-15T06:02:22.509216Z"
    },
    "papermill": {
     "duration": 0.248792,
     "end_time": "2023-12-15T06:02:22.512369",
     "exception": false,
     "start_time": "2023-12-15T06:02:22.263577",
     "status": "completed"
    },
    "tags": []
   },
   "outputs": [],
   "source": [
    "train_dataloader = PtDataLoader(directory=train_data_path, batch_size=batch_size)\n",
    "test_dataloader = PtDataLoader(directory=test_data_path, batch_size=batch_size)\n",
    "val_dataloader = PtDataLoader(directory=validation_data_path, batch_size=batch_size)"
   ]
  },
  {
   "cell_type": "code",
   "execution_count": 11,
   "id": "55a5e480",
   "metadata": {
    "execution": {
     "iopub.execute_input": "2023-12-15T06:02:22.535029Z",
     "iopub.status.busy": "2023-12-15T06:02:22.534423Z",
     "iopub.status.idle": "2023-12-15T06:02:22.538619Z",
     "shell.execute_reply": "2023-12-15T06:02:22.537802Z"
    },
    "papermill": {
     "duration": 0.017266,
     "end_time": "2023-12-15T06:02:22.540427",
     "exception": false,
     "start_time": "2023-12-15T06:02:22.523161",
     "status": "completed"
    },
    "tags": []
   },
   "outputs": [],
   "source": [
    "train_count = len(train_dataset) \n",
    "test_count = len(test_dataset)\n",
    "val_count = len(val_dataset)"
   ]
  },
  {
   "cell_type": "code",
   "execution_count": 12,
   "id": "33708493",
   "metadata": {
    "execution": {
     "iopub.execute_input": "2023-12-15T06:02:22.563389Z",
     "iopub.status.busy": "2023-12-15T06:02:22.563090Z",
     "iopub.status.idle": "2023-12-15T06:02:22.567423Z",
     "shell.execute_reply": "2023-12-15T06:02:22.566598Z"
    },
    "papermill": {
     "duration": 0.017746,
     "end_time": "2023-12-15T06:02:22.569554",
     "exception": false,
     "start_time": "2023-12-15T06:02:22.551808",
     "status": "completed"
    },
    "tags": []
   },
   "outputs": [
    {
     "name": "stdout",
     "output_type": "stream",
     "text": [
      "53866\n",
      "4634\n",
      "10798\n"
     ]
    }
   ],
   "source": [
    "print(train_count)\n",
    "print(test_count)\n",
    "print(val_count)"
   ]
  },
  {
   "cell_type": "code",
   "execution_count": 13,
   "id": "120bf936",
   "metadata": {
    "execution": {
     "iopub.execute_input": "2023-12-15T06:02:22.591543Z",
     "iopub.status.busy": "2023-12-15T06:02:22.591292Z",
     "iopub.status.idle": "2023-12-15T06:02:22.599106Z",
     "shell.execute_reply": "2023-12-15T06:02:22.598294Z"
    },
    "papermill": {
     "duration": 0.021048,
     "end_time": "2023-12-15T06:02:22.600987",
     "exception": false,
     "start_time": "2023-12-15T06:02:22.579939",
     "status": "completed"
    },
    "tags": []
   },
   "outputs": [],
   "source": [
    "class LSTMClassifier(nn.Module):\n",
    "    def __init__(self, input_size, hidden_size, num_layers, num_classes):\n",
    "        super(LSTMClassifier, self).__init__()\n",
    "        self.hidden_size = hidden_size\n",
    "        self.num_layers = num_layers\n",
    "        self.lstm = nn.LSTM(input_size, hidden_size, num_layers, batch_first=True, bidirectional=False)\n",
    "        self.dropout = nn.Dropout(p=drop_amount)\n",
    "        self.fc = nn.Linear(hidden_size, num_classes)\n",
    "\n",
    "    def forward(self, x):\n",
    "        # Explicitly specify the data type for initial hidden state tensors\n",
    "        h0 = torch.zeros(self.num_layers, x.size(0), self.hidden_size, dtype=x.dtype).to(device=x.device)\n",
    "        c0 = torch.zeros(self.num_layers, x.size(0), self.hidden_size, dtype=x.dtype).to(device=x.device)\n",
    "        out, _ = self.lstm(x, (h0, c0))\n",
    "        out = self.dropout(out)\n",
    "        out = self.fc(out[:, -1, :])\n",
    "        return out"
   ]
  },
  {
   "cell_type": "code",
   "execution_count": 14,
   "id": "878bf38f",
   "metadata": {
    "execution": {
     "iopub.execute_input": "2023-12-15T06:02:22.622620Z",
     "iopub.status.busy": "2023-12-15T06:02:22.622366Z",
     "iopub.status.idle": "2023-12-15T06:02:22.629913Z",
     "shell.execute_reply": "2023-12-15T06:02:22.629128Z"
    },
    "papermill": {
     "duration": 0.020454,
     "end_time": "2023-12-15T06:02:22.631838",
     "exception": false,
     "start_time": "2023-12-15T06:02:22.611384",
     "status": "completed"
    },
    "tags": []
   },
   "outputs": [],
   "source": [
    "drop_amount = 0.255\n",
    "\n",
    "class BiGRUAudioClassifier(nn.Module):\n",
    "    def __init__(self,input_size, num_classes, hidden_units, num_layers):\n",
    "        super(BiGRUAudioClassifier, self).__init__()\n",
    "        self.input_size = input_size \n",
    "        self.num_classes = num_classes\n",
    "        self.hidden_units = hidden_units\n",
    "        self.num_layers = num_layers\n",
    "\n",
    "        self.bigru = nn.GRU(input_size=input_size, hidden_size=hidden_units, num_layers=num_layers, batch_first=True, bidirectional=True)\n",
    "        self.dropout = nn.Dropout(p=drop_amount)\n",
    "        # self.fc = nn.Linear(hidden_units, num_classes)\n",
    "        self.fc = nn.Linear(hidden_units * 2, num_classes)\n",
    "\n",
    "    def forward(self, x):\n",
    "        # x: (batch_size, sequence_length, num_features)\n",
    "\n",
    "        # Pass the input through the bi-GRU layers\n",
    "        output, _ = self.bigru(x)\n",
    "        output = self.dropout(output)\n",
    "        # Extract the last hidden state (concatenate forward and backward hidden states)\n",
    "        last_hidden_state = torch.cat((output[:, -1, :self.hidden_units], output[:, 0, self.hidden_units:]), dim=1)\n",
    "        # Apply the fully connected layer for classification\n",
    "        output = self.fc(last_hidden_state)\n",
    "\n",
    "        return output"
   ]
  },
  {
   "cell_type": "code",
   "execution_count": 15,
   "id": "6090d6a2",
   "metadata": {
    "execution": {
     "iopub.execute_input": "2023-12-15T06:02:22.653167Z",
     "iopub.status.busy": "2023-12-15T06:02:22.652889Z",
     "iopub.status.idle": "2023-12-15T06:02:22.656876Z",
     "shell.execute_reply": "2023-12-15T06:02:22.656093Z"
    },
    "papermill": {
     "duration": 0.016757,
     "end_time": "2023-12-15T06:02:22.658745",
     "exception": false,
     "start_time": "2023-12-15T06:02:22.641988",
     "status": "completed"
    },
    "tags": []
   },
   "outputs": [],
   "source": [
    "import torch\n",
    "from torch import nn\n",
    "from torch.nn import Parameter\n",
    "import torch.nn.functional as F"
   ]
  },
  {
   "cell_type": "code",
   "execution_count": 16,
   "id": "d0cadb56",
   "metadata": {
    "execution": {
     "iopub.execute_input": "2023-12-15T06:02:22.680056Z",
     "iopub.status.busy": "2023-12-15T06:02:22.679810Z",
     "iopub.status.idle": "2023-12-15T06:02:27.542828Z",
     "shell.execute_reply": "2023-12-15T06:02:27.541837Z"
    },
    "papermill": {
     "duration": 4.876247,
     "end_time": "2023-12-15T06:02:27.545208",
     "exception": false,
     "start_time": "2023-12-15T06:02:22.668961",
     "status": "completed"
    },
    "tags": []
   },
   "outputs": [
    {
     "data": {
      "text/plain": [
       "LSTMClassifier(\n",
       "  (lstm): LSTM(20, 256, num_layers=2, batch_first=True)\n",
       "  (dropout): Dropout(p=0.255, inplace=False)\n",
       "  (fc): Linear(in_features=256, out_features=2, bias=True)\n",
       ")"
      ]
     },
     "execution_count": 16,
     "metadata": {},
     "output_type": "execute_result"
    }
   ],
   "source": [
    "# Define the parameters\n",
    "input_size = 20\n",
    "hidden_size = 256\n",
    "num_layers = 2\n",
    "num_classes = 2\n",
    "# drop_amount = 0.25  # You can choose an appropriate dropout rate\n",
    "\n",
    "model = LSTMClassifier(input_size, hidden_size, num_layers, num_classes)\n",
    "model.to(device, dtype=torch.double)\n"
   ]
  },
  {
   "cell_type": "code",
   "execution_count": 17,
   "id": "4d89d2f8",
   "metadata": {
    "execution": {
     "iopub.execute_input": "2023-12-15T06:02:27.569160Z",
     "iopub.status.busy": "2023-12-15T06:02:27.568869Z",
     "iopub.status.idle": "2023-12-15T06:02:27.572961Z",
     "shell.execute_reply": "2023-12-15T06:02:27.572154Z"
    },
    "papermill": {
     "duration": 0.018737,
     "end_time": "2023-12-15T06:02:27.574830",
     "exception": false,
     "start_time": "2023-12-15T06:02:27.556093",
     "status": "completed"
    },
    "tags": []
   },
   "outputs": [],
   "source": [
    "import torch\n",
    "import torch.nn as nn\n",
    "import torch.optim as optim"
   ]
  },
  {
   "cell_type": "code",
   "execution_count": 18,
   "id": "2697e490",
   "metadata": {
    "execution": {
     "iopub.execute_input": "2023-12-15T06:02:27.596669Z",
     "iopub.status.busy": "2023-12-15T06:02:27.596407Z",
     "iopub.status.idle": "2023-12-15T06:02:27.600743Z",
     "shell.execute_reply": "2023-12-15T06:02:27.599938Z"
    },
    "papermill": {
     "duration": 0.017304,
     "end_time": "2023-12-15T06:02:27.602514",
     "exception": false,
     "start_time": "2023-12-15T06:02:27.585210",
     "status": "completed"
    },
    "tags": []
   },
   "outputs": [],
   "source": [
    "loss_function = nn.CrossEntropyLoss()\n",
    "optimizer = optim.Adam(model.parameters(), lr=learning_rate)"
   ]
  },
  {
   "cell_type": "code",
   "execution_count": 19,
   "id": "5314aa47",
   "metadata": {
    "execution": {
     "iopub.execute_input": "2023-12-15T06:02:27.624324Z",
     "iopub.status.busy": "2023-12-15T06:02:27.624017Z",
     "iopub.status.idle": "2023-12-15T06:02:27.628377Z",
     "shell.execute_reply": "2023-12-15T06:02:27.627554Z"
    },
    "papermill": {
     "duration": 0.017426,
     "end_time": "2023-12-15T06:02:27.630275",
     "exception": false,
     "start_time": "2023-12-15T06:02:27.612849",
     "status": "completed"
    },
    "tags": []
   },
   "outputs": [
    {
     "name": "stdout",
     "output_type": "stream",
     "text": [
      "LSTMClassifier(\n",
      "  (lstm): LSTM(20, 256, num_layers=2, batch_first=True)\n",
      "  (dropout): Dropout(p=0.255, inplace=False)\n",
      "  (fc): Linear(in_features=256, out_features=2, bias=True)\n",
      ")\n"
     ]
    }
   ],
   "source": [
    "print(model)"
   ]
  },
  {
   "cell_type": "code",
   "execution_count": 20,
   "id": "cac6a1ed",
   "metadata": {
    "execution": {
     "iopub.execute_input": "2023-12-15T06:02:27.652140Z",
     "iopub.status.busy": "2023-12-15T06:02:27.651867Z",
     "iopub.status.idle": "2023-12-15T06:02:31.228371Z",
     "shell.execute_reply": "2023-12-15T06:02:31.227411Z"
    },
    "papermill": {
     "duration": 3.590157,
     "end_time": "2023-12-15T06:02:31.230861",
     "exception": false,
     "start_time": "2023-12-15T06:02:27.640704",
     "status": "completed"
    },
    "tags": []
   },
   "outputs": [],
   "source": [
    "import torch \n",
    "import torch.nn as nn\n",
    "import torch.nn.functional as F\n",
    "from torch.autograd import Variable\n",
    "from torch.utils.data import Dataset, DataLoader\n",
    "import os, pathlib, glob, random\n",
    "import numpy as np\n",
    "import matplotlib.pyplot as plt \n",
    "import seaborn as sns\n",
    "from sklearn.metrics import confusion_matrix\n",
    "from transformers import WhisperProcessor, WhisperForConditionalGeneration\n",
    "from datasets import load_dataset\n",
    "from transformers.models.whisper.modeling_whisper import WhisperModel, WhisperEncoder\n",
    "from transformers.models.whisper.configuration_whisper import WhisperConfig\n",
    "from typing import Optional, Tuple, Union\n",
    "import torch\n",
    "import librosa \n",
    "import matplotlib.pyplot as plt\n",
    "import numpy as np\n",
    "import os, glob, pickle\n",
    "import scipy.io as sio\n",
    "from tqdm import tqdm\n",
    "import multiprocessing as mp \n",
    "import torch.optim as optim"
   ]
  },
  {
   "cell_type": "code",
   "execution_count": 21,
   "id": "c845bdb4",
   "metadata": {
    "execution": {
     "iopub.execute_input": "2023-12-15T06:02:31.253955Z",
     "iopub.status.busy": "2023-12-15T06:02:31.253486Z",
     "iopub.status.idle": "2023-12-15T07:09:31.693953Z",
     "shell.execute_reply": "2023-12-15T07:09:31.692921Z"
    },
    "papermill": {
     "duration": 4020.472388,
     "end_time": "2023-12-15T07:09:31.714172",
     "exception": false,
     "start_time": "2023-12-15T06:02:31.241784",
     "status": "completed"
    },
    "tags": []
   },
   "outputs": [
    {
     "name": "stdout",
     "output_type": "stream",
     "text": [
      "Epoch : 1/15   Train Loss : tensor(0.6932, dtype=torch.float64)   Train Accuracy : 0.5124011435785096   Test Accuracy : 0.5581589183182071\n",
      "Epoch : 2/15   Train Loss : tensor(0.3093, dtype=torch.float64)   Train Accuracy : 0.8732410054579883   Test Accuracy : 0.8936840155584368\n",
      "Epoch : 3/15   Train Loss : tensor(0.1827, dtype=torch.float64)   Train Accuracy : 0.931199643559945   Test Accuracy : 0.915354695313947\n",
      "Epoch : 4/15   Train Loss : tensor(0.1371, dtype=torch.float64)   Train Accuracy : 0.949225856755653   Test Accuracy : 0.9601778107056862\n",
      "Epoch : 5/15   Train Loss : tensor(0.0964, dtype=torch.float64)   Train Accuracy : 0.9653584821594327   Test Accuracy : 0.9680496388220041\n",
      "Epoch : 6/15   Train Loss : tensor(0.0815, dtype=torch.float64)   Train Accuracy : 0.9712620205695615   Test Accuracy : 0.9629561029820337\n",
      "Epoch : 7/15   Train Loss : tensor(0.0667, dtype=torch.float64)   Train Accuracy : 0.9767571380833922   Test Accuracy : 0.9777736617892202\n",
      "Epoch : 8/15   Train Loss : tensor(0.0589, dtype=torch.float64)   Train Accuracy : 0.9797646010470427   Test Accuracy : 0.9799962956102982\n",
      "Epoch : 9/15   Train Loss : tensor(0.0506, dtype=torch.float64)   Train Accuracy : 0.9823079493558089   Test Accuracy : 0.9815706612335617\n",
      "Epoch : 10/15   Train Loss : tensor(0.0449, dtype=torch.float64)   Train Accuracy : 0.9846099580440352   Test Accuracy : 0.9760140766808668\n",
      "Epoch : 11/15   Train Loss : tensor(0.0385, dtype=torch.float64)   Train Accuracy : 0.9865778041807448   Test Accuracy : 0.9848120022226339\n",
      "Epoch : 12/15   Train Loss : tensor(0.0381, dtype=torch.float64)   Train Accuracy : 0.9872646938699736   Test Accuracy : 0.9841637340248194\n",
      "Epoch : 13/15   Train Loss : tensor(0.0321, dtype=torch.float64)   Train Accuracy : 0.9891397170757064   Test Accuracy : 0.9854602704204483\n",
      "Epoch : 14/15   Train Loss : tensor(0.0259, dtype=torch.float64)   Train Accuracy : 0.9912003861433929   Test Accuracy : 0.9880533432117059\n",
      "Epoch : 15/15   Train Loss : tensor(0.0246, dtype=torch.float64)   Train Accuracy : 0.991850146660231   Test Accuracy : 0.9849046119651788\n",
      "0.9880533432117059\n",
      "Finished Training and Testing\n"
     ]
    }
   ],
   "source": [
    "#Model training and testing \n",
    "n_total_steps = len(train_dataloader) # n_total_steps * batch size will give total number of training files (consider that last batch may not be fully filled)\n",
    "train_accuracy_list = []\n",
    "train_loss_list = []\n",
    "val_accuracy_list = []\n",
    "max_acc=0\n",
    "num_epochs = 15\n",
    "pred_labels =[]\n",
    "act_labels = []\n",
    "\n",
    "for epoch in range(num_epochs):\n",
    "    \n",
    "    #Evaluation and training on training dataset\n",
    "    model.train()\n",
    "    train_accuracy=0.0\n",
    "    train_loss=0.0\n",
    "    \n",
    "    for batch_idx, (images,labels) in enumerate(train_dataloader):\n",
    "        if torch.cuda.is_available():\n",
    "            images=Variable(images.cuda())\n",
    "            labels=Variable(labels.cuda())\n",
    "        ##images = images.unsqueeze(1)\n",
    "        optimizer.zero_grad()\n",
    "        outputs=model(images)\n",
    "        loss=loss_function(outputs,labels)\n",
    "        loss.backward()\n",
    "        optimizer.step()\n",
    "        \n",
    "        \n",
    "        train_loss+= loss.cpu().data*images.size(0)\n",
    "        _,prediction=torch.max(outputs.data,1)\n",
    "        \n",
    "        train_accuracy+=int(torch.sum(prediction==labels.data))\n",
    "        \n",
    "    train_accuracy=train_accuracy/train_count\n",
    "    train_loss=train_loss/train_count\n",
    "    \n",
    "    train_accuracy_list.append(train_accuracy)\n",
    "    train_loss_list.append(train_loss)\n",
    "\n",
    "    \n",
    "    # Validation on Validation dataset\n",
    "    model.eval()\n",
    "    val_accuracy=0.0\n",
    "    pred = []\n",
    "    lab = []\n",
    "    \n",
    "    for i, (images,labels) in enumerate(val_dataloader):\n",
    "        if torch.cuda.is_available():\n",
    "            images=Variable(images.cuda())\n",
    "            labels=Variable(labels.cuda())\n",
    "        ##images = images.unsqueeze(1) \n",
    "#         print(i,images.shape)\n",
    "        outputs=model(images)\n",
    "        _,prediction=torch.max(outputs.data,1)\n",
    "        val_accuracy+=int(torch.sum(prediction==labels.data))\n",
    "        \n",
    "        pred.extend(prediction.tolist())\n",
    "        lab.extend(labels.tolist())\n",
    "    \n",
    "    val_accuracy=val_accuracy/val_count\n",
    "    val_accuracy_list.append(val_accuracy)\n",
    "    if max_acc < val_accuracy:\n",
    "        max_acc = val_accuracy\n",
    "        pred_labels = pred\n",
    "        actual_labels = lab\n",
    "        max_acc = val_accuracy\n",
    "        torch.save(model,\"best_accuracy_model_LSTM.pth\")\n",
    "    print('Epoch : '+str(epoch+1)+'/'+str(num_epochs)+'   Train Loss : '+str(train_loss)+'   Train Accuracy : '+str(train_accuracy)+'   Test Accuracy : '+str(val_accuracy))\n",
    "print(max_acc)   \n",
    "print('Finished Training and Testing')"
   ]
  },
  {
   "cell_type": "code",
   "execution_count": 22,
   "id": "0647c207",
   "metadata": {
    "execution": {
     "iopub.execute_input": "2023-12-15T07:09:31.740365Z",
     "iopub.status.busy": "2023-12-15T07:09:31.739957Z",
     "iopub.status.idle": "2023-12-15T07:10:24.352278Z",
     "shell.execute_reply": "2023-12-15T07:10:24.351304Z"
    },
    "papermill": {
     "duration": 52.639465,
     "end_time": "2023-12-15T07:10:24.366039",
     "exception": false,
     "start_time": "2023-12-15T07:09:31.726574",
     "status": "completed"
    },
    "tags": []
   },
   "outputs": [
    {
     "name": "stdout",
     "output_type": "stream",
     "text": [
      "testing Accuracy: 0.7809667673716012\n"
     ]
    }
   ],
   "source": [
    "# Load the best model\n",
    "best_model = torch.load(\"best_accuracy_model_LSTM.pth\")\n",
    "\n",
    "# Put the best_model in evaluation mode\n",
    "best_model.eval()\n",
    "\n",
    "# Initialize variables to store results\n",
    "testing_accuracy = 0.0\n",
    "pred_labels = []\n",
    "act_labels = []\n",
    "\n",
    "# Pass validation data through the best model\n",
    "for i, (images, labels) in enumerate(test_dataloader):\n",
    "    if torch.cuda.is_available():\n",
    "        images = Variable(images.cuda())\n",
    "        labels = Variable(labels.cuda())\n",
    "    \n",
    "    outputs = best_model(images)\n",
    "    _, prediction = torch.max(outputs.data, 1)\n",
    "    \n",
    "    testing_accuracy += int(torch.sum(prediction == labels.data))\n",
    "    \n",
    "    pred_labels.extend(prediction.tolist())\n",
    "    act_labels.extend(labels.tolist())\n",
    "\n",
    "# Calculate validation accuracy\n",
    "testing_accuracy = testing_accuracy / len(test_dataloader.dataset)\n",
    "\n",
    "# Print the validation accuracy\n",
    "print(\"testing Accuracy:\", testing_accuracy)\n",
    "# train Accuracy: 0.9726729291204099\n",
    "# Validation Accuracy: 0.9680496388220041\n",
    "# test Accuracy: 0.9512300388433319"
   ]
  },
  {
   "cell_type": "code",
   "execution_count": 23,
   "id": "b084479c",
   "metadata": {
    "execution": {
     "iopub.execute_input": "2023-12-15T07:10:24.392308Z",
     "iopub.status.busy": "2023-12-15T07:10:24.391886Z",
     "iopub.status.idle": "2023-12-15T07:10:24.397252Z",
     "shell.execute_reply": "2023-12-15T07:10:24.396294Z"
    },
    "papermill": {
     "duration": 0.020993,
     "end_time": "2023-12-15T07:10:24.399328",
     "exception": false,
     "start_time": "2023-12-15T07:10:24.378335",
     "status": "completed"
    },
    "tags": []
   },
   "outputs": [
    {
     "name": "stdout",
     "output_type": "stream",
     "text": [
      "LSTMClassifier(\n",
      "  (lstm): LSTM(20, 256, num_layers=2, batch_first=True)\n",
      "  (dropout): Dropout(p=0.255, inplace=False)\n",
      "  (fc): Linear(in_features=256, out_features=2, bias=True)\n",
      ")\n"
     ]
    }
   ],
   "source": [
    "print(model)"
   ]
  },
  {
   "cell_type": "code",
   "execution_count": 24,
   "id": "24d85f59",
   "metadata": {
    "execution": {
     "iopub.execute_input": "2023-12-15T07:10:24.426164Z",
     "iopub.status.busy": "2023-12-15T07:10:24.425764Z",
     "iopub.status.idle": "2023-12-15T07:10:24.842211Z",
     "shell.execute_reply": "2023-12-15T07:10:24.841054Z"
    },
    "papermill": {
     "duration": 0.432515,
     "end_time": "2023-12-15T07:10:24.844427",
     "exception": false,
     "start_time": "2023-12-15T07:10:24.411912",
     "status": "completed"
    },
    "tags": []
   },
   "outputs": [
    {
     "data": {
      "image/png": "[encoded data removed]",
      "text/plain": [
       "<Figure size 640x480 with 2 Axes>"
      ]
     },
     "metadata": {},
     "output_type": "display_data"
    },
    {
     "name": "stdout",
     "output_type": "stream",
     "text": [
      "F1 Score :  0.7809479060438737\n"
     ]
    }
   ],
   "source": [
    "# Calculate the confusion matrix\n",
    "import seaborn as sns\n",
    "conf_mat = confusion_matrix(act_labels, pred_labels)\n",
    "# Plot confusion matrix heat map\n",
    "sns.heatmap(conf_mat, cmap=\"flare\",annot=True, fmt = \"g\", \n",
    "            cbar_kws={\"label\":\"color bar\"},\n",
    "            xticklabels=train_dataset.classes,\n",
    "            yticklabels=train_dataset.classes)\n",
    "plt.xlabel(\"Predicted\")\n",
    "plt.ylabel(\"Actual\")\n",
    "plt.title(\"Confusion Matrix\")\n",
    "plt.savefig(\"ConfusionMatrix_LSTM.png\")\n",
    "plt.show()\n",
    "from sklearn.metrics import f1_score\n",
    "f1_score = f1_score(pred_labels, act_labels, average='macro')\n",
    "print('F1 Score : ', f1_score)\n"
   ]
  },
  {
   "cell_type": "code",
   "execution_count": 25,
   "id": "d3655548",
   "metadata": {
    "execution": {
     "iopub.execute_input": "2023-12-15T07:10:24.873854Z",
     "iopub.status.busy": "2023-12-15T07:10:24.873134Z",
     "iopub.status.idle": "2023-12-15T07:10:24.877575Z",
     "shell.execute_reply": "2023-12-15T07:10:24.876581Z"
    },
    "papermill": {
     "duration": 0.022135,
     "end_time": "2023-12-15T07:10:24.879668",
     "exception": false,
     "start_time": "2023-12-15T07:10:24.857533",
     "status": "completed"
    },
    "tags": []
   },
   "outputs": [],
   "source": [
    "# torch.save(model,'MGDCC_LSTMClassifier_01_01.pth')"
   ]
  },
  {
   "cell_type": "code",
   "execution_count": 26,
   "id": "fe278d51",
   "metadata": {
    "execution": {
     "iopub.execute_input": "2023-12-15T07:10:24.908440Z",
     "iopub.status.busy": "2023-12-15T07:10:24.908097Z",
     "iopub.status.idle": "2023-12-15T07:10:24.912406Z",
     "shell.execute_reply": "2023-12-15T07:10:24.911485Z"
    },
    "papermill": {
     "duration": 0.021274,
     "end_time": "2023-12-15T07:10:24.914640",
     "exception": false,
     "start_time": "2023-12-15T07:10:24.893366",
     "status": "completed"
    },
    "tags": []
   },
   "outputs": [],
   "source": [
    "# BiLSTM"
   ]
  },
  {
   "cell_type": "code",
   "execution_count": 27,
   "id": "141ddf5b",
   "metadata": {
    "execution": {
     "iopub.execute_input": "2023-12-15T07:10:24.944813Z",
     "iopub.status.busy": "2023-12-15T07:10:24.944445Z",
     "iopub.status.idle": "2023-12-15T07:10:24.953364Z",
     "shell.execute_reply": "2023-12-15T07:10:24.952456Z"
    },
    "papermill": {
     "duration": 0.026573,
     "end_time": "2023-12-15T07:10:24.955320",
     "exception": false,
     "start_time": "2023-12-15T07:10:24.928747",
     "status": "completed"
    },
    "tags": []
   },
   "outputs": [],
   "source": [
    "drop_amount = 0.255\n",
    "\n",
    "class BiLSTMClassifier(nn.Module):\n",
    "    def __init__(self, input_size, hidden_size, num_layers, num_classes):\n",
    "        super(BiLSTMClassifier, self).__init__()\n",
    "        self.hidden_size = hidden_size\n",
    "        self.num_layers = num_layers\n",
    "        self.lstm = nn.LSTM(input_size, hidden_size, num_layers, batch_first=True, bidirectional=True)\n",
    "        self.dropout = nn.Dropout(p=drop_amount)\n",
    "        self.fc = nn.Linear(hidden_size*2, num_classes)\n",
    "\n",
    "    def forward(self, x):\n",
    "        h0 = torch.zeros(self.num_layers*2, x.size(0), self.hidden_size).to(device=x.device, dtype=torch.double)\n",
    "        c0 = torch.zeros(self.num_layers*2, x.size(0), self.hidden_size).to(device=x.device, dtype=torch.double)\n",
    "        out, _ = self.lstm(x, (h0, c0))\n",
    "        out = self.dropout(out)\n",
    "        # Extract the output of the last time step from both directions\n",
    "        last_hidden_state = torch.cat((out[:, -1, :self.hidden_size], out[:, 0, self.hidden_size:]), dim=1)\n",
    "        output = self.fc(last_hidden_state)\n",
    "        return output"
   ]
  },
  {
   "cell_type": "code",
   "execution_count": 28,
   "id": "f9e799f2",
   "metadata": {
    "execution": {
     "iopub.execute_input": "2023-12-15T07:10:24.982991Z",
     "iopub.status.busy": "2023-12-15T07:10:24.982362Z",
     "iopub.status.idle": "2023-12-15T07:10:24.986813Z",
     "shell.execute_reply": "2023-12-15T07:10:24.985880Z"
    },
    "papermill": {
     "duration": 0.020611,
     "end_time": "2023-12-15T07:10:24.988780",
     "exception": false,
     "start_time": "2023-12-15T07:10:24.968169",
     "status": "completed"
    },
    "tags": []
   },
   "outputs": [],
   "source": [
    "batch_size = 64\n",
    "output_nodes = 2\n",
    "learning_rate = 0.0001"
   ]
  },
  {
   "cell_type": "code",
   "execution_count": 29,
   "id": "4db23d2c",
   "metadata": {
    "execution": {
     "iopub.execute_input": "2023-12-15T07:10:25.016270Z",
     "iopub.status.busy": "2023-12-15T07:10:25.015861Z",
     "iopub.status.idle": "2023-12-15T07:10:25.048062Z",
     "shell.execute_reply": "2023-12-15T07:10:25.046807Z"
    },
    "papermill": {
     "duration": 0.048523,
     "end_time": "2023-12-15T07:10:25.050356",
     "exception": false,
     "start_time": "2023-12-15T07:10:25.001833",
     "status": "completed"
    },
    "tags": []
   },
   "outputs": [
    {
     "name": "stdout",
     "output_type": "stream",
     "text": [
      "BiLSTMClassifier(\n",
      "  (lstm): LSTM(20, 256, num_layers=2, batch_first=True, bidirectional=True)\n",
      "  (dropout): Dropout(p=0.255, inplace=False)\n",
      "  (fc): Linear(in_features=512, out_features=2, bias=True)\n",
      ")\n"
     ]
    }
   ],
   "source": [
    "model = BiLSTMClassifier(input_size, hidden_size, num_layers, num_classes)\n",
    "model.to(device, dtype=torch.double)\n",
    "loss_function = nn.CrossEntropyLoss()\n",
    "optimizer = optim.Adam(model.parameters(), lr=learning_rate)\n",
    "print(model)"
   ]
  },
  {
   "cell_type": "code",
   "execution_count": 30,
   "id": "5891931d",
   "metadata": {
    "execution": {
     "iopub.execute_input": "2023-12-15T07:10:25.081114Z",
     "iopub.status.busy": "2023-12-15T07:10:25.080113Z",
     "iopub.status.idle": "2023-12-15T07:10:25.085685Z",
     "shell.execute_reply": "2023-12-15T07:10:25.084606Z"
    },
    "papermill": {
     "duration": 0.023314,
     "end_time": "2023-12-15T07:10:25.087771",
     "exception": false,
     "start_time": "2023-12-15T07:10:25.064457",
     "status": "completed"
    },
    "tags": []
   },
   "outputs": [
    {
     "name": "stdout",
     "output_type": "stream",
     "text": [
      "BiLSTMClassifier(\n",
      "  (lstm): LSTM(20, 256, num_layers=2, batch_first=True, bidirectional=True)\n",
      "  (dropout): Dropout(p=0.255, inplace=False)\n",
      "  (fc): Linear(in_features=512, out_features=2, bias=True)\n",
      ")\n"
     ]
    }
   ],
   "source": [
    "print(model)"
   ]
  },
  {
   "cell_type": "code",
   "execution_count": 31,
   "id": "2feacd92",
   "metadata": {
    "execution": {
     "iopub.execute_input": "2023-12-15T07:10:25.118031Z",
     "iopub.status.busy": "2023-12-15T07:10:25.117291Z",
     "iopub.status.idle": "2023-12-15T08:52:01.104537Z",
     "shell.execute_reply": "2023-12-15T08:52:01.103518Z"
    },
    "papermill": {
     "duration": 6096.019049,
     "end_time": "2023-12-15T08:52:01.120518",
     "exception": false,
     "start_time": "2023-12-15T07:10:25.101469",
     "status": "completed"
    },
    "tags": []
   },
   "outputs": [
    {
     "name": "stdout",
     "output_type": "stream",
     "text": [
      "Epoch : 1/15   Train Loss : tensor(0.4899, dtype=torch.float64)   Train Accuracy : 0.7573422938402703   Test Accuracy : 0.8673828486756807\n",
      "Epoch : 2/15   Train Loss : tensor(0.4739, dtype=torch.float64)   Train Accuracy : 0.7550402851520439   Test Accuracy : 0.7381922578255232\n",
      "Epoch : 3/15   Train Loss : tensor(0.4826, dtype=torch.float64)   Train Accuracy : 0.7644896595254892   Test Accuracy : 0.8388590479718466\n",
      "Epoch : 4/15   Train Loss : tensor(0.3472, dtype=torch.float64)   Train Accuracy : 0.8512048416440797   Test Accuracy : 0.8680311168734951\n",
      "Epoch : 5/15   Train Loss : tensor(0.3902, dtype=torch.float64)   Train Accuracy : 0.8475104889912004   Test Accuracy : 0.8204297092054084\n",
      "Epoch : 6/15   Train Loss : tensor(0.2493, dtype=torch.float64)   Train Accuracy : 0.9035384101288382   Test Accuracy : 0.9403593258010743\n",
      "Epoch : 7/15   Train Loss : tensor(0.1358, dtype=torch.float64)   Train Accuracy : 0.9503954256859615   Test Accuracy : 0.9617521763289498\n",
      "Epoch : 8/15   Train Loss : tensor(0.1321, dtype=torch.float64)   Train Accuracy : 0.9519177217539821   Test Accuracy : 0.9668457121689201\n",
      "Epoch : 9/15   Train Loss : tensor(0.0955, dtype=torch.float64)   Train Accuracy : 0.9665280510897412   Test Accuracy : 0.973513613632154\n",
      "Epoch : 10/15   Train Loss : tensor(0.0829, dtype=torch.float64)   Train Accuracy : 0.9703152266735975   Test Accuracy : 0.9740692720874236\n",
      "Epoch : 11/15   Train Loss : tensor(0.0829, dtype=torch.float64)   Train Accuracy : 0.9695726432257825   Test Accuracy : 0.9757362474532321\n",
      "Epoch : 12/15   Train Loss : tensor(0.0719, dtype=torch.float64)   Train Accuracy : 0.9743994356365797   Test Accuracy : 0.9790701981848491\n",
      "Epoch : 13/15   Train Loss : tensor(0.0632, dtype=torch.float64)   Train Accuracy : 0.9774254631864255   Test Accuracy : 0.9699018336729024\n",
      "Epoch : 14/15   Train Loss : tensor(0.0618, dtype=torch.float64)   Train Accuracy : 0.9779267070137007   Test Accuracy : 0.9804593443230227\n",
      "Epoch : 15/15   Train Loss : tensor(0.0588, dtype=torch.float64)   Train Accuracy : 0.9790405821854231   Test Accuracy : 0.9632339322096685\n",
      "0.9804593443230227\n",
      "Finished Training and Testing\n"
     ]
    }
   ],
   "source": [
    "#Model training and testing \n",
    "n_total_steps = len(train_dataloader) # n_total_steps * batch size will give total number of training files (consider that last batch may not be fully filled)\n",
    "train_accuracy_list = []\n",
    "train_loss_list = []\n",
    "val_accuracy_list = []\n",
    "max_acc=0\n",
    "num_epochs = 15\n",
    "pred_labels =[]\n",
    "act_labels = []\n",
    "\n",
    "for epoch in range(num_epochs):\n",
    "    \n",
    "    #Evaluation and training on training dataset\n",
    "    model.train()\n",
    "    train_accuracy=0.0\n",
    "    train_loss=0.0\n",
    "    \n",
    "    for batch_idx, (images,labels) in enumerate(train_dataloader):\n",
    "        if torch.cuda.is_available():\n",
    "            images=Variable(images.cuda())\n",
    "            labels=Variable(labels.cuda())\n",
    "        ##images = images.unsqueeze(1)\n",
    "        optimizer.zero_grad()\n",
    "        outputs=model(images)\n",
    "        loss=loss_function(outputs,labels)\n",
    "        loss.backward()\n",
    "        optimizer.step()\n",
    "        \n",
    "        \n",
    "        train_loss+= loss.cpu().data*images.size(0)\n",
    "        _,prediction=torch.max(outputs.data,1)\n",
    "        \n",
    "        train_accuracy+=int(torch.sum(prediction==labels.data))\n",
    "        \n",
    "    train_accuracy=train_accuracy/train_count\n",
    "    train_loss=train_loss/train_count\n",
    "    \n",
    "    train_accuracy_list.append(train_accuracy)\n",
    "    train_loss_list.append(train_loss)\n",
    "\n",
    "    \n",
    "    # Validation on Validation dataset\n",
    "    model.eval()\n",
    "    val_accuracy=0.0\n",
    "    pred = []\n",
    "    lab = []\n",
    "    \n",
    "    for i, (images,labels) in enumerate(val_dataloader):\n",
    "        if torch.cuda.is_available():\n",
    "            images=Variable(images.cuda())\n",
    "            labels=Variable(labels.cuda())\n",
    "        ##images = images.unsqueeze(1) \n",
    "#         print(i,images.shape)\n",
    "        outputs=model(images)\n",
    "        _,prediction=torch.max(outputs.data,1)\n",
    "        val_accuracy+=int(torch.sum(prediction==labels.data))\n",
    "        \n",
    "        pred.extend(prediction.tolist())\n",
    "        lab.extend(labels.tolist())\n",
    "    \n",
    "    val_accuracy=val_accuracy/val_count\n",
    "    val_accuracy_list.append(val_accuracy)\n",
    "    if max_acc < val_accuracy:\n",
    "        max_acc = val_accuracy\n",
    "        pred_labels = pred\n",
    "        actual_labels = lab\n",
    "        max_acc = val_accuracy\n",
    "        torch.save(model,\"best_accuracy_model_BiLSTM.pth\")\n",
    "    print('Epoch : '+str(epoch+1)+'/'+str(num_epochs)+'   Train Loss : '+str(train_loss)+'   Train Accuracy : '+str(train_accuracy)+'   Test Accuracy : '+str(val_accuracy))\n",
    "print(max_acc)   \n",
    "print('Finished Training and Testing')"
   ]
  },
  {
   "cell_type": "code",
   "execution_count": 32,
   "id": "d8212328",
   "metadata": {
    "execution": {
     "iopub.execute_input": "2023-12-15T08:52:01.150637Z",
     "iopub.status.busy": "2023-12-15T08:52:01.149958Z",
     "iopub.status.idle": "2023-12-15T08:52:20.314264Z",
     "shell.execute_reply": "2023-12-15T08:52:20.313181Z"
    },
    "papermill": {
     "duration": 19.182168,
     "end_time": "2023-12-15T08:52:20.316541",
     "exception": false,
     "start_time": "2023-12-15T08:52:01.134373",
     "status": "completed"
    },
    "tags": []
   },
   "outputs": [
    {
     "name": "stdout",
     "output_type": "stream",
     "text": [
      "testing Accuracy: 0.7231333621061717\n"
     ]
    }
   ],
   "source": [
    "# Load the best model\n",
    "best_model = torch.load(\"best_accuracy_model_BiLSTM.pth\")\n",
    "\n",
    "# Put the best_model in evaluation mode\n",
    "best_model.eval()\n",
    "\n",
    "# Initialize variables to store results\n",
    "testing_accuracy = 0.0\n",
    "pred_labels = []\n",
    "act_labels = []\n",
    "\n",
    "# Pass validation data through the best model\n",
    "for i, (images, labels) in enumerate(test_dataloader):\n",
    "    if torch.cuda.is_available():\n",
    "        images = Variable(images.cuda())\n",
    "        labels = Variable(labels.cuda())\n",
    "    \n",
    "    outputs = best_model(images)\n",
    "    _, prediction = torch.max(outputs.data, 1)\n",
    "    \n",
    "    testing_accuracy += int(torch.sum(prediction == labels.data))\n",
    "    \n",
    "    pred_labels.extend(prediction.tolist())\n",
    "    act_labels.extend(labels.tolist())\n",
    "\n",
    "# Calculate validation accuracy\n",
    "testing_accuracy = testing_accuracy / len(test_dataloader.dataset)\n",
    "\n",
    "# Print the validation accuracy\n",
    "print(\"testing Accuracy:\", testing_accuracy)"
   ]
  },
  {
   "cell_type": "code",
   "execution_count": 33,
   "id": "0ab9391b",
   "metadata": {
    "execution": {
     "iopub.execute_input": "2023-12-15T08:52:20.347217Z",
     "iopub.status.busy": "2023-12-15T08:52:20.346538Z",
     "iopub.status.idle": "2023-12-15T08:52:20.745365Z",
     "shell.execute_reply": "2023-12-15T08:52:20.744023Z"
    },
    "papermill": {
     "duration": 0.416873,
     "end_time": "2023-12-15T08:52:20.748064",
     "exception": false,
     "start_time": "2023-12-15T08:52:20.331191",
     "status": "completed"
    },
    "tags": []
   },
   "outputs": [
    {
     "data": {
      "image/png": "[encoded data removed]",
      "text/plain": [
       "<Figure size 640x480 with 2 Axes>"
      ]
     },
     "metadata": {},
     "output_type": "display_data"
    },
    {
     "name": "stdout",
     "output_type": "stream",
     "text": [
      "F1 Score :  0.7225471749490529\n"
     ]
    }
   ],
   "source": [
    "# Calculate the confusion matrix\n",
    "import seaborn as sns\n",
    "conf_mat = confusion_matrix(act_labels, pred_labels)\n",
    "# Plot confusion matrix heat map\n",
    "sns.heatmap(conf_mat, cmap=\"flare\",annot=True, fmt = \"g\", \n",
    "            cbar_kws={\"label\":\"color bar\"},\n",
    "            xticklabels=train_dataset.classes,\n",
    "            yticklabels=train_dataset.classes)\n",
    "plt.xlabel(\"Predicted\")\n",
    "plt.ylabel(\"Actual\")\n",
    "plt.title(\"Confusion Matrix\")\n",
    "plt.savefig(\"ConfusionMatrix_BiLSTM.png\")\n",
    "plt.show()\n",
    "from sklearn.metrics import f1_score\n",
    "f1_score = f1_score(pred_labels, act_labels, average='macro')\n",
    "print('F1 Score : ', f1_score)\n"
   ]
  },
  {
   "cell_type": "code",
   "execution_count": 34,
   "id": "ef6efc6d",
   "metadata": {
    "execution": {
     "iopub.execute_input": "2023-12-15T08:52:20.781130Z",
     "iopub.status.busy": "2023-12-15T08:52:20.780183Z",
     "iopub.status.idle": "2023-12-15T08:52:20.784805Z",
     "shell.execute_reply": "2023-12-15T08:52:20.784007Z"
    },
    "papermill": {
     "duration": 0.022289,
     "end_time": "2023-12-15T08:52:20.786778",
     "exception": false,
     "start_time": "2023-12-15T08:52:20.764489",
     "status": "completed"
    },
    "tags": []
   },
   "outputs": [],
   "source": [
    "# torch.save(model,'MGDCC_BiLSTMClassifier_01_01.pth')"
   ]
  },
  {
   "cell_type": "code",
   "execution_count": 35,
   "id": "1dd0b8ce",
   "metadata": {
    "execution": {
     "iopub.execute_input": "2023-12-15T08:52:20.817769Z",
     "iopub.status.busy": "2023-12-15T08:52:20.817027Z",
     "iopub.status.idle": "2023-12-15T08:52:20.824509Z",
     "shell.execute_reply": "2023-12-15T08:52:20.823496Z"
    },
    "papermill": {
     "duration": 0.026075,
     "end_time": "2023-12-15T08:52:20.827292",
     "exception": false,
     "start_time": "2023-12-15T08:52:20.801217",
     "status": "completed"
    },
    "tags": []
   },
   "outputs": [],
   "source": [
    "# ResNet50\n",
    "# import torch\n",
    "# import torch.nn as nn\n",
    "\n",
    "\n",
    "# def conv3x3(in_channels, out_channels, stride=1):\n",
    "#     \"\"\"3x3 convolution with padding\"\"\"\n",
    "#     return nn.Conv2d(in_channels, out_channels, kernel_size=3, stride=stride, padding=1, bias=False)\n",
    "\n",
    "\n",
    "# class Bottleneck(nn.Module):\n",
    "#     expansion = 4\n",
    "\n",
    "#     def __init__(self, in_channels, out_channels, stride=1, downsample=None):\n",
    "#         super(Bottleneck, self).__init__()\n",
    "\n",
    "#         self.conv1 = nn.Conv2d(in_channels, out_channels, kernel_size=1, bias=False)\n",
    "#         self.bn1 = nn.BatchNorm2d(out_channels)\n",
    "#         self.conv2 = nn.Conv2d(out_channels, out_channels, kernel_size=3, stride=stride, padding=1, bias=False)\n",
    "#         self.bn2 = nn.BatchNorm2d(out_channels)\n",
    "#         self.conv3 = nn.Conv2d(out_channels, out_channels * self.expansion, kernel_size=1, bias=False)\n",
    "#         self.bn3 = nn.BatchNorm2d(out_channels * self.expansion)\n",
    "#         self.relu = nn.ReLU(inplace=True)\n",
    "#         self.downsample = downsample\n",
    "#         self.stride = stride\n",
    "\n",
    "#     def forward(self, x):\n",
    "#         identity = x\n",
    "\n",
    "#         out = self.conv1(x)\n",
    "#         out = self.bn1(out)\n",
    "#         out = self.relu(out)\n",
    "\n",
    "#         out = self.conv2(out)\n",
    "#         out = self.bn2(out)\n",
    "#         out = self.relu(out)\n",
    "\n",
    "#         out = self.conv3(out)\n",
    "#         out = self.bn3(out)\n",
    "\n",
    "#         if self.downsample is not None:\n",
    "#             identity = self.downsample(x)\n",
    "\n",
    "#         out += identity\n",
    "#         out = self.relu(out)\n",
    "\n",
    "#         return out\n",
    "\n",
    "\n",
    "# class ResNet(nn.Module):\n",
    "#     def __init__(self, block, layers, num_classes=1000):\n",
    "#         super(ResNet, self).__init__()\n",
    "\n",
    "#         self.in_channels = 64\n",
    "#         self.conv1 = nn.Conv2d(1, 64, kernel_size=7, stride=2, padding=3, bias=False)\n",
    "# #         self.conv1 = nn.Conv2d(1, 64, kernel_size=7, stride=2, padding=3, bias=False)\n",
    "#         self.bn1 = nn.BatchNorm2d(64)\n",
    "#         self.relu = nn.ReLU(inplace=True)\n",
    "#         self.maxpool = nn.MaxPool2d(kernel_size=3, stride=2, padding=1)\n",
    "\n",
    "#         self.layer1 = self._make_layer(block, 64, layers[0], stride=1)\n",
    "#         self.layer2 = self._make_layer(block, 128, layers[1], stride=2)\n",
    "#         self.layer3 = self._make_layer(block, 256, layers[2], stride=2)\n",
    "#         self.layer4 = self._make_layer(block, 512, layers[3], stride=2)\n",
    "\n",
    "#         self.avgpool = nn.AdaptiveAvgPool2d((1, 1))\n",
    "#         self.fc = nn.Linear(512 * block.expansion, num_classes)\n",
    "\n",
    "#     def _make_layer(self, block, out_channels, blocks, stride=1):\n",
    "#         downsample = None\n",
    "#         if stride != 1 or self.in_channels != out_channels * block.expansion:\n",
    "#             downsample = nn.Sequential(\n",
    "#                 nn.Conv2d(self.in_channels, out_channels * block.expansion, kernel_size=1, stride=stride, bias=False),\n",
    "#                 nn.BatchNorm2d(out_channels * block.expansion),\n",
    "#             )\n",
    "\n",
    "#         layers = [block(self.in_channels, out_channels, stride, downsample)]\n",
    "#         self.in_channels = out_channels * block.expansion\n",
    "#         for _ in range(1, blocks):\n",
    "#             layers.append(block(self.in_channels, out_channels))\n",
    "\n",
    "#         return nn.Sequential(*layers)\n",
    "\n",
    "#     def forward(self, x):\n",
    "#         x = self.conv1(x)\n",
    "#         x = self.bn1(x)\n",
    "#         x = self.relu(x)\n",
    "#         x = self.maxpool(x)\n",
    "\n",
    "#         x = self.layer1(x)\n",
    "#         x = self.layer2(x)\n",
    "#         x = self.layer3(x)\n",
    "#         x = self.layer4(x)\n",
    "\n",
    "#         x = self.avgpool(x)\n",
    "#         x = x.view(x.size(0), -1)\n",
    "#         x = self.fc(x)\n",
    "\n",
    "#         return x\n",
    "\n",
    "\n",
    "# # ResNet-50\n",
    "# def resnet50(num_classes=2):\n",
    "#     return ResNet(Bottleneck, [3, 4, 6, 3], num_classes)\n"
   ]
  },
  {
   "cell_type": "code",
   "execution_count": 36,
   "id": "678b2c47",
   "metadata": {
    "execution": {
     "iopub.execute_input": "2023-12-15T08:52:20.859511Z",
     "iopub.status.busy": "2023-12-15T08:52:20.858744Z",
     "iopub.status.idle": "2023-12-15T08:52:20.863289Z",
     "shell.execute_reply": "2023-12-15T08:52:20.862433Z"
    },
    "papermill": {
     "duration": 0.024108,
     "end_time": "2023-12-15T08:52:20.866066",
     "exception": false,
     "start_time": "2023-12-15T08:52:20.841958",
     "status": "completed"
    },
    "tags": []
   },
   "outputs": [],
   "source": [
    "# model = resnet50()\n",
    "# model.to(device, dtype=torch.double)\n",
    "# loss_function = nn.CrossEntropyLoss()\n",
    "# optimizer = optim.Adam(model.parameters(), lr=learning_rate)\n",
    "# print(model)"
   ]
  },
  {
   "cell_type": "code",
   "execution_count": 37,
   "id": "5f0f3a5a",
   "metadata": {
    "execution": {
     "iopub.execute_input": "2023-12-15T08:52:20.910168Z",
     "iopub.status.busy": "2023-12-15T08:52:20.909197Z",
     "iopub.status.idle": "2023-12-15T08:52:20.913998Z",
     "shell.execute_reply": "2023-12-15T08:52:20.913092Z"
    },
    "papermill": {
     "duration": 0.028988,
     "end_time": "2023-12-15T08:52:20.916064",
     "exception": false,
     "start_time": "2023-12-15T08:52:20.887076",
     "status": "completed"
    },
    "tags": []
   },
   "outputs": [],
   "source": [
    "# torch.save(model,'MGDCC_ResNet50_0_0001.pth')"
   ]
  },
  {
   "cell_type": "code",
   "execution_count": 38,
   "id": "d45980f0",
   "metadata": {
    "execution": {
     "iopub.execute_input": "2023-12-15T08:52:20.947002Z",
     "iopub.status.busy": "2023-12-15T08:52:20.946694Z",
     "iopub.status.idle": "2023-12-15T08:52:20.952050Z",
     "shell.execute_reply": "2023-12-15T08:52:20.950582Z"
    },
    "papermill": {
     "duration": 0.023789,
     "end_time": "2023-12-15T08:52:20.954652",
     "exception": false,
     "start_time": "2023-12-15T08:52:20.930863",
     "status": "completed"
    },
    "tags": []
   },
   "outputs": [],
   "source": [
    "# # Calculate the confusion matrix\n",
    "# import seaborn as sns\n",
    "# conf_mat = confusion_matrix(act_labels, pred_labels)\n",
    "# # Plot confusion matrix heat map\n",
    "# sns.heatmap(conf_mat, cmap=\"flare\",annot=True, fmt = \"g\", \n",
    "#             cbar_kws={\"label\":\"color bar\"},\n",
    "#             xticklabels=train_dataset.classes,\n",
    "#             yticklabels=train_dataset.classes)\n",
    "# plt.xlabel(\"Predicted\")\n",
    "# plt.ylabel(\"Actual\")\n",
    "# plt.title(\"Confusion Matrix\")\n",
    "# plt.savefig(\"ConfusionMatrix.png\")\n",
    "# plt.show()\n",
    "# from sklearn.metrics import f1_score\n",
    "# f1_score = f1_score(pred_labels, act_labels, average='macro')\n",
    "# print('F1 Score : ', f1_score)"
   ]
  }
 ],
 "metadata": {
  "kaggle": {
   "accelerator": "gpu",
   "dataSources": [
    {
     "datasetId": 4133733,
     "sourceId": 7157591,
     "sourceType": "datasetVersion"
    }
   ],
   "dockerImageVersionId": 30627,
   "isGpuEnabled": true,
   "isInternetEnabled": true,
   "language": "python",
   "sourceType": "notebook"
  },
  "kernelspec": {
   "display_name": "Python 3",
   "language": "python",
   "name": "python3"
  },
  "language_info": {
   "codemirror_mode": {
    "name": "ipython",
    "version": 3
   },
   "file_extension": ".py",
   "mimetype": "text/x-python",
   "name": "python",
   "nbconvert_exporter": "python",
   "pygments_lexer": "ipython3",
   "version": "3.10.12"
  },
  "papermill": {
   "default_parameters": {},
   "duration": 10229.924125,
   "end_time": "2023-12-15T08:52:23.973796",
   "environment_variables": {},
   "exception": null,
   "input_path": "__notebook__.ipynb",
   "output_path": "__notebook__.ipynb",
   "parameters": {},
   "start_time": "2023-12-15T06:01:54.049671",
   "version": "2.4.0"
  }
 },
 "nbformat": 4,
 "nbformat_minor": 5
}
