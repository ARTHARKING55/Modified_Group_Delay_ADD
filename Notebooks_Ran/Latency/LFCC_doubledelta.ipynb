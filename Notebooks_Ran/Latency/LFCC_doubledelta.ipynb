{
 "cells": [
  {
   "cell_type": "code",
   "execution_count": 1,
   "id": "dd4137d2",
   "metadata": {
    "execution": {
     "iopub.execute_input": "2023-12-14T21:59:15.839242Z",
     "iopub.status.busy": "2023-12-14T21:59:15.838896Z",
     "iopub.status.idle": "2023-12-14T21:59:29.066388Z",
     "shell.execute_reply": "2023-12-14T21:59:29.065406Z"
    },
    "papermill": {
     "duration": 13.241873,
     "end_time": "2023-12-14T21:59:29.068777",
     "exception": false,
     "start_time": "2023-12-14T21:59:15.826904",
     "status": "completed"
    },
    "tags": []
   },
   "outputs": [
    {
     "name": "stdout",
     "output_type": "stream",
     "text": [
      "Requirement already satisfied: scipy in /opt/conda/lib/python3.10/site-packages (1.11.4)\r\n",
      "Requirement already satisfied: numpy<1.28.0,>=1.21.6 in /opt/conda/lib/python3.10/site-packages (from scipy) (1.24.3)\r\n"
     ]
    }
   ],
   "source": [
    "!pip install --upgrade scipy"
   ]
  },
  {
   "cell_type": "code",
   "execution_count": 2,
   "id": "964ade85",
   "metadata": {
    "execution": {
     "iopub.execute_input": "2023-12-14T21:59:29.091565Z",
     "iopub.status.busy": "2023-12-14T21:59:29.091214Z",
     "iopub.status.idle": "2023-12-14T21:59:33.418802Z",
     "shell.execute_reply": "2023-12-14T21:59:33.417995Z"
    },
    "papermill": {
     "duration": 4.341376,
     "end_time": "2023-12-14T21:59:33.421121",
     "exception": false,
     "start_time": "2023-12-14T21:59:29.079745",
     "status": "completed"
    },
    "tags": []
   },
   "outputs": [
    {
     "name": "stderr",
     "output_type": "stream",
     "text": [
      "/opt/conda/lib/python3.10/site-packages/scipy/__init__.py:146: UserWarning: A NumPy version >=1.16.5 and <1.23.0 is required for this version of SciPy (detected version 1.24.3\n",
      "  warnings.warn(f\"A NumPy version >={np_minversion} and <{np_maxversion}\"\n"
     ]
    }
   ],
   "source": [
    "import torch \n",
    "import torch.nn as nn\n",
    "import torch.nn.functional as F\n",
    "from torch.autograd import Variable\n",
    "from torch.utils.data import Dataset, DataLoader\n",
    "\n",
    "import os, pathlib, glob, random\n",
    "import numpy as np\n",
    "import matplotlib.pyplot as plt \n",
    "\n",
    "from sklearn.metrics import confusion_matrix\n",
    "import scipy\n",
    "from scipy import io"
   ]
  },
  {
   "cell_type": "code",
   "execution_count": 3,
   "id": "6be54735",
   "metadata": {
    "execution": {
     "iopub.execute_input": "2023-12-14T21:59:33.443368Z",
     "iopub.status.busy": "2023-12-14T21:59:33.442928Z",
     "iopub.status.idle": "2023-12-14T21:59:33.507193Z",
     "shell.execute_reply": "2023-12-14T21:59:33.506141Z"
    },
    "papermill": {
     "duration": 0.077609,
     "end_time": "2023-12-14T21:59:33.509346",
     "exception": false,
     "start_time": "2023-12-14T21:59:33.431737",
     "status": "completed"
    },
    "tags": []
   },
   "outputs": [
    {
     "name": "stdout",
     "output_type": "stream",
     "text": [
      "cuda:0\n"
     ]
    }
   ],
   "source": [
    "device = torch.device('cuda:0' if torch.cuda.is_available() else 'cpu')\n",
    "print(device)"
   ]
  },
  {
   "cell_type": "code",
   "execution_count": 4,
   "id": "89a212af",
   "metadata": {
    "execution": {
     "iopub.execute_input": "2023-12-14T21:59:33.531706Z",
     "iopub.status.busy": "2023-12-14T21:59:33.531364Z",
     "iopub.status.idle": "2023-12-14T21:59:33.535494Z",
     "shell.execute_reply": "2023-12-14T21:59:33.534655Z"
    },
    "papermill": {
     "duration": 0.017193,
     "end_time": "2023-12-14T21:59:33.537318",
     "exception": false,
     "start_time": "2023-12-14T21:59:33.520125",
     "status": "completed"
    },
    "tags": []
   },
   "outputs": [],
   "source": [
    "batch_size = 64\n",
    "output_nodes = 2\n",
    "learning_rate = 0.001"
   ]
  },
  {
   "cell_type": "code",
   "execution_count": 5,
   "id": "c23a91af",
   "metadata": {
    "execution": {
     "iopub.execute_input": "2023-12-14T21:59:33.559447Z",
     "iopub.status.busy": "2023-12-14T21:59:33.559164Z",
     "iopub.status.idle": "2023-12-14T21:59:33.563382Z",
     "shell.execute_reply": "2023-12-14T21:59:33.562509Z"
    },
    "papermill": {
     "duration": 0.017598,
     "end_time": "2023-12-14T21:59:33.565287",
     "exception": false,
     "start_time": "2023-12-14T21:59:33.547689",
     "status": "completed"
    },
    "tags": []
   },
   "outputs": [],
   "source": [
    "train_data_path = r\"/kaggle/input/deltadoubledelta-all-feat-add/delta,DoubleDelta/LFCC/doubleDelta/train\"\n",
    "validation_data_path =r\"/kaggle/input/deltadoubledelta-all-feat-add/delta,DoubleDelta/LFCC/doubleDelta/dev\"\n",
    "test_data_path = r\"/kaggle/input/deltadoubledelta-all-feat-add/delta,DoubleDelta/LFCC/doubleDelta/test\""
   ]
  },
  {
   "cell_type": "code",
   "execution_count": 6,
   "id": "8292fe21",
   "metadata": {
    "execution": {
     "iopub.execute_input": "2023-12-14T21:59:33.587266Z",
     "iopub.status.busy": "2023-12-14T21:59:33.586969Z",
     "iopub.status.idle": "2023-12-14T21:59:33.592013Z",
     "shell.execute_reply": "2023-12-14T21:59:33.591177Z"
    },
    "papermill": {
     "duration": 0.01819,
     "end_time": "2023-12-14T21:59:33.593893",
     "exception": false,
     "start_time": "2023-12-14T21:59:33.575703",
     "status": "completed"
    },
    "tags": []
   },
   "outputs": [],
   "source": [
    "# # ResNet50\n",
    "# class PtDataset(Dataset):\n",
    "#     def __init__(self, directory):\n",
    "#         self.directory = directory\n",
    "#         self.classes = sorted(entry.name for entry in os.scandir(directory) if entry.is_dir())\n",
    "#         self.class_to_idx = {c: i for i, c in enumerate(self.classes)}\n",
    "#         self.files = []\n",
    "#         for c in self.classes:\n",
    "#             c_dir = os.path.join(directory, c)\n",
    "#             c_files = [(os.path.join(c_dir, f), self.class_to_idx[c]) for f in os.listdir(c_dir)]\n",
    "#             self.files.extend(c_files)\n",
    "#         random.shuffle(self.files)\n",
    "        \n",
    "#     def __len__(self):\n",
    "#         return len(self.files)\n",
    "    \n",
    "#     # Assuming mono audio data\n",
    "#     def __getitem__(self, idx):\n",
    "#         filepath, label = self.files[idx]\n",
    "#         try:\n",
    "#             mat_vals = scipy.io.loadmat(filepath)\n",
    "#             data = mat_vals['final']\n",
    "#             data = data.T\n",
    "#             max_len = 750\n",
    "\n",
    "#             if (max_len > data.shape[0]):\n",
    "#                 pad_width = max_len - data.shape[0]\n",
    "#                 data = np.pad(data, pad_width=((0, pad_width), (0, 0)), mode='constant')\n",
    "#             else:\n",
    "#                 data = data[:max_len, :]\n",
    "\n",
    "#             # Reshape data to (1, 750, 20) for mono audio\n",
    "#             data = data[np.newaxis, :, :]\n",
    "\n",
    "#         except Exception as e:\n",
    "#             print(f\"Error loading file {filepath}: {str(e)}\")\n",
    "#             return None\n",
    "\n",
    "#         return data, label\n"
   ]
  },
  {
   "cell_type": "code",
   "execution_count": 7,
   "id": "edd0a312",
   "metadata": {
    "execution": {
     "iopub.execute_input": "2023-12-14T21:59:33.615641Z",
     "iopub.status.busy": "2023-12-14T21:59:33.615336Z",
     "iopub.status.idle": "2023-12-14T21:59:33.626687Z",
     "shell.execute_reply": "2023-12-14T21:59:33.625873Z"
    },
    "papermill": {
     "duration": 0.024616,
     "end_time": "2023-12-14T21:59:33.628814",
     "exception": false,
     "start_time": "2023-12-14T21:59:33.604198",
     "status": "completed"
    },
    "tags": []
   },
   "outputs": [],
   "source": [
    "class PtDataset(Dataset):\n",
    "    def __init__(self, directory):\n",
    "        self.directory = directory\n",
    "        self.classes = sorted(entry.name for entry in os.scandir(directory) if entry.is_dir())\n",
    "        self.class_to_idx = {c: i for i, c in enumerate(self.classes)}\n",
    "        self.files = []\n",
    "        for c in self.classes:\n",
    "            c_dir = os.path.join(directory, c)\n",
    "            c_files = [(os.path.join(c_dir, f), self.class_to_idx[c]) for f in os.listdir(c_dir)]\n",
    "            self.files.extend(c_files)\n",
    "        random.shuffle(self.files)\n",
    "        \n",
    "    def __len__(self):\n",
    "        return len(self.files)\n",
    "    \n",
    "    def __getitem__(self, idx):\n",
    "        filepath, label = self.files[idx]\n",
    "        try:\n",
    "            mat_vals = scipy.io.loadmat(filepath)\n",
    "            data = mat_vals['final']\n",
    "#             data = data.T\n",
    "            max_len=750\n",
    "            if (max_len > data.shape[0]):\n",
    "                pad_width = max_len - data.shape[0]\n",
    "                data = np.pad(data, pad_width=((0, pad_width),(0,0)), mode='constant')\n",
    "            else:\n",
    "                data = data[:max_len, :]\n",
    "        except Exception as e:\n",
    "            print(f\"Error loading file {filepath}: {str(e)}\")\n",
    "            return None\n",
    "        return data, label"
   ]
  },
  {
   "cell_type": "code",
   "execution_count": 8,
   "id": "6d6cfb23",
   "metadata": {
    "execution": {
     "iopub.execute_input": "2023-12-14T21:59:33.652109Z",
     "iopub.status.busy": "2023-12-14T21:59:33.651767Z",
     "iopub.status.idle": "2023-12-14T21:59:35.008384Z",
     "shell.execute_reply": "2023-12-14T21:59:35.007517Z"
    },
    "papermill": {
     "duration": 1.371055,
     "end_time": "2023-12-14T21:59:35.010820",
     "exception": false,
     "start_time": "2023-12-14T21:59:33.639765",
     "status": "completed"
    },
    "tags": []
   },
   "outputs": [],
   "source": [
    "train_dataset = PtDataset(train_data_path)\n",
    "test_dataset = PtDataset(test_data_path)\n",
    "val_dataset = PtDataset(validation_data_path)"
   ]
  },
  {
   "cell_type": "code",
   "execution_count": 9,
   "id": "e6e47c8c",
   "metadata": {
    "execution": {
     "iopub.execute_input": "2023-12-14T21:59:35.034827Z",
     "iopub.status.busy": "2023-12-14T21:59:35.034440Z",
     "iopub.status.idle": "2023-12-14T21:59:35.039679Z",
     "shell.execute_reply": "2023-12-14T21:59:35.038815Z"
    },
    "papermill": {
     "duration": 0.019177,
     "end_time": "2023-12-14T21:59:35.041692",
     "exception": false,
     "start_time": "2023-12-14T21:59:35.022515",
     "status": "completed"
    },
    "tags": []
   },
   "outputs": [],
   "source": [
    "class PtDataLoader(DataLoader):\n",
    "    def __init__(self, directory, batch_size, shuffle=True):\n",
    "        dataset = PtDataset(directory)\n",
    "        super().__init__(dataset, batch_size=batch_size, shuffle=shuffle)"
   ]
  },
  {
   "cell_type": "code",
   "execution_count": 10,
   "id": "cb8ded78",
   "metadata": {
    "execution": {
     "iopub.execute_input": "2023-12-14T21:59:35.064706Z",
     "iopub.status.busy": "2023-12-14T21:59:35.064344Z",
     "iopub.status.idle": "2023-12-14T21:59:35.300954Z",
     "shell.execute_reply": "2023-12-14T21:59:35.299947Z"
    },
    "papermill": {
     "duration": 0.250832,
     "end_time": "2023-12-14T21:59:35.303288",
     "exception": false,
     "start_time": "2023-12-14T21:59:35.052456",
     "status": "completed"
    },
    "tags": []
   },
   "outputs": [],
   "source": [
    "train_dataloader = PtDataLoader(directory=train_data_path, batch_size=batch_size)\n",
    "test_dataloader = PtDataLoader(directory=test_data_path, batch_size=batch_size)\n",
    "val_dataloader = PtDataLoader(directory=validation_data_path, batch_size=batch_size)"
   ]
  },
  {
   "cell_type": "code",
   "execution_count": 11,
   "id": "3c93ccad",
   "metadata": {
    "execution": {
     "iopub.execute_input": "2023-12-14T21:59:35.325566Z",
     "iopub.status.busy": "2023-12-14T21:59:35.325234Z",
     "iopub.status.idle": "2023-12-14T21:59:35.329486Z",
     "shell.execute_reply": "2023-12-14T21:59:35.328658Z"
    },
    "papermill": {
     "duration": 0.0174,
     "end_time": "2023-12-14T21:59:35.331294",
     "exception": false,
     "start_time": "2023-12-14T21:59:35.313894",
     "status": "completed"
    },
    "tags": []
   },
   "outputs": [],
   "source": [
    "train_count = len(train_dataset) \n",
    "test_count = len(test_dataset)\n",
    "val_count = len(val_dataset)"
   ]
  },
  {
   "cell_type": "code",
   "execution_count": 12,
   "id": "642dc2f3",
   "metadata": {
    "execution": {
     "iopub.execute_input": "2023-12-14T21:59:35.353563Z",
     "iopub.status.busy": "2023-12-14T21:59:35.352878Z",
     "iopub.status.idle": "2023-12-14T21:59:35.357859Z",
     "shell.execute_reply": "2023-12-14T21:59:35.357014Z"
    },
    "papermill": {
     "duration": 0.017969,
     "end_time": "2023-12-14T21:59:35.359653",
     "exception": false,
     "start_time": "2023-12-14T21:59:35.341684",
     "status": "completed"
    },
    "tags": []
   },
   "outputs": [
    {
     "name": "stdout",
     "output_type": "stream",
     "text": [
      "53866\n",
      "4634\n",
      "10798\n"
     ]
    }
   ],
   "source": [
    "print(train_count)\n",
    "print(test_count)\n",
    "print(val_count)"
   ]
  },
  {
   "cell_type": "code",
   "execution_count": 13,
   "id": "9cd1b283",
   "metadata": {
    "execution": {
     "iopub.execute_input": "2023-12-14T21:59:35.382055Z",
     "iopub.status.busy": "2023-12-14T21:59:35.381205Z",
     "iopub.status.idle": "2023-12-14T21:59:35.389577Z",
     "shell.execute_reply": "2023-12-14T21:59:35.388724Z"
    },
    "papermill": {
     "duration": 0.02148,
     "end_time": "2023-12-14T21:59:35.391440",
     "exception": false,
     "start_time": "2023-12-14T21:59:35.369960",
     "status": "completed"
    },
    "tags": []
   },
   "outputs": [],
   "source": [
    "class LSTMClassifier(nn.Module):\n",
    "    def __init__(self, input_size, hidden_size, num_layers, num_classes):\n",
    "        super(LSTMClassifier, self).__init__()\n",
    "        self.hidden_size = hidden_size\n",
    "        self.num_layers = num_layers\n",
    "        self.lstm = nn.LSTM(input_size, hidden_size, num_layers, batch_first=True, bidirectional=False)\n",
    "        self.dropout = nn.Dropout(p=drop_amount)\n",
    "        self.fc = nn.Linear(hidden_size, num_classes)\n",
    "\n",
    "    def forward(self, x):\n",
    "        # Explicitly specify the data type for initial hidden state tensors\n",
    "        h0 = torch.zeros(self.num_layers, x.size(0), self.hidden_size, dtype=x.dtype).to(device=x.device)\n",
    "        c0 = torch.zeros(self.num_layers, x.size(0), self.hidden_size, dtype=x.dtype).to(device=x.device)\n",
    "        out, _ = self.lstm(x, (h0, c0))\n",
    "        out = self.dropout(out)\n",
    "        out = self.fc(out[:, -1, :])\n",
    "        return out"
   ]
  },
  {
   "cell_type": "code",
   "execution_count": 14,
   "id": "4075d7ce",
   "metadata": {
    "execution": {
     "iopub.execute_input": "2023-12-14T21:59:35.413885Z",
     "iopub.status.busy": "2023-12-14T21:59:35.413185Z",
     "iopub.status.idle": "2023-12-14T21:59:35.421441Z",
     "shell.execute_reply": "2023-12-14T21:59:35.420651Z"
    },
    "papermill": {
     "duration": 0.021494,
     "end_time": "2023-12-14T21:59:35.423409",
     "exception": false,
     "start_time": "2023-12-14T21:59:35.401915",
     "status": "completed"
    },
    "tags": []
   },
   "outputs": [],
   "source": [
    "drop_amount = 0.255\n",
    "\n",
    "class BiGRUAudioClassifier(nn.Module):\n",
    "    def __init__(self,input_size, num_classes, hidden_units, num_layers):\n",
    "        super(BiGRUAudioClassifier, self).__init__()\n",
    "        self.input_size = input_size \n",
    "        self.num_classes = num_classes\n",
    "        self.hidden_units = hidden_units\n",
    "        self.num_layers = num_layers\n",
    "\n",
    "        self.bigru = nn.GRU(input_size=input_size, hidden_size=hidden_units, num_layers=num_layers, batch_first=True, bidirectional=True)\n",
    "        self.dropout = nn.Dropout(p=drop_amount)\n",
    "        # self.fc = nn.Linear(hidden_units, num_classes)\n",
    "        self.fc = nn.Linear(hidden_units * 2, num_classes)\n",
    "\n",
    "    def forward(self, x):\n",
    "        # x: (batch_size, sequence_length, num_features)\n",
    "\n",
    "        # Pass the input through the bi-GRU layers\n",
    "        output, _ = self.bigru(x)\n",
    "        output = self.dropout(output)\n",
    "        # Extract the last hidden state (concatenate forward and backward hidden states)\n",
    "        last_hidden_state = torch.cat((output[:, -1, :self.hidden_units], output[:, 0, self.hidden_units:]), dim=1)\n",
    "        # Apply the fully connected layer for classification\n",
    "        output = self.fc(last_hidden_state)\n",
    "\n",
    "        return output"
   ]
  },
  {
   "cell_type": "code",
   "execution_count": 15,
   "id": "5fa05d26",
   "metadata": {
    "execution": {
     "iopub.execute_input": "2023-12-14T21:59:35.446052Z",
     "iopub.status.busy": "2023-12-14T21:59:35.445320Z",
     "iopub.status.idle": "2023-12-14T21:59:35.449788Z",
     "shell.execute_reply": "2023-12-14T21:59:35.448932Z"
    },
    "papermill": {
     "duration": 0.017885,
     "end_time": "2023-12-14T21:59:35.451697",
     "exception": false,
     "start_time": "2023-12-14T21:59:35.433812",
     "status": "completed"
    },
    "tags": []
   },
   "outputs": [],
   "source": [
    "import torch\n",
    "from torch import nn\n",
    "from torch.nn import Parameter\n",
    "import torch.nn.functional as F"
   ]
  },
  {
   "cell_type": "code",
   "execution_count": 16,
   "id": "f0d64e81",
   "metadata": {
    "execution": {
     "iopub.execute_input": "2023-12-14T21:59:35.473717Z",
     "iopub.status.busy": "2023-12-14T21:59:35.473369Z",
     "iopub.status.idle": "2023-12-14T21:59:40.383386Z",
     "shell.execute_reply": "2023-12-14T21:59:40.382462Z"
    },
    "papermill": {
     "duration": 4.923496,
     "end_time": "2023-12-14T21:59:40.385531",
     "exception": false,
     "start_time": "2023-12-14T21:59:35.462035",
     "status": "completed"
    },
    "tags": []
   },
   "outputs": [
    {
     "data": {
      "text/plain": [
       "LSTMClassifier(\n",
       "  (lstm): LSTM(20, 256, num_layers=2, batch_first=True)\n",
       "  (dropout): Dropout(p=0.255, inplace=False)\n",
       "  (fc): Linear(in_features=256, out_features=2, bias=True)\n",
       ")"
      ]
     },
     "execution_count": 16,
     "metadata": {},
     "output_type": "execute_result"
    }
   ],
   "source": [
    "# Define the parameters\n",
    "input_size = 20\n",
    "hidden_size = 256\n",
    "num_layers = 2\n",
    "num_classes = 2\n",
    "# drop_amount = 0.25  # You can choose an appropriate dropout rate\n",
    "\n",
    "model = LSTMClassifier(input_size, hidden_size, num_layers, num_classes)\n",
    "model.to(device, dtype=torch.double)\n"
   ]
  },
  {
   "cell_type": "code",
   "execution_count": 17,
   "id": "194e2b2a",
   "metadata": {
    "execution": {
     "iopub.execute_input": "2023-12-14T21:59:40.409357Z",
     "iopub.status.busy": "2023-12-14T21:59:40.408991Z",
     "iopub.status.idle": "2023-12-14T21:59:40.413555Z",
     "shell.execute_reply": "2023-12-14T21:59:40.412626Z"
    },
    "papermill": {
     "duration": 0.0186,
     "end_time": "2023-12-14T21:59:40.415434",
     "exception": false,
     "start_time": "2023-12-14T21:59:40.396834",
     "status": "completed"
    },
    "tags": []
   },
   "outputs": [],
   "source": [
    "import torch\n",
    "import torch.nn as nn\n",
    "import torch.optim as optim"
   ]
  },
  {
   "cell_type": "code",
   "execution_count": 18,
   "id": "c956e35b",
   "metadata": {
    "execution": {
     "iopub.execute_input": "2023-12-14T21:59:40.439066Z",
     "iopub.status.busy": "2023-12-14T21:59:40.438695Z",
     "iopub.status.idle": "2023-12-14T21:59:40.443722Z",
     "shell.execute_reply": "2023-12-14T21:59:40.442774Z"
    },
    "papermill": {
     "duration": 0.019161,
     "end_time": "2023-12-14T21:59:40.445656",
     "exception": false,
     "start_time": "2023-12-14T21:59:40.426495",
     "status": "completed"
    },
    "tags": []
   },
   "outputs": [],
   "source": [
    "loss_function = nn.CrossEntropyLoss()\n",
    "optimizer = optim.Adam(model.parameters(), lr=learning_rate)"
   ]
  },
  {
   "cell_type": "code",
   "execution_count": 19,
   "id": "4865fd3e",
   "metadata": {
    "execution": {
     "iopub.execute_input": "2023-12-14T21:59:40.470550Z",
     "iopub.status.busy": "2023-12-14T21:59:40.470183Z",
     "iopub.status.idle": "2023-12-14T21:59:40.475296Z",
     "shell.execute_reply": "2023-12-14T21:59:40.474345Z"
    },
    "papermill": {
     "duration": 0.020552,
     "end_time": "2023-12-14T21:59:40.477316",
     "exception": false,
     "start_time": "2023-12-14T21:59:40.456764",
     "status": "completed"
    },
    "tags": []
   },
   "outputs": [
    {
     "name": "stdout",
     "output_type": "stream",
     "text": [
      "LSTMClassifier(\n",
      "  (lstm): LSTM(20, 256, num_layers=2, batch_first=True)\n",
      "  (dropout): Dropout(p=0.255, inplace=False)\n",
      "  (fc): Linear(in_features=256, out_features=2, bias=True)\n",
      ")\n"
     ]
    }
   ],
   "source": [
    "print(model)"
   ]
  },
  {
   "cell_type": "code",
   "execution_count": 20,
   "id": "145d5aab",
   "metadata": {
    "execution": {
     "iopub.execute_input": "2023-12-14T21:59:40.500657Z",
     "iopub.status.busy": "2023-12-14T21:59:40.500251Z",
     "iopub.status.idle": "2023-12-14T21:59:44.058367Z",
     "shell.execute_reply": "2023-12-14T21:59:44.057382Z"
    },
    "papermill": {
     "duration": 3.572589,
     "end_time": "2023-12-14T21:59:44.060747",
     "exception": false,
     "start_time": "2023-12-14T21:59:40.488158",
     "status": "completed"
    },
    "tags": []
   },
   "outputs": [],
   "source": [
    "import torch \n",
    "import torch.nn as nn\n",
    "import torch.nn.functional as F\n",
    "from torch.autograd import Variable\n",
    "from torch.utils.data import Dataset, DataLoader\n",
    "import os, pathlib, glob, random\n",
    "import numpy as np\n",
    "import matplotlib.pyplot as plt \n",
    "import seaborn as sns\n",
    "from sklearn.metrics import confusion_matrix\n",
    "from transformers import WhisperProcessor, WhisperForConditionalGeneration\n",
    "from datasets import load_dataset\n",
    "from transformers.models.whisper.modeling_whisper import WhisperModel, WhisperEncoder\n",
    "from transformers.models.whisper.configuration_whisper import WhisperConfig\n",
    "from typing import Optional, Tuple, Union\n",
    "import torch\n",
    "import librosa \n",
    "import matplotlib.pyplot as plt\n",
    "import numpy as np\n",
    "import os, glob, pickle\n",
    "import scipy.io as sio\n",
    "from tqdm import tqdm\n",
    "import multiprocessing as mp \n",
    "import torch.optim as optim"
   ]
  },
  {
   "cell_type": "code",
   "execution_count": 21,
   "id": "13d6c37f",
   "metadata": {
    "execution": {
     "iopub.execute_input": "2023-12-14T21:59:44.086180Z",
     "iopub.status.busy": "2023-12-14T21:59:44.085485Z",
     "iopub.status.idle": "2023-12-14T22:59:22.805361Z",
     "shell.execute_reply": "2023-12-14T22:59:22.804356Z"
    },
    "papermill": {
     "duration": 3578.746925,
     "end_time": "2023-12-14T22:59:22.819558",
     "exception": false,
     "start_time": "2023-12-14T21:59:44.072633",
     "status": "completed"
    },
    "tags": []
   },
   "outputs": [
    {
     "name": "stdout",
     "output_type": "stream",
     "text": [
      "Epoch : 1/15   Train Loss : tensor(0.6618, dtype=torch.float64)   Train Accuracy : 0.5643448557531653   Test Accuracy : 0.6218744211891091\n",
      "Epoch : 2/15   Train Loss : tensor(0.4083, dtype=torch.float64)   Train Accuracy : 0.8191623658708648   Test Accuracy : 0.9178551583626597\n",
      "Epoch : 3/15   Train Loss : tensor(0.2068, dtype=torch.float64)   Train Accuracy : 0.9194482604982734   Test Accuracy : 0.9370253750694573\n",
      "Epoch : 4/15   Train Loss : tensor(0.1568, dtype=torch.float64)   Train Accuracy : 0.9398321761407938   Test Accuracy : 0.9349879607334691\n",
      "Epoch : 5/15   Train Loss : tensor(0.1398, dtype=torch.float64)   Train Accuracy : 0.9480005940667583   Test Accuracy : 0.9518429338766439\n",
      "Epoch : 6/15   Train Loss : tensor(0.1183, dtype=torch.float64)   Train Accuracy : 0.9565959974752163   Test Accuracy : 0.9584182255973328\n",
      "Epoch : 7/15   Train Loss : tensor(0.1058, dtype=torch.float64)   Train Accuracy : 0.9614413544722088   Test Accuracy : 0.9597147619929617\n",
      "Epoch : 8/15   Train Loss : tensor(0.0948, dtype=torch.float64)   Train Accuracy : 0.9661196301934429   Test Accuracy : 0.9662900537136506\n",
      "Epoch : 9/15   Train Loss : tensor(0.0820, dtype=torch.float64)   Train Accuracy : 0.9707050829837003   Test Accuracy : 0.9666604926838304\n",
      "Epoch : 10/15   Train Loss : tensor(0.0717, dtype=torch.float64)   Train Accuracy : 0.9749006794638547   Test Accuracy : 0.9664752731987405\n",
      "Epoch : 11/15   Train Loss : tensor(0.0654, dtype=torch.float64)   Train Accuracy : 0.9767385734971967   Test Accuracy : 0.9725875162067049\n",
      "Epoch : 12/15   Train Loss : tensor(0.0577, dtype=torch.float64)   Train Accuracy : 0.9790777113578139   Test Accuracy : 0.9774032228190406\n",
      "Epoch : 13/15   Train Loss : tensor(0.0504, dtype=torch.float64)   Train Accuracy : 0.9823450785281996   Test Accuracy : 0.9564734210038897\n",
      "Epoch : 14/15   Train Loss : tensor(0.0500, dtype=torch.float64)   Train Accuracy : 0.9826978056659117   Test Accuracy : 0.9773106130764957\n",
      "Epoch : 15/15   Train Loss : tensor(0.0422, dtype=torch.float64)   Train Accuracy : 0.9843686184234953   Test Accuracy : 0.9810150027782922\n",
      "0.9810150027782922\n",
      "Finished Training and Testing\n"
     ]
    }
   ],
   "source": [
    "#Model training and testing \n",
    "n_total_steps = len(train_dataloader) # n_total_steps * batch size will give total number of training files (consider that last batch may not be fully filled)\n",
    "train_accuracy_list = []\n",
    "train_loss_list = []\n",
    "val_accuracy_list = []\n",
    "max_acc=0\n",
    "num_epochs = 15\n",
    "pred_labels =[]\n",
    "act_labels = []\n",
    "\n",
    "for epoch in range(num_epochs):\n",
    "    \n",
    "    #Evaluation and training on training dataset\n",
    "    model.train()\n",
    "    train_accuracy=0.0\n",
    "    train_loss=0.0\n",
    "    \n",
    "    for batch_idx, (images,labels) in enumerate(train_dataloader):\n",
    "        if torch.cuda.is_available():\n",
    "            images=Variable(images.cuda())\n",
    "            labels=Variable(labels.cuda())\n",
    "        ##images = images.unsqueeze(1)\n",
    "        optimizer.zero_grad()\n",
    "        outputs=model(images)\n",
    "        loss=loss_function(outputs,labels)\n",
    "        loss.backward()\n",
    "        optimizer.step()\n",
    "        \n",
    "        \n",
    "        train_loss+= loss.cpu().data*images.size(0)\n",
    "        _,prediction=torch.max(outputs.data,1)\n",
    "        \n",
    "        train_accuracy+=int(torch.sum(prediction==labels.data))\n",
    "        \n",
    "    train_accuracy=train_accuracy/train_count\n",
    "    train_loss=train_loss/train_count\n",
    "    \n",
    "    train_accuracy_list.append(train_accuracy)\n",
    "    train_loss_list.append(train_loss)\n",
    "\n",
    "    \n",
    "    # Validation on Validation dataset\n",
    "    model.eval()\n",
    "    val_accuracy=0.0\n",
    "    pred = []\n",
    "    lab = []\n",
    "    \n",
    "    for i, (images,labels) in enumerate(val_dataloader):\n",
    "        if torch.cuda.is_available():\n",
    "            images=Variable(images.cuda())\n",
    "            labels=Variable(labels.cuda())\n",
    "        ##images = images.unsqueeze(1) \n",
    "#         print(i,images.shape)\n",
    "        outputs=model(images)\n",
    "        _,prediction=torch.max(outputs.data,1)\n",
    "        val_accuracy+=int(torch.sum(prediction==labels.data))\n",
    "        \n",
    "        pred.extend(prediction.tolist())\n",
    "        lab.extend(labels.tolist())\n",
    "    \n",
    "    val_accuracy=val_accuracy/val_count\n",
    "    val_accuracy_list.append(val_accuracy)\n",
    "    if max_acc < val_accuracy:\n",
    "        max_acc = val_accuracy\n",
    "        pred_labels = pred\n",
    "        actual_labels = lab\n",
    "        max_acc = val_accuracy\n",
    "        torch.save(model,\"best_accuracy_model_LSTM.pth\")\n",
    "    print('Epoch : '+str(epoch+1)+'/'+str(num_epochs)+'   Train Loss : '+str(train_loss)+'   Train Accuracy : '+str(train_accuracy)+'   Test Accuracy : '+str(val_accuracy))\n",
    "print(max_acc)   \n",
    "print('Finished Training and Testing')"
   ]
  },
  {
   "cell_type": "code",
   "execution_count": 22,
   "id": "e5c4a498",
   "metadata": {
    "execution": {
     "iopub.execute_input": "2023-12-14T22:59:22.846381Z",
     "iopub.status.busy": "2023-12-14T22:59:22.845735Z",
     "iopub.status.idle": "2023-12-14T22:59:53.937551Z",
     "shell.execute_reply": "2023-12-14T22:59:53.936488Z"
    },
    "papermill": {
     "duration": 31.121304,
     "end_time": "2023-12-14T22:59:53.953030",
     "exception": false,
     "start_time": "2023-12-14T22:59:22.831726",
     "status": "completed"
    },
    "tags": []
   },
   "outputs": [
    {
     "name": "stdout",
     "output_type": "stream",
     "text": [
      "testing Accuracy: 0.7820457488131204\n"
     ]
    }
   ],
   "source": [
    "# Load the best model\n",
    "best_model = torch.load(\"best_accuracy_model_LSTM.pth\")\n",
    "\n",
    "# Put the best_model in evaluation mode\n",
    "best_model.eval()\n",
    "\n",
    "# Initialize variables to store results\n",
    "testing_accuracy = 0.0\n",
    "pred_labels = []\n",
    "act_labels = []\n",
    "\n",
    "# Pass validation data through the best model\n",
    "for i, (images, labels) in enumerate(test_dataloader):\n",
    "    if torch.cuda.is_available():\n",
    "        images = Variable(images.cuda())\n",
    "        labels = Variable(labels.cuda())\n",
    "    \n",
    "    outputs = best_model(images)\n",
    "    _, prediction = torch.max(outputs.data, 1)\n",
    "    \n",
    "    testing_accuracy += int(torch.sum(prediction == labels.data))\n",
    "    \n",
    "    pred_labels.extend(prediction.tolist())\n",
    "    act_labels.extend(labels.tolist())\n",
    "\n",
    "# Calculate validation accuracy\n",
    "testing_accuracy = testing_accuracy / len(test_dataloader.dataset)\n",
    "\n",
    "# Print the validation accuracy\n",
    "print(\"testing Accuracy:\", testing_accuracy)\n",
    "# train Accuracy: 0.9726729291204099\n",
    "# Validation Accuracy: 0.9680496388220041\n",
    "# test Accuracy: 0.9512300388433319"
   ]
  },
  {
   "cell_type": "code",
   "execution_count": 23,
   "id": "ae619b50",
   "metadata": {
    "execution": {
     "iopub.execute_input": "2023-12-14T22:59:53.983427Z",
     "iopub.status.busy": "2023-12-14T22:59:53.982477Z",
     "iopub.status.idle": "2023-12-14T22:59:53.988440Z",
     "shell.execute_reply": "2023-12-14T22:59:53.987420Z"
    },
    "papermill": {
     "duration": 0.023719,
     "end_time": "2023-12-14T22:59:53.990839",
     "exception": false,
     "start_time": "2023-12-14T22:59:53.967120",
     "status": "completed"
    },
    "tags": []
   },
   "outputs": [
    {
     "name": "stdout",
     "output_type": "stream",
     "text": [
      "LSTMClassifier(\n",
      "  (lstm): LSTM(20, 256, num_layers=2, batch_first=True)\n",
      "  (dropout): Dropout(p=0.255, inplace=False)\n",
      "  (fc): Linear(in_features=256, out_features=2, bias=True)\n",
      ")\n"
     ]
    }
   ],
   "source": [
    "print(model)"
   ]
  },
  {
   "cell_type": "code",
   "execution_count": 24,
   "id": "b74e7373",
   "metadata": {
    "execution": {
     "iopub.execute_input": "2023-12-14T22:59:54.020763Z",
     "iopub.status.busy": "2023-12-14T22:59:54.020374Z",
     "iopub.status.idle": "2023-12-14T22:59:54.472173Z",
     "shell.execute_reply": "2023-12-14T22:59:54.471141Z"
    },
    "papermill": {
     "duration": 0.469392,
     "end_time": "2023-12-14T22:59:54.474473",
     "exception": false,
     "start_time": "2023-12-14T22:59:54.005081",
     "status": "completed"
    },
    "tags": []
   },
   "outputs": [
    {
     "data": {
      "image/png": "[encoded data removed]",
      "text/plain": [
       "<Figure size 640x480 with 2 Axes>"
      ]
     },
     "metadata": {},
     "output_type": "display_data"
    },
    {
     "name": "stdout",
     "output_type": "stream",
     "text": [
      "F1 Score :  0.7819442045073146\n"
     ]
    }
   ],
   "source": [
    "# Calculate the confusion matrix\n",
    "import seaborn as sns\n",
    "conf_mat = confusion_matrix(act_labels, pred_labels)\n",
    "# Plot confusion matrix heat map\n",
    "sns.heatmap(conf_mat, cmap=\"flare\",annot=True, fmt = \"g\", \n",
    "            cbar_kws={\"label\":\"color bar\"},\n",
    "            xticklabels=train_dataset.classes,\n",
    "            yticklabels=train_dataset.classes)\n",
    "plt.xlabel(\"Predicted\")\n",
    "plt.ylabel(\"Actual\")\n",
    "plt.title(\"Confusion Matrix\")\n",
    "plt.savefig(\"ConfusionMatrix_LSTM.png\")\n",
    "plt.show()\n",
    "from sklearn.metrics import f1_score\n",
    "f1_score = f1_score(pred_labels, act_labels, average='macro')\n",
    "print('F1 Score : ', f1_score)\n"
   ]
  },
  {
   "cell_type": "code",
   "execution_count": 25,
   "id": "c4e17b43",
   "metadata": {
    "execution": {
     "iopub.execute_input": "2023-12-14T22:59:54.503488Z",
     "iopub.status.busy": "2023-12-14T22:59:54.502763Z",
     "iopub.status.idle": "2023-12-14T22:59:54.507068Z",
     "shell.execute_reply": "2023-12-14T22:59:54.506101Z"
    },
    "papermill": {
     "duration": 0.020639,
     "end_time": "2023-12-14T22:59:54.509293",
     "exception": false,
     "start_time": "2023-12-14T22:59:54.488654",
     "status": "completed"
    },
    "tags": []
   },
   "outputs": [],
   "source": [
    "# torch.save(model,'MGDCC_LSTMClassifier_01_01.pth')"
   ]
  },
  {
   "cell_type": "code",
   "execution_count": 26,
   "id": "abf06212",
   "metadata": {
    "execution": {
     "iopub.execute_input": "2023-12-14T22:59:54.536458Z",
     "iopub.status.busy": "2023-12-14T22:59:54.536095Z",
     "iopub.status.idle": "2023-12-14T22:59:54.540504Z",
     "shell.execute_reply": "2023-12-14T22:59:54.539504Z"
    },
    "papermill": {
     "duration": 0.020193,
     "end_time": "2023-12-14T22:59:54.542406",
     "exception": false,
     "start_time": "2023-12-14T22:59:54.522213",
     "status": "completed"
    },
    "tags": []
   },
   "outputs": [],
   "source": [
    "# BiLSTM"
   ]
  },
  {
   "cell_type": "code",
   "execution_count": 27,
   "id": "f7c8b050",
   "metadata": {
    "execution": {
     "iopub.execute_input": "2023-12-14T22:59:54.568887Z",
     "iopub.status.busy": "2023-12-14T22:59:54.568555Z",
     "iopub.status.idle": "2023-12-14T22:59:54.577284Z",
     "shell.execute_reply": "2023-12-14T22:59:54.576404Z"
    },
    "papermill": {
     "duration": 0.024071,
     "end_time": "2023-12-14T22:59:54.579308",
     "exception": false,
     "start_time": "2023-12-14T22:59:54.555237",
     "status": "completed"
    },
    "tags": []
   },
   "outputs": [],
   "source": [
    "drop_amount = 0.255\n",
    "\n",
    "class BiLSTMClassifier(nn.Module):\n",
    "    def __init__(self, input_size, hidden_size, num_layers, num_classes):\n",
    "        super(BiLSTMClassifier, self).__init__()\n",
    "        self.hidden_size = hidden_size\n",
    "        self.num_layers = num_layers\n",
    "        self.lstm = nn.LSTM(input_size, hidden_size, num_layers, batch_first=True, bidirectional=True)\n",
    "        self.dropout = nn.Dropout(p=drop_amount)\n",
    "        self.fc = nn.Linear(hidden_size*2, num_classes)\n",
    "\n",
    "    def forward(self, x):\n",
    "        h0 = torch.zeros(self.num_layers*2, x.size(0), self.hidden_size).to(device=x.device, dtype=torch.double)\n",
    "        c0 = torch.zeros(self.num_layers*2, x.size(0), self.hidden_size).to(device=x.device, dtype=torch.double)\n",
    "        out, _ = self.lstm(x, (h0, c0))\n",
    "        out = self.dropout(out)\n",
    "        # Extract the output of the last time step from both directions\n",
    "        last_hidden_state = torch.cat((out[:, -1, :self.hidden_size], out[:, 0, self.hidden_size:]), dim=1)\n",
    "        output = self.fc(last_hidden_state)\n",
    "        return output"
   ]
  },
  {
   "cell_type": "code",
   "execution_count": 28,
   "id": "0822a79f",
   "metadata": {
    "execution": {
     "iopub.execute_input": "2023-12-14T22:59:54.605918Z",
     "iopub.status.busy": "2023-12-14T22:59:54.605575Z",
     "iopub.status.idle": "2023-12-14T22:59:54.609850Z",
     "shell.execute_reply": "2023-12-14T22:59:54.608971Z"
    },
    "papermill": {
     "duration": 0.020184,
     "end_time": "2023-12-14T22:59:54.611947",
     "exception": false,
     "start_time": "2023-12-14T22:59:54.591763",
     "status": "completed"
    },
    "tags": []
   },
   "outputs": [],
   "source": [
    "batch_size = 64\n",
    "output_nodes = 2\n",
    "learning_rate = 0.0001"
   ]
  },
  {
   "cell_type": "code",
   "execution_count": 29,
   "id": "75b5bc71",
   "metadata": {
    "execution": {
     "iopub.execute_input": "2023-12-14T22:59:54.639173Z",
     "iopub.status.busy": "2023-12-14T22:59:54.638825Z",
     "iopub.status.idle": "2023-12-14T22:59:54.671926Z",
     "shell.execute_reply": "2023-12-14T22:59:54.670748Z"
    },
    "papermill": {
     "duration": 0.049811,
     "end_time": "2023-12-14T22:59:54.674125",
     "exception": false,
     "start_time": "2023-12-14T22:59:54.624314",
     "status": "completed"
    },
    "tags": []
   },
   "outputs": [
    {
     "name": "stdout",
     "output_type": "stream",
     "text": [
      "BiLSTMClassifier(\n",
      "  (lstm): LSTM(20, 256, num_layers=2, batch_first=True, bidirectional=True)\n",
      "  (dropout): Dropout(p=0.255, inplace=False)\n",
      "  (fc): Linear(in_features=512, out_features=2, bias=True)\n",
      ")\n"
     ]
    }
   ],
   "source": [
    "model = BiLSTMClassifier(input_size, hidden_size, num_layers, num_classes)\n",
    "model.to(device, dtype=torch.double)\n",
    "loss_function = nn.CrossEntropyLoss()\n",
    "optimizer = optim.Adam(model.parameters(), lr=learning_rate)\n",
    "print(model)"
   ]
  },
  {
   "cell_type": "code",
   "execution_count": 30,
   "id": "e0eb8ce4",
   "metadata": {
    "execution": {
     "iopub.execute_input": "2023-12-14T22:59:54.701631Z",
     "iopub.status.busy": "2023-12-14T22:59:54.700952Z",
     "iopub.status.idle": "2023-12-14T22:59:54.705786Z",
     "shell.execute_reply": "2023-12-14T22:59:54.704977Z"
    },
    "papermill": {
     "duration": 0.020847,
     "end_time": "2023-12-14T22:59:54.707919",
     "exception": false,
     "start_time": "2023-12-14T22:59:54.687072",
     "status": "completed"
    },
    "tags": []
   },
   "outputs": [
    {
     "name": "stdout",
     "output_type": "stream",
     "text": [
      "BiLSTMClassifier(\n",
      "  (lstm): LSTM(20, 256, num_layers=2, batch_first=True, bidirectional=True)\n",
      "  (dropout): Dropout(p=0.255, inplace=False)\n",
      "  (fc): Linear(in_features=512, out_features=2, bias=True)\n",
      ")\n"
     ]
    }
   ],
   "source": [
    "print(model)"
   ]
  },
  {
   "cell_type": "code",
   "execution_count": 31,
   "id": "5a628e46",
   "metadata": {
    "execution": {
     "iopub.execute_input": "2023-12-14T22:59:54.734114Z",
     "iopub.status.busy": "2023-12-14T22:59:54.733808Z",
     "iopub.status.idle": "2023-12-15T00:37:59.375901Z",
     "shell.execute_reply": "2023-12-15T00:37:59.374842Z"
    },
    "papermill": {
     "duration": 5884.671281,
     "end_time": "2023-12-15T00:37:59.391724",
     "exception": false,
     "start_time": "2023-12-14T22:59:54.720443",
     "status": "completed"
    },
    "tags": []
   },
   "outputs": [
    {
     "name": "stdout",
     "output_type": "stream",
     "text": [
      "Epoch : 1/15   Train Loss : tensor(0.5424, dtype=torch.float64)   Train Accuracy : 0.7191920692087773   Test Accuracy : 0.8195036117799592\n",
      "Epoch : 2/15   Train Loss : tensor(0.4948, dtype=torch.float64)   Train Accuracy : 0.7362714885085212   Test Accuracy : 0.5000926097425449\n",
      "Epoch : 3/15   Train Loss : tensor(0.5607, dtype=torch.float64)   Train Accuracy : 0.702483941632941   Test Accuracy : 0.5908501574365623\n",
      "Epoch : 4/15   Train Loss : tensor(0.3433, dtype=torch.float64)   Train Accuracy : 0.8483830245423829   Test Accuracy : 0.8189479533246897\n",
      "Epoch : 5/15   Train Loss : tensor(0.2253, dtype=torch.float64)   Train Accuracy : 0.9100174507110237   Test Accuracy : 0.917577329135025\n",
      "Epoch : 6/15   Train Loss : tensor(0.2117, dtype=torch.float64)   Train Accuracy : 0.9161437641554969   Test Accuracy : 0.9392480088905353\n",
      "Epoch : 7/15   Train Loss : tensor(0.2188, dtype=torch.float64)   Train Accuracy : 0.9153083577767052   Test Accuracy : 0.9413780329690683\n",
      "Epoch : 8/15   Train Loss : tensor(0.1718, dtype=torch.float64)   Train Accuracy : 0.9347826086956522   Test Accuracy : 0.9446193739581404\n",
      "Epoch : 9/15   Train Loss : tensor(0.1295, dtype=torch.float64)   Train Accuracy : 0.9501540860654216   Test Accuracy : 0.9543433969253565\n",
      "Epoch : 10/15   Train Loss : tensor(0.1192, dtype=torch.float64)   Train Accuracy : 0.9553336056139309   Test Accuracy : 0.948416373402482\n",
      "Epoch : 11/15   Train Loss : tensor(0.1085, dtype=torch.float64)   Train Accuracy : 0.9595663312664761   Test Accuracy : 0.9618447860714947\n",
      "Epoch : 12/15   Train Loss : tensor(0.1233, dtype=torch.float64)   Train Accuracy : 0.9532172427876583   Test Accuracy : 0.962678273754399\n",
      "Epoch : 13/15   Train Loss : tensor(0.1046, dtype=torch.float64)   Train Accuracy : 0.9619611628856792   Test Accuracy : 0.9655491757732914\n",
      "Epoch : 14/15   Train Loss : tensor(0.0913, dtype=torch.float64)   Train Accuracy : 0.9657297738833401   Test Accuracy : 0.9686979070198185\n",
      "Epoch : 15/15   Train Loss : tensor(0.0808, dtype=torch.float64)   Train Accuracy : 0.9700367578806668   Test Accuracy : 0.9533246897573625\n",
      "0.9686979070198185\n",
      "Finished Training and Testing\n"
     ]
    }
   ],
   "source": [
    "#Model training and testing \n",
    "n_total_steps = len(train_dataloader) # n_total_steps * batch size will give total number of training files (consider that last batch may not be fully filled)\n",
    "train_accuracy_list = []\n",
    "train_loss_list = []\n",
    "val_accuracy_list = []\n",
    "max_acc=0\n",
    "num_epochs = 15\n",
    "pred_labels =[]\n",
    "act_labels = []\n",
    "\n",
    "for epoch in range(num_epochs):\n",
    "    \n",
    "    #Evaluation and training on training dataset\n",
    "    model.train()\n",
    "    train_accuracy=0.0\n",
    "    train_loss=0.0\n",
    "    \n",
    "    for batch_idx, (images,labels) in enumerate(train_dataloader):\n",
    "        if torch.cuda.is_available():\n",
    "            images=Variable(images.cuda())\n",
    "            labels=Variable(labels.cuda())\n",
    "        ##images = images.unsqueeze(1)\n",
    "        optimizer.zero_grad()\n",
    "        outputs=model(images)\n",
    "        loss=loss_function(outputs,labels)\n",
    "        loss.backward()\n",
    "        optimizer.step()\n",
    "        \n",
    "        \n",
    "        train_loss+= loss.cpu().data*images.size(0)\n",
    "        _,prediction=torch.max(outputs.data,1)\n",
    "        \n",
    "        train_accuracy+=int(torch.sum(prediction==labels.data))\n",
    "        \n",
    "    train_accuracy=train_accuracy/train_count\n",
    "    train_loss=train_loss/train_count\n",
    "    \n",
    "    train_accuracy_list.append(train_accuracy)\n",
    "    train_loss_list.append(train_loss)\n",
    "\n",
    "    \n",
    "    # Validation on Validation dataset\n",
    "    model.eval()\n",
    "    val_accuracy=0.0\n",
    "    pred = []\n",
    "    lab = []\n",
    "    \n",
    "    for i, (images,labels) in enumerate(val_dataloader):\n",
    "        if torch.cuda.is_available():\n",
    "            images=Variable(images.cuda())\n",
    "            labels=Variable(labels.cuda())\n",
    "        ##images = images.unsqueeze(1) \n",
    "#         print(i,images.shape)\n",
    "        outputs=model(images)\n",
    "        _,prediction=torch.max(outputs.data,1)\n",
    "        val_accuracy+=int(torch.sum(prediction==labels.data))\n",
    "        \n",
    "        pred.extend(prediction.tolist())\n",
    "        lab.extend(labels.tolist())\n",
    "    \n",
    "    val_accuracy=val_accuracy/val_count\n",
    "    val_accuracy_list.append(val_accuracy)\n",
    "    if max_acc < val_accuracy:\n",
    "        max_acc = val_accuracy\n",
    "        pred_labels = pred\n",
    "        actual_labels = lab\n",
    "        max_acc = val_accuracy\n",
    "        torch.save(model,\"best_accuracy_model_BiLSTM.pth\")\n",
    "    print('Epoch : '+str(epoch+1)+'/'+str(num_epochs)+'   Train Loss : '+str(train_loss)+'   Train Accuracy : '+str(train_accuracy)+'   Test Accuracy : '+str(val_accuracy))\n",
    "print(max_acc)   \n",
    "print('Finished Training and Testing')"
   ]
  },
  {
   "cell_type": "code",
   "execution_count": 32,
   "id": "10e1b410",
   "metadata": {
    "execution": {
     "iopub.execute_input": "2023-12-15T00:37:59.421277Z",
     "iopub.status.busy": "2023-12-15T00:37:59.420897Z",
     "iopub.status.idle": "2023-12-15T00:38:19.656395Z",
     "shell.execute_reply": "2023-12-15T00:38:19.655421Z"
    },
    "papermill": {
     "duration": 20.252983,
     "end_time": "2023-12-15T00:38:19.658676",
     "exception": false,
     "start_time": "2023-12-15T00:37:59.405693",
     "status": "completed"
    },
    "tags": []
   },
   "outputs": [
    {
     "name": "stdout",
     "output_type": "stream",
     "text": [
      "testing Accuracy: 0.7203280103582218\n"
     ]
    }
   ],
   "source": [
    "# Load the best model\n",
    "best_model = torch.load(\"best_accuracy_model_BiLSTM.pth\")\n",
    "\n",
    "# Put the best_model in evaluation mode\n",
    "best_model.eval()\n",
    "\n",
    "# Initialize variables to store results\n",
    "testing_accuracy = 0.0\n",
    "pred_labels = []\n",
    "act_labels = []\n",
    "\n",
    "# Pass validation data through the best model\n",
    "for i, (images, labels) in enumerate(test_dataloader):\n",
    "    if torch.cuda.is_available():\n",
    "        images = Variable(images.cuda())\n",
    "        labels = Variable(labels.cuda())\n",
    "    \n",
    "    outputs = best_model(images)\n",
    "    _, prediction = torch.max(outputs.data, 1)\n",
    "    \n",
    "    testing_accuracy += int(torch.sum(prediction == labels.data))\n",
    "    \n",
    "    pred_labels.extend(prediction.tolist())\n",
    "    act_labels.extend(labels.tolist())\n",
    "\n",
    "# Calculate validation accuracy\n",
    "testing_accuracy = testing_accuracy / len(test_dataloader.dataset)\n",
    "\n",
    "# Print the validation accuracy\n",
    "print(\"testing Accuracy:\", testing_accuracy)"
   ]
  },
  {
   "cell_type": "code",
   "execution_count": 33,
   "id": "cd7f3bd4",
   "metadata": {
    "execution": {
     "iopub.execute_input": "2023-12-15T00:38:19.689000Z",
     "iopub.status.busy": "2023-12-15T00:38:19.688396Z",
     "iopub.status.idle": "2023-12-15T00:38:20.078028Z",
     "shell.execute_reply": "2023-12-15T00:38:20.077085Z"
    },
    "papermill": {
     "duration": 0.407019,
     "end_time": "2023-12-15T00:38:20.080061",
     "exception": false,
     "start_time": "2023-12-15T00:38:19.673042",
     "status": "completed"
    },
    "tags": []
   },
   "outputs": [
    {
     "data": {
      "image/png": "[encoded data removed]",
      "text/plain": [
       "<Figure size 640x480 with 2 Axes>"
      ]
     },
     "metadata": {},
     "output_type": "display_data"
    },
    {
     "name": "stdout",
     "output_type": "stream",
     "text": [
      "F1 Score :  0.7087482262521472\n"
     ]
    }
   ],
   "source": [
    "# Calculate the confusion matrix\n",
    "import seaborn as sns\n",
    "conf_mat = confusion_matrix(act_labels, pred_labels)\n",
    "# Plot confusion matrix heat map\n",
    "sns.heatmap(conf_mat, cmap=\"flare\",annot=True, fmt = \"g\", \n",
    "            cbar_kws={\"label\":\"color bar\"},\n",
    "            xticklabels=train_dataset.classes,\n",
    "            yticklabels=train_dataset.classes)\n",
    "plt.xlabel(\"Predicted\")\n",
    "plt.ylabel(\"Actual\")\n",
    "plt.title(\"Confusion Matrix\")\n",
    "plt.savefig(\"ConfusionMatrix_BiLSTM.png\")\n",
    "plt.show()\n",
    "from sklearn.metrics import f1_score\n",
    "f1_score = f1_score(pred_labels, act_labels, average='macro')\n",
    "print('F1 Score : ', f1_score)\n"
   ]
  },
  {
   "cell_type": "code",
   "execution_count": 34,
   "id": "7fc6d356",
   "metadata": {
    "execution": {
     "iopub.execute_input": "2023-12-15T00:38:20.110701Z",
     "iopub.status.busy": "2023-12-15T00:38:20.110016Z",
     "iopub.status.idle": "2023-12-15T00:38:20.113990Z",
     "shell.execute_reply": "2023-12-15T00:38:20.113111Z"
    },
    "papermill": {
     "duration": 0.02152,
     "end_time": "2023-12-15T00:38:20.115949",
     "exception": false,
     "start_time": "2023-12-15T00:38:20.094429",
     "status": "completed"
    },
    "tags": []
   },
   "outputs": [],
   "source": [
    "# torch.save(model,'MGDCC_BiLSTMClassifier_01_01.pth')"
   ]
  },
  {
   "cell_type": "code",
   "execution_count": 35,
   "id": "d3f2303a",
   "metadata": {
    "execution": {
     "iopub.execute_input": "2023-12-15T00:38:20.145840Z",
     "iopub.status.busy": "2023-12-15T00:38:20.145495Z",
     "iopub.status.idle": "2023-12-15T00:38:20.152909Z",
     "shell.execute_reply": "2023-12-15T00:38:20.152039Z"
    },
    "papermill": {
     "duration": 0.02439,
     "end_time": "2023-12-15T00:38:20.154804",
     "exception": false,
     "start_time": "2023-12-15T00:38:20.130414",
     "status": "completed"
    },
    "tags": []
   },
   "outputs": [],
   "source": [
    "# ResNet50\n",
    "# import torch\n",
    "# import torch.nn as nn\n",
    "\n",
    "\n",
    "# def conv3x3(in_channels, out_channels, stride=1):\n",
    "#     \"\"\"3x3 convolution with padding\"\"\"\n",
    "#     return nn.Conv2d(in_channels, out_channels, kernel_size=3, stride=stride, padding=1, bias=False)\n",
    "\n",
    "\n",
    "# class Bottleneck(nn.Module):\n",
    "#     expansion = 4\n",
    "\n",
    "#     def __init__(self, in_channels, out_channels, stride=1, downsample=None):\n",
    "#         super(Bottleneck, self).__init__()\n",
    "\n",
    "#         self.conv1 = nn.Conv2d(in_channels, out_channels, kernel_size=1, bias=False)\n",
    "#         self.bn1 = nn.BatchNorm2d(out_channels)\n",
    "#         self.conv2 = nn.Conv2d(out_channels, out_channels, kernel_size=3, stride=stride, padding=1, bias=False)\n",
    "#         self.bn2 = nn.BatchNorm2d(out_channels)\n",
    "#         self.conv3 = nn.Conv2d(out_channels, out_channels * self.expansion, kernel_size=1, bias=False)\n",
    "#         self.bn3 = nn.BatchNorm2d(out_channels * self.expansion)\n",
    "#         self.relu = nn.ReLU(inplace=True)\n",
    "#         self.downsample = downsample\n",
    "#         self.stride = stride\n",
    "\n",
    "#     def forward(self, x):\n",
    "#         identity = x\n",
    "\n",
    "#         out = self.conv1(x)\n",
    "#         out = self.bn1(out)\n",
    "#         out = self.relu(out)\n",
    "\n",
    "#         out = self.conv2(out)\n",
    "#         out = self.bn2(out)\n",
    "#         out = self.relu(out)\n",
    "\n",
    "#         out = self.conv3(out)\n",
    "#         out = self.bn3(out)\n",
    "\n",
    "#         if self.downsample is not None:\n",
    "#             identity = self.downsample(x)\n",
    "\n",
    "#         out += identity\n",
    "#         out = self.relu(out)\n",
    "\n",
    "#         return out\n",
    "\n",
    "\n",
    "# class ResNet(nn.Module):\n",
    "#     def __init__(self, block, layers, num_classes=1000):\n",
    "#         super(ResNet, self).__init__()\n",
    "\n",
    "#         self.in_channels = 64\n",
    "#         self.conv1 = nn.Conv2d(1, 64, kernel_size=7, stride=2, padding=3, bias=False)\n",
    "# #         self.conv1 = nn.Conv2d(1, 64, kernel_size=7, stride=2, padding=3, bias=False)\n",
    "#         self.bn1 = nn.BatchNorm2d(64)\n",
    "#         self.relu = nn.ReLU(inplace=True)\n",
    "#         self.maxpool = nn.MaxPool2d(kernel_size=3, stride=2, padding=1)\n",
    "\n",
    "#         self.layer1 = self._make_layer(block, 64, layers[0], stride=1)\n",
    "#         self.layer2 = self._make_layer(block, 128, layers[1], stride=2)\n",
    "#         self.layer3 = self._make_layer(block, 256, layers[2], stride=2)\n",
    "#         self.layer4 = self._make_layer(block, 512, layers[3], stride=2)\n",
    "\n",
    "#         self.avgpool = nn.AdaptiveAvgPool2d((1, 1))\n",
    "#         self.fc = nn.Linear(512 * block.expansion, num_classes)\n",
    "\n",
    "#     def _make_layer(self, block, out_channels, blocks, stride=1):\n",
    "#         downsample = None\n",
    "#         if stride != 1 or self.in_channels != out_channels * block.expansion:\n",
    "#             downsample = nn.Sequential(\n",
    "#                 nn.Conv2d(self.in_channels, out_channels * block.expansion, kernel_size=1, stride=stride, bias=False),\n",
    "#                 nn.BatchNorm2d(out_channels * block.expansion),\n",
    "#             )\n",
    "\n",
    "#         layers = [block(self.in_channels, out_channels, stride, downsample)]\n",
    "#         self.in_channels = out_channels * block.expansion\n",
    "#         for _ in range(1, blocks):\n",
    "#             layers.append(block(self.in_channels, out_channels))\n",
    "\n",
    "#         return nn.Sequential(*layers)\n",
    "\n",
    "#     def forward(self, x):\n",
    "#         x = self.conv1(x)\n",
    "#         x = self.bn1(x)\n",
    "#         x = self.relu(x)\n",
    "#         x = self.maxpool(x)\n",
    "\n",
    "#         x = self.layer1(x)\n",
    "#         x = self.layer2(x)\n",
    "#         x = self.layer3(x)\n",
    "#         x = self.layer4(x)\n",
    "\n",
    "#         x = self.avgpool(x)\n",
    "#         x = x.view(x.size(0), -1)\n",
    "#         x = self.fc(x)\n",
    "\n",
    "#         return x\n",
    "\n",
    "\n",
    "# # ResNet-50\n",
    "# def resnet50(num_classes=2):\n",
    "#     return ResNet(Bottleneck, [3, 4, 6, 3], num_classes)\n"
   ]
  },
  {
   "cell_type": "code",
   "execution_count": 36,
   "id": "0e94c273",
   "metadata": {
    "execution": {
     "iopub.execute_input": "2023-12-15T00:38:20.258255Z",
     "iopub.status.busy": "2023-12-15T00:38:20.257370Z",
     "iopub.status.idle": "2023-12-15T00:38:20.261639Z",
     "shell.execute_reply": "2023-12-15T00:38:20.260783Z"
    },
    "papermill": {
     "duration": 0.093792,
     "end_time": "2023-12-15T00:38:20.263583",
     "exception": false,
     "start_time": "2023-12-15T00:38:20.169791",
     "status": "completed"
    },
    "tags": []
   },
   "outputs": [],
   "source": [
    "# model = resnet50()\n",
    "# model.to(device, dtype=torch.double)\n",
    "# loss_function = nn.CrossEntropyLoss()\n",
    "# optimizer = optim.Adam(model.parameters(), lr=learning_rate)\n",
    "# print(model)"
   ]
  },
  {
   "cell_type": "code",
   "execution_count": 37,
   "id": "c55b796e",
   "metadata": {
    "execution": {
     "iopub.execute_input": "2023-12-15T00:38:20.295187Z",
     "iopub.status.busy": "2023-12-15T00:38:20.294289Z",
     "iopub.status.idle": "2023-12-15T00:38:20.298531Z",
     "shell.execute_reply": "2023-12-15T00:38:20.297664Z"
    },
    "papermill": {
     "duration": 0.021966,
     "end_time": "2023-12-15T00:38:20.300448",
     "exception": false,
     "start_time": "2023-12-15T00:38:20.278482",
     "status": "completed"
    },
    "tags": []
   },
   "outputs": [],
   "source": [
    "# torch.save(model,'MGDCC_ResNet50_0_0001.pth')"
   ]
  },
  {
   "cell_type": "code",
   "execution_count": 38,
   "id": "a338ee85",
   "metadata": {
    "execution": {
     "iopub.execute_input": "2023-12-15T00:38:20.331481Z",
     "iopub.status.busy": "2023-12-15T00:38:20.330622Z",
     "iopub.status.idle": "2023-12-15T00:38:20.335412Z",
     "shell.execute_reply": "2023-12-15T00:38:20.334561Z"
    },
    "papermill": {
     "duration": 0.022291,
     "end_time": "2023-12-15T00:38:20.337327",
     "exception": false,
     "start_time": "2023-12-15T00:38:20.315036",
     "status": "completed"
    },
    "tags": []
   },
   "outputs": [],
   "source": [
    "# # Calculate the confusion matrix\n",
    "# import seaborn as sns\n",
    "# conf_mat = confusion_matrix(act_labels, pred_labels)\n",
    "# # Plot confusion matrix heat map\n",
    "# sns.heatmap(conf_mat, cmap=\"flare\",annot=True, fmt = \"g\", \n",
    "#             cbar_kws={\"label\":\"color bar\"},\n",
    "#             xticklabels=train_dataset.classes,\n",
    "#             yticklabels=train_dataset.classes)\n",
    "# plt.xlabel(\"Predicted\")\n",
    "# plt.ylabel(\"Actual\")\n",
    "# plt.title(\"Confusion Matrix\")\n",
    "# plt.savefig(\"ConfusionMatrix.png\")\n",
    "# plt.show()\n",
    "# from sklearn.metrics import f1_score\n",
    "# f1_score = f1_score(pred_labels, act_labels, average='macro')\n",
    "# print('F1 Score : ', f1_score)"
   ]
  }
 ],
 "metadata": {
  "kaggle": {
   "accelerator": "gpu",
   "dataSources": [
    {
     "datasetId": 4133733,
     "sourceId": 7157591,
     "sourceType": "datasetVersion"
    }
   ],
   "dockerImageVersionId": 30627,
   "isGpuEnabled": true,
   "isInternetEnabled": true,
   "language": "python",
   "sourceType": "notebook"
  },
  "kernelspec": {
   "display_name": "Python 3",
   "language": "python",
   "name": "python3"
  },
  "language_info": {
   "codemirror_mode": {
    "name": "ipython",
    "version": 3
   },
   "file_extension": ".py",
   "mimetype": "text/x-python",
   "name": "python",
   "nbconvert_exporter": "python",
   "pygments_lexer": "ipython3",
   "version": "3.10.12"
  },
  "papermill": {
   "default_parameters": {},
   "duration": 9550.838156,
   "end_time": "2023-12-15T00:38:23.256858",
   "environment_variables": {},
   "exception": null,
   "input_path": "__notebook__.ipynb",
   "output_path": "__notebook__.ipynb",
   "parameters": {},
   "start_time": "2023-12-14T21:59:12.418702",
   "version": "2.4.0"
  }
 },
 "nbformat": 4,
 "nbformat_minor": 5
}
